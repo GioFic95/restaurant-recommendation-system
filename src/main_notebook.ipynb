{
 "cells": [
  {
   "cell_type": "markdown",
   "source": [
    "# Recommendation system for restaurants\n",
    "### Based on the [Yelp Dataset](https://www.kaggle.com/yelp-dataset/yelp-dataset).  "
   ],
   "metadata": {
    "collapsed": false,
    "pycharm": {
     "name": "#%% md\n"
    }
   }
  },
  {
   "cell_type": "markdown",
   "source": [
    "## 0. Libraries\n",
    "First of all, we define all the libraries we need."
   ],
   "metadata": {
    "collapsed": false,
    "pycharm": {
     "name": "#%% md\n"
    }
   }
  },
  {
   "cell_type": "code",
   "execution_count": 20,
   "outputs": [],
   "source": [
    "from matplotlib.ticker import PercentFormatter as _PercentFormatter\n",
    "import matplotlib.pyplot as _plt \n",
    "import numpy as _np\n",
    "import joblib as _jl\n",
    "import pickle as _pickle\n",
    "import glob as _glob\n",
    "import os as _os"
   ],
   "metadata": {
    "collapsed": false,
    "pycharm": {
     "name": "#%% \n",
     "is_executing": false
    }
   }
  },
  {
   "cell_type": "markdown",
   "source": [
    "Since we are going to use big datasets, and we'll need to load them more\n",
    "times, we define a commodity function that deletes all user defined variables,\n",
    "in order to free some memory."
   ],
   "metadata": {
    "collapsed": false,
    "pycharm": {
     "name": "#%% md\n"
    }
   }
  },
  {
   "cell_type": "code",
   "execution_count": 24,
   "outputs": [],
   "source": [
    "def _del_all():\n",
    "    %reset_selective -f [^_]"
   ],
   "metadata": {
    "collapsed": false,
    "pycharm": {
     "name": "#%%\n",
     "is_executing": false
    }
   }
  },
  {
   "cell_type": "markdown",
   "source": [
    "## 1. Data cleaning\n",
    "### Based on [Ashish Gandhe's kernel](https://www.kaggle.com/wenqihou828/recommendation-for-yelp-users-itself).\n",
    "\n",
    "We execute the code in ```recommendation_system_preprocessing.ipynb``` in order to\n",
    "clean the data and to reduce the size of the dataset, using pickles instead of json and dropping unnecessary columns.\n",
    "\n",
    "We explore the resulting datasets: "
   ],
   "metadata": {
    "collapsed": false
   }
  },
  {
   "cell_type": "code",
   "execution_count": 5,
   "outputs": [
    {
     "name": "stdout",
     "text": [
      "Dataset 'all_checkin':\n\tfeatures: business_id, date\n\tshape: (57402, 2)\n\n",
      "Dataset 'all_review':\n\tfeatures: review_id, user_id, business_id, stars, useful, funny, cool, text, date\n\tshape: (4201684, 9)\n\n",
      "Dataset 'all_tips':\n\tfeatures: restaurant_name, tips_date, user_id\n\tshape: (770878, 3)\n\n",
      "Dataset 'all_users':\n\tfeatures: user_id, user_name, average_stars, yelping_since, review, years_of_elite, fans, useful, cool, funny, friends\n\tshape: (1148098, 11)\n\n",
      "Dataset 'restaurants':\n\tfeatures: name, business_id, address, cuisine, postal_code, latitude, longitude, review_count, stars, OutdoorSeating, BusinessAcceptsCreditCards, RestaurantsDelivery, RestaurantsReservations, WiFi, Alcohol, categories, city, Monday_Open, Tuesday_Open, Wednesday_Open, Thursday_Open, Friday_Open, Saturday_Open, Sunday_Open, Monday_Close, Tuesday_Close, Wednesday_Close, Thursday_Close, Friday_Close, Saturday_Close, Sunday_Close\n\tshape: (59371, 31)\n\n"
     ],
     "output_type": "stream"
    }
   ],
   "source": [
    "dataset_list = _glob.glob(\"../dataset/[!checked]*.pickle\")\n",
    "for d in dataset_list:\n",
    "    pickle_dataset = open(d, \"rb\")\n",
    "    dataset = _pickle.load(pickle_dataset)\n",
    "    \n",
    "    f = _os.path.splitext(_os.path.basename(d))[0]\n",
    "    c = \", \".join(list(dataset.columns))\n",
    "    s = dataset.shape\n",
    "    \n",
    "    print(\"Dataset '\" + f + \"':\")\n",
    "    print(\"\\tfeatures:\", c)\n",
    "    print(\"\\tshape:\", s)\n",
    "    print()"
   ],
   "metadata": {
    "collapsed": false,
    "pycharm": {
     "name": "#%%\n",
     "is_executing": false
    }
   }
  },
  {
   "cell_type": "code",
   "execution_count": null,
   "outputs": [],
   "source": [
    "_del_all()"
   ],
   "metadata": {
    "collapsed": false,
    "pycharm": {
     "name": "#%%\n"
    }
   }
  },
  {
   "cell_type": "markdown",
   "source": [
    "## 2. Fake Review Detection\n",
    "### Based on Zhiwei Zhang's [work](https://medium.com/@zhiwei_zhang/final-blog-642fb9c7e781) and [code](https://github.com/zzhang83/Yelp_Sentiment_Analysis)."
   ],
   "metadata": {
    "collapsed": false,
    "pycharm": {
     "name": "#%% md\n"
    }
   }
  },
  {
   "cell_type": "markdown",
   "source": [
    "Then, in order to filter out deceptive reviews, that could alter the results\n",
    "of our analysis, we load the model based on Support Vector Machine\n",
    "defined in ```Yelp_sentiment_analysis/Scripts/fake_reviews.ipynb```\n",
    "by [Zhiwei Zhang](https://medium.com/@zhiwei_zhang/final-blog-642fb9c7e781),\n",
    "that has the best scores for accuracy, precision, recall and f1-score."
   ],
   "metadata": {
    "collapsed": false,
    "pycharm": {
     "name": "#%% md\n"
    }
   }
  },
  {
   "cell_type": "code",
   "execution_count": 2,
   "outputs": [],
   "source": [
    "vectorizer = _jl.load('../models/tfidf_vectorizer.joblib')\n",
    "svc = _jl.load('../models/fake_review_svc_model.joblib')"
   ],
   "metadata": {
    "collapsed": false,
    "pycharm": {
     "name": "#%%\n",
     "is_executing": false
    }
   }
  },
  {
   "cell_type": "markdown",
   "source": [
    "Now, we can apply this model to our data."
   ],
   "metadata": {
    "collapsed": false
   }
  },
  {
   "cell_type": "code",
   "execution_count": 4,
   "outputs": [
    {
     "data": {
      "text/plain": "                 review_id                 user_id             business_id  \\\n3   yi0R0Ugj_xUx_Nek0-_Qig  dacAIZ6fTM6mqwW5uxkskg  ikCg8xy5JIg_NGPx-MSIDA   \n5   fdiNeiN_hoCxCMy2wTRW9g  w31MKYsNFMrjhWxxAb5wIw  eU_713ec6fTGNO4BegRaww   \n6   G7XHMxG0bx9oBJNECG4IFg  jlu4CztcSxrKx56ba1a5AQ  3fw2X5bZYeW9xCz_zGhOHg   \n7   8e9HxxLjjqc9ez5ezzN7iQ  d6xvYpyzcfbF_AZ8vMB7QA  zvO-PJCpNk4fgAVUnExYAA   \n10  kbtscdyz6lvrtGjD1quQTg  FIk4lQQu1eTe2EpzQ4xhBA  8mIrX_LrOnAqWsB5JrOojQ   \n\n    stars  useful  funny  cool  \\\n3       5       0      0     0   \n5       4       0      0     0   \n6       3       5      4     5   \n7       1       3      1     1   \n10      4       0      0     0   \n\n                                                 text                date  \n3   Went in for a lunch. Steak sandwich was delici... 2018-01-09 20:56:38  \n5   I'll be the first to admit that I was not exci... 2013-01-20 13:25:59  \n6   Tracy dessert had a big name in Hong Kong and ... 2016-05-07 01:21:02  \n7   This place has gone down hill.  Clearly they h... 2010-10-05 19:12:35  \n10  Like walking back in time, every Saturday morn... 2011-11-30 02:11:15  ",
      "text/html": "<div>\n<style scoped>\n    .dataframe tbody tr th:only-of-type {\n        vertical-align: middle;\n    }\n\n    .dataframe tbody tr th {\n        vertical-align: top;\n    }\n\n    .dataframe thead th {\n        text-align: right;\n    }\n</style>\n<table border=\"1\" class=\"dataframe\">\n  <thead>\n    <tr style=\"text-align: right;\">\n      <th></th>\n      <th>review_id</th>\n      <th>user_id</th>\n      <th>business_id</th>\n      <th>stars</th>\n      <th>useful</th>\n      <th>funny</th>\n      <th>cool</th>\n      <th>text</th>\n      <th>date</th>\n    </tr>\n  </thead>\n  <tbody>\n    <tr>\n      <th>3</th>\n      <td>yi0R0Ugj_xUx_Nek0-_Qig</td>\n      <td>dacAIZ6fTM6mqwW5uxkskg</td>\n      <td>ikCg8xy5JIg_NGPx-MSIDA</td>\n      <td>5</td>\n      <td>0</td>\n      <td>0</td>\n      <td>0</td>\n      <td>Went in for a lunch. Steak sandwich was delici...</td>\n      <td>2018-01-09 20:56:38</td>\n    </tr>\n    <tr>\n      <th>5</th>\n      <td>fdiNeiN_hoCxCMy2wTRW9g</td>\n      <td>w31MKYsNFMrjhWxxAb5wIw</td>\n      <td>eU_713ec6fTGNO4BegRaww</td>\n      <td>4</td>\n      <td>0</td>\n      <td>0</td>\n      <td>0</td>\n      <td>I'll be the first to admit that I was not exci...</td>\n      <td>2013-01-20 13:25:59</td>\n    </tr>\n    <tr>\n      <th>6</th>\n      <td>G7XHMxG0bx9oBJNECG4IFg</td>\n      <td>jlu4CztcSxrKx56ba1a5AQ</td>\n      <td>3fw2X5bZYeW9xCz_zGhOHg</td>\n      <td>3</td>\n      <td>5</td>\n      <td>4</td>\n      <td>5</td>\n      <td>Tracy dessert had a big name in Hong Kong and ...</td>\n      <td>2016-05-07 01:21:02</td>\n    </tr>\n    <tr>\n      <th>7</th>\n      <td>8e9HxxLjjqc9ez5ezzN7iQ</td>\n      <td>d6xvYpyzcfbF_AZ8vMB7QA</td>\n      <td>zvO-PJCpNk4fgAVUnExYAA</td>\n      <td>1</td>\n      <td>3</td>\n      <td>1</td>\n      <td>1</td>\n      <td>This place has gone down hill.  Clearly they h...</td>\n      <td>2010-10-05 19:12:35</td>\n    </tr>\n    <tr>\n      <th>10</th>\n      <td>kbtscdyz6lvrtGjD1quQTg</td>\n      <td>FIk4lQQu1eTe2EpzQ4xhBA</td>\n      <td>8mIrX_LrOnAqWsB5JrOojQ</td>\n      <td>4</td>\n      <td>0</td>\n      <td>0</td>\n      <td>0</td>\n      <td>Like walking back in time, every Saturday morn...</td>\n      <td>2011-11-30 02:11:15</td>\n    </tr>\n  </tbody>\n</table>\n</div>"
     },
     "metadata": {},
     "output_type": "execute_result",
     "execution_count": 4
    }
   ],
   "source": [
    "pickle_review = open(\"../dataset/all_review.pickle\",\"rb\")\n",
    "review = _pickle.load(pickle_review)\n",
    "\n",
    "review.head()"
   ],
   "metadata": {
    "collapsed": false,
    "pycharm": {
     "name": "#%%\n",
     "is_executing": false
    }
   }
  },
  {
   "cell_type": "code",
   "execution_count": 5,
   "outputs": [],
   "source": [
    "texts = list(review[\"text\"])\n",
    "X = vectorizer.transform(texts)\n",
    "predictions = svc.predict(X)"
   ],
   "metadata": {
    "collapsed": false,
    "pycharm": {
     "name": "#%%\n",
     "is_executing": false
    }
   }
  },
  {
   "cell_type": "code",
   "execution_count": 6,
   "outputs": [
    {
     "name": "stdout",
     "text": [
      "<class 'numpy.ndarray'>\nSVC predictions: [1 1 1 ... 1 1 1]\n"
     ],
     "output_type": "stream"
    }
   ],
   "source": [
    "print(type(predictions))\n",
    "print(\"SVC predictions:\", predictions)"
   ],
   "metadata": {
    "collapsed": false,
    "pycharm": {
     "name": "#%%\n",
     "is_executing": false
    }
   }
  },
  {
   "cell_type": "markdown",
   "source": [
    "Now we repeat the whole process with a different model that allows us to\n",
    "obtain real weights instead of a binary evaluation. "
   ],
   "metadata": {
    "collapsed": false
   }
  },
  {
   "cell_type": "code",
   "execution_count": 7,
   "outputs": [],
   "source": [
    "cal_svc = _jl.load('../models/fake_review_cal_svc_model.joblib')\n",
    "cal_predictions = cal_svc.predict_proba(X)\n"
   ],
   "metadata": {
    "collapsed": false,
    "pycharm": {
     "name": "#%%\n",
     "is_executing": false
    }
   }
  },
  {
   "cell_type": "code",
   "execution_count": 8,
   "outputs": [
    {
     "name": "stdout",
     "text": [
      "Calibrated SVC predictions:\n [[0.12112422 0.87887578]\n [0.011      0.989     ]\n [0.03538102 0.96461898]\n ...\n [0.36147536 0.63852464]\n [0.00379598 0.99620402]\n [0.00133685 0.99866315]]\n",
      "Calibrated SVC predictions for class '1':\n [0.87887578 0.989      0.96461898 ... 0.63852464 0.99620402 0.99866315]\n"
     ],
     "output_type": "stream"
    }
   ],
   "source": [
    "print(\"Calibrated SVC predictions:\\n\", cal_predictions)\n",
    "cal_predictions = _np.array([x[1] for x in cal_predictions])\n",
    "print(\"Calibrated SVC predictions for class '1':\\n\", cal_predictions)"
   ],
   "metadata": {
    "collapsed": false,
    "pycharm": {
     "name": "#%%\n",
     "is_executing": false
    }
   }
  },
  {
   "cell_type": "code",
   "execution_count": 9,
   "outputs": [
    {
     "name": "stdout",
     "text": [
      "columns before:\n Index(['review_id', 'user_id', 'business_id', 'stars', 'useful', 'funny',\n       'cool', 'text', 'date'],\n      dtype='object')\n",
      "columns after:\n Index(['review_id', 'user_id', 'business_id', 'stars', 'useful', 'funny',\n       'cool', 'text', 'date', 'bin_truth_score', 'real_truth_score'],\n      dtype='object')\n"
     ],
     "output_type": "stream"
    }
   ],
   "source": [
    "print(\"columns before:\\n\", review.columns)\n",
    "checked_review = review.assign(bin_truth_score=predictions, real_truth_score=cal_predictions)\n",
    "print(\"columns after:\\n\", checked_review.columns)"
   ],
   "metadata": {
    "collapsed": false,
    "pycharm": {
     "name": "#%%\n",
     "is_executing": false
    }
   }
  },
  {
   "cell_type": "markdown",
   "source": [
    "Let's see what we just obtained."
   ],
   "metadata": {
    "collapsed": false,
    "pycharm": {
     "name": "#%% md\n"
    }
   }
  },
  {
   "cell_type": "code",
   "execution_count": 10,
   "outputs": [
    {
     "data": {
      "text/plain": "                 review_id                                               text  \\\n3   yi0R0Ugj_xUx_Nek0-_Qig  Went in for a lunch. Steak sandwich was delici...   \n5   fdiNeiN_hoCxCMy2wTRW9g  I'll be the first to admit that I was not exci...   \n6   G7XHMxG0bx9oBJNECG4IFg  Tracy dessert had a big name in Hong Kong and ...   \n7   8e9HxxLjjqc9ez5ezzN7iQ  This place has gone down hill.  Clearly they h...   \n10  kbtscdyz6lvrtGjD1quQTg  Like walking back in time, every Saturday morn...   \n\n    bin_truth_score  real_truth_score  \n3                 1          0.878876  \n5                 1          0.989000  \n6                 1          0.964619  \n7                 1          0.867897  \n10                1          0.975404  ",
      "text/html": "<div>\n<style scoped>\n    .dataframe tbody tr th:only-of-type {\n        vertical-align: middle;\n    }\n\n    .dataframe tbody tr th {\n        vertical-align: top;\n    }\n\n    .dataframe thead th {\n        text-align: right;\n    }\n</style>\n<table border=\"1\" class=\"dataframe\">\n  <thead>\n    <tr style=\"text-align: right;\">\n      <th></th>\n      <th>review_id</th>\n      <th>text</th>\n      <th>bin_truth_score</th>\n      <th>real_truth_score</th>\n    </tr>\n  </thead>\n  <tbody>\n    <tr>\n      <th>3</th>\n      <td>yi0R0Ugj_xUx_Nek0-_Qig</td>\n      <td>Went in for a lunch. Steak sandwich was delici...</td>\n      <td>1</td>\n      <td>0.878876</td>\n    </tr>\n    <tr>\n      <th>5</th>\n      <td>fdiNeiN_hoCxCMy2wTRW9g</td>\n      <td>I'll be the first to admit that I was not exci...</td>\n      <td>1</td>\n      <td>0.989000</td>\n    </tr>\n    <tr>\n      <th>6</th>\n      <td>G7XHMxG0bx9oBJNECG4IFg</td>\n      <td>Tracy dessert had a big name in Hong Kong and ...</td>\n      <td>1</td>\n      <td>0.964619</td>\n    </tr>\n    <tr>\n      <th>7</th>\n      <td>8e9HxxLjjqc9ez5ezzN7iQ</td>\n      <td>This place has gone down hill.  Clearly they h...</td>\n      <td>1</td>\n      <td>0.867897</td>\n    </tr>\n    <tr>\n      <th>10</th>\n      <td>kbtscdyz6lvrtGjD1quQTg</td>\n      <td>Like walking back in time, every Saturday morn...</td>\n      <td>1</td>\n      <td>0.975404</td>\n    </tr>\n  </tbody>\n</table>\n</div>"
     },
     "metadata": {},
     "output_type": "execute_result",
     "execution_count": 10
    }
   ],
   "source": [
    "checked_review[['review_id', 'text', 'bin_truth_score', 'real_truth_score']].head()"
   ],
   "metadata": {
    "collapsed": false,
    "pycharm": {
     "name": "#%%\n",
     "is_executing": false
    }
   }
  },
  {
   "cell_type": "code",
   "execution_count": 11,
   "outputs": [
    {
     "data": {
      "text/plain": "<Figure size 432x288 with 1 Axes>",
      "image/png": "[encoded data removed]"
     },
     "metadata": {
      "needs_background": "light"
     },
     "output_type": "display_data"
    }
   ],
   "source": [
    "data = checked_review['bin_truth_score']\n",
    "_plt.hist(data, weights=_np.ones(len(data)) / len(data))\n",
    "_plt.title(\"SVC labels distribution\")\n",
    "_plt.gca().yaxis.set_major_formatter(_PercentFormatter(1))\n",
    "_plt.show()"
   ],
   "metadata": {
    "collapsed": false,
    "pycharm": {
     "name": "#%%\n",
     "is_executing": false
    }
   }
  },
  {
   "cell_type": "code",
   "execution_count": 12,
   "outputs": [
    {
     "data": {
      "text/plain": "<Figure size 432x288 with 1 Axes>",
      "image/png": "[encoded data removed]"
     },
     "metadata": {
      "needs_background": "light"
     },
     "output_type": "display_data"
    }
   ],
   "source": [
    "data = checked_review['real_truth_score']\n",
    "_plt.hist(data, weights=_np.ones(len(data)) / len(data))\n",
    "_plt.title(\"Calibrated SVC labels distribution\")\n",
    "_plt.gca().yaxis.set_major_formatter(_PercentFormatter(1))\n",
    "_plt.show()"
   ],
   "metadata": {
    "collapsed": false,
    "pycharm": {
     "name": "#%%\n",
     "is_executing": false
    }
   }
  },
  {
   "cell_type": "markdown",
   "source": [
    "Finally, we can save the new dataset without the ```text``` column,\n",
    "in order to save space and computation time.  "
   ],
   "metadata": {
    "collapsed": false,
    "pycharm": {
     "name": "#%% md\n"
    }
   }
  },
  {
   "cell_type": "code",
   "execution_count": 17,
   "outputs": [],
   "source": [
    "checked_review.drop(columns=['text'], inplace=True)\n",
    "checked_review.to_pickle('../dataset/checked_review.pickle')"
   ],
   "metadata": {
    "collapsed": false,
    "pycharm": {
     "name": "#%%\n",
     "is_executing": false
    }
   }
  },
  {
   "cell_type": "markdown",
   "source": [
    "Check that everything has worked properly. "
   ],
   "metadata": {
    "collapsed": false,
    "pycharm": {
     "name": "#%% md\n"
    }
   }
  },
  {
   "cell_type": "code",
   "execution_count": 18,
   "outputs": [
    {
     "name": "stdout",
     "text": [
      "Index(['review_id', 'user_id', 'business_id', 'stars', 'useful', 'funny',\n       'cool', 'date', 'bin_truth_score', 'real_truth_score'],\n      dtype='object')\n"
     ],
     "output_type": "stream"
    },
    {
     "data": {
      "text/plain": "                 review_id                 user_id             business_id  \\\n3   yi0R0Ugj_xUx_Nek0-_Qig  dacAIZ6fTM6mqwW5uxkskg  ikCg8xy5JIg_NGPx-MSIDA   \n5   fdiNeiN_hoCxCMy2wTRW9g  w31MKYsNFMrjhWxxAb5wIw  eU_713ec6fTGNO4BegRaww   \n6   G7XHMxG0bx9oBJNECG4IFg  jlu4CztcSxrKx56ba1a5AQ  3fw2X5bZYeW9xCz_zGhOHg   \n7   8e9HxxLjjqc9ez5ezzN7iQ  d6xvYpyzcfbF_AZ8vMB7QA  zvO-PJCpNk4fgAVUnExYAA   \n10  kbtscdyz6lvrtGjD1quQTg  FIk4lQQu1eTe2EpzQ4xhBA  8mIrX_LrOnAqWsB5JrOojQ   \n\n    stars  useful  funny  cool                date  bin_truth_score  \\\n3       5       0      0     0 2018-01-09 20:56:38                1   \n5       4       0      0     0 2013-01-20 13:25:59                1   \n6       3       5      4     5 2016-05-07 01:21:02                1   \n7       1       3      1     1 2010-10-05 19:12:35                1   \n10      4       0      0     0 2011-11-30 02:11:15                1   \n\n    real_truth_score  \n3           0.878876  \n5           0.989000  \n6           0.964619  \n7           0.867897  \n10          0.975404  ",
      "text/html": "<div>\n<style scoped>\n    .dataframe tbody tr th:only-of-type {\n        vertical-align: middle;\n    }\n\n    .dataframe tbody tr th {\n        vertical-align: top;\n    }\n\n    .dataframe thead th {\n        text-align: right;\n    }\n</style>\n<table border=\"1\" class=\"dataframe\">\n  <thead>\n    <tr style=\"text-align: right;\">\n      <th></th>\n      <th>review_id</th>\n      <th>user_id</th>\n      <th>business_id</th>\n      <th>stars</th>\n      <th>useful</th>\n      <th>funny</th>\n      <th>cool</th>\n      <th>date</th>\n      <th>bin_truth_score</th>\n      <th>real_truth_score</th>\n    </tr>\n  </thead>\n  <tbody>\n    <tr>\n      <th>3</th>\n      <td>yi0R0Ugj_xUx_Nek0-_Qig</td>\n      <td>dacAIZ6fTM6mqwW5uxkskg</td>\n      <td>ikCg8xy5JIg_NGPx-MSIDA</td>\n      <td>5</td>\n      <td>0</td>\n      <td>0</td>\n      <td>0</td>\n      <td>2018-01-09 20:56:38</td>\n      <td>1</td>\n      <td>0.878876</td>\n    </tr>\n    <tr>\n      <th>5</th>\n      <td>fdiNeiN_hoCxCMy2wTRW9g</td>\n      <td>w31MKYsNFMrjhWxxAb5wIw</td>\n      <td>eU_713ec6fTGNO4BegRaww</td>\n      <td>4</td>\n      <td>0</td>\n      <td>0</td>\n      <td>0</td>\n      <td>2013-01-20 13:25:59</td>\n      <td>1</td>\n      <td>0.989000</td>\n    </tr>\n    <tr>\n      <th>6</th>\n      <td>G7XHMxG0bx9oBJNECG4IFg</td>\n      <td>jlu4CztcSxrKx56ba1a5AQ</td>\n      <td>3fw2X5bZYeW9xCz_zGhOHg</td>\n      <td>3</td>\n      <td>5</td>\n      <td>4</td>\n      <td>5</td>\n      <td>2016-05-07 01:21:02</td>\n      <td>1</td>\n      <td>0.964619</td>\n    </tr>\n    <tr>\n      <th>7</th>\n      <td>8e9HxxLjjqc9ez5ezzN7iQ</td>\n      <td>d6xvYpyzcfbF_AZ8vMB7QA</td>\n      <td>zvO-PJCpNk4fgAVUnExYAA</td>\n      <td>1</td>\n      <td>3</td>\n      <td>1</td>\n      <td>1</td>\n      <td>2010-10-05 19:12:35</td>\n      <td>1</td>\n      <td>0.867897</td>\n    </tr>\n    <tr>\n      <th>10</th>\n      <td>kbtscdyz6lvrtGjD1quQTg</td>\n      <td>FIk4lQQu1eTe2EpzQ4xhBA</td>\n      <td>8mIrX_LrOnAqWsB5JrOojQ</td>\n      <td>4</td>\n      <td>0</td>\n      <td>0</td>\n      <td>0</td>\n      <td>2011-11-30 02:11:15</td>\n      <td>1</td>\n      <td>0.975404</td>\n    </tr>\n  </tbody>\n</table>\n</div>"
     },
     "metadata": {},
     "output_type": "execute_result",
     "execution_count": 18
    }
   ],
   "source": [
    "pickle_review = open('../dataset/checked_review.pickle',\"rb\")\n",
    "final_review = _pickle.load(pickle_review)\n",
    "print(final_review.columns)\n",
    "final_review.head()"
   ],
   "metadata": {
    "collapsed": false,
    "pycharm": {
     "name": "#%%\n",
     "is_executing": false
    }
   }
  },
  {
   "cell_type": "code",
   "execution_count": null,
   "outputs": [],
   "source": [
    "_del_all()"
   ],
   "metadata": {
    "collapsed": false,
    "pycharm": {
     "name": "#%%\n"
    }
   }
  },
  {
   "cell_type": "markdown",
   "source": [
    "## 3. Historical features\n",
    "\n",
    "Following [this paper](https://www.semanticscholar.org/paper/Restaurant-Recommendation-System-Gandhe/093cecc3e53f2ba4c0c466ad3d8294ba64962050),\n",
    "we add some historical features to our dataset:\n",
    "1. user-level features:\n",
    "    <br>1.1. average of the ratings given by a certain user,\n",
    "    <br>1.2. number of reviews written by a certain user,\n",
    "2. business-level features:\n",
    "    <br>2.1. average of the ratings given to a certain restaurant,\n",
    "    <br>2.2. number of reviews written about a certain restaurant,\n",
    "3. user-business features:\n",
    "    <br>3.1. average rating given by a certain user to each category,\n",
    "    <br>3.2. average of the ratings given by a certain user to the categories of a certain restaurant."
   ],
   "metadata": {
    "collapsed": false,
    "pycharm": {
     "name": "#%% md\n"
    }
   }
  },
  {
   "cell_type": "markdown",
   "source": [
    "Before proceeding with the computation of the new features, we have to split the dataset in three parts:\n",
    "1. <i>Test set</i>, from the last day considered in the dataset, to the previous `M` months;\n",
    "2. <i>Training set</i>, from the day before the beginning of the test set, up to `N` months before;\n",
    "3. <i>History</i>, the remaining part of the dataset, used to compute historical features."
   ],
   "metadata": {
    "collapsed": false,
    "pycharm": {
     "name": "#%% md\n"
    }
   }
  },
  {
   "cell_type": "markdown",
   "source": [
    "For the moment, we pick `m=2` and `n=9`, so the test set goes from 10/1/2018 to 11/30/2018,\n",
    "the training set goes from 1/1/2018 to 9/30/2018, the history contains the remaining data,\n",
    "from 10/12/2004 to 12/31/2017."
   ],
   "metadata": {
    "collapsed": false,
    "pycharm": {
     "name": "#%% md\n"
    }
   }
  },
  {
   "cell_type": "code",
   "execution_count": 7,
   "outputs": [],
   "source": [
    "pickle_review_all = open(\"../dataset/checked_review.pickle\", \"rb\")\n",
    "review_all = _pickle.load(pickle_review_all)\n",
    "review_test = review_all[review_all['date']>=_np.datetime64('2018-10-01')]\n",
    "review_train = review_all[(review_all['date']>=_np.datetime64('2018-01-01')) & (review_all['date']<_np.datetime64('2018-10-01'))]\n",
    "review_hist = review_all[review_all['date']<_np.datetime64('2018-01-01')]\n",
    "\n",
    "review_test.to_pickle('../dataset/m2_n9/review_test.pickle')\n",
    "review_train.to_pickle('../dataset/m2_n9/review_train.pickle')\n",
    "review_hist.to_pickle('../dataset/m2_n9/review_hist.pickle')"
   ],
   "metadata": {
    "collapsed": false,
    "pycharm": {
     "name": "#%%\n",
     "is_executing": false
    }
   }
  },
  {
   "cell_type": "code",
   "execution_count": 9,
   "outputs": [],
   "source": [
    "pickle_tips_all = open(\"../dataset/all_tips.pickle\", \"rb\")\n",
    "tips_all = _pickle.load(pickle_tips_all)\n",
    "tips_test = tips_all[tips_all['tips_date']>=_np.datetime64('2018-10-01')]\n",
    "tips_train = tips_all[(tips_all['tips_date']>=_np.datetime64('2018-01-01')) & (tips_all['tips_date']<_np.datetime64('2018-10-01'))]\n",
    "tips_hist = tips_all[tips_all['tips_date']<_np.datetime64('2018-01-01')]\n",
    "\n",
    "tips_test.to_pickle('../dataset/m2_n9/tips_test.pickle')\n",
    "tips_train.to_pickle('../dataset/m2_n9/tips_train.pickle')\n",
    "tips_hist.to_pickle('../dataset/m2_n9/tips_hist.pickle')"
   ],
   "metadata": {
    "collapsed": false,
    "pycharm": {
     "name": "#%%\n",
     "is_executing": false
    }
   }
  },
  {
   "cell_type": "code",
   "execution_count": null,
   "outputs": [],
   "source": [
    "_del_all()"
   ],
   "metadata": {
    "collapsed": false,
    "pycharm": {
     "name": "#%%\n"
    }
   }
  },
  {
   "cell_type": "markdown",
   "source": [
    "### User-level features"
   ],
   "metadata": {
    "collapsed": false
   }
  },
  {
   "cell_type": "code",
   "execution_count": 27,
   "outputs": [],
   "source": [
    "pickle_review_hist = open('../dataset/m2_n9/review_hist.pickle', \"rb\")\n",
    "review_hist = _pickle.load(pickle_review_hist)\n",
    "\n",
    "pickle_user = open(\"../dataset/all_users.pickle\", \"rb\")\n",
    "users = _pickle.load(pickle_user)"
   ],
   "metadata": {
    "collapsed": false,
    "pycharm": {
     "name": "#%%\n",
     "is_executing": false
    }
   }
  },
  {
   "cell_type": "code",
   "execution_count": null,
   "outputs": [],
   "source": [
    "avg_stars = review_hist['stars'].mean()\n",
    "\n",
    "users = users.assign(average_stars=avg_stars)\n",
    "users = users.assign(num_reviews=0)\n",
    "\n",
    "user_ids = users[\"user_id\"]\n",
    "for uid in user_ids:\n",
    "    user_reviews = review_hist[review_hist['user_id']==uid]\n",
    "    user_avg_stars = user_reviews['stars'].mean()\n",
    "    user_num_reviews = len(user_reviews['stars'])\n",
    "    \n",
    "    users.loc[users[\"user_id\"] == uid, [\"average_stars\"]] = user_avg_stars\n",
    "    users.loc[users[\"user_id\"] == uid, [\"num_reviews\"]] = user_num_reviews"
   ],
   "metadata": {
    "collapsed": false,
    "pycharm": {
     "name": "#%%\n",
     "is_executing": true
    }
   }
  },
  {
   "cell_type": "code",
   "execution_count": null,
   "outputs": [],
   "source": [
    "users.to_pickle('../dataset/m2_n9/users.pickle')"
   ],
   "metadata": {
    "collapsed": false,
    "pycharm": {
     "name": "#%%\n",
     "is_executing": true
    }
   }
  },
  {
   "cell_type": "markdown",
   "source": [
    "### Business-level features"
   ],
   "metadata": {
    "collapsed": false,
    "pycharm": {
     "name": "#%% md\n"
    }
   }
  },
  {
   "cell_type": "code",
   "execution_count": null,
   "outputs": [],
   "source": [
    "pickle_restaurants = open(\"../dataset/restaurants.pickle\", \"rb\")\n",
    "restaurants = _pickle.load(pickle_restaurants)"
   ],
   "metadata": {
    "collapsed": false,
    "pycharm": {
     "name": "#%%\n",
     "is_executing": true
    }
   }
  },
  {
   "cell_type": "code",
   "execution_count": null,
   "outputs": [],
   "source": [
    "restaurants = restaurants.assign(average_stars=avg_stars)\n",
    "restaurants = restaurants.assign(num_reviews=0)\n",
    "\n",
    "restaurant_ids = restaurants[\"business_id\"]\n",
    "for rid in restaurant_ids:\n",
    "    restaurant_reviews = review_hist[review_hist['business_id']==rid]\n",
    "    restaurant_avg_stars = restaurant_reviews['stars'].mean()\n",
    "    restaurant_num_reviews = len(restaurant_reviews['stars'])\n",
    "    \n",
    "    restaurants.loc[restaurants[\"business_id\"] == rid, [\"average_stars\"]] = restaurant_avg_stars\n",
    "    restaurants.loc[restaurants[\"business_id\"] == rid, [\"num_reviews\"]] = restaurant_num_reviews"
   ],
   "metadata": {
    "collapsed": false,
    "pycharm": {
     "name": "#%%\n",
     "is_executing": true
    }
   }
  },
  {
   "cell_type": "code",
   "execution_count": null,
   "outputs": [],
   "source": [
    "restaurants.to_pickle('../dataset/m2_n9/restaurants.pickle')\n"
   ],
   "metadata": {
    "collapsed": false,
    "pycharm": {
     "name": "#%%\n",
     "is_executing": true
    }
   }
  }
 ],
 "metadata": {
  "language_info": {
   "codemirror_mode": {
    "name": "ipython",
    "version": 2
   },
   "file_extension": ".py",
   "mimetype": "text/x-python",
   "name": "python",
   "nbconvert_exporter": "python",
   "pygments_lexer": "ipython2",
   "version": "2.7.6"
  },
  "kernelspec": {
   "name": "tf-gpu",
   "language": "python",
   "display_name": "TensorFlow-GPU"
  },
  "pycharm": {
   "stem_cell": {
    "cell_type": "raw",
    "source": [],
    "metadata": {
     "collapsed": false
    }
   }
  }
 },
 "nbformat": 4,
 "nbformat_minor": 0
}