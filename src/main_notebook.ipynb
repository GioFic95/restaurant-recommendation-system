{
 "cells": [
  {
   "cell_type": "markdown",
   "source": [
    "# Recommendation system for restaurants\n",
    "### Based on the [Yelp Dataset](https://www.kaggle.com/yelp-dataset/yelp-dataset).  "
   ],
   "metadata": {
    "collapsed": false,
    "pycharm": {
     "name": "#%% md\n"
    }
   }
  },
  {
   "cell_type": "markdown",
   "source": [
    "## 1. Data cleaning\n",
    "### Based on [Ashish Gandhe's kernel](https://www.kaggle.com/wenqihou828/recommendation-for-yelp-users-itself)."
   ],
   "metadata": {
    "collapsed": false
   }
  },
  {
   "cell_type": "code",
   "execution_count": 1,
   "outputs": [],
   "source": [
    "# Add preprocessing code here"
   ],
   "metadata": {
    "collapsed": false,
    "pycharm": {
     "name": "#%%\n",
     "is_executing": false
    }
   }
  },
  {
   "cell_type": "markdown",
   "source": [
    "## 2. Fake Review Detection\n",
    "### Based on Zhiwei Zhang's [work](https://medium.com/@zhiwei_zhang/final-blog-642fb9c7e781) and [code](https://github.com/zzhang83/Yelp_Sentiment_Analysis)."
   ],
   "metadata": {
    "collapsed": false,
    "pycharm": {
     "name": "#%% md\n"
    }
   }
  },
  {
   "cell_type": "markdown",
   "source": [
    "First of all, we define all the libraries we need."
   ],
   "metadata": {
    "collapsed": false,
    "pycharm": {
     "name": "#%% md\n"
    }
   }
  },
  {
   "cell_type": "code",
   "source": [
    "from matplotlib.ticker import PercentFormatter\n",
    "\n",
    "import numpy as np\n",
    "import pandas as pd\n",
    "import matplotlib.pyplot as plt \n",
    "import joblib as jl\n",
    "import pickle"
   ],
   "metadata": {
    "collapsed": false,
    "pycharm": {
     "name": "#%% \n",
     "is_executing": false
    }
   },
   "execution_count": 2,
   "outputs": []
  },
  {
   "cell_type": "markdown",
   "source": [
    "Then, in order to filter out deceptive reviews, that could alter the results\n",
    "of our analysis, we load the model based on Support Vector Machine\n",
    "defined in ```Yelp_sentiment_analysis/Scripts/fake_reviews.ipynb```\n",
    "by [Zhiwei Zhang](https://medium.com/@zhiwei_zhang/final-blog-642fb9c7e781),\n",
    "that has the best scores for accuracy, precision, recall and f1-score."
   ],
   "metadata": {
    "collapsed": false,
    "pycharm": {
     "name": "#%% md\n"
    }
   }
  },
  {
   "cell_type": "code",
   "execution_count": 3,
   "outputs": [],
   "source": [
    "vectorizer = jl.load('../models/tfidf_vectorizer.joblib')\n",
    "svc = jl.load('../models/fake_review_svc_model.joblib')"
   ],
   "metadata": {
    "collapsed": false,
    "pycharm": {
     "name": "#%%\n",
     "is_executing": false
    }
   }
  },
  {
   "cell_type": "markdown",
   "source": [
    "Now, we can apply this model to our data."
   ],
   "metadata": {
    "collapsed": false
   }
  },
  {
   "cell_type": "code",
   "execution_count": 4,
   "outputs": [
    {
     "data": {
      "text/plain": "                review_id                 user_id             business_id  \\\n0  Q1sbwvVQXV2734tPgoKj4Q  hG7b0MtEbXx5QzbzE6C_VA  ujmEBvifdJM6h6RLv4wQIg   \n1  GJXCdrto3ASJOqKeVWPi6Q  yXQM5uF2jS6es16SJzNHfg  NZnhc2sEQy3RmzKTZnqtwQ   \n2  2TzJjDVDEuAW6MR5Vuc1ug  n6-Gk65cPZL6Uz8qRm3NYw  WTqjgwHlXbSFevF32_DJVw   \n3  yi0R0Ugj_xUx_Nek0-_Qig  dacAIZ6fTM6mqwW5uxkskg  ikCg8xy5JIg_NGPx-MSIDA   \n4  11a8sVPMUFtaC7_ABRkmtw  ssoyf2_x0EQMed6fgHeMyQ  b1b1eb3uo-w561D0ZfCEiQ   \n\n   stars  useful  funny  cool  \\\n0      1       6      1     0   \n1      5       0      0     0   \n2      5       3      0     0   \n3      5       0      0     0   \n4      1       7      0     0   \n\n                                                text                date  \n0  Total bill for this horrible service? Over $8G... 2013-05-07 04:34:36  \n1  I *adore* Travis at the Hard Rock's new Kelly ... 2017-01-14 21:30:33  \n2  I have to say that this office really has it t... 2016-11-09 20:09:03  \n3  Went in for a lunch. Steak sandwich was delici... 2018-01-09 20:56:38  \n4  Today was my second out of three sessions I ha... 2018-01-30 23:07:38  ",
      "text/html": "<div>\n<style scoped>\n    .dataframe tbody tr th:only-of-type {\n        vertical-align: middle;\n    }\n\n    .dataframe tbody tr th {\n        vertical-align: top;\n    }\n\n    .dataframe thead th {\n        text-align: right;\n    }\n</style>\n<table border=\"1\" class=\"dataframe\">\n  <thead>\n    <tr style=\"text-align: right;\">\n      <th></th>\n      <th>review_id</th>\n      <th>user_id</th>\n      <th>business_id</th>\n      <th>stars</th>\n      <th>useful</th>\n      <th>funny</th>\n      <th>cool</th>\n      <th>text</th>\n      <th>date</th>\n    </tr>\n  </thead>\n  <tbody>\n    <tr>\n      <th>0</th>\n      <td>Q1sbwvVQXV2734tPgoKj4Q</td>\n      <td>hG7b0MtEbXx5QzbzE6C_VA</td>\n      <td>ujmEBvifdJM6h6RLv4wQIg</td>\n      <td>1</td>\n      <td>6</td>\n      <td>1</td>\n      <td>0</td>\n      <td>Total bill for this horrible service? Over $8G...</td>\n      <td>2013-05-07 04:34:36</td>\n    </tr>\n    <tr>\n      <th>1</th>\n      <td>GJXCdrto3ASJOqKeVWPi6Q</td>\n      <td>yXQM5uF2jS6es16SJzNHfg</td>\n      <td>NZnhc2sEQy3RmzKTZnqtwQ</td>\n      <td>5</td>\n      <td>0</td>\n      <td>0</td>\n      <td>0</td>\n      <td>I *adore* Travis at the Hard Rock's new Kelly ...</td>\n      <td>2017-01-14 21:30:33</td>\n    </tr>\n    <tr>\n      <th>2</th>\n      <td>2TzJjDVDEuAW6MR5Vuc1ug</td>\n      <td>n6-Gk65cPZL6Uz8qRm3NYw</td>\n      <td>WTqjgwHlXbSFevF32_DJVw</td>\n      <td>5</td>\n      <td>3</td>\n      <td>0</td>\n      <td>0</td>\n      <td>I have to say that this office really has it t...</td>\n      <td>2016-11-09 20:09:03</td>\n    </tr>\n    <tr>\n      <th>3</th>\n      <td>yi0R0Ugj_xUx_Nek0-_Qig</td>\n      <td>dacAIZ6fTM6mqwW5uxkskg</td>\n      <td>ikCg8xy5JIg_NGPx-MSIDA</td>\n      <td>5</td>\n      <td>0</td>\n      <td>0</td>\n      <td>0</td>\n      <td>Went in for a lunch. Steak sandwich was delici...</td>\n      <td>2018-01-09 20:56:38</td>\n    </tr>\n    <tr>\n      <th>4</th>\n      <td>11a8sVPMUFtaC7_ABRkmtw</td>\n      <td>ssoyf2_x0EQMed6fgHeMyQ</td>\n      <td>b1b1eb3uo-w561D0ZfCEiQ</td>\n      <td>1</td>\n      <td>7</td>\n      <td>0</td>\n      <td>0</td>\n      <td>Today was my second out of three sessions I ha...</td>\n      <td>2018-01-30 23:07:38</td>\n    </tr>\n  </tbody>\n</table>\n</div>"
     },
     "metadata": {},
     "output_type": "execute_result",
     "execution_count": 4
    }
   ],
   "source": [
    "# only for dev phase\n",
    "frames_review = []\n",
    "for chunk in pd.read_json('../dataset/yelp_academic_dataset_review.json', lines=True, chunksize = 20000):\n",
    "    frames_review.append(chunk)\n",
    "review = pd.concat(frames_review)\n",
    "\n",
    "# final version\n",
    "# pickle_review = open(\"../dataset/vegas_review.pickle\",\"rb\")\n",
    "# review = pickle.load(pickle_review)\n",
    "\n",
    "review.head()"
   ],
   "metadata": {
    "collapsed": false,
    "pycharm": {
     "name": "#%%\n",
     "is_executing": false
    }
   }
  },
  {
   "cell_type": "code",
   "execution_count": 5,
   "outputs": [],
   "source": [
    "texts = list(review[\"text\"])\n",
    "X = vectorizer.transform(texts)\n",
    "predictions = svc.predict(X)"
   ],
   "metadata": {
    "collapsed": false,
    "pycharm": {
     "name": "#%%\n",
     "is_executing": false
    }
   }
  },
  {
   "cell_type": "code",
   "execution_count": 6,
   "outputs": [
    {
     "name": "stdout",
     "text": [
      "<class 'numpy.ndarray'>\nSVC predictions: [ 1  1 -1 ...  1  1  1]\n"
     ],
     "output_type": "stream"
    }
   ],
   "source": [
    "print(type(predictions))\n",
    "print(\"SVC predictions:\", predictions)"
   ],
   "metadata": {
    "collapsed": false,
    "pycharm": {
     "name": "#%%\n",
     "is_executing": false
    }
   }
  },
  {
   "cell_type": "markdown",
   "source": [
    "Now we repeat the whole process with a different model that allows us to\n",
    "obtain real weights instead of a binary evaluation. "
   ],
   "metadata": {
    "collapsed": false
   }
  },
  {
   "cell_type": "code",
   "execution_count": 7,
   "outputs": [],
   "source": [
    "cal_svc = jl.load('../models/fake_review_cal_svc_model.joblib')\n",
    "cal_predictions = cal_svc.predict_proba(X)\n"
   ],
   "metadata": {
    "collapsed": false,
    "pycharm": {
     "name": "#%%\n",
     "is_executing": false
    }
   }
  },
  {
   "cell_type": "code",
   "execution_count": 13,
   "outputs": [
    {
     "name": "stdout",
     "text": [
      "Calibrated SVC predictions:\n [0.90704181 0.99842968 0.25000104 ... 0.63852464 0.99620402 0.99866315]\n"
     ],
     "output_type": "stream"
    }
   ],
   "source": [
    "print(\"Calibrated SVC predictions:\\n\", cal_predictions)\n",
    "cal_predictions = np.array([x[1] for x in cal_predictions])\n",
    "print(\"Calibrated SVC predictions for class '1':\\n\", cal_predictions)"
   ],
   "metadata": {
    "collapsed": false,
    "pycharm": {
     "name": "#%%\n",
     "is_executing": false
    }
   }
  },
  {
   "cell_type": "code",
   "execution_count": 15,
   "outputs": [
    {
     "name": "stdout",
     "text": [
      "columns before:\n Index(['review_id', 'user_id', 'business_id', 'stars', 'useful', 'funny',\n       'cool', 'text', 'date'],\n      dtype='object')\n",
      "columns after:\n Index(['review_id', 'user_id', 'business_id', 'stars', 'useful', 'funny',\n       'cool', 'text', 'date', 'bin_truth_score', 'real_truth_score'],\n      dtype='object')\n"
     ],
     "output_type": "stream"
    }
   ],
   "source": [
    "print(\"columns before:\\n\", review.columns)\n",
    "checked_review = review.assign(bin_truth_score=predictions, real_truth_score=cal_predictions)\n",
    "print(\"columns after:\\n\", checked_review.columns)"
   ],
   "metadata": {
    "collapsed": false,
    "pycharm": {
     "name": "#%%\n",
     "is_executing": false
    }
   }
  },
  {
   "cell_type": "markdown",
   "source": [
    "Let's see what we just obtained."
   ],
   "metadata": {
    "collapsed": false,
    "pycharm": {
     "name": "#%% md\n"
    }
   }
  },
  {
   "cell_type": "code",
   "execution_count": 16,
   "outputs": [
    {
     "data": {
      "text/plain": "                review_id                                               text  \\\n0  Q1sbwvVQXV2734tPgoKj4Q  Total bill for this horrible service? Over $8G...   \n1  GJXCdrto3ASJOqKeVWPi6Q  I *adore* Travis at the Hard Rock's new Kelly ...   \n2  2TzJjDVDEuAW6MR5Vuc1ug  I have to say that this office really has it t...   \n3  yi0R0Ugj_xUx_Nek0-_Qig  Went in for a lunch. Steak sandwich was delici...   \n4  11a8sVPMUFtaC7_ABRkmtw  Today was my second out of three sessions I ha...   \n\n   bin_truth_score  real_truth_score  \n0                1          0.907042  \n1                1          0.998430  \n2               -1          0.250001  \n3                1          0.878876  \n4                1          0.969773  ",
      "text/html": "<div>\n<style scoped>\n    .dataframe tbody tr th:only-of-type {\n        vertical-align: middle;\n    }\n\n    .dataframe tbody tr th {\n        vertical-align: top;\n    }\n\n    .dataframe thead th {\n        text-align: right;\n    }\n</style>\n<table border=\"1\" class=\"dataframe\">\n  <thead>\n    <tr style=\"text-align: right;\">\n      <th></th>\n      <th>review_id</th>\n      <th>text</th>\n      <th>bin_truth_score</th>\n      <th>real_truth_score</th>\n    </tr>\n  </thead>\n  <tbody>\n    <tr>\n      <th>0</th>\n      <td>Q1sbwvVQXV2734tPgoKj4Q</td>\n      <td>Total bill for this horrible service? Over $8G...</td>\n      <td>1</td>\n      <td>0.907042</td>\n    </tr>\n    <tr>\n      <th>1</th>\n      <td>GJXCdrto3ASJOqKeVWPi6Q</td>\n      <td>I *adore* Travis at the Hard Rock's new Kelly ...</td>\n      <td>1</td>\n      <td>0.998430</td>\n    </tr>\n    <tr>\n      <th>2</th>\n      <td>2TzJjDVDEuAW6MR5Vuc1ug</td>\n      <td>I have to say that this office really has it t...</td>\n      <td>-1</td>\n      <td>0.250001</td>\n    </tr>\n    <tr>\n      <th>3</th>\n      <td>yi0R0Ugj_xUx_Nek0-_Qig</td>\n      <td>Went in for a lunch. Steak sandwich was delici...</td>\n      <td>1</td>\n      <td>0.878876</td>\n    </tr>\n    <tr>\n      <th>4</th>\n      <td>11a8sVPMUFtaC7_ABRkmtw</td>\n      <td>Today was my second out of three sessions I ha...</td>\n      <td>1</td>\n      <td>0.969773</td>\n    </tr>\n  </tbody>\n</table>\n</div>"
     },
     "metadata": {},
     "output_type": "execute_result",
     "execution_count": 16
    }
   ],
   "source": [
    "checked_review[['review_id', 'text', 'bin_truth_score', 'real_truth_score']].head()"
   ],
   "metadata": {
    "collapsed": false,
    "pycharm": {
     "name": "#%%\n",
     "is_executing": false
    }
   }
  },
  {
   "cell_type": "code",
   "execution_count": 17,
   "outputs": [
    {
     "data": {
      "text/plain": "<Figure size 432x288 with 1 Axes>",
      "image/png": "[encoded data removed]"
     },
     "metadata": {
      "needs_background": "light"
     },
     "output_type": "display_data"
    }
   ],
   "source": [
    "data = checked_review['bin_truth_score']\n",
    "plt.hist(data, weights=np.ones(len(data)) / len(data))\n",
    "plt.title(\"SVC labels distribution\")\n",
    "plt.gca().yaxis.set_major_formatter(PercentFormatter(1))\n",
    "plt.show()"
   ],
   "metadata": {
    "collapsed": false,
    "pycharm": {
     "name": "#%%\n",
     "is_executing": false
    }
   }
  },
  {
   "cell_type": "code",
   "execution_count": 18,
   "outputs": [
    {
     "data": {
      "text/plain": "<Figure size 432x288 with 1 Axes>",
      "image/png": "[encoded data removed]"
     },
     "metadata": {
      "needs_background": "light"
     },
     "output_type": "display_data"
    }
   ],
   "source": [
    "data = checked_review['real_truth_score']\n",
    "plt.hist(data, weights=np.ones(len(data)) / len(data))\n",
    "plt.title(\"Calibrated SVC labels distribution\")\n",
    "plt.gca().yaxis.set_major_formatter(PercentFormatter(1))\n",
    "plt.show()"
   ],
   "metadata": {
    "collapsed": false,
    "pycharm": {
     "name": "#%%\n",
     "is_executing": false
    }
   }
  },
  {
   "cell_type": "markdown",
   "source": [
    "Finally, we can save the new dataset without the ```text``` column,\n",
    "in order to save space and computation time.  "
   ],
   "metadata": {
    "collapsed": false,
    "pycharm": {
     "name": "#%% md\n"
    }
   }
  },
  {
   "cell_type": "code",
   "execution_count": 19,
   "outputs": [],
   "source": [
    "checked_review.drop(columns=['text'], inplace=True)\n",
    "checked_review.to_pickle('../dataset/checked_review_2.pickle')"
   ],
   "metadata": {
    "collapsed": false,
    "pycharm": {
     "name": "#%%\n",
     "is_executing": false
    }
   }
  },
  {
   "cell_type": "markdown",
   "source": [
    "Check that everything has worked properly. "
   ],
   "metadata": {
    "collapsed": false,
    "pycharm": {
     "name": "#%% md\n"
    }
   }
  },
  {
   "cell_type": "code",
   "execution_count": 20,
   "outputs": [
    {
     "name": "stdout",
     "text": [
      "Index(['review_id', 'user_id', 'business_id', 'stars', 'useful', 'funny',\n       'cool', 'date', 'bin_truth_score', 'real_truth_score'],\n      dtype='object')\n"
     ],
     "output_type": "stream"
    },
    {
     "data": {
      "text/plain": "                review_id                 user_id             business_id  \\\n0  Q1sbwvVQXV2734tPgoKj4Q  hG7b0MtEbXx5QzbzE6C_VA  ujmEBvifdJM6h6RLv4wQIg   \n1  GJXCdrto3ASJOqKeVWPi6Q  yXQM5uF2jS6es16SJzNHfg  NZnhc2sEQy3RmzKTZnqtwQ   \n2  2TzJjDVDEuAW6MR5Vuc1ug  n6-Gk65cPZL6Uz8qRm3NYw  WTqjgwHlXbSFevF32_DJVw   \n3  yi0R0Ugj_xUx_Nek0-_Qig  dacAIZ6fTM6mqwW5uxkskg  ikCg8xy5JIg_NGPx-MSIDA   \n4  11a8sVPMUFtaC7_ABRkmtw  ssoyf2_x0EQMed6fgHeMyQ  b1b1eb3uo-w561D0ZfCEiQ   \n\n   stars  useful  funny  cool                date  bin_truth_score  \\\n0      1       6      1     0 2013-05-07 04:34:36                1   \n1      5       0      0     0 2017-01-14 21:30:33                1   \n2      5       3      0     0 2016-11-09 20:09:03               -1   \n3      5       0      0     0 2018-01-09 20:56:38                1   \n4      1       7      0     0 2018-01-30 23:07:38                1   \n\n   real_truth_score  \n0          0.907042  \n1          0.998430  \n2          0.250001  \n3          0.878876  \n4          0.969773  ",
      "text/html": "<div>\n<style scoped>\n    .dataframe tbody tr th:only-of-type {\n        vertical-align: middle;\n    }\n\n    .dataframe tbody tr th {\n        vertical-align: top;\n    }\n\n    .dataframe thead th {\n        text-align: right;\n    }\n</style>\n<table border=\"1\" class=\"dataframe\">\n  <thead>\n    <tr style=\"text-align: right;\">\n      <th></th>\n      <th>review_id</th>\n      <th>user_id</th>\n      <th>business_id</th>\n      <th>stars</th>\n      <th>useful</th>\n      <th>funny</th>\n      <th>cool</th>\n      <th>date</th>\n      <th>bin_truth_score</th>\n      <th>real_truth_score</th>\n    </tr>\n  </thead>\n  <tbody>\n    <tr>\n      <th>0</th>\n      <td>Q1sbwvVQXV2734tPgoKj4Q</td>\n      <td>hG7b0MtEbXx5QzbzE6C_VA</td>\n      <td>ujmEBvifdJM6h6RLv4wQIg</td>\n      <td>1</td>\n      <td>6</td>\n      <td>1</td>\n      <td>0</td>\n      <td>2013-05-07 04:34:36</td>\n      <td>1</td>\n      <td>0.907042</td>\n    </tr>\n    <tr>\n      <th>1</th>\n      <td>GJXCdrto3ASJOqKeVWPi6Q</td>\n      <td>yXQM5uF2jS6es16SJzNHfg</td>\n      <td>NZnhc2sEQy3RmzKTZnqtwQ</td>\n      <td>5</td>\n      <td>0</td>\n      <td>0</td>\n      <td>0</td>\n      <td>2017-01-14 21:30:33</td>\n      <td>1</td>\n      <td>0.998430</td>\n    </tr>\n    <tr>\n      <th>2</th>\n      <td>2TzJjDVDEuAW6MR5Vuc1ug</td>\n      <td>n6-Gk65cPZL6Uz8qRm3NYw</td>\n      <td>WTqjgwHlXbSFevF32_DJVw</td>\n      <td>5</td>\n      <td>3</td>\n      <td>0</td>\n      <td>0</td>\n      <td>2016-11-09 20:09:03</td>\n      <td>-1</td>\n      <td>0.250001</td>\n    </tr>\n    <tr>\n      <th>3</th>\n      <td>yi0R0Ugj_xUx_Nek0-_Qig</td>\n      <td>dacAIZ6fTM6mqwW5uxkskg</td>\n      <td>ikCg8xy5JIg_NGPx-MSIDA</td>\n      <td>5</td>\n      <td>0</td>\n      <td>0</td>\n      <td>0</td>\n      <td>2018-01-09 20:56:38</td>\n      <td>1</td>\n      <td>0.878876</td>\n    </tr>\n    <tr>\n      <th>4</th>\n      <td>11a8sVPMUFtaC7_ABRkmtw</td>\n      <td>ssoyf2_x0EQMed6fgHeMyQ</td>\n      <td>b1b1eb3uo-w561D0ZfCEiQ</td>\n      <td>1</td>\n      <td>7</td>\n      <td>0</td>\n      <td>0</td>\n      <td>2018-01-30 23:07:38</td>\n      <td>1</td>\n      <td>0.969773</td>\n    </tr>\n  </tbody>\n</table>\n</div>"
     },
     "metadata": {},
     "output_type": "execute_result",
     "execution_count": 20
    }
   ],
   "source": [
    "pickle_review = open('../dataset/checked_review_2.pickle',\"rb\")\n",
    "final_review = pickle.load(pickle_review)\n",
    "print(final_review.columns)\n",
    "final_review.head()\n"
   ],
   "metadata": {
    "collapsed": false,
    "pycharm": {
     "name": "#%%\n",
     "is_executing": false
    }
   }
  }
 ],
 "metadata": {
  "language_info": {
   "codemirror_mode": {
    "name": "ipython",
    "version": 2
   },
   "file_extension": ".py",
   "mimetype": "text/x-python",
   "name": "python",
   "nbconvert_exporter": "python",
   "pygments_lexer": "ipython2",
   "version": "2.7.6"
  },
  "kernelspec": {
   "name": "tf-gpu",
   "language": "python",
   "display_name": "TensorFlow-GPU"
  },
  "pycharm": {
   "stem_cell": {
    "cell_type": "raw",
    "source": [],
    "metadata": {
     "collapsed": false
    }
   }
  }
 },
 "nbformat": 4,
 "nbformat_minor": 0
}