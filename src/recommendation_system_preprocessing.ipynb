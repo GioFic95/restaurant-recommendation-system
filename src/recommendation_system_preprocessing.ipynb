{
 "cells": [
  {
   "cell_type": "markdown",
   "metadata": {},
   "source": [
    "##### Main authors: WENQI HOU, GAURAVI SAHA, MANYING (JANE) TSANG\n",
    "#### Repurposed with adaptations and changes from: GIOVANNI FICARRA & LEONARDO PICCHIAMI\n",
    "\n",
    "### YELP DATA PREPROCESSING - RESTAURANT RECOMMENDATION SYSTEM "
   ]
  },
  {
   "cell_type": "markdown",
   "metadata": {},
   "source": [
    "### 1. Description of Data\n",
    "\n",
    "5 datasets in json format retrieved from Yelp website : business.json, user.json, checkin.json, tip.json and review.json."
   ]
  },
  {
   "cell_type": "markdown",
   "metadata": {},
   "source": [
    "#### business dataset\n",
    "\n",
    "- business_id: ID of the business\n",
    "- name: name of the business\n",
    "- neighborhood\n",
    "- address: address of the business\n",
    "- city: city of the business\n",
    "- state: state of the business\n",
    "- postal_code: postal code of the business\n",
    "- latitude: latitude of the business\n",
    "- longitude: longitude of the business\n",
    "- stars: average rating of the business\n",
    "- review_count: number of reviews received\n",
    "- is_open: 1 if the business is open, 0 therwise\n",
    "- categories: multiple categories of the business\n",
    "\n",
    "\n",
    "#### review dataset\n",
    "\n",
    "- review_id: ID of the review\n",
    "- user_id: ID of the user\n",
    "- business_id: ID of the business\n",
    "- stars: ratings of the business\n",
    "- date: review date\n",
    "- text: review from the user\n",
    "- useful: number of users who vote a review as usefull\n",
    "- funny: number of users who vote a review as funny\n",
    "- cool: number of users who vote a review as cool\n",
    "\n",
    "\n",
    "#### user dataset\n",
    "\n",
    "- average stars\n",
    "- compliment_cool, compliment_cute, compliment_funny, compliment_hot, compliment_list, compliment_more, compliment_note, compliment_photos, compliment_plain, compliment_profile, compliment_writer\n",
    "- cool\n",
    "- elite\n",
    "- fans\n",
    "- friends\n",
    "- funny\n",
    "- name\n",
    "- review_counts\n",
    "- useful\n",
    "- user_id\n",
    "- yelping_since\n",
    "\n",
    "\n",
    "#### checkin dataset \n",
    "\n",
    "- business_id\n",
    "- date\n",
    "\n",
    "\n",
    "#### tip dataset\n",
    "\n",
    "- business_id\n",
    "- compliment_count\n",
    "- date\n",
    "- text\n",
    "- user_id"
   ]
  },
  {
   "cell_type": "markdown",
   "metadata": {},
   "source": [
    "### 2. Data Processing Tasks"
   ]
  },
  {
   "cell_type": "markdown",
   "metadata": {},
   "source": [
    "#### Generating a cleaned and transformed version of the data:"
   ]
  },
  {
   "cell_type": "markdown",
   "metadata": {},
   "source": [
    "1. Transfer json into pandas dataframe with proper indexing Extract data that includes all restaurants.\n",
    "2. Replace garbage data which includes incorrect states and postal codes, etc Replace missing values. \n",
    "3. Date transformations and standardization.\n",
    "4. Merge multiple dataframes and reshape.\n",
    "5. Create new explanatory features based on initial features.\n",
    "6. Delete conseguently unnecessary columns which could add ambiguity based on new features.\n",
    "7. Delete duplicate restaurants entries and combine their reviews.\n"
   ]
  },
  {
   "cell_type": "markdown",
   "metadata": {},
   "source": [
    "### Enhancement to the Data:"
   ]
  },
  {
   "cell_type": "markdown",
   "metadata": {},
   "source": [
    "We have improved and enhanced the data at every level by cleaning information within the columns. Further data cleaning and enhancements are covered in the data cleaning section."
   ]
  },
  {
   "cell_type": "markdown",
   "metadata": {},
   "source": [
    "### 3. Explanatory Data Analysis and Features Engineering"
   ]
  },
  {
   "cell_type": "markdown",
   "metadata": {},
   "source": [
    "### Data Import"
   ]
  },
  {
   "cell_type": "markdown",
   "metadata": {},
   "source": [
    "We imported our large json file into dataframes by spliting each file into multiple chunks, then convert these chunks to a list, and concatenated them to a final dataframe.\n",
    "After creating one dataframe, we check the columns, the shapes and the head of the dataframe to get an overall idea of what our data looks like and its features."
   ]
  },
  {
   "cell_type": "code",
   "execution_count": 63,
   "metadata": {
    "pycharm": {
     "is_executing": false
    }
   },
   "outputs": [],
   "source": [
    "import warnings\n",
    "warnings.filterwarnings(\"ignore\")\n",
    "\n",
    "import re\n",
    "from collections import Counter\n",
    "import datetime as dt\n",
    "\n",
    "import pandas as pd\n",
    "import numpy as np\n",
    "import pickle"
   ]
  },
  {
   "cell_type": "code",
   "execution_count": 64,
   "metadata": {
    "pycharm": {
     "is_executing": false
    }
   },
   "outputs": [],
   "source": [
    "frames_tip = []\n",
    "for chunk in pd.read_json('../dataset/yelp_academic_dataset_tip.json', lines=True, chunksize = 10000):\n",
    "    frames_tip.append(chunk)\n",
    "tip=pd.concat(frames_tip)"
   ]
  },
  {
   "cell_type": "code",
   "execution_count": 65,
   "metadata": {
    "pycharm": {
     "is_executing": false
    }
   },
   "outputs": [
    {
     "data": {
      "text/plain": [
       "Index(['user_id', 'business_id', 'text', 'date', 'compliment_count'], dtype='object')"
      ]
     },
     "execution_count": 65,
     "metadata": {},
     "output_type": "execute_result"
    }
   ],
   "source": [
    "tip.columns"
   ]
  },
  {
   "cell_type": "code",
   "execution_count": 66,
   "metadata": {
    "pycharm": {
     "is_executing": false
    }
   },
   "outputs": [
    {
     "data": {
      "text/html": [
       "<div>\n",
       "<style scoped>\n",
       "    .dataframe tbody tr th:only-of-type {\n",
       "        vertical-align: middle;\n",
       "    }\n",
       "\n",
       "    .dataframe tbody tr th {\n",
       "        vertical-align: top;\n",
       "    }\n",
       "\n",
       "    .dataframe thead th {\n",
       "        text-align: right;\n",
       "    }\n",
       "</style>\n",
       "<table border=\"1\" class=\"dataframe\">\n",
       "  <thead>\n",
       "    <tr style=\"text-align: right;\">\n",
       "      <th></th>\n",
       "      <th>user_id</th>\n",
       "      <th>business_id</th>\n",
       "      <th>text</th>\n",
       "      <th>date</th>\n",
       "      <th>compliment_count</th>\n",
       "    </tr>\n",
       "  </thead>\n",
       "  <tbody>\n",
       "    <tr>\n",
       "      <th>0</th>\n",
       "      <td>UPw5DWs_b-e2JRBS-t37Ag</td>\n",
       "      <td>VaKXUpmWTTWDKbpJ3aQdMw</td>\n",
       "      <td>Great for watching games, ufc, and whatever el...</td>\n",
       "      <td>2014-03-27 03:51:24</td>\n",
       "      <td>0</td>\n",
       "    </tr>\n",
       "    <tr>\n",
       "      <th>1</th>\n",
       "      <td>Ocha4kZBHb4JK0lOWvE0sg</td>\n",
       "      <td>OPiPeoJiv92rENwbq76orA</td>\n",
       "      <td>Happy Hour 2-4 daily with 1/2 price drinks and...</td>\n",
       "      <td>2013-05-25 06:00:56</td>\n",
       "      <td>0</td>\n",
       "    </tr>\n",
       "    <tr>\n",
       "      <th>2</th>\n",
       "      <td>jRyO2V1pA4CdVVqCIOPc1Q</td>\n",
       "      <td>5KheTjYPu1HcQzQFtm4_vw</td>\n",
       "      <td>Good chips and salsa. Loud at times. Good serv...</td>\n",
       "      <td>2011-12-26 01:46:17</td>\n",
       "      <td>0</td>\n",
       "    </tr>\n",
       "    <tr>\n",
       "      <th>3</th>\n",
       "      <td>FuTJWFYm4UKqewaosss1KA</td>\n",
       "      <td>TkoyGi8J7YFjA6SbaRzrxg</td>\n",
       "      <td>The setting and decoration here is amazing. Co...</td>\n",
       "      <td>2014-03-23 21:32:49</td>\n",
       "      <td>0</td>\n",
       "    </tr>\n",
       "    <tr>\n",
       "      <th>4</th>\n",
       "      <td>LUlKtaM3nXd-E4N4uOk_fQ</td>\n",
       "      <td>AkL6Ous6A1atZejfZXn1Bg</td>\n",
       "      <td>Molly is definately taking a picture with Sant...</td>\n",
       "      <td>2012-10-06 00:19:27</td>\n",
       "      <td>0</td>\n",
       "    </tr>\n",
       "  </tbody>\n",
       "</table>\n",
       "</div>"
      ],
      "text/plain": [
       "                  user_id             business_id  \\\n",
       "0  UPw5DWs_b-e2JRBS-t37Ag  VaKXUpmWTTWDKbpJ3aQdMw   \n",
       "1  Ocha4kZBHb4JK0lOWvE0sg  OPiPeoJiv92rENwbq76orA   \n",
       "2  jRyO2V1pA4CdVVqCIOPc1Q  5KheTjYPu1HcQzQFtm4_vw   \n",
       "3  FuTJWFYm4UKqewaosss1KA  TkoyGi8J7YFjA6SbaRzrxg   \n",
       "4  LUlKtaM3nXd-E4N4uOk_fQ  AkL6Ous6A1atZejfZXn1Bg   \n",
       "\n",
       "                                                text                date  \\\n",
       "0  Great for watching games, ufc, and whatever el... 2014-03-27 03:51:24   \n",
       "1  Happy Hour 2-4 daily with 1/2 price drinks and... 2013-05-25 06:00:56   \n",
       "2  Good chips and salsa. Loud at times. Good serv... 2011-12-26 01:46:17   \n",
       "3  The setting and decoration here is amazing. Co... 2014-03-23 21:32:49   \n",
       "4  Molly is definately taking a picture with Sant... 2012-10-06 00:19:27   \n",
       "\n",
       "   compliment_count  \n",
       "0                 0  \n",
       "1                 0  \n",
       "2                 0  \n",
       "3                 0  \n",
       "4                 0  "
      ]
     },
     "execution_count": 66,
     "metadata": {},
     "output_type": "execute_result"
    }
   ],
   "source": [
    "tip.head()"
   ]
  },
  {
   "cell_type": "code",
   "execution_count": 67,
   "metadata": {
    "pycharm": {
     "is_executing": false
    }
   },
   "outputs": [],
   "source": [
    "frames_checkin = []\n",
    "for chunk in pd.read_json('../dataset/yelp_academic_dataset_checkin.json', lines=True, chunksize = 10000):\n",
    "    frames_checkin.append(chunk)\n",
    "checkin=pd.concat(frames_checkin)"
   ]
  },
  {
   "cell_type": "code",
   "execution_count": 68,
   "metadata": {
    "pycharm": {
     "is_executing": false
    }
   },
   "outputs": [
    {
     "data": {
      "text/plain": [
       "Index(['business_id', 'date'], dtype='object')"
      ]
     },
     "execution_count": 68,
     "metadata": {},
     "output_type": "execute_result"
    }
   ],
   "source": [
    "checkin.columns"
   ]
  },
  {
   "cell_type": "code",
   "execution_count": 69,
   "metadata": {
    "pycharm": {
     "is_executing": false
    }
   },
   "outputs": [
    {
     "data": {
      "text/plain": [
       "(161950, 2)"
      ]
     },
     "execution_count": 69,
     "metadata": {},
     "output_type": "execute_result"
    }
   ],
   "source": [
    "checkin.shape"
   ]
  },
  {
   "cell_type": "code",
   "execution_count": 70,
   "metadata": {
    "pycharm": {
     "is_executing": false
    }
   },
   "outputs": [
    {
     "data": {
      "text/html": [
       "<div>\n",
       "<style scoped>\n",
       "    .dataframe tbody tr th:only-of-type {\n",
       "        vertical-align: middle;\n",
       "    }\n",
       "\n",
       "    .dataframe tbody tr th {\n",
       "        vertical-align: top;\n",
       "    }\n",
       "\n",
       "    .dataframe thead th {\n",
       "        text-align: right;\n",
       "    }\n",
       "</style>\n",
       "<table border=\"1\" class=\"dataframe\">\n",
       "  <thead>\n",
       "    <tr style=\"text-align: right;\">\n",
       "      <th></th>\n",
       "      <th>business_id</th>\n",
       "      <th>date</th>\n",
       "    </tr>\n",
       "  </thead>\n",
       "  <tbody>\n",
       "    <tr>\n",
       "      <th>0</th>\n",
       "      <td>--1UhMGODdWsrMastO9DZw</td>\n",
       "      <td>2016-04-26 19:49:16, 2016-08-30 18:36:57, 2016...</td>\n",
       "    </tr>\n",
       "    <tr>\n",
       "      <th>1</th>\n",
       "      <td>--6MefnULPED_I942VcFNA</td>\n",
       "      <td>2011-06-04 18:22:23, 2011-07-23 23:51:33, 2012...</td>\n",
       "    </tr>\n",
       "    <tr>\n",
       "      <th>2</th>\n",
       "      <td>--7zmmkVg-IMGaXbuVd0SQ</td>\n",
       "      <td>2014-12-29 19:25:50, 2015-01-17 01:49:14, 2015...</td>\n",
       "    </tr>\n",
       "    <tr>\n",
       "      <th>3</th>\n",
       "      <td>--8LPVSo5i0Oo61X01sV9A</td>\n",
       "      <td>2016-07-08 16:43:30</td>\n",
       "    </tr>\n",
       "    <tr>\n",
       "      <th>4</th>\n",
       "      <td>--9QQLMTbFzLJ_oT-ON3Xw</td>\n",
       "      <td>2010-06-26 17:39:07, 2010-08-01 20:06:21, 2010...</td>\n",
       "    </tr>\n",
       "  </tbody>\n",
       "</table>\n",
       "</div>"
      ],
      "text/plain": [
       "              business_id                                               date\n",
       "0  --1UhMGODdWsrMastO9DZw  2016-04-26 19:49:16, 2016-08-30 18:36:57, 2016...\n",
       "1  --6MefnULPED_I942VcFNA  2011-06-04 18:22:23, 2011-07-23 23:51:33, 2012...\n",
       "2  --7zmmkVg-IMGaXbuVd0SQ  2014-12-29 19:25:50, 2015-01-17 01:49:14, 2015...\n",
       "3  --8LPVSo5i0Oo61X01sV9A                                2016-07-08 16:43:30\n",
       "4  --9QQLMTbFzLJ_oT-ON3Xw  2010-06-26 17:39:07, 2010-08-01 20:06:21, 2010..."
      ]
     },
     "execution_count": 70,
     "metadata": {},
     "output_type": "execute_result"
    }
   ],
   "source": [
    "checkin.head()"
   ]
  },
  {
   "cell_type": "code",
   "execution_count": 71,
   "metadata": {
    "pycharm": {
     "is_executing": false
    }
   },
   "outputs": [],
   "source": [
    "frames_review = []\n",
    "for chunk in pd.read_json('../dataset/yelp_academic_dataset_review.json', lines=True, chunksize = 10000):\n",
    "    frames_review.append(chunk)\n",
    "review=pd.concat(frames_review)"
   ]
  },
  {
   "cell_type": "code",
   "execution_count": 72,
   "metadata": {
    "pycharm": {
     "is_executing": false
    }
   },
   "outputs": [
    {
     "data": {
      "text/plain": [
       "Index(['review_id', 'user_id', 'business_id', 'stars', 'useful', 'funny',\n",
       "       'cool', 'text', 'date'],\n",
       "      dtype='object')"
      ]
     },
     "execution_count": 72,
     "metadata": {},
     "output_type": "execute_result"
    }
   ],
   "source": [
    "review.columns"
   ]
  },
  {
   "cell_type": "code",
   "execution_count": 73,
   "metadata": {
    "pycharm": {
     "is_executing": false
    }
   },
   "outputs": [
    {
     "data": {
      "text/plain": [
       "(6685900, 9)"
      ]
     },
     "execution_count": 73,
     "metadata": {},
     "output_type": "execute_result"
    }
   ],
   "source": [
    "review.shape"
   ]
  },
  {
   "cell_type": "code",
   "execution_count": 74,
   "metadata": {
    "pycharm": {
     "is_executing": false
    }
   },
   "outputs": [
    {
     "data": {
      "text/html": [
       "<div>\n",
       "<style scoped>\n",
       "    .dataframe tbody tr th:only-of-type {\n",
       "        vertical-align: middle;\n",
       "    }\n",
       "\n",
       "    .dataframe tbody tr th {\n",
       "        vertical-align: top;\n",
       "    }\n",
       "\n",
       "    .dataframe thead th {\n",
       "        text-align: right;\n",
       "    }\n",
       "</style>\n",
       "<table border=\"1\" class=\"dataframe\">\n",
       "  <thead>\n",
       "    <tr style=\"text-align: right;\">\n",
       "      <th></th>\n",
       "      <th>review_id</th>\n",
       "      <th>user_id</th>\n",
       "      <th>business_id</th>\n",
       "      <th>stars</th>\n",
       "      <th>useful</th>\n",
       "      <th>funny</th>\n",
       "      <th>cool</th>\n",
       "      <th>text</th>\n",
       "      <th>date</th>\n",
       "    </tr>\n",
       "  </thead>\n",
       "  <tbody>\n",
       "    <tr>\n",
       "      <th>0</th>\n",
       "      <td>Q1sbwvVQXV2734tPgoKj4Q</td>\n",
       "      <td>hG7b0MtEbXx5QzbzE6C_VA</td>\n",
       "      <td>ujmEBvifdJM6h6RLv4wQIg</td>\n",
       "      <td>1</td>\n",
       "      <td>6</td>\n",
       "      <td>1</td>\n",
       "      <td>0</td>\n",
       "      <td>Total bill for this horrible service? Over $8G...</td>\n",
       "      <td>2013-05-07 04:34:36</td>\n",
       "    </tr>\n",
       "    <tr>\n",
       "      <th>1</th>\n",
       "      <td>GJXCdrto3ASJOqKeVWPi6Q</td>\n",
       "      <td>yXQM5uF2jS6es16SJzNHfg</td>\n",
       "      <td>NZnhc2sEQy3RmzKTZnqtwQ</td>\n",
       "      <td>5</td>\n",
       "      <td>0</td>\n",
       "      <td>0</td>\n",
       "      <td>0</td>\n",
       "      <td>I *adore* Travis at the Hard Rock's new Kelly ...</td>\n",
       "      <td>2017-01-14 21:30:33</td>\n",
       "    </tr>\n",
       "    <tr>\n",
       "      <th>2</th>\n",
       "      <td>2TzJjDVDEuAW6MR5Vuc1ug</td>\n",
       "      <td>n6-Gk65cPZL6Uz8qRm3NYw</td>\n",
       "      <td>WTqjgwHlXbSFevF32_DJVw</td>\n",
       "      <td>5</td>\n",
       "      <td>3</td>\n",
       "      <td>0</td>\n",
       "      <td>0</td>\n",
       "      <td>I have to say that this office really has it t...</td>\n",
       "      <td>2016-11-09 20:09:03</td>\n",
       "    </tr>\n",
       "    <tr>\n",
       "      <th>3</th>\n",
       "      <td>yi0R0Ugj_xUx_Nek0-_Qig</td>\n",
       "      <td>dacAIZ6fTM6mqwW5uxkskg</td>\n",
       "      <td>ikCg8xy5JIg_NGPx-MSIDA</td>\n",
       "      <td>5</td>\n",
       "      <td>0</td>\n",
       "      <td>0</td>\n",
       "      <td>0</td>\n",
       "      <td>Went in for a lunch. Steak sandwich was delici...</td>\n",
       "      <td>2018-01-09 20:56:38</td>\n",
       "    </tr>\n",
       "    <tr>\n",
       "      <th>4</th>\n",
       "      <td>11a8sVPMUFtaC7_ABRkmtw</td>\n",
       "      <td>ssoyf2_x0EQMed6fgHeMyQ</td>\n",
       "      <td>b1b1eb3uo-w561D0ZfCEiQ</td>\n",
       "      <td>1</td>\n",
       "      <td>7</td>\n",
       "      <td>0</td>\n",
       "      <td>0</td>\n",
       "      <td>Today was my second out of three sessions I ha...</td>\n",
       "      <td>2018-01-30 23:07:38</td>\n",
       "    </tr>\n",
       "  </tbody>\n",
       "</table>\n",
       "</div>"
      ],
      "text/plain": [
       "                review_id                 user_id             business_id  \\\n",
       "0  Q1sbwvVQXV2734tPgoKj4Q  hG7b0MtEbXx5QzbzE6C_VA  ujmEBvifdJM6h6RLv4wQIg   \n",
       "1  GJXCdrto3ASJOqKeVWPi6Q  yXQM5uF2jS6es16SJzNHfg  NZnhc2sEQy3RmzKTZnqtwQ   \n",
       "2  2TzJjDVDEuAW6MR5Vuc1ug  n6-Gk65cPZL6Uz8qRm3NYw  WTqjgwHlXbSFevF32_DJVw   \n",
       "3  yi0R0Ugj_xUx_Nek0-_Qig  dacAIZ6fTM6mqwW5uxkskg  ikCg8xy5JIg_NGPx-MSIDA   \n",
       "4  11a8sVPMUFtaC7_ABRkmtw  ssoyf2_x0EQMed6fgHeMyQ  b1b1eb3uo-w561D0ZfCEiQ   \n",
       "\n",
       "   stars  useful  funny  cool  \\\n",
       "0      1       6      1     0   \n",
       "1      5       0      0     0   \n",
       "2      5       3      0     0   \n",
       "3      5       0      0     0   \n",
       "4      1       7      0     0   \n",
       "\n",
       "                                                text                date  \n",
       "0  Total bill for this horrible service? Over $8G... 2013-05-07 04:34:36  \n",
       "1  I *adore* Travis at the Hard Rock's new Kelly ... 2017-01-14 21:30:33  \n",
       "2  I have to say that this office really has it t... 2016-11-09 20:09:03  \n",
       "3  Went in for a lunch. Steak sandwich was delici... 2018-01-09 20:56:38  \n",
       "4  Today was my second out of three sessions I ha... 2018-01-30 23:07:38  "
      ]
     },
     "execution_count": 74,
     "metadata": {},
     "output_type": "execute_result"
    }
   ],
   "source": [
    "review.head()"
   ]
  },
  {
   "cell_type": "code",
   "execution_count": 75,
   "metadata": {
    "pycharm": {
     "is_executing": false
    }
   },
   "outputs": [],
   "source": [
    "frames = []\n",
    "for chunk in pd.read_json('../dataset/yelp_academic_dataset_user.json', lines=True, chunksize = 10000):\n",
    "    frames.append(chunk)\n",
    "user = pd.concat(frames)"
   ]
  },
  {
   "cell_type": "code",
   "execution_count": 76,
   "metadata": {
    "pycharm": {
     "is_executing": false
    }
   },
   "outputs": [
    {
     "data": {
      "text/plain": [
       "Index(['user_id', 'name', 'review_count', 'yelping_since', 'useful', 'funny',\n",
       "       'cool', 'elite', 'friends', 'fans', 'average_stars', 'compliment_hot',\n",
       "       'compliment_more', 'compliment_profile', 'compliment_cute',\n",
       "       'compliment_list', 'compliment_note', 'compliment_plain',\n",
       "       'compliment_cool', 'compliment_funny', 'compliment_writer',\n",
       "       'compliment_photos'],\n",
       "      dtype='object')"
      ]
     },
     "execution_count": 76,
     "metadata": {},
     "output_type": "execute_result"
    }
   ],
   "source": [
    "user.columns"
   ]
  },
  {
   "cell_type": "code",
   "execution_count": 77,
   "metadata": {
    "pycharm": {
     "is_executing": false
    }
   },
   "outputs": [
    {
     "data": {
      "text/plain": [
       "(1637138, 22)"
      ]
     },
     "execution_count": 77,
     "metadata": {},
     "output_type": "execute_result"
    }
   ],
   "source": [
    "user.shape"
   ]
  },
  {
   "cell_type": "code",
   "execution_count": 78,
   "metadata": {
    "pycharm": {
     "is_executing": false
    }
   },
   "outputs": [
    {
     "data": {
      "text/html": [
       "<div>\n",
       "<style scoped>\n",
       "    .dataframe tbody tr th:only-of-type {\n",
       "        vertical-align: middle;\n",
       "    }\n",
       "\n",
       "    .dataframe tbody tr th {\n",
       "        vertical-align: top;\n",
       "    }\n",
       "\n",
       "    .dataframe thead th {\n",
       "        text-align: right;\n",
       "    }\n",
       "</style>\n",
       "<table border=\"1\" class=\"dataframe\">\n",
       "  <thead>\n",
       "    <tr style=\"text-align: right;\">\n",
       "      <th></th>\n",
       "      <th>user_id</th>\n",
       "      <th>name</th>\n",
       "      <th>review_count</th>\n",
       "      <th>yelping_since</th>\n",
       "      <th>useful</th>\n",
       "      <th>funny</th>\n",
       "      <th>cool</th>\n",
       "      <th>elite</th>\n",
       "      <th>friends</th>\n",
       "      <th>fans</th>\n",
       "      <th>...</th>\n",
       "      <th>compliment_more</th>\n",
       "      <th>compliment_profile</th>\n",
       "      <th>compliment_cute</th>\n",
       "      <th>compliment_list</th>\n",
       "      <th>compliment_note</th>\n",
       "      <th>compliment_plain</th>\n",
       "      <th>compliment_cool</th>\n",
       "      <th>compliment_funny</th>\n",
       "      <th>compliment_writer</th>\n",
       "      <th>compliment_photos</th>\n",
       "    </tr>\n",
       "  </thead>\n",
       "  <tbody>\n",
       "    <tr>\n",
       "      <th>0</th>\n",
       "      <td>l6BmjZMeQD3rDxWUbiAiow</td>\n",
       "      <td>Rashmi</td>\n",
       "      <td>95</td>\n",
       "      <td>2013-10-08 23:11:33</td>\n",
       "      <td>84</td>\n",
       "      <td>17</td>\n",
       "      <td>25</td>\n",
       "      <td>2015,2016,2017</td>\n",
       "      <td>c78V-rj8NQcQjOI8KP3UEA, alRMgPcngYSCJ5naFRBz5g...</td>\n",
       "      <td>5</td>\n",
       "      <td>...</td>\n",
       "      <td>0</td>\n",
       "      <td>0</td>\n",
       "      <td>0</td>\n",
       "      <td>0</td>\n",
       "      <td>1</td>\n",
       "      <td>1</td>\n",
       "      <td>1</td>\n",
       "      <td>1</td>\n",
       "      <td>2</td>\n",
       "      <td>0</td>\n",
       "    </tr>\n",
       "    <tr>\n",
       "      <th>1</th>\n",
       "      <td>4XChL029mKr5hydo79Ljxg</td>\n",
       "      <td>Jenna</td>\n",
       "      <td>33</td>\n",
       "      <td>2013-02-21 22:29:06</td>\n",
       "      <td>48</td>\n",
       "      <td>22</td>\n",
       "      <td>16</td>\n",
       "      <td></td>\n",
       "      <td>kEBTgDvFX754S68FllfCaA, aB2DynOxNOJK9st2ZeGTPg...</td>\n",
       "      <td>4</td>\n",
       "      <td>...</td>\n",
       "      <td>0</td>\n",
       "      <td>0</td>\n",
       "      <td>0</td>\n",
       "      <td>0</td>\n",
       "      <td>0</td>\n",
       "      <td>0</td>\n",
       "      <td>1</td>\n",
       "      <td>1</td>\n",
       "      <td>0</td>\n",
       "      <td>0</td>\n",
       "    </tr>\n",
       "    <tr>\n",
       "      <th>2</th>\n",
       "      <td>bc8C_eETBWL0olvFSJJd0w</td>\n",
       "      <td>David</td>\n",
       "      <td>16</td>\n",
       "      <td>2013-10-04 00:16:10</td>\n",
       "      <td>28</td>\n",
       "      <td>8</td>\n",
       "      <td>10</td>\n",
       "      <td></td>\n",
       "      <td>4N-HU_T32hLENLntsNKNBg, pSY2vwWLgWfGVAAiKQzMng...</td>\n",
       "      <td>0</td>\n",
       "      <td>...</td>\n",
       "      <td>0</td>\n",
       "      <td>0</td>\n",
       "      <td>0</td>\n",
       "      <td>0</td>\n",
       "      <td>1</td>\n",
       "      <td>0</td>\n",
       "      <td>0</td>\n",
       "      <td>0</td>\n",
       "      <td>0</td>\n",
       "      <td>0</td>\n",
       "    </tr>\n",
       "    <tr>\n",
       "      <th>3</th>\n",
       "      <td>dD0gZpBctWGdWo9WlGuhlA</td>\n",
       "      <td>Angela</td>\n",
       "      <td>17</td>\n",
       "      <td>2014-05-22 15:57:30</td>\n",
       "      <td>30</td>\n",
       "      <td>4</td>\n",
       "      <td>14</td>\n",
       "      <td></td>\n",
       "      <td>RZ6wS38wnlXyj-OOdTzBxA, l5jxZh1KsgI8rMunm-GN6A...</td>\n",
       "      <td>5</td>\n",
       "      <td>...</td>\n",
       "      <td>0</td>\n",
       "      <td>0</td>\n",
       "      <td>0</td>\n",
       "      <td>0</td>\n",
       "      <td>0</td>\n",
       "      <td>2</td>\n",
       "      <td>0</td>\n",
       "      <td>0</td>\n",
       "      <td>1</td>\n",
       "      <td>0</td>\n",
       "    </tr>\n",
       "    <tr>\n",
       "      <th>4</th>\n",
       "      <td>MM4RJAeH6yuaN8oZDSt0RA</td>\n",
       "      <td>Nancy</td>\n",
       "      <td>361</td>\n",
       "      <td>2013-10-23 07:02:50</td>\n",
       "      <td>1114</td>\n",
       "      <td>279</td>\n",
       "      <td>665</td>\n",
       "      <td>2015,2016,2017,2018</td>\n",
       "      <td>mbwrZ-RS76V1HoJ0bF_Geg, g64lOV39xSLRZO0aQQ6DeQ...</td>\n",
       "      <td>39</td>\n",
       "      <td>...</td>\n",
       "      <td>1</td>\n",
       "      <td>0</td>\n",
       "      <td>0</td>\n",
       "      <td>1</td>\n",
       "      <td>16</td>\n",
       "      <td>57</td>\n",
       "      <td>80</td>\n",
       "      <td>80</td>\n",
       "      <td>25</td>\n",
       "      <td>5</td>\n",
       "    </tr>\n",
       "  </tbody>\n",
       "</table>\n",
       "<p>5 rows × 22 columns</p>\n",
       "</div>"
      ],
      "text/plain": [
       "                  user_id    name  review_count        yelping_since  useful  \\\n",
       "0  l6BmjZMeQD3rDxWUbiAiow  Rashmi            95  2013-10-08 23:11:33      84   \n",
       "1  4XChL029mKr5hydo79Ljxg   Jenna            33  2013-02-21 22:29:06      48   \n",
       "2  bc8C_eETBWL0olvFSJJd0w   David            16  2013-10-04 00:16:10      28   \n",
       "3  dD0gZpBctWGdWo9WlGuhlA  Angela            17  2014-05-22 15:57:30      30   \n",
       "4  MM4RJAeH6yuaN8oZDSt0RA   Nancy           361  2013-10-23 07:02:50    1114   \n",
       "\n",
       "   funny  cool                elite  \\\n",
       "0     17    25       2015,2016,2017   \n",
       "1     22    16                        \n",
       "2      8    10                        \n",
       "3      4    14                        \n",
       "4    279   665  2015,2016,2017,2018   \n",
       "\n",
       "                                             friends  fans  ...  \\\n",
       "0  c78V-rj8NQcQjOI8KP3UEA, alRMgPcngYSCJ5naFRBz5g...     5  ...   \n",
       "1  kEBTgDvFX754S68FllfCaA, aB2DynOxNOJK9st2ZeGTPg...     4  ...   \n",
       "2  4N-HU_T32hLENLntsNKNBg, pSY2vwWLgWfGVAAiKQzMng...     0  ...   \n",
       "3  RZ6wS38wnlXyj-OOdTzBxA, l5jxZh1KsgI8rMunm-GN6A...     5  ...   \n",
       "4  mbwrZ-RS76V1HoJ0bF_Geg, g64lOV39xSLRZO0aQQ6DeQ...    39  ...   \n",
       "\n",
       "   compliment_more  compliment_profile  compliment_cute  compliment_list  \\\n",
       "0                0                   0                0                0   \n",
       "1                0                   0                0                0   \n",
       "2                0                   0                0                0   \n",
       "3                0                   0                0                0   \n",
       "4                1                   0                0                1   \n",
       "\n",
       "   compliment_note  compliment_plain  compliment_cool  compliment_funny  \\\n",
       "0                1                 1                1                 1   \n",
       "1                0                 0                1                 1   \n",
       "2                1                 0                0                 0   \n",
       "3                0                 2                0                 0   \n",
       "4               16                57               80                80   \n",
       "\n",
       "   compliment_writer  compliment_photos  \n",
       "0                  2                  0  \n",
       "1                  0                  0  \n",
       "2                  0                  0  \n",
       "3                  1                  0  \n",
       "4                 25                  5  \n",
       "\n",
       "[5 rows x 22 columns]"
      ]
     },
     "execution_count": 78,
     "metadata": {},
     "output_type": "execute_result"
    }
   ],
   "source": [
    "user.head()"
   ]
  },
  {
   "cell_type": "code",
   "execution_count": 79,
   "metadata": {
    "pycharm": {
     "is_executing": false
    }
   },
   "outputs": [],
   "source": [
    "frames_business = []\n",
    "for chunk in pd.read_json('../dataset/yelp_academic_dataset_business.json', lines=True, chunksize = 10000):\n",
    "    frames_business.append(chunk)\n",
    "business = pd.concat(frames_business)"
   ]
  },
  {
   "cell_type": "code",
   "execution_count": 80,
   "metadata": {
    "pycharm": {
     "is_executing": false
    }
   },
   "outputs": [
    {
     "data": {
      "text/plain": [
       "Index(['business_id', 'name', 'address', 'city', 'state', 'postal_code',\n",
       "       'latitude', 'longitude', 'stars', 'review_count', 'is_open',\n",
       "       'attributes', 'categories', 'hours'],\n",
       "      dtype='object')"
      ]
     },
     "execution_count": 80,
     "metadata": {},
     "output_type": "execute_result"
    }
   ],
   "source": [
    "business.columns"
   ]
  },
  {
   "cell_type": "code",
   "execution_count": 81,
   "metadata": {
    "pycharm": {
     "is_executing": false
    }
   },
   "outputs": [
    {
     "data": {
      "text/html": [
       "<div>\n",
       "<style scoped>\n",
       "    .dataframe tbody tr th:only-of-type {\n",
       "        vertical-align: middle;\n",
       "    }\n",
       "\n",
       "    .dataframe tbody tr th {\n",
       "        vertical-align: top;\n",
       "    }\n",
       "\n",
       "    .dataframe thead th {\n",
       "        text-align: right;\n",
       "    }\n",
       "</style>\n",
       "<table border=\"1\" class=\"dataframe\">\n",
       "  <thead>\n",
       "    <tr style=\"text-align: right;\">\n",
       "      <th></th>\n",
       "      <th>business_id</th>\n",
       "      <th>name</th>\n",
       "      <th>address</th>\n",
       "      <th>city</th>\n",
       "      <th>state</th>\n",
       "      <th>postal_code</th>\n",
       "      <th>latitude</th>\n",
       "      <th>longitude</th>\n",
       "      <th>stars</th>\n",
       "      <th>review_count</th>\n",
       "      <th>is_open</th>\n",
       "      <th>attributes</th>\n",
       "      <th>categories</th>\n",
       "      <th>hours</th>\n",
       "    </tr>\n",
       "  </thead>\n",
       "  <tbody>\n",
       "    <tr>\n",
       "      <th>0</th>\n",
       "      <td>1SWheh84yJXfytovILXOAQ</td>\n",
       "      <td>Arizona Biltmore Golf Club</td>\n",
       "      <td>2818 E Camino Acequia Drive</td>\n",
       "      <td>Phoenix</td>\n",
       "      <td>AZ</td>\n",
       "      <td>85016</td>\n",
       "      <td>33.522143</td>\n",
       "      <td>-112.018481</td>\n",
       "      <td>3.0</td>\n",
       "      <td>5</td>\n",
       "      <td>0</td>\n",
       "      <td>{'GoodForKids': 'False'}</td>\n",
       "      <td>Golf, Active Life</td>\n",
       "      <td>None</td>\n",
       "    </tr>\n",
       "    <tr>\n",
       "      <th>1</th>\n",
       "      <td>QXAEGFB4oINsVuTFxEYKFQ</td>\n",
       "      <td>Emerald Chinese Restaurant</td>\n",
       "      <td>30 Eglinton Avenue W</td>\n",
       "      <td>Mississauga</td>\n",
       "      <td>ON</td>\n",
       "      <td>L5R 3E7</td>\n",
       "      <td>43.605499</td>\n",
       "      <td>-79.652289</td>\n",
       "      <td>2.5</td>\n",
       "      <td>128</td>\n",
       "      <td>1</td>\n",
       "      <td>{'RestaurantsReservations': 'True', 'GoodForMe...</td>\n",
       "      <td>Specialty Food, Restaurants, Dim Sum, Imported...</td>\n",
       "      <td>{'Monday': '9:0-0:0', 'Tuesday': '9:0-0:0', 'W...</td>\n",
       "    </tr>\n",
       "    <tr>\n",
       "      <th>2</th>\n",
       "      <td>gnKjwL_1w79qoiV3IC_xQQ</td>\n",
       "      <td>Musashi Japanese Restaurant</td>\n",
       "      <td>10110 Johnston Rd, Ste 15</td>\n",
       "      <td>Charlotte</td>\n",
       "      <td>NC</td>\n",
       "      <td>28210</td>\n",
       "      <td>35.092564</td>\n",
       "      <td>-80.859132</td>\n",
       "      <td>4.0</td>\n",
       "      <td>170</td>\n",
       "      <td>1</td>\n",
       "      <td>{'GoodForKids': 'True', 'NoiseLevel': 'u'avera...</td>\n",
       "      <td>Sushi Bars, Restaurants, Japanese</td>\n",
       "      <td>{'Monday': '17:30-21:30', 'Wednesday': '17:30-...</td>\n",
       "    </tr>\n",
       "    <tr>\n",
       "      <th>3</th>\n",
       "      <td>xvX2CttrVhyG2z1dFg_0xw</td>\n",
       "      <td>Farmers Insurance - Paul Lorenz</td>\n",
       "      <td>15655 W Roosevelt St, Ste 237</td>\n",
       "      <td>Goodyear</td>\n",
       "      <td>AZ</td>\n",
       "      <td>85338</td>\n",
       "      <td>33.455613</td>\n",
       "      <td>-112.395596</td>\n",
       "      <td>5.0</td>\n",
       "      <td>3</td>\n",
       "      <td>1</td>\n",
       "      <td>None</td>\n",
       "      <td>Insurance, Financial Services</td>\n",
       "      <td>{'Monday': '8:0-17:0', 'Tuesday': '8:0-17:0', ...</td>\n",
       "    </tr>\n",
       "    <tr>\n",
       "      <th>4</th>\n",
       "      <td>HhyxOkGAM07SRYtlQ4wMFQ</td>\n",
       "      <td>Queen City Plumbing</td>\n",
       "      <td>4209 Stuart Andrew Blvd, Ste F</td>\n",
       "      <td>Charlotte</td>\n",
       "      <td>NC</td>\n",
       "      <td>28217</td>\n",
       "      <td>35.190012</td>\n",
       "      <td>-80.887223</td>\n",
       "      <td>4.0</td>\n",
       "      <td>4</td>\n",
       "      <td>1</td>\n",
       "      <td>{'BusinessAcceptsBitcoin': 'False', 'ByAppoint...</td>\n",
       "      <td>Plumbing, Shopping, Local Services, Home Servi...</td>\n",
       "      <td>{'Monday': '7:0-23:0', 'Tuesday': '7:0-23:0', ...</td>\n",
       "    </tr>\n",
       "  </tbody>\n",
       "</table>\n",
       "</div>"
      ],
      "text/plain": [
       "              business_id                             name  \\\n",
       "0  1SWheh84yJXfytovILXOAQ       Arizona Biltmore Golf Club   \n",
       "1  QXAEGFB4oINsVuTFxEYKFQ       Emerald Chinese Restaurant   \n",
       "2  gnKjwL_1w79qoiV3IC_xQQ      Musashi Japanese Restaurant   \n",
       "3  xvX2CttrVhyG2z1dFg_0xw  Farmers Insurance - Paul Lorenz   \n",
       "4  HhyxOkGAM07SRYtlQ4wMFQ              Queen City Plumbing   \n",
       "\n",
       "                          address         city state postal_code   latitude  \\\n",
       "0     2818 E Camino Acequia Drive      Phoenix    AZ       85016  33.522143   \n",
       "1            30 Eglinton Avenue W  Mississauga    ON     L5R 3E7  43.605499   \n",
       "2       10110 Johnston Rd, Ste 15    Charlotte    NC       28210  35.092564   \n",
       "3   15655 W Roosevelt St, Ste 237     Goodyear    AZ       85338  33.455613   \n",
       "4  4209 Stuart Andrew Blvd, Ste F    Charlotte    NC       28217  35.190012   \n",
       "\n",
       "    longitude  stars  review_count  is_open  \\\n",
       "0 -112.018481    3.0             5        0   \n",
       "1  -79.652289    2.5           128        1   \n",
       "2  -80.859132    4.0           170        1   \n",
       "3 -112.395596    5.0             3        1   \n",
       "4  -80.887223    4.0             4        1   \n",
       "\n",
       "                                          attributes  \\\n",
       "0                           {'GoodForKids': 'False'}   \n",
       "1  {'RestaurantsReservations': 'True', 'GoodForMe...   \n",
       "2  {'GoodForKids': 'True', 'NoiseLevel': 'u'avera...   \n",
       "3                                               None   \n",
       "4  {'BusinessAcceptsBitcoin': 'False', 'ByAppoint...   \n",
       "\n",
       "                                          categories  \\\n",
       "0                                  Golf, Active Life   \n",
       "1  Specialty Food, Restaurants, Dim Sum, Imported...   \n",
       "2                  Sushi Bars, Restaurants, Japanese   \n",
       "3                      Insurance, Financial Services   \n",
       "4  Plumbing, Shopping, Local Services, Home Servi...   \n",
       "\n",
       "                                               hours  \n",
       "0                                               None  \n",
       "1  {'Monday': '9:0-0:0', 'Tuesday': '9:0-0:0', 'W...  \n",
       "2  {'Monday': '17:30-21:30', 'Wednesday': '17:30-...  \n",
       "3  {'Monday': '8:0-17:0', 'Tuesday': '8:0-17:0', ...  \n",
       "4  {'Monday': '7:0-23:0', 'Tuesday': '7:0-23:0', ...  "
      ]
     },
     "execution_count": 81,
     "metadata": {},
     "output_type": "execute_result"
    }
   ],
   "source": [
    "business.head()"
   ]
  },
  {
   "cell_type": "markdown",
   "metadata": {},
   "source": [
    "### Flow of Data Processing:"
   ]
  },
  {
   "cell_type": "markdown",
   "metadata": {},
   "source": [
    "We started with 'business' since it contains ‘attribute’ which we can use it to extract all business for all cities, and further extract restaurants based on ‘categories’ out of all business types. \n",
    "\n",
    "- By creating a new dataframe business, we were able to filter 'review' table by matching its 'business_id' with 'business_id' in dataframe'business', creating a new dataframe 'all_reviews'.\n",
    "\n",
    "- Using the same logic, we then were able to filter 'all_users' dataframe by matching its 'user_id' with 'user_id' in 'all_review'. \n",
    "\n",
    "- The new dataframe 'all_review'contains all customers who have been to at least one restaurant and left a review. \n",
    "\n",
    "- Same as the rest two dataframes, new dataframes 'all_tips', 'all_checkin' were created by matching 'business_id'\n",
    "\n",
    "- Saving all dataframes as pickle files."
   ]
  },
  {
   "cell_type": "markdown",
   "metadata": {},
   "source": [
    "#### To avoid importing data from the large json files every time, we converted the new dataframes to pickle files for future use."
   ]
  },
  {
   "cell_type": "code",
   "execution_count": 82,
   "metadata": {
    "pycharm": {
     "is_executing": false
    }
   },
   "outputs": [],
   "source": [
    "business['restaurant'] = business['categories'].str.contains('Restaurants',flags = re.IGNORECASE)"
   ]
  },
  {
   "cell_type": "code",
   "execution_count": 83,
   "metadata": {
    "pycharm": {
     "is_executing": false
    }
   },
   "outputs": [],
   "source": [
    "business_restaurant = business[business['restaurant'] == True]"
   ]
  },
  {
   "cell_type": "code",
   "execution_count": 84,
   "metadata": {
    "pycharm": {
     "is_executing": false
    }
   },
   "outputs": [
    {
     "data": {
      "text/html": [
       "<div>\n",
       "<style scoped>\n",
       "    .dataframe tbody tr th:only-of-type {\n",
       "        vertical-align: middle;\n",
       "    }\n",
       "\n",
       "    .dataframe tbody tr th {\n",
       "        vertical-align: top;\n",
       "    }\n",
       "\n",
       "    .dataframe thead th {\n",
       "        text-align: right;\n",
       "    }\n",
       "</style>\n",
       "<table border=\"1\" class=\"dataframe\">\n",
       "  <thead>\n",
       "    <tr style=\"text-align: right;\">\n",
       "      <th></th>\n",
       "      <th>business_id</th>\n",
       "      <th>name</th>\n",
       "      <th>address</th>\n",
       "      <th>city</th>\n",
       "      <th>state</th>\n",
       "      <th>postal_code</th>\n",
       "      <th>latitude</th>\n",
       "      <th>longitude</th>\n",
       "      <th>stars</th>\n",
       "      <th>review_count</th>\n",
       "      <th>is_open</th>\n",
       "      <th>attributes</th>\n",
       "      <th>categories</th>\n",
       "      <th>hours</th>\n",
       "      <th>restaurant</th>\n",
       "    </tr>\n",
       "  </thead>\n",
       "  <tbody>\n",
       "    <tr>\n",
       "      <th>1</th>\n",
       "      <td>QXAEGFB4oINsVuTFxEYKFQ</td>\n",
       "      <td>Emerald Chinese Restaurant</td>\n",
       "      <td>30 Eglinton Avenue W</td>\n",
       "      <td>Mississauga</td>\n",
       "      <td>ON</td>\n",
       "      <td>L5R 3E7</td>\n",
       "      <td>43.605499</td>\n",
       "      <td>-79.652289</td>\n",
       "      <td>2.5</td>\n",
       "      <td>128</td>\n",
       "      <td>1</td>\n",
       "      <td>{'RestaurantsReservations': 'True', 'GoodForMe...</td>\n",
       "      <td>Specialty Food, Restaurants, Dim Sum, Imported...</td>\n",
       "      <td>{'Monday': '9:0-0:0', 'Tuesday': '9:0-0:0', 'W...</td>\n",
       "      <td>True</td>\n",
       "    </tr>\n",
       "    <tr>\n",
       "      <th>2</th>\n",
       "      <td>gnKjwL_1w79qoiV3IC_xQQ</td>\n",
       "      <td>Musashi Japanese Restaurant</td>\n",
       "      <td>10110 Johnston Rd, Ste 15</td>\n",
       "      <td>Charlotte</td>\n",
       "      <td>NC</td>\n",
       "      <td>28210</td>\n",
       "      <td>35.092564</td>\n",
       "      <td>-80.859132</td>\n",
       "      <td>4.0</td>\n",
       "      <td>170</td>\n",
       "      <td>1</td>\n",
       "      <td>{'GoodForKids': 'True', 'NoiseLevel': 'u'avera...</td>\n",
       "      <td>Sushi Bars, Restaurants, Japanese</td>\n",
       "      <td>{'Monday': '17:30-21:30', 'Wednesday': '17:30-...</td>\n",
       "      <td>True</td>\n",
       "    </tr>\n",
       "    <tr>\n",
       "      <th>11</th>\n",
       "      <td>1Dfx3zM-rW4n-31KeC8sJg</td>\n",
       "      <td>Taco Bell</td>\n",
       "      <td>2450 E Indian School Rd</td>\n",
       "      <td>Phoenix</td>\n",
       "      <td>AZ</td>\n",
       "      <td>85016</td>\n",
       "      <td>33.495194</td>\n",
       "      <td>-112.028588</td>\n",
       "      <td>3.0</td>\n",
       "      <td>18</td>\n",
       "      <td>1</td>\n",
       "      <td>{'RestaurantsTakeOut': 'True', 'BusinessParkin...</td>\n",
       "      <td>Restaurants, Breakfast &amp; Brunch, Mexican, Taco...</td>\n",
       "      <td>{'Monday': '7:0-0:0', 'Tuesday': '7:0-0:0', 'W...</td>\n",
       "      <td>True</td>\n",
       "    </tr>\n",
       "    <tr>\n",
       "      <th>13</th>\n",
       "      <td>fweCYi8FmbJXHCqLnwuk8w</td>\n",
       "      <td>Marco's Pizza</td>\n",
       "      <td>5981 Andrews Rd</td>\n",
       "      <td>Mentor-on-the-Lake</td>\n",
       "      <td>OH</td>\n",
       "      <td>44060</td>\n",
       "      <td>41.708520</td>\n",
       "      <td>-81.359556</td>\n",
       "      <td>4.0</td>\n",
       "      <td>16</td>\n",
       "      <td>1</td>\n",
       "      <td>{'RestaurantsPriceRange2': '2', 'BusinessAccep...</td>\n",
       "      <td>Italian, Restaurants, Pizza, Chicken Wings</td>\n",
       "      <td>{'Monday': '10:0-0:0', 'Tuesday': '10:0-0:0', ...</td>\n",
       "      <td>True</td>\n",
       "    </tr>\n",
       "    <tr>\n",
       "      <th>17</th>\n",
       "      <td>PZ-LZzSlhSe9utkQYU8pFg</td>\n",
       "      <td>Carluccio's Tivoli Gardens</td>\n",
       "      <td>1775 E Tropicana Ave, Ste 29</td>\n",
       "      <td>Las Vegas</td>\n",
       "      <td>NV</td>\n",
       "      <td>89119</td>\n",
       "      <td>36.100016</td>\n",
       "      <td>-115.128529</td>\n",
       "      <td>4.0</td>\n",
       "      <td>40</td>\n",
       "      <td>0</td>\n",
       "      <td>{'OutdoorSeating': 'False', 'BusinessAcceptsCr...</td>\n",
       "      <td>Restaurants, Italian</td>\n",
       "      <td>None</td>\n",
       "      <td>True</td>\n",
       "    </tr>\n",
       "  </tbody>\n",
       "</table>\n",
       "</div>"
      ],
      "text/plain": [
       "               business_id                         name  \\\n",
       "1   QXAEGFB4oINsVuTFxEYKFQ   Emerald Chinese Restaurant   \n",
       "2   gnKjwL_1w79qoiV3IC_xQQ  Musashi Japanese Restaurant   \n",
       "11  1Dfx3zM-rW4n-31KeC8sJg                    Taco Bell   \n",
       "13  fweCYi8FmbJXHCqLnwuk8w                Marco's Pizza   \n",
       "17  PZ-LZzSlhSe9utkQYU8pFg   Carluccio's Tivoli Gardens   \n",
       "\n",
       "                         address                city state postal_code  \\\n",
       "1           30 Eglinton Avenue W         Mississauga    ON     L5R 3E7   \n",
       "2      10110 Johnston Rd, Ste 15           Charlotte    NC       28210   \n",
       "11       2450 E Indian School Rd             Phoenix    AZ       85016   \n",
       "13               5981 Andrews Rd  Mentor-on-the-Lake    OH       44060   \n",
       "17  1775 E Tropicana Ave, Ste 29           Las Vegas    NV       89119   \n",
       "\n",
       "     latitude   longitude  stars  review_count  is_open  \\\n",
       "1   43.605499  -79.652289    2.5           128        1   \n",
       "2   35.092564  -80.859132    4.0           170        1   \n",
       "11  33.495194 -112.028588    3.0            18        1   \n",
       "13  41.708520  -81.359556    4.0            16        1   \n",
       "17  36.100016 -115.128529    4.0            40        0   \n",
       "\n",
       "                                           attributes  \\\n",
       "1   {'RestaurantsReservations': 'True', 'GoodForMe...   \n",
       "2   {'GoodForKids': 'True', 'NoiseLevel': 'u'avera...   \n",
       "11  {'RestaurantsTakeOut': 'True', 'BusinessParkin...   \n",
       "13  {'RestaurantsPriceRange2': '2', 'BusinessAccep...   \n",
       "17  {'OutdoorSeating': 'False', 'BusinessAcceptsCr...   \n",
       "\n",
       "                                           categories  \\\n",
       "1   Specialty Food, Restaurants, Dim Sum, Imported...   \n",
       "2                   Sushi Bars, Restaurants, Japanese   \n",
       "11  Restaurants, Breakfast & Brunch, Mexican, Taco...   \n",
       "13         Italian, Restaurants, Pizza, Chicken Wings   \n",
       "17                               Restaurants, Italian   \n",
       "\n",
       "                                                hours restaurant  \n",
       "1   {'Monday': '9:0-0:0', 'Tuesday': '9:0-0:0', 'W...       True  \n",
       "2   {'Monday': '17:30-21:30', 'Wednesday': '17:30-...       True  \n",
       "11  {'Monday': '7:0-0:0', 'Tuesday': '7:0-0:0', 'W...       True  \n",
       "13  {'Monday': '10:0-0:0', 'Tuesday': '10:0-0:0', ...       True  \n",
       "17                                               None       True  "
      ]
     },
     "execution_count": 84,
     "metadata": {},
     "output_type": "execute_result"
    }
   ],
   "source": [
    "business_restaurant.head()"
   ]
  },
  {
   "cell_type": "code",
   "execution_count": 85,
   "metadata": {
    "pycharm": {
     "is_executing": false
    }
   },
   "outputs": [
    {
     "data": {
      "text/html": [
       "<div>\n",
       "<style scoped>\n",
       "    .dataframe tbody tr th:only-of-type {\n",
       "        vertical-align: middle;\n",
       "    }\n",
       "\n",
       "    .dataframe tbody tr th {\n",
       "        vertical-align: top;\n",
       "    }\n",
       "\n",
       "    .dataframe thead th {\n",
       "        text-align: right;\n",
       "    }\n",
       "</style>\n",
       "<table border=\"1\" class=\"dataframe\">\n",
       "  <thead>\n",
       "    <tr style=\"text-align: right;\">\n",
       "      <th></th>\n",
       "      <th>business_id</th>\n",
       "      <th>name</th>\n",
       "      <th>address</th>\n",
       "      <th>city</th>\n",
       "      <th>state</th>\n",
       "      <th>postal_code</th>\n",
       "      <th>latitude</th>\n",
       "      <th>longitude</th>\n",
       "      <th>stars</th>\n",
       "      <th>review_count</th>\n",
       "      <th>is_open</th>\n",
       "      <th>attributes</th>\n",
       "      <th>categories</th>\n",
       "      <th>hours</th>\n",
       "      <th>restaurant</th>\n",
       "    </tr>\n",
       "  </thead>\n",
       "  <tbody>\n",
       "    <tr>\n",
       "      <th>0</th>\n",
       "      <td>QXAEGFB4oINsVuTFxEYKFQ</td>\n",
       "      <td>Emerald Chinese Restaurant</td>\n",
       "      <td>30 Eglinton Avenue W</td>\n",
       "      <td>Mississauga</td>\n",
       "      <td>ON</td>\n",
       "      <td>L5R 3E7</td>\n",
       "      <td>43.605499</td>\n",
       "      <td>-79.652289</td>\n",
       "      <td>2.5</td>\n",
       "      <td>128</td>\n",
       "      <td>1</td>\n",
       "      <td>{'RestaurantsReservations': 'True', 'GoodForMe...</td>\n",
       "      <td>Specialty Food, Restaurants, Dim Sum, Imported...</td>\n",
       "      <td>{'Monday': '9:0-0:0', 'Tuesday': '9:0-0:0', 'W...</td>\n",
       "      <td>True</td>\n",
       "    </tr>\n",
       "    <tr>\n",
       "      <th>1</th>\n",
       "      <td>gnKjwL_1w79qoiV3IC_xQQ</td>\n",
       "      <td>Musashi Japanese Restaurant</td>\n",
       "      <td>10110 Johnston Rd, Ste 15</td>\n",
       "      <td>Charlotte</td>\n",
       "      <td>NC</td>\n",
       "      <td>28210</td>\n",
       "      <td>35.092564</td>\n",
       "      <td>-80.859132</td>\n",
       "      <td>4.0</td>\n",
       "      <td>170</td>\n",
       "      <td>1</td>\n",
       "      <td>{'GoodForKids': 'True', 'NoiseLevel': 'u'avera...</td>\n",
       "      <td>Sushi Bars, Restaurants, Japanese</td>\n",
       "      <td>{'Monday': '17:30-21:30', 'Wednesday': '17:30-...</td>\n",
       "      <td>True</td>\n",
       "    </tr>\n",
       "    <tr>\n",
       "      <th>2</th>\n",
       "      <td>1Dfx3zM-rW4n-31KeC8sJg</td>\n",
       "      <td>Taco Bell</td>\n",
       "      <td>2450 E Indian School Rd</td>\n",
       "      <td>Phoenix</td>\n",
       "      <td>AZ</td>\n",
       "      <td>85016</td>\n",
       "      <td>33.495194</td>\n",
       "      <td>-112.028588</td>\n",
       "      <td>3.0</td>\n",
       "      <td>18</td>\n",
       "      <td>1</td>\n",
       "      <td>{'RestaurantsTakeOut': 'True', 'BusinessParkin...</td>\n",
       "      <td>Restaurants, Breakfast &amp; Brunch, Mexican, Taco...</td>\n",
       "      <td>{'Monday': '7:0-0:0', 'Tuesday': '7:0-0:0', 'W...</td>\n",
       "      <td>True</td>\n",
       "    </tr>\n",
       "    <tr>\n",
       "      <th>3</th>\n",
       "      <td>fweCYi8FmbJXHCqLnwuk8w</td>\n",
       "      <td>Marco's Pizza</td>\n",
       "      <td>5981 Andrews Rd</td>\n",
       "      <td>Mentor-on-the-Lake</td>\n",
       "      <td>OH</td>\n",
       "      <td>44060</td>\n",
       "      <td>41.708520</td>\n",
       "      <td>-81.359556</td>\n",
       "      <td>4.0</td>\n",
       "      <td>16</td>\n",
       "      <td>1</td>\n",
       "      <td>{'RestaurantsPriceRange2': '2', 'BusinessAccep...</td>\n",
       "      <td>Italian, Restaurants, Pizza, Chicken Wings</td>\n",
       "      <td>{'Monday': '10:0-0:0', 'Tuesday': '10:0-0:0', ...</td>\n",
       "      <td>True</td>\n",
       "    </tr>\n",
       "    <tr>\n",
       "      <th>4</th>\n",
       "      <td>PZ-LZzSlhSe9utkQYU8pFg</td>\n",
       "      <td>Carluccio's Tivoli Gardens</td>\n",
       "      <td>1775 E Tropicana Ave, Ste 29</td>\n",
       "      <td>Las Vegas</td>\n",
       "      <td>NV</td>\n",
       "      <td>89119</td>\n",
       "      <td>36.100016</td>\n",
       "      <td>-115.128529</td>\n",
       "      <td>4.0</td>\n",
       "      <td>40</td>\n",
       "      <td>0</td>\n",
       "      <td>{'OutdoorSeating': 'False', 'BusinessAcceptsCr...</td>\n",
       "      <td>Restaurants, Italian</td>\n",
       "      <td>None</td>\n",
       "      <td>True</td>\n",
       "    </tr>\n",
       "  </tbody>\n",
       "</table>\n",
       "</div>"
      ],
      "text/plain": [
       "              business_id                         name  \\\n",
       "0  QXAEGFB4oINsVuTFxEYKFQ   Emerald Chinese Restaurant   \n",
       "1  gnKjwL_1w79qoiV3IC_xQQ  Musashi Japanese Restaurant   \n",
       "2  1Dfx3zM-rW4n-31KeC8sJg                    Taco Bell   \n",
       "3  fweCYi8FmbJXHCqLnwuk8w                Marco's Pizza   \n",
       "4  PZ-LZzSlhSe9utkQYU8pFg   Carluccio's Tivoli Gardens   \n",
       "\n",
       "                        address                city state postal_code  \\\n",
       "0          30 Eglinton Avenue W         Mississauga    ON     L5R 3E7   \n",
       "1     10110 Johnston Rd, Ste 15           Charlotte    NC       28210   \n",
       "2       2450 E Indian School Rd             Phoenix    AZ       85016   \n",
       "3               5981 Andrews Rd  Mentor-on-the-Lake    OH       44060   \n",
       "4  1775 E Tropicana Ave, Ste 29           Las Vegas    NV       89119   \n",
       "\n",
       "    latitude   longitude  stars  review_count  is_open  \\\n",
       "0  43.605499  -79.652289    2.5           128        1   \n",
       "1  35.092564  -80.859132    4.0           170        1   \n",
       "2  33.495194 -112.028588    3.0            18        1   \n",
       "3  41.708520  -81.359556    4.0            16        1   \n",
       "4  36.100016 -115.128529    4.0            40        0   \n",
       "\n",
       "                                          attributes  \\\n",
       "0  {'RestaurantsReservations': 'True', 'GoodForMe...   \n",
       "1  {'GoodForKids': 'True', 'NoiseLevel': 'u'avera...   \n",
       "2  {'RestaurantsTakeOut': 'True', 'BusinessParkin...   \n",
       "3  {'RestaurantsPriceRange2': '2', 'BusinessAccep...   \n",
       "4  {'OutdoorSeating': 'False', 'BusinessAcceptsCr...   \n",
       "\n",
       "                                          categories  \\\n",
       "0  Specialty Food, Restaurants, Dim Sum, Imported...   \n",
       "1                  Sushi Bars, Restaurants, Japanese   \n",
       "2  Restaurants, Breakfast & Brunch, Mexican, Taco...   \n",
       "3         Italian, Restaurants, Pizza, Chicken Wings   \n",
       "4                               Restaurants, Italian   \n",
       "\n",
       "                                               hours restaurant  \n",
       "0  {'Monday': '9:0-0:0', 'Tuesday': '9:0-0:0', 'W...       True  \n",
       "1  {'Monday': '17:30-21:30', 'Wednesday': '17:30-...       True  \n",
       "2  {'Monday': '7:0-0:0', 'Tuesday': '7:0-0:0', 'W...       True  \n",
       "3  {'Monday': '10:0-0:0', 'Tuesday': '10:0-0:0', ...       True  \n",
       "4                                               None       True  "
      ]
     },
     "execution_count": 85,
     "metadata": {},
     "output_type": "execute_result"
    }
   ],
   "source": [
    "business_restaurant.reset_index(drop=True).head()"
   ]
  },
  {
   "cell_type": "code",
   "execution_count": 86,
   "metadata": {
    "pycharm": {
     "is_executing": false
    }
   },
   "outputs": [
    {
     "data": {
      "text/plain": [
       "(59371, 15)"
      ]
     },
     "execution_count": 86,
     "metadata": {},
     "output_type": "execute_result"
    }
   ],
   "source": [
    "business_restaurant.shape"
   ]
  },
  {
   "cell_type": "markdown",
   "metadata": {},
   "source": [
    "#### The Pickling Process"
   ]
  },
  {
   "cell_type": "code",
   "execution_count": 87,
   "metadata": {
    "pycharm": {
     "is_executing": false
    }
   },
   "outputs": [],
   "source": [
    "business_restaurant.to_pickle('../dataset/restaurants.pickle')"
   ]
  },
  {
   "cell_type": "code",
   "execution_count": 88,
   "metadata": {
    "pycharm": {
     "is_executing": false
    }
   },
   "outputs": [],
   "source": [
    "review_all_restaurant = review.loc[review['business_id'].isin(business_restaurant['business_id'].unique())]"
   ]
  },
  {
   "cell_type": "code",
   "execution_count": 89,
   "metadata": {
    "pycharm": {
     "is_executing": false
    }
   },
   "outputs": [
    {
     "data": {
      "text/html": [
       "<div>\n",
       "<style scoped>\n",
       "    .dataframe tbody tr th:only-of-type {\n",
       "        vertical-align: middle;\n",
       "    }\n",
       "\n",
       "    .dataframe tbody tr th {\n",
       "        vertical-align: top;\n",
       "    }\n",
       "\n",
       "    .dataframe thead th {\n",
       "        text-align: right;\n",
       "    }\n",
       "</style>\n",
       "<table border=\"1\" class=\"dataframe\">\n",
       "  <thead>\n",
       "    <tr style=\"text-align: right;\">\n",
       "      <th></th>\n",
       "      <th>review_id</th>\n",
       "      <th>user_id</th>\n",
       "      <th>business_id</th>\n",
       "      <th>stars</th>\n",
       "      <th>useful</th>\n",
       "      <th>funny</th>\n",
       "      <th>cool</th>\n",
       "      <th>text</th>\n",
       "      <th>date</th>\n",
       "    </tr>\n",
       "  </thead>\n",
       "  <tbody>\n",
       "    <tr>\n",
       "      <th>0</th>\n",
       "      <td>yi0R0Ugj_xUx_Nek0-_Qig</td>\n",
       "      <td>dacAIZ6fTM6mqwW5uxkskg</td>\n",
       "      <td>ikCg8xy5JIg_NGPx-MSIDA</td>\n",
       "      <td>5</td>\n",
       "      <td>0</td>\n",
       "      <td>0</td>\n",
       "      <td>0</td>\n",
       "      <td>Went in for a lunch. Steak sandwich was delici...</td>\n",
       "      <td>2018-01-09 20:56:38</td>\n",
       "    </tr>\n",
       "    <tr>\n",
       "      <th>1</th>\n",
       "      <td>fdiNeiN_hoCxCMy2wTRW9g</td>\n",
       "      <td>w31MKYsNFMrjhWxxAb5wIw</td>\n",
       "      <td>eU_713ec6fTGNO4BegRaww</td>\n",
       "      <td>4</td>\n",
       "      <td>0</td>\n",
       "      <td>0</td>\n",
       "      <td>0</td>\n",
       "      <td>I'll be the first to admit that I was not exci...</td>\n",
       "      <td>2013-01-20 13:25:59</td>\n",
       "    </tr>\n",
       "    <tr>\n",
       "      <th>2</th>\n",
       "      <td>G7XHMxG0bx9oBJNECG4IFg</td>\n",
       "      <td>jlu4CztcSxrKx56ba1a5AQ</td>\n",
       "      <td>3fw2X5bZYeW9xCz_zGhOHg</td>\n",
       "      <td>3</td>\n",
       "      <td>5</td>\n",
       "      <td>4</td>\n",
       "      <td>5</td>\n",
       "      <td>Tracy dessert had a big name in Hong Kong and ...</td>\n",
       "      <td>2016-05-07 01:21:02</td>\n",
       "    </tr>\n",
       "    <tr>\n",
       "      <th>3</th>\n",
       "      <td>8e9HxxLjjqc9ez5ezzN7iQ</td>\n",
       "      <td>d6xvYpyzcfbF_AZ8vMB7QA</td>\n",
       "      <td>zvO-PJCpNk4fgAVUnExYAA</td>\n",
       "      <td>1</td>\n",
       "      <td>3</td>\n",
       "      <td>1</td>\n",
       "      <td>1</td>\n",
       "      <td>This place has gone down hill.  Clearly they h...</td>\n",
       "      <td>2010-10-05 19:12:35</td>\n",
       "    </tr>\n",
       "    <tr>\n",
       "      <th>4</th>\n",
       "      <td>kbtscdyz6lvrtGjD1quQTg</td>\n",
       "      <td>FIk4lQQu1eTe2EpzQ4xhBA</td>\n",
       "      <td>8mIrX_LrOnAqWsB5JrOojQ</td>\n",
       "      <td>4</td>\n",
       "      <td>0</td>\n",
       "      <td>0</td>\n",
       "      <td>0</td>\n",
       "      <td>Like walking back in time, every Saturday morn...</td>\n",
       "      <td>2011-11-30 02:11:15</td>\n",
       "    </tr>\n",
       "  </tbody>\n",
       "</table>\n",
       "</div>"
      ],
      "text/plain": [
       "                review_id                 user_id             business_id  \\\n",
       "0  yi0R0Ugj_xUx_Nek0-_Qig  dacAIZ6fTM6mqwW5uxkskg  ikCg8xy5JIg_NGPx-MSIDA   \n",
       "1  fdiNeiN_hoCxCMy2wTRW9g  w31MKYsNFMrjhWxxAb5wIw  eU_713ec6fTGNO4BegRaww   \n",
       "2  G7XHMxG0bx9oBJNECG4IFg  jlu4CztcSxrKx56ba1a5AQ  3fw2X5bZYeW9xCz_zGhOHg   \n",
       "3  8e9HxxLjjqc9ez5ezzN7iQ  d6xvYpyzcfbF_AZ8vMB7QA  zvO-PJCpNk4fgAVUnExYAA   \n",
       "4  kbtscdyz6lvrtGjD1quQTg  FIk4lQQu1eTe2EpzQ4xhBA  8mIrX_LrOnAqWsB5JrOojQ   \n",
       "\n",
       "   stars  useful  funny  cool  \\\n",
       "0      5       0      0     0   \n",
       "1      4       0      0     0   \n",
       "2      3       5      4     5   \n",
       "3      1       3      1     1   \n",
       "4      4       0      0     0   \n",
       "\n",
       "                                                text                date  \n",
       "0  Went in for a lunch. Steak sandwich was delici... 2018-01-09 20:56:38  \n",
       "1  I'll be the first to admit that I was not exci... 2013-01-20 13:25:59  \n",
       "2  Tracy dessert had a big name in Hong Kong and ... 2016-05-07 01:21:02  \n",
       "3  This place has gone down hill.  Clearly they h... 2010-10-05 19:12:35  \n",
       "4  Like walking back in time, every Saturday morn... 2011-11-30 02:11:15  "
      ]
     },
     "execution_count": 89,
     "metadata": {},
     "output_type": "execute_result"
    }
   ],
   "source": [
    "review_all_restaurant.reset_index(drop=True).head()"
   ]
  },
  {
   "cell_type": "code",
   "execution_count": 90,
   "metadata": {
    "pycharm": {
     "is_executing": false
    }
   },
   "outputs": [],
   "source": [
    "review_all_restaurant.to_pickle('../dataset/all_review.pickle')"
   ]
  },
  {
   "cell_type": "code",
   "execution_count": 91,
   "metadata": {
    "pycharm": {
     "is_executing": false
    }
   },
   "outputs": [
    {
     "data": {
      "text/plain": [
       "Index(['user_id', 'name', 'review_count', 'yelping_since', 'useful', 'funny',\n",
       "       'cool', 'elite', 'friends', 'fans', 'average_stars', 'compliment_hot',\n",
       "       'compliment_more', 'compliment_profile', 'compliment_cute',\n",
       "       'compliment_list', 'compliment_note', 'compliment_plain',\n",
       "       'compliment_cool', 'compliment_funny', 'compliment_writer',\n",
       "       'compliment_photos'],\n",
       "      dtype='object')"
      ]
     },
     "execution_count": 91,
     "metadata": {},
     "output_type": "execute_result"
    }
   ],
   "source": [
    "user.columns"
   ]
  },
  {
   "cell_type": "code",
   "execution_count": 92,
   "metadata": {
    "pycharm": {
     "is_executing": false
    }
   },
   "outputs": [],
   "source": [
    "user_all_restaurant=user.loc[user['user_id'].isin(review_all_restaurant['user_id'].unique())]"
   ]
  },
  {
   "cell_type": "code",
   "execution_count": 93,
   "metadata": {
    "pycharm": {
     "is_executing": false
    }
   },
   "outputs": [],
   "source": [
    "user_all_restaurant.to_pickle('../dataset/all_users.pickle')"
   ]
  },
  {
   "cell_type": "code",
   "execution_count": 94,
   "metadata": {
    "pycharm": {
     "is_executing": false
    }
   },
   "outputs": [
    {
     "data": {
      "text/plain": [
       "Index(['user_id', 'business_id', 'text', 'date', 'compliment_count'], dtype='object')"
      ]
     },
     "execution_count": 94,
     "metadata": {},
     "output_type": "execute_result"
    }
   ],
   "source": [
    "tip.columns"
   ]
  },
  {
   "cell_type": "code",
   "execution_count": 95,
   "metadata": {
    "pycharm": {
     "is_executing": false
    }
   },
   "outputs": [],
   "source": [
    "tip_all_restaurant = tip.loc[tip['user_id'].isin(review_all_restaurant['user_id'].unique())].reset_index(drop=True)"
   ]
  },
  {
   "cell_type": "code",
   "execution_count": 96,
   "metadata": {
    "pycharm": {
     "is_executing": false
    }
   },
   "outputs": [],
   "source": [
    "tip_all_restaurant.to_pickle('../dataset/all_tips.pickle')"
   ]
  },
  {
   "cell_type": "code",
   "execution_count": 97,
   "metadata": {
    "pycharm": {
     "is_executing": false
    }
   },
   "outputs": [],
   "source": [
    "check_all_restaurant = checkin.loc[checkin['business_id'].isin(business_restaurant['business_id'].unique())].reset_index(drop=True)"
   ]
  },
  {
   "cell_type": "code",
   "execution_count": 98,
   "metadata": {
    "pycharm": {
     "is_executing": false
    }
   },
   "outputs": [],
   "source": [
    "check_all_restaurant.to_pickle('../dataset/all_checkin.pickle')"
   ]
  },
  {
   "cell_type": "markdown",
   "metadata": {},
   "source": [
    "# Data Cleaning - Making the Data useful for analysis"
   ]
  },
  {
   "cell_type": "markdown",
   "metadata": {},
   "source": [
    "##### Working with Business pickle file:"
   ]
  },
  {
   "cell_type": "markdown",
   "metadata": {},
   "source": [
    "This file contains information about our restaurants and other related parameters. This dataframe acts as the focus of our analysis and we intend to derive meaningful insights from it."
   ]
  },
  {
   "cell_type": "markdown",
   "metadata": {},
   "source": [
    "Summary of actions:\n",
    "- Reading the business pickle file for clean up\n",
    "- Missing values cleaned up\n",
    "- Using only a few selected columns for meaningful analysis\n",
    "- Extract useful information from categories column to investigate resturants' cuisine\n"
   ]
  },
  {
   "cell_type": "code",
   "execution_count": 99,
   "metadata": {
    "pycharm": {
     "is_executing": false
    }
   },
   "outputs": [],
   "source": [
    "rest = pd.read_pickle('../dataset/restaurants.pickle')"
   ]
  },
  {
   "cell_type": "code",
   "execution_count": 100,
   "metadata": {
    "pycharm": {
     "is_executing": false
    }
   },
   "outputs": [],
   "source": [
    "rest.fillna(value = pd.np.nan, inplace = True)"
   ]
  },
  {
   "cell_type": "code",
   "execution_count": 101,
   "metadata": {
    "pycharm": {
     "is_executing": false
    }
   },
   "outputs": [
    {
     "data": {
      "text/html": [
       "<div>\n",
       "<style scoped>\n",
       "    .dataframe tbody tr th:only-of-type {\n",
       "        vertical-align: middle;\n",
       "    }\n",
       "\n",
       "    .dataframe tbody tr th {\n",
       "        vertical-align: top;\n",
       "    }\n",
       "\n",
       "    .dataframe thead th {\n",
       "        text-align: right;\n",
       "    }\n",
       "</style>\n",
       "<table border=\"1\" class=\"dataframe\">\n",
       "  <thead>\n",
       "    <tr style=\"text-align: right;\">\n",
       "      <th></th>\n",
       "      <th>business_id</th>\n",
       "      <th>name</th>\n",
       "      <th>address</th>\n",
       "      <th>city</th>\n",
       "      <th>state</th>\n",
       "      <th>postal_code</th>\n",
       "      <th>latitude</th>\n",
       "      <th>longitude</th>\n",
       "      <th>stars</th>\n",
       "      <th>review_count</th>\n",
       "      <th>is_open</th>\n",
       "      <th>attributes</th>\n",
       "      <th>categories</th>\n",
       "      <th>hours</th>\n",
       "      <th>restaurant</th>\n",
       "    </tr>\n",
       "  </thead>\n",
       "  <tbody>\n",
       "    <tr>\n",
       "      <th>1</th>\n",
       "      <td>QXAEGFB4oINsVuTFxEYKFQ</td>\n",
       "      <td>Emerald Chinese Restaurant</td>\n",
       "      <td>30 Eglinton Avenue W</td>\n",
       "      <td>Mississauga</td>\n",
       "      <td>ON</td>\n",
       "      <td>L5R 3E7</td>\n",
       "      <td>43.605499</td>\n",
       "      <td>-79.652289</td>\n",
       "      <td>2.5</td>\n",
       "      <td>128</td>\n",
       "      <td>1</td>\n",
       "      <td>{'RestaurantsReservations': 'True', 'GoodForMe...</td>\n",
       "      <td>Specialty Food, Restaurants, Dim Sum, Imported...</td>\n",
       "      <td>{'Monday': '9:0-0:0', 'Tuesday': '9:0-0:0', 'W...</td>\n",
       "      <td>True</td>\n",
       "    </tr>\n",
       "    <tr>\n",
       "      <th>2</th>\n",
       "      <td>gnKjwL_1w79qoiV3IC_xQQ</td>\n",
       "      <td>Musashi Japanese Restaurant</td>\n",
       "      <td>10110 Johnston Rd, Ste 15</td>\n",
       "      <td>Charlotte</td>\n",
       "      <td>NC</td>\n",
       "      <td>28210</td>\n",
       "      <td>35.092564</td>\n",
       "      <td>-80.859132</td>\n",
       "      <td>4.0</td>\n",
       "      <td>170</td>\n",
       "      <td>1</td>\n",
       "      <td>{'GoodForKids': 'True', 'NoiseLevel': 'u'avera...</td>\n",
       "      <td>Sushi Bars, Restaurants, Japanese</td>\n",
       "      <td>{'Monday': '17:30-21:30', 'Wednesday': '17:30-...</td>\n",
       "      <td>True</td>\n",
       "    </tr>\n",
       "    <tr>\n",
       "      <th>3</th>\n",
       "      <td>1Dfx3zM-rW4n-31KeC8sJg</td>\n",
       "      <td>Taco Bell</td>\n",
       "      <td>2450 E Indian School Rd</td>\n",
       "      <td>Phoenix</td>\n",
       "      <td>AZ</td>\n",
       "      <td>85016</td>\n",
       "      <td>33.495194</td>\n",
       "      <td>-112.028588</td>\n",
       "      <td>3.0</td>\n",
       "      <td>18</td>\n",
       "      <td>1</td>\n",
       "      <td>{'RestaurantsTakeOut': 'True', 'BusinessParkin...</td>\n",
       "      <td>Restaurants, Breakfast &amp; Brunch, Mexican, Taco...</td>\n",
       "      <td>{'Monday': '7:0-0:0', 'Tuesday': '7:0-0:0', 'W...</td>\n",
       "      <td>True</td>\n",
       "    </tr>\n",
       "    <tr>\n",
       "      <th>4</th>\n",
       "      <td>fweCYi8FmbJXHCqLnwuk8w</td>\n",
       "      <td>Marco's Pizza</td>\n",
       "      <td>5981 Andrews Rd</td>\n",
       "      <td>Mentor-on-the-Lake</td>\n",
       "      <td>OH</td>\n",
       "      <td>44060</td>\n",
       "      <td>41.708520</td>\n",
       "      <td>-81.359556</td>\n",
       "      <td>4.0</td>\n",
       "      <td>16</td>\n",
       "      <td>1</td>\n",
       "      <td>{'RestaurantsPriceRange2': '2', 'BusinessAccep...</td>\n",
       "      <td>Italian, Restaurants, Pizza, Chicken Wings</td>\n",
       "      <td>{'Monday': '10:0-0:0', 'Tuesday': '10:0-0:0', ...</td>\n",
       "      <td>True</td>\n",
       "    </tr>\n",
       "    <tr>\n",
       "      <th>5</th>\n",
       "      <td>PZ-LZzSlhSe9utkQYU8pFg</td>\n",
       "      <td>Carluccio's Tivoli Gardens</td>\n",
       "      <td>1775 E Tropicana Ave, Ste 29</td>\n",
       "      <td>Las Vegas</td>\n",
       "      <td>NV</td>\n",
       "      <td>89119</td>\n",
       "      <td>36.100016</td>\n",
       "      <td>-115.128529</td>\n",
       "      <td>4.0</td>\n",
       "      <td>40</td>\n",
       "      <td>0</td>\n",
       "      <td>{'OutdoorSeating': 'False', 'BusinessAcceptsCr...</td>\n",
       "      <td>Restaurants, Italian</td>\n",
       "      <td>NaN</td>\n",
       "      <td>True</td>\n",
       "    </tr>\n",
       "  </tbody>\n",
       "</table>\n",
       "</div>"
      ],
      "text/plain": [
       "              business_id                         name  \\\n",
       "1  QXAEGFB4oINsVuTFxEYKFQ   Emerald Chinese Restaurant   \n",
       "2  gnKjwL_1w79qoiV3IC_xQQ  Musashi Japanese Restaurant   \n",
       "3  1Dfx3zM-rW4n-31KeC8sJg                    Taco Bell   \n",
       "4  fweCYi8FmbJXHCqLnwuk8w                Marco's Pizza   \n",
       "5  PZ-LZzSlhSe9utkQYU8pFg   Carluccio's Tivoli Gardens   \n",
       "\n",
       "                        address                city state postal_code  \\\n",
       "1          30 Eglinton Avenue W         Mississauga    ON     L5R 3E7   \n",
       "2     10110 Johnston Rd, Ste 15           Charlotte    NC       28210   \n",
       "3       2450 E Indian School Rd             Phoenix    AZ       85016   \n",
       "4               5981 Andrews Rd  Mentor-on-the-Lake    OH       44060   \n",
       "5  1775 E Tropicana Ave, Ste 29           Las Vegas    NV       89119   \n",
       "\n",
       "    latitude   longitude  stars  review_count  is_open  \\\n",
       "1  43.605499  -79.652289    2.5           128        1   \n",
       "2  35.092564  -80.859132    4.0           170        1   \n",
       "3  33.495194 -112.028588    3.0            18        1   \n",
       "4  41.708520  -81.359556    4.0            16        1   \n",
       "5  36.100016 -115.128529    4.0            40        0   \n",
       "\n",
       "                                          attributes  \\\n",
       "1  {'RestaurantsReservations': 'True', 'GoodForMe...   \n",
       "2  {'GoodForKids': 'True', 'NoiseLevel': 'u'avera...   \n",
       "3  {'RestaurantsTakeOut': 'True', 'BusinessParkin...   \n",
       "4  {'RestaurantsPriceRange2': '2', 'BusinessAccep...   \n",
       "5  {'OutdoorSeating': 'False', 'BusinessAcceptsCr...   \n",
       "\n",
       "                                          categories  \\\n",
       "1  Specialty Food, Restaurants, Dim Sum, Imported...   \n",
       "2                  Sushi Bars, Restaurants, Japanese   \n",
       "3  Restaurants, Breakfast & Brunch, Mexican, Taco...   \n",
       "4         Italian, Restaurants, Pizza, Chicken Wings   \n",
       "5                               Restaurants, Italian   \n",
       "\n",
       "                                               hours  restaurant  \n",
       "1  {'Monday': '9:0-0:0', 'Tuesday': '9:0-0:0', 'W...        True  \n",
       "2  {'Monday': '17:30-21:30', 'Wednesday': '17:30-...        True  \n",
       "3  {'Monday': '7:0-0:0', 'Tuesday': '7:0-0:0', 'W...        True  \n",
       "4  {'Monday': '10:0-0:0', 'Tuesday': '10:0-0:0', ...        True  \n",
       "5                                                NaN        True  "
      ]
     },
     "execution_count": 101,
     "metadata": {},
     "output_type": "execute_result"
    }
   ],
   "source": [
    "Rest = rest.reset_index(drop = True)\n",
    "Rest.index += 1\n",
    "Rest.head()"
   ]
  },
  {
   "cell_type": "code",
   "execution_count": 102,
   "metadata": {
    "pycharm": {
     "is_executing": false
    }
   },
   "outputs": [
    {
     "data": {
      "text/plain": [
       "Index(['business_id', 'name', 'address', 'city', 'state', 'postal_code',\n",
       "       'latitude', 'longitude', 'stars', 'review_count', 'is_open',\n",
       "       'attributes', 'categories', 'hours', 'restaurant'],\n",
       "      dtype='object')"
      ]
     },
     "execution_count": 102,
     "metadata": {},
     "output_type": "execute_result"
    }
   ],
   "source": [
    "Rest.columns"
   ]
  },
  {
   "cell_type": "code",
   "execution_count": 103,
   "metadata": {
    "pycharm": {
     "is_executing": false
    }
   },
   "outputs": [],
   "source": [
    "#Adding the feature city among those already considered\n",
    "Rest_final = Rest[['name', 'business_id', 'address', 'categories', 'postal_code','attributes','hours','latitude','longitude','review_count','stars', 'city']]"
   ]
  },
  {
   "cell_type": "code",
   "execution_count": 104,
   "metadata": {
    "pycharm": {
     "is_executing": false
    }
   },
   "outputs": [
    {
     "data": {
      "text/plain": [
       "['Specialty Food', 'Restaurants', 'Dim Sum', 'Imported Food', 'Food']"
      ]
     },
     "execution_count": 104,
     "metadata": {},
     "output_type": "execute_result"
    }
   ],
   "source": [
    "categories=', '.join(list(Rest_final['categories'].unique()))\n",
    "categories=categories.split(', ')\n",
    "categories[:5]"
   ]
  },
  {
   "cell_type": "code",
   "execution_count": 105,
   "metadata": {
    "pycharm": {
     "is_executing": false
    }
   },
   "outputs": [
    {
     "data": {
      "text/plain": [
       "[('Restaurants', 31076),\n",
       " ('Food', 12519),\n",
       " ('Nightlife', 7971),\n",
       " ('Bars', 7606),\n",
       " ('American (Traditional)', 5301),\n",
       " ('Sandwiches', 4848),\n",
       " ('Breakfast & Brunch', 4195),\n",
       " ('American (New)', 3925),\n",
       " ('Burgers', 3069),\n",
       " ('Pizza', 2921),\n",
       " ('Fast Food', 2907),\n",
       " ('Coffee & Tea', 2644),\n",
       " ('Event Planning & Services', 2575),\n",
       " ('Cafes', 2428),\n",
       " ('Italian', 2392),\n",
       " ('Salad', 2255),\n",
       " ('Specialty Food', 2062),\n",
       " ('Seafood', 1942),\n",
       " ('Chinese', 1826),\n",
       " ('Chicken Wings', 1826),\n",
       " ('Mexican', 1753),\n",
       " ('Caterers', 1727),\n",
       " ('Sports Bars', 1707),\n",
       " ('Desserts', 1697),\n",
       " ('Bakeries', 1600),\n",
       " ('Asian Fusion', 1543),\n",
       " ('Canadian (New)', 1538),\n",
       " ('Pubs', 1440),\n",
       " ('Delis', 1396),\n",
       " ('Mediterranean', 1357),\n",
       " ('Japanese', 1293),\n",
       " ('Barbeque', 1280),\n",
       " ('Steakhouses', 1241),\n",
       " ('Beer', 1126),\n",
       " ('Wine & Spirits', 1126),\n",
       " ('Sushi Bars', 1072),\n",
       " ('Vegetarian', 1042),\n",
       " ('Arts & Entertainment', 1034),\n",
       " ('Cocktail Bars', 962),\n",
       " ('Middle Eastern', 944),\n",
       " ('Wine Bars', 940),\n",
       " ('Diners', 940),\n",
       " ('Lounges', 896),\n",
       " ('Juice Bars & Smoothies', 877),\n",
       " ('Ethnic Food', 846),\n",
       " ('Ice Cream & Frozen Yogurt', 842),\n",
       " ('Gluten-Free', 813),\n",
       " ('Comfort Food', 807),\n",
       " ('Vegan', 798),\n",
       " ('Soup', 753),\n",
       " ('Indian', 751),\n",
       " ('Thai', 717),\n",
       " ('French', 699),\n",
       " ('Food Delivery Services', 692),\n",
       " ('Greek', 643),\n",
       " ('Shopping', 638),\n",
       " ('Buffets', 586),\n",
       " ('Food Trucks', 581),\n",
       " ('Grocery', 574),\n",
       " ('Venues & Event Spaces', 561)]"
      ]
     },
     "execution_count": 105,
     "metadata": {},
     "output_type": "execute_result"
    }
   ],
   "source": [
    "c = Counter(categories)\n",
    "c.most_common(60)"
   ]
  },
  {
   "cell_type": "code",
   "execution_count": 106,
   "metadata": {
    "pycharm": {
     "is_executing": false
    }
   },
   "outputs": [],
   "source": [
    "cuisine = 'American|Chinese|Italian|Japanese|Mexican|Asian Fusion|Thai|Korean|Mediterranean'\n",
    "Rest_final['cuisine']=Rest_final['categories'].str.findall(cuisine)"
   ]
  },
  {
   "cell_type": "code",
   "execution_count": 107,
   "metadata": {
    "pycharm": {
     "is_executing": false
    }
   },
   "outputs": [],
   "source": [
    "Rest_final['cuisine'] = Rest_final['cuisine'].map(lambda x: list(x))\n",
    "Rest_final['cuisine'] = Rest_final['cuisine'].map(lambda x: ['Others'] if x==[] else x)"
   ]
  },
  {
   "cell_type": "code",
   "execution_count": 108,
   "metadata": {
    "pycharm": {
     "is_executing": false
    }
   },
   "outputs": [
    {
     "data": {
      "text/plain": [
       "1                         [Chinese]\n",
       "2                        [Japanese]\n",
       "3                         [Mexican]\n",
       "4                         [Italian]\n",
       "5                         [Italian]\n",
       "6                          [Others]\n",
       "7                         [Mexican]\n",
       "8                          [Others]\n",
       "9                          [Others]\n",
       "10    [Italian, American, American]\n",
       "11                        [Chinese]\n",
       "12                         [Others]\n",
       "13                         [Others]\n",
       "14                         [Others]\n",
       "15                         [Others]\n",
       "16                         [Korean]\n",
       "17                       [Japanese]\n",
       "18                         [Others]\n",
       "19                       [American]\n",
       "20                        [Chinese]\n",
       "Name: cuisine, dtype: object"
      ]
     },
     "execution_count": 108,
     "metadata": {},
     "output_type": "execute_result"
    }
   ],
   "source": [
    "Rest_final['cuisine'].head(20)"
   ]
  },
  {
   "cell_type": "markdown",
   "metadata": {},
   "source": [
    "#### Remove redundant entries (e.g: American, American)"
   ]
  },
  {
   "cell_type": "code",
   "execution_count": 109,
   "metadata": {
    "pycharm": {
     "is_executing": false
    }
   },
   "outputs": [
    {
     "data": {
      "text/plain": [
       "1               Chinese\n",
       "2              Japanese\n",
       "3               Mexican\n",
       "4               Italian\n",
       "5               Italian\n",
       "6                Others\n",
       "7               Mexican\n",
       "8                Others\n",
       "9                Others\n",
       "10    Italian, American\n",
       "11              Chinese\n",
       "12               Others\n",
       "13               Others\n",
       "14               Others\n",
       "15               Others\n",
       "16               Korean\n",
       "17             Japanese\n",
       "18               Others\n",
       "19             American\n",
       "20              Chinese\n",
       "Name: cuisine, dtype: object"
      ]
     },
     "execution_count": 109,
     "metadata": {},
     "output_type": "execute_result"
    }
   ],
   "source": [
    "Rest_final['cuisine'] = Rest_final['cuisine'].map(lambda x: list(dict.fromkeys(x)))\n",
    "Rest_final['cuisine'] = Rest_final['cuisine'].map(', '.join) # convert list of string to string\n",
    "Rest_final['cuisine'].head(20)"
   ]
  },
  {
   "cell_type": "markdown",
   "metadata": {},
   "source": [
    "Check all cuisines and merge all resturants with cuisine - Asian into Asian fusion for ease."
   ]
  },
  {
   "cell_type": "code",
   "execution_count": 110,
   "metadata": {
    "pycharm": {
     "is_executing": false
    }
   },
   "outputs": [
    {
     "data": {
      "text/plain": [
       "array(['Chinese', 'Japanese', 'Mexican', 'Italian', 'Others',\n",
       "       'Italian, American', 'Korean', 'American', 'Italian, Japanese',\n",
       "       'Mediterranean', 'Thai', 'American, Asian Fusion, Mexican, Korean',\n",
       "       'Chinese, Asian Fusion',\n",
       "       'Chinese, Japanese, Asian Fusion, Mexican',\n",
       "       'Asian Fusion, Japanese', 'Asian Fusion, Chinese',\n",
       "       'Chinese, Italian', 'Italian, Mediterranean', 'American, Mexican',\n",
       "       'Mexican, American', 'American, Mediterranean',\n",
       "       'Korean, Asian Fusion', 'Asian Fusion, Thai',\n",
       "       'Japanese, Asian Fusion', 'Asian Fusion',\n",
       "       'Asian Fusion, Japanese, Korean', 'American, Italian',\n",
       "       'Japanese, American', 'Japanese, Asian Fusion, Chinese',\n",
       "       'Asian Fusion, Japanese, American', 'Chinese, Thai',\n",
       "       'Japanese, Korean', 'Asian Fusion, Mexican', 'Korean, Thai',\n",
       "       'Thai, Chinese', 'Korean, Japanese', 'Chinese, Japanese',\n",
       "       'Thai, Japanese, Chinese', 'Korean, Japanese, Chinese',\n",
       "       'Chinese, Asian Fusion, Japanese', 'Japanese, Chinese',\n",
       "       'Thai, Japanese', 'American, Mediterranean, Italian',\n",
       "       'Italian, Asian Fusion', 'Mediterranean, American',\n",
       "       'Japanese, Thai', 'Asian Fusion, Chinese, Thai',\n",
       "       'Mediterranean, Italian', 'Chinese, Asian Fusion, Mexican',\n",
       "       'Thai, Chinese, Asian Fusion', 'Mexican, Asian Fusion',\n",
       "       'Japanese, Chinese, Asian Fusion', 'Mexican, Asian Fusion, Korean',\n",
       "       'American, Japanese', 'Japanese, Asian Fusion, American',\n",
       "       'American, Chinese', 'Asian Fusion, Mexican, American',\n",
       "       'Chinese, Korean', 'American, Asian Fusion', 'Thai, Asian Fusion',\n",
       "       'Japanese, Korean, Asian Fusion', 'Asian Fusion, Korean',\n",
       "       'Asian Fusion, American', 'American, Thai, Chinese',\n",
       "       'Korean, American', 'Mediterranean, Italian, American',\n",
       "       'Chinese, Asian Fusion, Thai', 'Mediterranean, Asian Fusion',\n",
       "       'Italian, American, Mediterranean',\n",
       "       'Italian, Asian Fusion, American', 'Thai, Japanese, Asian Fusion',\n",
       "       'Thai, Asian Fusion, Japanese',\n",
       "       'Chinese, American, Thai, Asian Fusion',\n",
       "       'American, Korean, Asian Fusion', 'Mexican, American, Italian',\n",
       "       'Asian Fusion, Japanese, Chinese',\n",
       "       'Mexican, Chinese, Asian Fusion, American',\n",
       "       'Asian Fusion, American, Korean',\n",
       "       'American, Mediterranean, Asian Fusion',\n",
       "       'Asian Fusion, Thai, Chinese', 'Italian, Thai', 'Korean, Mexican',\n",
       "       'Mediterranean, American, Italian', 'Mexican, Korean',\n",
       "       'Korean, Japanese, Thai', 'Asian Fusion, Chinese, Japanese',\n",
       "       'Mexican, Italian, American, Asian Fusion',\n",
       "       'Korean, Japanese, Asian Fusion, American, Chinese',\n",
       "       'Korean, Asian Fusion, Japanese', 'Chinese, Korean, Japanese',\n",
       "       'Mexican, Asian Fusion, American',\n",
       "       'Asian Fusion, Mexican, Japanese',\n",
       "       'Thai, Korean, Chinese, Asian Fusion',\n",
       "       'American, Italian, Thai, Asian Fusion, Chinese',\n",
       "       'Mexican, Italian', 'Asian Fusion, Chinese, Korean',\n",
       "       'Mexican, Korean, Thai', 'Asian Fusion, Chinese, American',\n",
       "       'American, Italian, Mediterranean', 'American, Italian, Thai',\n",
       "       'Mexican, American, Chinese', 'Thai, Asian Fusion, Chinese',\n",
       "       'Asian Fusion, Korean, Mexican', 'Chinese, American',\n",
       "       'Italian, Mexican', 'Italian, Asian Fusion, Thai',\n",
       "       'Korean, Japanese, Asian Fusion', 'Asian Fusion, Korean, Japanese',\n",
       "       'Asian Fusion, Italian, American', 'Korean, Chinese, Asian Fusion',\n",
       "       'Mediterranean, Mexican', 'Asian Fusion, Italian',\n",
       "       'Korean, Chinese', 'Japanese, American, Asian Fusion',\n",
       "       'Thai, American', 'Korean, Japanese, Chinese, Asian Fusion',\n",
       "       'Thai, Mexican, Italian', 'Japanese, Asian Fusion, Thai',\n",
       "       'Thai, Chinese, Japanese', 'Mediterranean, Mexican, American',\n",
       "       'Mediterranean, Thai', 'Chinese, Japanese, Mexican, Asian Fusion',\n",
       "       'Mediterranean, Chinese', 'Mexican, Mediterranean',\n",
       "       'Japanese, Italian', 'Italian, Mediterranean, American',\n",
       "       'Chinese, Thai, Asian Fusion', 'Korean, Mexican, Japanese',\n",
       "       'Thai, Asian Fusion, Chinese, Korean',\n",
       "       'Japanese, Asian Fusion, Korean',\n",
       "       'Korean, Asian Fusion, Thai, Chinese', 'Mexican, Japanese',\n",
       "       'Italian, American, Mediterranean, Asian Fusion',\n",
       "       'Chinese, American, Asian Fusion', 'Asian Fusion, Thai, Japanese',\n",
       "       'American, Japanese, Mediterranean',\n",
       "       'Chinese, Japanese, Thai, Asian Fusion',\n",
       "       'Asian Fusion, Korean, Chinese', 'American, Thai',\n",
       "       'Asian Fusion, Chinese, Japanese, Thai',\n",
       "       'Japanese, American, Chinese', 'Asian Fusion, Thai, Korean',\n",
       "       'Japanese, American, Italian', 'Mexican, Italian, American',\n",
       "       'Asian Fusion, Thai, Japanese, Chinese', 'Japanese, Chinese, Thai',\n",
       "       'Japanese, Chinese, Mexican, Thai',\n",
       "       'American, Asian Fusion, Mediterranean',\n",
       "       'Asian Fusion, American, Japanese',\n",
       "       'Chinese, Japanese, Asian Fusion', 'Chinese, Mexican',\n",
       "       'Mediterranean, Asian Fusion, Italian, Chinese, American',\n",
       "       'Chinese, Mediterranean',\n",
       "       'Korean, Chinese, Japanese, Asian Fusion, Thai',\n",
       "       'Japanese, Korean, Chinese', 'Korean, Asian Fusion, American',\n",
       "       'Asian Fusion, Thai, Italian, American', 'Thai, Italian',\n",
       "       'Korean, Asian Fusion, Chinese, Japanese',\n",
       "       'Mexican, Asian Fusion, Mediterranean',\n",
       "       'American, Mediterranean, Mexican',\n",
       "       'Japanese, Asian Fusion, Chinese, American',\n",
       "       'Chinese, Japanese, Thai, Asian Fusion, Korean',\n",
       "       'Thai, Chinese, Korean', 'Chinese, Japanese, Asian Fusion, Thai',\n",
       "       'Asian Fusion, Japanese, Chinese, Korean',\n",
       "       'Japanese, Italian, Thai', 'Japanese, Korean, Thai, Asian Fusion',\n",
       "       'Japanese, Asian Fusion, Mexican, American',\n",
       "       'Thai, Korean, Asian Fusion',\n",
       "       'Thai, American, Italian, Mediterranean, Chinese, Asian Fusion',\n",
       "       'Mexican, Chinese', 'American, Asian Fusion, Japanese',\n",
       "       'American, Japanese, Korean, Asian Fusion',\n",
       "       'Italian, American, Asian Fusion', 'Japanese, Mexican',\n",
       "       'Korean, Asian Fusion, Chinese', 'Japanese, Korean, Chinese, Thai',\n",
       "       'Japanese, Chinese, Thai, Asian Fusion',\n",
       "       'Asian Fusion, Korean, Thai, Chinese',\n",
       "       'Mexican, Asian Fusion, Japanese',\n",
       "       'Mediterranean, American, Mexican',\n",
       "       'Asian Fusion, Mexican, Chinese',\n",
       "       'Chinese, Asian Fusion, Japanese, Thai', 'Chinese, Japanese, Thai',\n",
       "       'American, Mexican, Chinese', 'Chinese, Japanese, Korean',\n",
       "       'Mexican, Chinese, Asian Fusion', 'Asian Fusion, Italian, Chinese',\n",
       "       'Italian, Asian Fusion, Japanese', 'Japanese, Thai, Asian Fusion',\n",
       "       'Italian, Japanese, Asian Fusion', 'Chinese, Thai, Japanese',\n",
       "       'Japanese, Mexican, Asian Fusion',\n",
       "       'Thai, Asian Fusion, Chinese, Japanese',\n",
       "       'American, Italian, Asian Fusion', 'Chinese, Asian Fusion, Korean',\n",
       "       'American, Korean', 'Asian Fusion, Japanese, Korean, Chinese',\n",
       "       'Asian Fusion, American, Italian, Chinese, Thai',\n",
       "       'Asian Fusion, American, Mexican',\n",
       "       'Asian Fusion, Chinese, Japanese, Italian',\n",
       "       'Chinese, Italian, Japanese', 'Asian Fusion, Japanese, Thai',\n",
       "       'Asian Fusion, Japanese, Thai, Chinese',\n",
       "       'Korean, Chinese, Japanese',\n",
       "       'Chinese, Asian Fusion, Thai, Italian',\n",
       "       'Japanese, Mexican, Asian Fusion, Korean',\n",
       "       'Italian, American, Thai', 'Thai, Korean',\n",
       "       'American, Asian Fusion, Mexican, Chinese',\n",
       "       'American, Asian Fusion, Chinese',\n",
       "       'Asian Fusion, Chinese, Thai, Japanese',\n",
       "       'American, Asian Fusion, Mediterranean, Chinese, Italian',\n",
       "       'Chinese, Thai, Italian, Asian Fusion, American',\n",
       "       'American, Italian, Mexican', 'Italian, Mexican, Chinese',\n",
       "       'Japanese, American, Mexican, Asian Fusion',\n",
       "       'Chinese, Korean, Japanese, Asian Fusion',\n",
       "       'Japanese, Korean, Chinese, Asian Fusion',\n",
       "       'Thai, Japanese, Asian Fusion, Chinese',\n",
       "       'Italian, American, Chinese', 'Chinese, Thai, Korean',\n",
       "       'Mediterranean, American, Asian Fusion, Italian',\n",
       "       'Asian Fusion, Korean, American, Mexican',\n",
       "       'Japanese, Chinese, Korean',\n",
       "       'Chinese, Italian, Asian Fusion, Thai',\n",
       "       'Asian Fusion, Japanese, Mexican',\n",
       "       'Italian, Asian Fusion, Chinese, Japanese',\n",
       "       'Thai, Asian Fusion, Japanese, Chinese',\n",
       "       'Italian, American, Mexican',\n",
       "       'Chinese, Italian, Asian Fusion, Thai, American',\n",
       "       'Chinese, Japanese, Asian Fusion, Korean, Thai',\n",
       "       'Japanese, Asian Fusion, Mexican',\n",
       "       'Japanese, American, Mexican, Italian',\n",
       "       'American, Asian Fusion, Japanese, Chinese',\n",
       "       'American, Chinese, Asian Fusion',\n",
       "       'Asian Fusion, Japanese, Mediterranean, Chinese',\n",
       "       'Japanese, Korean, Thai', 'Asian Fusion, Mediterranean',\n",
       "       'Mexican, Japanese, Asian Fusion',\n",
       "       'Korean, American, Asian Fusion, Japanese',\n",
       "       'Thai, American, Asian Fusion, Korean, Chinese',\n",
       "       'Japanese, Chinese, American, Asian Fusion',\n",
       "       'American, Japanese, Asian Fusion', 'Japanese, Thai, Chinese',\n",
       "       'American, Mexican, Asian Fusion',\n",
       "       'Mexican, Chinese, Asian Fusion, Japanese',\n",
       "       'Asian Fusion, Japanese, Chinese, Thai',\n",
       "       'Italian, Mediterranean, Asian Fusion, Chinese, American',\n",
       "       'Chinese, American, Japanese'], dtype=object)"
      ]
     },
     "execution_count": 110,
     "metadata": {},
     "output_type": "execute_result"
    }
   ],
   "source": [
    "Rest_final['cuisine'].unique()"
   ]
  },
  {
   "cell_type": "code",
   "execution_count": 111,
   "metadata": {
    "pycharm": {
     "is_executing": false
    },
    "scrolled": true
   },
   "outputs": [],
   "source": [
    "Rest_final['cuisine'].iloc[np.where(Rest_final['cuisine'].str.contains('Asian Fusion'))]='Asian Fusion'"
   ]
  },
  {
   "cell_type": "code",
   "execution_count": 112,
   "metadata": {
    "pycharm": {
     "is_executing": false
    }
   },
   "outputs": [
    {
     "data": {
      "text/plain": [
       "array(['Chinese', 'Japanese', 'Mexican', 'Italian', 'Others',\n",
       "       'Italian, American', 'Korean', 'American', 'Italian, Japanese',\n",
       "       'Mediterranean', 'Thai', 'Asian Fusion', 'Chinese, Italian',\n",
       "       'Italian, Mediterranean', 'American, Mexican', 'Mexican, American',\n",
       "       'American, Mediterranean', 'American, Italian',\n",
       "       'Japanese, American', 'Chinese, Thai', 'Japanese, Korean',\n",
       "       'Korean, Thai', 'Thai, Chinese', 'Korean, Japanese',\n",
       "       'Chinese, Japanese', 'Thai, Japanese, Chinese',\n",
       "       'Korean, Japanese, Chinese', 'Japanese, Chinese', 'Thai, Japanese',\n",
       "       'American, Mediterranean, Italian', 'Mediterranean, American',\n",
       "       'Japanese, Thai', 'Mediterranean, Italian', 'American, Japanese',\n",
       "       'American, Chinese', 'Chinese, Korean', 'American, Thai, Chinese',\n",
       "       'Korean, American', 'Mediterranean, Italian, American',\n",
       "       'Italian, American, Mediterranean', 'Mexican, American, Italian',\n",
       "       'Italian, Thai', 'Korean, Mexican',\n",
       "       'Mediterranean, American, Italian', 'Mexican, Korean',\n",
       "       'Korean, Japanese, Thai', 'Chinese, Korean, Japanese',\n",
       "       'Mexican, Italian', 'Mexican, Korean, Thai',\n",
       "       'American, Italian, Mediterranean', 'American, Italian, Thai',\n",
       "       'Mexican, American, Chinese', 'Chinese, American',\n",
       "       'Italian, Mexican', 'Mediterranean, Mexican', 'Korean, Chinese',\n",
       "       'Thai, American', 'Thai, Mexican, Italian',\n",
       "       'Thai, Chinese, Japanese', 'Mediterranean, Mexican, American',\n",
       "       'Mediterranean, Thai', 'Mediterranean, Chinese',\n",
       "       'Mexican, Mediterranean', 'Japanese, Italian',\n",
       "       'Italian, Mediterranean, American', 'Korean, Mexican, Japanese',\n",
       "       'Mexican, Japanese', 'American, Japanese, Mediterranean',\n",
       "       'American, Thai', 'Japanese, American, Chinese',\n",
       "       'Japanese, American, Italian', 'Mexican, Italian, American',\n",
       "       'Japanese, Chinese, Thai', 'Japanese, Chinese, Mexican, Thai',\n",
       "       'Chinese, Mexican', 'Chinese, Mediterranean',\n",
       "       'Japanese, Korean, Chinese', 'Thai, Italian',\n",
       "       'American, Mediterranean, Mexican', 'Thai, Chinese, Korean',\n",
       "       'Japanese, Italian, Thai', 'Mexican, Chinese', 'Japanese, Mexican',\n",
       "       'Japanese, Korean, Chinese, Thai',\n",
       "       'Mediterranean, American, Mexican', 'Chinese, Japanese, Thai',\n",
       "       'American, Mexican, Chinese', 'Chinese, Japanese, Korean',\n",
       "       'Chinese, Thai, Japanese', 'American, Korean',\n",
       "       'Chinese, Italian, Japanese', 'Korean, Chinese, Japanese',\n",
       "       'Italian, American, Thai', 'Thai, Korean',\n",
       "       'American, Italian, Mexican', 'Italian, Mexican, Chinese',\n",
       "       'Italian, American, Chinese', 'Chinese, Thai, Korean',\n",
       "       'Japanese, Chinese, Korean', 'Italian, American, Mexican',\n",
       "       'Japanese, American, Mexican, Italian', 'Japanese, Korean, Thai',\n",
       "       'Japanese, Thai, Chinese', 'Chinese, American, Japanese'],\n",
       "      dtype=object)"
      ]
     },
     "execution_count": 112,
     "metadata": {},
     "output_type": "execute_result"
    }
   ],
   "source": [
    "Rest_final['cuisine'].unique()"
   ]
  },
  {
   "cell_type": "markdown",
   "metadata": {},
   "source": [
    "#### Analysis of messy data in the attribute column:"
   ]
  },
  {
   "cell_type": "markdown",
   "metadata": {},
   "source": [
    "To fix this issue where each item inside is a dictionary with values, attributes acts as a filter on Yelp that customers can click to identify the restaurant. For eg. Wifi = Yes would be selected (or tick marked) while making a selection on Yelp.\n",
    "\n",
    "We have split the atributes column with dictionary to different filters."
   ]
  },
  {
   "cell_type": "code",
   "execution_count": 113,
   "metadata": {
    "pycharm": {
     "is_executing": false
    }
   },
   "outputs": [
    {
     "data": {
      "text/plain": [
       "name                0\n",
       "business_id         0\n",
       "address             0\n",
       "categories          0\n",
       "postal_code         0\n",
       "attributes       2210\n",
       "hours           13995\n",
       "latitude            0\n",
       "longitude           0\n",
       "review_count        0\n",
       "stars               0\n",
       "city                0\n",
       "cuisine             0\n",
       "dtype: int64"
      ]
     },
     "execution_count": 113,
     "metadata": {},
     "output_type": "execute_result"
    }
   ],
   "source": [
    "Rest_final.isnull().sum()"
   ]
  },
  {
   "cell_type": "code",
   "execution_count": 114,
   "metadata": {
    "pycharm": {
     "is_executing": false
    }
   },
   "outputs": [
    {
     "data": {
      "text/html": [
       "<div>\n",
       "<style scoped>\n",
       "    .dataframe tbody tr th:only-of-type {\n",
       "        vertical-align: middle;\n",
       "    }\n",
       "\n",
       "    .dataframe tbody tr th {\n",
       "        vertical-align: top;\n",
       "    }\n",
       "\n",
       "    .dataframe thead th {\n",
       "        text-align: right;\n",
       "    }\n",
       "</style>\n",
       "<table border=\"1\" class=\"dataframe\">\n",
       "  <thead>\n",
       "    <tr style=\"text-align: right;\">\n",
       "      <th></th>\n",
       "      <th>0</th>\n",
       "      <th>AcceptsInsurance</th>\n",
       "      <th>AgesAllowed</th>\n",
       "      <th>Alcohol</th>\n",
       "      <th>Ambience</th>\n",
       "      <th>BYOB</th>\n",
       "      <th>BYOBCorkage</th>\n",
       "      <th>BestNights</th>\n",
       "      <th>BikeParking</th>\n",
       "      <th>BusinessAcceptsBitcoin</th>\n",
       "      <th>...</th>\n",
       "      <th>RestaurantsCounterService</th>\n",
       "      <th>RestaurantsDelivery</th>\n",
       "      <th>RestaurantsGoodForGroups</th>\n",
       "      <th>RestaurantsPriceRange2</th>\n",
       "      <th>RestaurantsReservations</th>\n",
       "      <th>RestaurantsTableService</th>\n",
       "      <th>RestaurantsTakeOut</th>\n",
       "      <th>Smoking</th>\n",
       "      <th>WheelchairAccessible</th>\n",
       "      <th>WiFi</th>\n",
       "    </tr>\n",
       "  </thead>\n",
       "  <tbody>\n",
       "    <tr>\n",
       "      <th>1</th>\n",
       "      <td>NaN</td>\n",
       "      <td>NaN</td>\n",
       "      <td>NaN</td>\n",
       "      <td>u'full_bar'</td>\n",
       "      <td>{'romantic': False, 'intimate': False, 'classy...</td>\n",
       "      <td>NaN</td>\n",
       "      <td>NaN</td>\n",
       "      <td>NaN</td>\n",
       "      <td>False</td>\n",
       "      <td>NaN</td>\n",
       "      <td>...</td>\n",
       "      <td>NaN</td>\n",
       "      <td>False</td>\n",
       "      <td>True</td>\n",
       "      <td>2</td>\n",
       "      <td>True</td>\n",
       "      <td>True</td>\n",
       "      <td>True</td>\n",
       "      <td>NaN</td>\n",
       "      <td>NaN</td>\n",
       "      <td>u'no'</td>\n",
       "    </tr>\n",
       "    <tr>\n",
       "      <th>2</th>\n",
       "      <td>NaN</td>\n",
       "      <td>NaN</td>\n",
       "      <td>NaN</td>\n",
       "      <td>u'beer_and_wine'</td>\n",
       "      <td>{'romantic': False, 'intimate': False, 'touris...</td>\n",
       "      <td>NaN</td>\n",
       "      <td>NaN</td>\n",
       "      <td>NaN</td>\n",
       "      <td>True</td>\n",
       "      <td>NaN</td>\n",
       "      <td>...</td>\n",
       "      <td>NaN</td>\n",
       "      <td>False</td>\n",
       "      <td>True</td>\n",
       "      <td>2</td>\n",
       "      <td>True</td>\n",
       "      <td>True</td>\n",
       "      <td>True</td>\n",
       "      <td>NaN</td>\n",
       "      <td>NaN</td>\n",
       "      <td>u'no'</td>\n",
       "    </tr>\n",
       "    <tr>\n",
       "      <th>3</th>\n",
       "      <td>NaN</td>\n",
       "      <td>NaN</td>\n",
       "      <td>NaN</td>\n",
       "      <td>u'none'</td>\n",
       "      <td>{'romantic': False, 'intimate': False, 'touris...</td>\n",
       "      <td>NaN</td>\n",
       "      <td>NaN</td>\n",
       "      <td>NaN</td>\n",
       "      <td>NaN</td>\n",
       "      <td>NaN</td>\n",
       "      <td>...</td>\n",
       "      <td>NaN</td>\n",
       "      <td>False</td>\n",
       "      <td>True</td>\n",
       "      <td>1</td>\n",
       "      <td>False</td>\n",
       "      <td>NaN</td>\n",
       "      <td>True</td>\n",
       "      <td>NaN</td>\n",
       "      <td>NaN</td>\n",
       "      <td>u'no'</td>\n",
       "    </tr>\n",
       "    <tr>\n",
       "      <th>4</th>\n",
       "      <td>NaN</td>\n",
       "      <td>NaN</td>\n",
       "      <td>NaN</td>\n",
       "      <td>u'none'</td>\n",
       "      <td>None</td>\n",
       "      <td>NaN</td>\n",
       "      <td>NaN</td>\n",
       "      <td>NaN</td>\n",
       "      <td>True</td>\n",
       "      <td>NaN</td>\n",
       "      <td>...</td>\n",
       "      <td>NaN</td>\n",
       "      <td>True</td>\n",
       "      <td>True</td>\n",
       "      <td>2</td>\n",
       "      <td>False</td>\n",
       "      <td>NaN</td>\n",
       "      <td>True</td>\n",
       "      <td>NaN</td>\n",
       "      <td>NaN</td>\n",
       "      <td>NaN</td>\n",
       "    </tr>\n",
       "    <tr>\n",
       "      <th>5</th>\n",
       "      <td>NaN</td>\n",
       "      <td>NaN</td>\n",
       "      <td>NaN</td>\n",
       "      <td>u'full_bar'</td>\n",
       "      <td>{'romantic': True, 'intimate': False, 'tourist...</td>\n",
       "      <td>NaN</td>\n",
       "      <td>'no'</td>\n",
       "      <td>NaN</td>\n",
       "      <td>NaN</td>\n",
       "      <td>NaN</td>\n",
       "      <td>...</td>\n",
       "      <td>NaN</td>\n",
       "      <td>False</td>\n",
       "      <td>True</td>\n",
       "      <td>2</td>\n",
       "      <td>True</td>\n",
       "      <td>NaN</td>\n",
       "      <td>True</td>\n",
       "      <td>NaN</td>\n",
       "      <td>NaN</td>\n",
       "      <td>u'no'</td>\n",
       "    </tr>\n",
       "  </tbody>\n",
       "</table>\n",
       "<p>5 rows × 40 columns</p>\n",
       "</div>"
      ],
      "text/plain": [
       "    0 AcceptsInsurance AgesAllowed           Alcohol  \\\n",
       "1 NaN              NaN         NaN       u'full_bar'   \n",
       "2 NaN              NaN         NaN  u'beer_and_wine'   \n",
       "3 NaN              NaN         NaN           u'none'   \n",
       "4 NaN              NaN         NaN           u'none'   \n",
       "5 NaN              NaN         NaN       u'full_bar'   \n",
       "\n",
       "                                            Ambience BYOB BYOBCorkage  \\\n",
       "1  {'romantic': False, 'intimate': False, 'classy...  NaN         NaN   \n",
       "2  {'romantic': False, 'intimate': False, 'touris...  NaN         NaN   \n",
       "3  {'romantic': False, 'intimate': False, 'touris...  NaN         NaN   \n",
       "4                                               None  NaN         NaN   \n",
       "5  {'romantic': True, 'intimate': False, 'tourist...  NaN        'no'   \n",
       "\n",
       "  BestNights BikeParking BusinessAcceptsBitcoin  ...  \\\n",
       "1        NaN       False                    NaN  ...   \n",
       "2        NaN        True                    NaN  ...   \n",
       "3        NaN         NaN                    NaN  ...   \n",
       "4        NaN        True                    NaN  ...   \n",
       "5        NaN         NaN                    NaN  ...   \n",
       "\n",
       "  RestaurantsCounterService RestaurantsDelivery RestaurantsGoodForGroups  \\\n",
       "1                       NaN               False                     True   \n",
       "2                       NaN               False                     True   \n",
       "3                       NaN               False                     True   \n",
       "4                       NaN                True                     True   \n",
       "5                       NaN               False                     True   \n",
       "\n",
       "  RestaurantsPriceRange2 RestaurantsReservations RestaurantsTableService  \\\n",
       "1                      2                    True                    True   \n",
       "2                      2                    True                    True   \n",
       "3                      1                   False                     NaN   \n",
       "4                      2                   False                     NaN   \n",
       "5                      2                    True                     NaN   \n",
       "\n",
       "  RestaurantsTakeOut Smoking WheelchairAccessible   WiFi  \n",
       "1               True     NaN                  NaN  u'no'  \n",
       "2               True     NaN                  NaN  u'no'  \n",
       "3               True     NaN                  NaN  u'no'  \n",
       "4               True     NaN                  NaN    NaN  \n",
       "5               True     NaN                  NaN  u'no'  \n",
       "\n",
       "[5 rows x 40 columns]"
      ]
     },
     "execution_count": 114,
     "metadata": {},
     "output_type": "execute_result"
    }
   ],
   "source": [
    "Rest_final['attributes'].apply(pd.Series).head()\n",
    "# Split the attributes dictionary into all its values"
   ]
  },
  {
   "cell_type": "markdown",
   "metadata": {},
   "source": [
    "#### Summary of actions:\n",
    "- Concatenating the attributes to the dataframe.\n",
    "- Since there are a lot of missing values in most of the columns, we have cherry-picked a few columns out of the list and included a few filters for our analysis.\n",
    "- Clean up of the WiFi column.\n",
    "- Clean up of the Alcohol column.\n",
    "\n",
    " "
   ]
  },
  {
   "cell_type": "code",
   "execution_count": 115,
   "metadata": {
    "pycharm": {
     "is_executing": false
    }
   },
   "outputs": [
    {
     "data": {
      "text/plain": [
       "[0,\n",
       " 'AcceptsInsurance',\n",
       " 'AgesAllowed',\n",
       " 'Alcohol',\n",
       " 'Ambience',\n",
       " 'BYOB',\n",
       " 'BYOBCorkage',\n",
       " 'BestNights',\n",
       " 'BikeParking',\n",
       " 'BusinessAcceptsBitcoin',\n",
       " 'BusinessAcceptsCreditCards',\n",
       " 'BusinessParking',\n",
       " 'ByAppointmentOnly',\n",
       " 'Caters',\n",
       " 'CoatCheck',\n",
       " 'Corkage',\n",
       " 'DietaryRestrictions',\n",
       " 'DogsAllowed',\n",
       " 'DriveThru',\n",
       " 'GoodForDancing',\n",
       " 'GoodForKids',\n",
       " 'GoodForMeal',\n",
       " 'HairSpecializesIn',\n",
       " 'HappyHour',\n",
       " 'HasTV',\n",
       " 'Music',\n",
       " 'NoiseLevel',\n",
       " 'Open24Hours',\n",
       " 'OutdoorSeating',\n",
       " 'RestaurantsAttire',\n",
       " 'RestaurantsCounterService',\n",
       " 'RestaurantsDelivery',\n",
       " 'RestaurantsGoodForGroups',\n",
       " 'RestaurantsPriceRange2',\n",
       " 'RestaurantsReservations',\n",
       " 'RestaurantsTableService',\n",
       " 'RestaurantsTakeOut',\n",
       " 'Smoking',\n",
       " 'WheelchairAccessible',\n",
       " 'WiFi']"
      ]
     },
     "execution_count": 115,
     "metadata": {},
     "output_type": "execute_result"
    }
   ],
   "source": [
    "R = Rest_final['attributes'].apply(pd.Series)\n",
    "list(R.columns)"
   ]
  },
  {
   "cell_type": "code",
   "execution_count": 116,
   "metadata": {
    "pycharm": {
     "is_executing": false
    }
   },
   "outputs": [
    {
     "data": {
      "text/html": [
       "<div>\n",
       "<style scoped>\n",
       "    .dataframe tbody tr th:only-of-type {\n",
       "        vertical-align: middle;\n",
       "    }\n",
       "\n",
       "    .dataframe tbody tr th {\n",
       "        vertical-align: top;\n",
       "    }\n",
       "\n",
       "    .dataframe thead th {\n",
       "        text-align: right;\n",
       "    }\n",
       "</style>\n",
       "<table border=\"1\" class=\"dataframe\">\n",
       "  <thead>\n",
       "    <tr style=\"text-align: right;\">\n",
       "      <th></th>\n",
       "      <th>name</th>\n",
       "      <th>business_id</th>\n",
       "      <th>address</th>\n",
       "      <th>categories</th>\n",
       "      <th>postal_code</th>\n",
       "      <th>hours</th>\n",
       "      <th>latitude</th>\n",
       "      <th>longitude</th>\n",
       "      <th>review_count</th>\n",
       "      <th>stars</th>\n",
       "      <th>...</th>\n",
       "      <th>RestaurantsCounterService</th>\n",
       "      <th>RestaurantsDelivery</th>\n",
       "      <th>RestaurantsGoodForGroups</th>\n",
       "      <th>RestaurantsPriceRange2</th>\n",
       "      <th>RestaurantsReservations</th>\n",
       "      <th>RestaurantsTableService</th>\n",
       "      <th>RestaurantsTakeOut</th>\n",
       "      <th>Smoking</th>\n",
       "      <th>WheelchairAccessible</th>\n",
       "      <th>WiFi</th>\n",
       "    </tr>\n",
       "  </thead>\n",
       "  <tbody>\n",
       "    <tr>\n",
       "      <th>1</th>\n",
       "      <td>Emerald Chinese Restaurant</td>\n",
       "      <td>QXAEGFB4oINsVuTFxEYKFQ</td>\n",
       "      <td>30 Eglinton Avenue W</td>\n",
       "      <td>Specialty Food, Restaurants, Dim Sum, Imported...</td>\n",
       "      <td>L5R 3E7</td>\n",
       "      <td>{'Monday': '9:0-0:0', 'Tuesday': '9:0-0:0', 'W...</td>\n",
       "      <td>43.605499</td>\n",
       "      <td>-79.652289</td>\n",
       "      <td>128</td>\n",
       "      <td>2.5</td>\n",
       "      <td>...</td>\n",
       "      <td>NaN</td>\n",
       "      <td>False</td>\n",
       "      <td>True</td>\n",
       "      <td>2</td>\n",
       "      <td>True</td>\n",
       "      <td>True</td>\n",
       "      <td>True</td>\n",
       "      <td>NaN</td>\n",
       "      <td>NaN</td>\n",
       "      <td>u'no'</td>\n",
       "    </tr>\n",
       "    <tr>\n",
       "      <th>2</th>\n",
       "      <td>Musashi Japanese Restaurant</td>\n",
       "      <td>gnKjwL_1w79qoiV3IC_xQQ</td>\n",
       "      <td>10110 Johnston Rd, Ste 15</td>\n",
       "      <td>Sushi Bars, Restaurants, Japanese</td>\n",
       "      <td>28210</td>\n",
       "      <td>{'Monday': '17:30-21:30', 'Wednesday': '17:30-...</td>\n",
       "      <td>35.092564</td>\n",
       "      <td>-80.859132</td>\n",
       "      <td>170</td>\n",
       "      <td>4.0</td>\n",
       "      <td>...</td>\n",
       "      <td>NaN</td>\n",
       "      <td>False</td>\n",
       "      <td>True</td>\n",
       "      <td>2</td>\n",
       "      <td>True</td>\n",
       "      <td>True</td>\n",
       "      <td>True</td>\n",
       "      <td>NaN</td>\n",
       "      <td>NaN</td>\n",
       "      <td>u'no'</td>\n",
       "    </tr>\n",
       "    <tr>\n",
       "      <th>3</th>\n",
       "      <td>Taco Bell</td>\n",
       "      <td>1Dfx3zM-rW4n-31KeC8sJg</td>\n",
       "      <td>2450 E Indian School Rd</td>\n",
       "      <td>Restaurants, Breakfast &amp; Brunch, Mexican, Taco...</td>\n",
       "      <td>85016</td>\n",
       "      <td>{'Monday': '7:0-0:0', 'Tuesday': '7:0-0:0', 'W...</td>\n",
       "      <td>33.495194</td>\n",
       "      <td>-112.028588</td>\n",
       "      <td>18</td>\n",
       "      <td>3.0</td>\n",
       "      <td>...</td>\n",
       "      <td>NaN</td>\n",
       "      <td>False</td>\n",
       "      <td>True</td>\n",
       "      <td>1</td>\n",
       "      <td>False</td>\n",
       "      <td>NaN</td>\n",
       "      <td>True</td>\n",
       "      <td>NaN</td>\n",
       "      <td>NaN</td>\n",
       "      <td>u'no'</td>\n",
       "    </tr>\n",
       "    <tr>\n",
       "      <th>4</th>\n",
       "      <td>Marco's Pizza</td>\n",
       "      <td>fweCYi8FmbJXHCqLnwuk8w</td>\n",
       "      <td>5981 Andrews Rd</td>\n",
       "      <td>Italian, Restaurants, Pizza, Chicken Wings</td>\n",
       "      <td>44060</td>\n",
       "      <td>{'Monday': '10:0-0:0', 'Tuesday': '10:0-0:0', ...</td>\n",
       "      <td>41.708520</td>\n",
       "      <td>-81.359556</td>\n",
       "      <td>16</td>\n",
       "      <td>4.0</td>\n",
       "      <td>...</td>\n",
       "      <td>NaN</td>\n",
       "      <td>True</td>\n",
       "      <td>True</td>\n",
       "      <td>2</td>\n",
       "      <td>False</td>\n",
       "      <td>NaN</td>\n",
       "      <td>True</td>\n",
       "      <td>NaN</td>\n",
       "      <td>NaN</td>\n",
       "      <td>NaN</td>\n",
       "    </tr>\n",
       "    <tr>\n",
       "      <th>5</th>\n",
       "      <td>Carluccio's Tivoli Gardens</td>\n",
       "      <td>PZ-LZzSlhSe9utkQYU8pFg</td>\n",
       "      <td>1775 E Tropicana Ave, Ste 29</td>\n",
       "      <td>Restaurants, Italian</td>\n",
       "      <td>89119</td>\n",
       "      <td>NaN</td>\n",
       "      <td>36.100016</td>\n",
       "      <td>-115.128529</td>\n",
       "      <td>40</td>\n",
       "      <td>4.0</td>\n",
       "      <td>...</td>\n",
       "      <td>NaN</td>\n",
       "      <td>False</td>\n",
       "      <td>True</td>\n",
       "      <td>2</td>\n",
       "      <td>True</td>\n",
       "      <td>NaN</td>\n",
       "      <td>True</td>\n",
       "      <td>NaN</td>\n",
       "      <td>NaN</td>\n",
       "      <td>u'no'</td>\n",
       "    </tr>\n",
       "  </tbody>\n",
       "</table>\n",
       "<p>5 rows × 52 columns</p>\n",
       "</div>"
      ],
      "text/plain": [
       "                          name             business_id  \\\n",
       "1   Emerald Chinese Restaurant  QXAEGFB4oINsVuTFxEYKFQ   \n",
       "2  Musashi Japanese Restaurant  gnKjwL_1w79qoiV3IC_xQQ   \n",
       "3                    Taco Bell  1Dfx3zM-rW4n-31KeC8sJg   \n",
       "4                Marco's Pizza  fweCYi8FmbJXHCqLnwuk8w   \n",
       "5   Carluccio's Tivoli Gardens  PZ-LZzSlhSe9utkQYU8pFg   \n",
       "\n",
       "                        address  \\\n",
       "1          30 Eglinton Avenue W   \n",
       "2     10110 Johnston Rd, Ste 15   \n",
       "3       2450 E Indian School Rd   \n",
       "4               5981 Andrews Rd   \n",
       "5  1775 E Tropicana Ave, Ste 29   \n",
       "\n",
       "                                          categories postal_code  \\\n",
       "1  Specialty Food, Restaurants, Dim Sum, Imported...     L5R 3E7   \n",
       "2                  Sushi Bars, Restaurants, Japanese       28210   \n",
       "3  Restaurants, Breakfast & Brunch, Mexican, Taco...       85016   \n",
       "4         Italian, Restaurants, Pizza, Chicken Wings       44060   \n",
       "5                               Restaurants, Italian       89119   \n",
       "\n",
       "                                               hours   latitude   longitude  \\\n",
       "1  {'Monday': '9:0-0:0', 'Tuesday': '9:0-0:0', 'W...  43.605499  -79.652289   \n",
       "2  {'Monday': '17:30-21:30', 'Wednesday': '17:30-...  35.092564  -80.859132   \n",
       "3  {'Monday': '7:0-0:0', 'Tuesday': '7:0-0:0', 'W...  33.495194 -112.028588   \n",
       "4  {'Monday': '10:0-0:0', 'Tuesday': '10:0-0:0', ...  41.708520  -81.359556   \n",
       "5                                                NaN  36.100016 -115.128529   \n",
       "\n",
       "   review_count  stars  ... RestaurantsCounterService RestaurantsDelivery  \\\n",
       "1           128    2.5  ...                       NaN               False   \n",
       "2           170    4.0  ...                       NaN               False   \n",
       "3            18    3.0  ...                       NaN               False   \n",
       "4            16    4.0  ...                       NaN                True   \n",
       "5            40    4.0  ...                       NaN               False   \n",
       "\n",
       "   RestaurantsGoodForGroups RestaurantsPriceRange2 RestaurantsReservations  \\\n",
       "1                      True                      2                    True   \n",
       "2                      True                      2                    True   \n",
       "3                      True                      1                   False   \n",
       "4                      True                      2                   False   \n",
       "5                      True                      2                    True   \n",
       "\n",
       "  RestaurantsTableService RestaurantsTakeOut Smoking WheelchairAccessible  \\\n",
       "1                    True               True     NaN                  NaN   \n",
       "2                    True               True     NaN                  NaN   \n",
       "3                     NaN               True     NaN                  NaN   \n",
       "4                     NaN               True     NaN                  NaN   \n",
       "5                     NaN               True     NaN                  NaN   \n",
       "\n",
       "    WiFi  \n",
       "1  u'no'  \n",
       "2  u'no'  \n",
       "3  u'no'  \n",
       "4    NaN  \n",
       "5  u'no'  \n",
       "\n",
       "[5 rows x 52 columns]"
      ]
     },
     "execution_count": 116,
     "metadata": {},
     "output_type": "execute_result"
    }
   ],
   "source": [
    "Rest_new = pd.concat([Rest_final.drop(['attributes'], axis=1), Rest_final['attributes'].apply(pd.Series)], axis=1)\n",
    "Rest_new.head()"
   ]
  },
  {
   "cell_type": "code",
   "execution_count": 117,
   "metadata": {
    "pycharm": {
     "is_executing": false
    }
   },
   "outputs": [],
   "source": [
    "Rest_new = Rest_new[['name', 'business_id', 'address', 'cuisine', 'postal_code','hours','latitude','longitude',\n",
    "                   'review_count','stars','OutdoorSeating','BusinessAcceptsCreditCards','RestaurantsDelivery',\n",
    "                   'RestaurantsReservations','WiFi','Alcohol','categories', 'city']]"
   ]
  },
  {
   "cell_type": "code",
   "execution_count": 118,
   "metadata": {
    "pycharm": {
     "is_executing": false
    }
   },
   "outputs": [
    {
     "data": {
      "text/plain": [
       "array([\"u'no'\", nan, \"u'free'\", \"'no'\", \"'free'\", \"u'paid'\", 'None',\n",
       "       \"'paid'\"], dtype=object)"
      ]
     },
     "execution_count": 118,
     "metadata": {},
     "output_type": "execute_result"
    }
   ],
   "source": [
    "Rest_new.fillna(value=pd.np.nan, inplace=True)\n",
    "Rest_new['WiFi'].unique()"
   ]
  },
  {
   "cell_type": "code",
   "execution_count": 119,
   "metadata": {
    "pycharm": {
     "is_executing": false
    }
   },
   "outputs": [
    {
     "data": {
      "text/plain": [
       "array(['No', nan, 'Free', \"u'paid'\", \"'paid'\"], dtype=object)"
      ]
     },
     "execution_count": 119,
     "metadata": {},
     "output_type": "execute_result"
    }
   ],
   "source": [
    "a=Rest_new['WiFi'].map(lambda x: 'No' if x in np.array([\"u'no'\", \"'no'\",'None']) else x)\n",
    "a=a.map(lambda x: 'Free' if x in np.array([\"'free'\", \"u'free'\"]) else x)\n",
    "a.unique()"
   ]
  },
  {
   "cell_type": "code",
   "execution_count": 120,
   "metadata": {
    "pycharm": {
     "is_executing": false
    }
   },
   "outputs": [
    {
     "data": {
      "text/plain": [
       "array(['No', nan, 'Free', 'Paid'], dtype=object)"
      ]
     },
     "execution_count": 120,
     "metadata": {},
     "output_type": "execute_result"
    }
   ],
   "source": [
    "a=a.map(lambda x: 'Paid' if x in np.array([\"'paid'\", \"u'paid'\"]) else x)\n",
    "a.unique()"
   ]
  },
  {
   "cell_type": "code",
   "execution_count": 121,
   "metadata": {
    "pycharm": {
     "is_executing": false
    }
   },
   "outputs": [],
   "source": [
    "Rest_new['WiFi']=a"
   ]
  },
  {
   "cell_type": "code",
   "execution_count": 122,
   "metadata": {
    "pycharm": {
     "is_executing": false
    }
   },
   "outputs": [
    {
     "data": {
      "text/plain": [
       "array([\"u'full_bar'\", \"u'beer_and_wine'\", \"u'none'\", nan, \"'none'\",\n",
       "       \"'beer_and_wine'\", \"'full_bar'\", 'None'], dtype=object)"
      ]
     },
     "execution_count": 122,
     "metadata": {},
     "output_type": "execute_result"
    }
   ],
   "source": [
    "Rest_new['Alcohol'].unique()"
   ]
  },
  {
   "cell_type": "code",
   "execution_count": 123,
   "metadata": {
    "pycharm": {
     "is_executing": false
    }
   },
   "outputs": [
    {
     "data": {
      "text/plain": [
       "array(['Full_Bar', \"u'beer_and_wine'\", \"u'none'\", nan, \"'none'\",\n",
       "       \"'beer_and_wine'\", 'None'], dtype=object)"
      ]
     },
     "execution_count": 123,
     "metadata": {},
     "output_type": "execute_result"
    }
   ],
   "source": [
    "Alc = Rest_new['Alcohol'].map(lambda x: 'Full_Bar' if x in np.array([\"u'full_bar'\", \"'full_bar'\"]) else x)\n",
    "Alc.unique()"
   ]
  },
  {
   "cell_type": "code",
   "execution_count": 124,
   "metadata": {
    "pycharm": {
     "is_executing": false
    }
   },
   "outputs": [
    {
     "data": {
      "text/plain": [
       "array(['Full_Bar', 'Beer&Wine', \"u'none'\", nan, \"'none'\", 'None'],\n",
       "      dtype=object)"
      ]
     },
     "execution_count": 124,
     "metadata": {},
     "output_type": "execute_result"
    }
   ],
   "source": [
    "Alc = Alc.map(lambda x: 'Beer&Wine' if x in np.array([\"u'beer_and_wine'\", \"'beer_and_wine'\"]) else x)\n",
    "Alc.unique()"
   ]
  },
  {
   "cell_type": "code",
   "execution_count": 125,
   "metadata": {
    "pycharm": {
     "is_executing": false
    }
   },
   "outputs": [
    {
     "data": {
      "text/plain": [
       "array(['Full_Bar', 'Beer&Wine', 'No', nan], dtype=object)"
      ]
     },
     "execution_count": 125,
     "metadata": {},
     "output_type": "execute_result"
    }
   ],
   "source": [
    "Alc = Alc.map(lambda x: 'No' if x in np.array([\"u'none'\", \"'none'\",'None']) else x)\n",
    "Alc.unique()"
   ]
  },
  {
   "cell_type": "markdown",
   "metadata": {},
   "source": [
    "###### Cleaned Version:"
   ]
  },
  {
   "cell_type": "code",
   "execution_count": 126,
   "metadata": {
    "pycharm": {
     "is_executing": false
    }
   },
   "outputs": [
    {
     "data": {
      "text/html": [
       "<div>\n",
       "<style scoped>\n",
       "    .dataframe tbody tr th:only-of-type {\n",
       "        vertical-align: middle;\n",
       "    }\n",
       "\n",
       "    .dataframe tbody tr th {\n",
       "        vertical-align: top;\n",
       "    }\n",
       "\n",
       "    .dataframe thead th {\n",
       "        text-align: right;\n",
       "    }\n",
       "</style>\n",
       "<table border=\"1\" class=\"dataframe\">\n",
       "  <thead>\n",
       "    <tr style=\"text-align: right;\">\n",
       "      <th></th>\n",
       "      <th>name</th>\n",
       "      <th>business_id</th>\n",
       "      <th>address</th>\n",
       "      <th>cuisine</th>\n",
       "      <th>postal_code</th>\n",
       "      <th>hours</th>\n",
       "      <th>latitude</th>\n",
       "      <th>longitude</th>\n",
       "      <th>review_count</th>\n",
       "      <th>stars</th>\n",
       "      <th>OutdoorSeating</th>\n",
       "      <th>BusinessAcceptsCreditCards</th>\n",
       "      <th>RestaurantsDelivery</th>\n",
       "      <th>RestaurantsReservations</th>\n",
       "      <th>WiFi</th>\n",
       "      <th>Alcohol</th>\n",
       "      <th>categories</th>\n",
       "      <th>city</th>\n",
       "    </tr>\n",
       "  </thead>\n",
       "  <tbody>\n",
       "    <tr>\n",
       "      <th>1</th>\n",
       "      <td>Emerald Chinese Restaurant</td>\n",
       "      <td>QXAEGFB4oINsVuTFxEYKFQ</td>\n",
       "      <td>30 Eglinton Avenue W</td>\n",
       "      <td>Chinese</td>\n",
       "      <td>L5R 3E7</td>\n",
       "      <td>{'Monday': '9:0-0:0', 'Tuesday': '9:0-0:0', 'W...</td>\n",
       "      <td>43.605499</td>\n",
       "      <td>-79.652289</td>\n",
       "      <td>128</td>\n",
       "      <td>2.5</td>\n",
       "      <td>False</td>\n",
       "      <td>NaN</td>\n",
       "      <td>False</td>\n",
       "      <td>True</td>\n",
       "      <td>No</td>\n",
       "      <td>Full_Bar</td>\n",
       "      <td>Specialty Food, Restaurants, Dim Sum, Imported...</td>\n",
       "      <td>Mississauga</td>\n",
       "    </tr>\n",
       "    <tr>\n",
       "      <th>2</th>\n",
       "      <td>Musashi Japanese Restaurant</td>\n",
       "      <td>gnKjwL_1w79qoiV3IC_xQQ</td>\n",
       "      <td>10110 Johnston Rd, Ste 15</td>\n",
       "      <td>Japanese</td>\n",
       "      <td>28210</td>\n",
       "      <td>{'Monday': '17:30-21:30', 'Wednesday': '17:30-...</td>\n",
       "      <td>35.092564</td>\n",
       "      <td>-80.859132</td>\n",
       "      <td>170</td>\n",
       "      <td>4.0</td>\n",
       "      <td>False</td>\n",
       "      <td>True</td>\n",
       "      <td>False</td>\n",
       "      <td>True</td>\n",
       "      <td>No</td>\n",
       "      <td>Beer&amp;Wine</td>\n",
       "      <td>Sushi Bars, Restaurants, Japanese</td>\n",
       "      <td>Charlotte</td>\n",
       "    </tr>\n",
       "    <tr>\n",
       "      <th>3</th>\n",
       "      <td>Taco Bell</td>\n",
       "      <td>1Dfx3zM-rW4n-31KeC8sJg</td>\n",
       "      <td>2450 E Indian School Rd</td>\n",
       "      <td>Mexican</td>\n",
       "      <td>85016</td>\n",
       "      <td>{'Monday': '7:0-0:0', 'Tuesday': '7:0-0:0', 'W...</td>\n",
       "      <td>33.495194</td>\n",
       "      <td>-112.028588</td>\n",
       "      <td>18</td>\n",
       "      <td>3.0</td>\n",
       "      <td>False</td>\n",
       "      <td>True</td>\n",
       "      <td>False</td>\n",
       "      <td>False</td>\n",
       "      <td>No</td>\n",
       "      <td>No</td>\n",
       "      <td>Restaurants, Breakfast &amp; Brunch, Mexican, Taco...</td>\n",
       "      <td>Phoenix</td>\n",
       "    </tr>\n",
       "    <tr>\n",
       "      <th>4</th>\n",
       "      <td>Marco's Pizza</td>\n",
       "      <td>fweCYi8FmbJXHCqLnwuk8w</td>\n",
       "      <td>5981 Andrews Rd</td>\n",
       "      <td>Italian</td>\n",
       "      <td>44060</td>\n",
       "      <td>{'Monday': '10:0-0:0', 'Tuesday': '10:0-0:0', ...</td>\n",
       "      <td>41.708520</td>\n",
       "      <td>-81.359556</td>\n",
       "      <td>16</td>\n",
       "      <td>4.0</td>\n",
       "      <td>False</td>\n",
       "      <td>True</td>\n",
       "      <td>True</td>\n",
       "      <td>False</td>\n",
       "      <td>NaN</td>\n",
       "      <td>No</td>\n",
       "      <td>Italian, Restaurants, Pizza, Chicken Wings</td>\n",
       "      <td>Mentor-on-the-Lake</td>\n",
       "    </tr>\n",
       "    <tr>\n",
       "      <th>5</th>\n",
       "      <td>Carluccio's Tivoli Gardens</td>\n",
       "      <td>PZ-LZzSlhSe9utkQYU8pFg</td>\n",
       "      <td>1775 E Tropicana Ave, Ste 29</td>\n",
       "      <td>Italian</td>\n",
       "      <td>89119</td>\n",
       "      <td>NaN</td>\n",
       "      <td>36.100016</td>\n",
       "      <td>-115.128529</td>\n",
       "      <td>40</td>\n",
       "      <td>4.0</td>\n",
       "      <td>False</td>\n",
       "      <td>True</td>\n",
       "      <td>False</td>\n",
       "      <td>True</td>\n",
       "      <td>No</td>\n",
       "      <td>Full_Bar</td>\n",
       "      <td>Restaurants, Italian</td>\n",
       "      <td>Las Vegas</td>\n",
       "    </tr>\n",
       "  </tbody>\n",
       "</table>\n",
       "</div>"
      ],
      "text/plain": [
       "                          name             business_id  \\\n",
       "1   Emerald Chinese Restaurant  QXAEGFB4oINsVuTFxEYKFQ   \n",
       "2  Musashi Japanese Restaurant  gnKjwL_1w79qoiV3IC_xQQ   \n",
       "3                    Taco Bell  1Dfx3zM-rW4n-31KeC8sJg   \n",
       "4                Marco's Pizza  fweCYi8FmbJXHCqLnwuk8w   \n",
       "5   Carluccio's Tivoli Gardens  PZ-LZzSlhSe9utkQYU8pFg   \n",
       "\n",
       "                        address   cuisine postal_code  \\\n",
       "1          30 Eglinton Avenue W   Chinese     L5R 3E7   \n",
       "2     10110 Johnston Rd, Ste 15  Japanese       28210   \n",
       "3       2450 E Indian School Rd   Mexican       85016   \n",
       "4               5981 Andrews Rd   Italian       44060   \n",
       "5  1775 E Tropicana Ave, Ste 29   Italian       89119   \n",
       "\n",
       "                                               hours   latitude   longitude  \\\n",
       "1  {'Monday': '9:0-0:0', 'Tuesday': '9:0-0:0', 'W...  43.605499  -79.652289   \n",
       "2  {'Monday': '17:30-21:30', 'Wednesday': '17:30-...  35.092564  -80.859132   \n",
       "3  {'Monday': '7:0-0:0', 'Tuesday': '7:0-0:0', 'W...  33.495194 -112.028588   \n",
       "4  {'Monday': '10:0-0:0', 'Tuesday': '10:0-0:0', ...  41.708520  -81.359556   \n",
       "5                                                NaN  36.100016 -115.128529   \n",
       "\n",
       "   review_count  stars OutdoorSeating BusinessAcceptsCreditCards  \\\n",
       "1           128    2.5          False                        NaN   \n",
       "2           170    4.0          False                       True   \n",
       "3            18    3.0          False                       True   \n",
       "4            16    4.0          False                       True   \n",
       "5            40    4.0          False                       True   \n",
       "\n",
       "  RestaurantsDelivery RestaurantsReservations WiFi    Alcohol  \\\n",
       "1               False                    True   No   Full_Bar   \n",
       "2               False                    True   No  Beer&Wine   \n",
       "3               False                   False   No         No   \n",
       "4                True                   False  NaN         No   \n",
       "5               False                    True   No   Full_Bar   \n",
       "\n",
       "                                          categories                city  \n",
       "1  Specialty Food, Restaurants, Dim Sum, Imported...         Mississauga  \n",
       "2                  Sushi Bars, Restaurants, Japanese           Charlotte  \n",
       "3  Restaurants, Breakfast & Brunch, Mexican, Taco...             Phoenix  \n",
       "4         Italian, Restaurants, Pizza, Chicken Wings  Mentor-on-the-Lake  \n",
       "5                               Restaurants, Italian           Las Vegas  "
      ]
     },
     "execution_count": 126,
     "metadata": {},
     "output_type": "execute_result"
    }
   ],
   "source": [
    "Rest_new['Alcohol'] = Alc\n",
    "Rest_new.head()"
   ]
  },
  {
   "cell_type": "markdown",
   "metadata": {},
   "source": [
    "### Splitting up restaurant hours:"
   ]
  },
  {
   "cell_type": "markdown",
   "metadata": {},
   "source": [
    "Summary of Actions:\n",
    "\n",
    "- Clean up hours to split into multiple columns regarding to open and close time of each day.\n",
    "- Check if every restaurant open and close once per day.\n",
    "- Use the defined function to split keys(days) and values (hours) of hours dictionary for later information extraction."
   ]
  },
  {
   "cell_type": "code",
   "execution_count": 127,
   "metadata": {
    "pycharm": {
     "is_executing": false
    }
   },
   "outputs": [
    {
     "name": "stdout",
     "output_type": "stream",
     "text": [
      "7    34043\n",
      "6     8181\n",
      "5     2632\n",
      "4      233\n",
      "3      128\n",
      "2       89\n",
      "1       70\n",
      "Name: hours, dtype: int64\n"
     ]
    }
   ],
   "source": [
    "print(Rest_new['hours'][Rest_new['hours'].notnull()].map(lambda x: x.values()).map(len).sort_values().value_counts())"
   ]
  },
  {
   "cell_type": "code",
   "execution_count": 128,
   "metadata": {
    "pycharm": {
     "is_executing": false
    }
   },
   "outputs": [],
   "source": [
    "def merge(x,y):\n",
    "    result = []\n",
    "    try:\n",
    "        for i in x:\n",
    "            index = x.index(i)\n",
    "            result.append(i)\n",
    "            result.append(y[index])\n",
    "        return result\n",
    "    except TypeError:\n",
    "        result = [np.NaN, np.NaN]"
   ]
  },
  {
   "cell_type": "code",
   "execution_count": 129,
   "metadata": {
    "pycharm": {
     "is_executing": false
    }
   },
   "outputs": [],
   "source": [
    "Rest_new['business_days']=Rest_new['hours'][Rest_new['hours'].notnull()].map(lambda x:list(x.keys()))\n",
    "Rest_new['business_hours']=Rest_new['hours'][Rest_new['hours'].notnull()].map(lambda x:list(x.values()))\n",
    "Rest_new['hours_day'] = Rest_new.apply(lambda row: merge(row['business_days'], row['business_hours']), axis=1)"
   ]
  },
  {
   "cell_type": "code",
   "execution_count": 130,
   "metadata": {
    "pycharm": {
     "is_executing": false
    }
   },
   "outputs": [
    {
     "data": {
      "text/html": [
       "<div>\n",
       "<style scoped>\n",
       "    .dataframe tbody tr th:only-of-type {\n",
       "        vertical-align: middle;\n",
       "    }\n",
       "\n",
       "    .dataframe tbody tr th {\n",
       "        vertical-align: top;\n",
       "    }\n",
       "\n",
       "    .dataframe thead th {\n",
       "        text-align: right;\n",
       "    }\n",
       "</style>\n",
       "<table border=\"1\" class=\"dataframe\">\n",
       "  <thead>\n",
       "    <tr style=\"text-align: right;\">\n",
       "      <th></th>\n",
       "      <th>name</th>\n",
       "      <th>business_id</th>\n",
       "      <th>address</th>\n",
       "      <th>cuisine</th>\n",
       "      <th>postal_code</th>\n",
       "      <th>hours</th>\n",
       "      <th>latitude</th>\n",
       "      <th>longitude</th>\n",
       "      <th>review_count</th>\n",
       "      <th>stars</th>\n",
       "      <th>...</th>\n",
       "      <th>BusinessAcceptsCreditCards</th>\n",
       "      <th>RestaurantsDelivery</th>\n",
       "      <th>RestaurantsReservations</th>\n",
       "      <th>WiFi</th>\n",
       "      <th>Alcohol</th>\n",
       "      <th>categories</th>\n",
       "      <th>city</th>\n",
       "      <th>business_days</th>\n",
       "      <th>business_hours</th>\n",
       "      <th>hours_day</th>\n",
       "    </tr>\n",
       "  </thead>\n",
       "  <tbody>\n",
       "    <tr>\n",
       "      <th>1</th>\n",
       "      <td>Emerald Chinese Restaurant</td>\n",
       "      <td>QXAEGFB4oINsVuTFxEYKFQ</td>\n",
       "      <td>30 Eglinton Avenue W</td>\n",
       "      <td>Chinese</td>\n",
       "      <td>L5R 3E7</td>\n",
       "      <td>{'Monday': '9:0-0:0', 'Tuesday': '9:0-0:0', 'W...</td>\n",
       "      <td>43.605499</td>\n",
       "      <td>-79.652289</td>\n",
       "      <td>128</td>\n",
       "      <td>2.5</td>\n",
       "      <td>...</td>\n",
       "      <td>NaN</td>\n",
       "      <td>False</td>\n",
       "      <td>True</td>\n",
       "      <td>No</td>\n",
       "      <td>Full_Bar</td>\n",
       "      <td>Specialty Food, Restaurants, Dim Sum, Imported...</td>\n",
       "      <td>Mississauga</td>\n",
       "      <td>[Monday, Tuesday, Wednesday, Thursday, Friday,...</td>\n",
       "      <td>[9:0-0:0, 9:0-0:0, 9:0-0:0, 9:0-0:0, 9:0-1:0, ...</td>\n",
       "      <td>[Monday, 9:0-0:0, Tuesday, 9:0-0:0, Wednesday,...</td>\n",
       "    </tr>\n",
       "    <tr>\n",
       "      <th>2</th>\n",
       "      <td>Musashi Japanese Restaurant</td>\n",
       "      <td>gnKjwL_1w79qoiV3IC_xQQ</td>\n",
       "      <td>10110 Johnston Rd, Ste 15</td>\n",
       "      <td>Japanese</td>\n",
       "      <td>28210</td>\n",
       "      <td>{'Monday': '17:30-21:30', 'Wednesday': '17:30-...</td>\n",
       "      <td>35.092564</td>\n",
       "      <td>-80.859132</td>\n",
       "      <td>170</td>\n",
       "      <td>4.0</td>\n",
       "      <td>...</td>\n",
       "      <td>True</td>\n",
       "      <td>False</td>\n",
       "      <td>True</td>\n",
       "      <td>No</td>\n",
       "      <td>Beer&amp;Wine</td>\n",
       "      <td>Sushi Bars, Restaurants, Japanese</td>\n",
       "      <td>Charlotte</td>\n",
       "      <td>[Monday, Wednesday, Thursday, Friday, Saturday...</td>\n",
       "      <td>[17:30-21:30, 17:30-21:30, 17:30-21:30, 17:30-...</td>\n",
       "      <td>[Monday, 17:30-21:30, Wednesday, 17:30-21:30, ...</td>\n",
       "    </tr>\n",
       "    <tr>\n",
       "      <th>3</th>\n",
       "      <td>Taco Bell</td>\n",
       "      <td>1Dfx3zM-rW4n-31KeC8sJg</td>\n",
       "      <td>2450 E Indian School Rd</td>\n",
       "      <td>Mexican</td>\n",
       "      <td>85016</td>\n",
       "      <td>{'Monday': '7:0-0:0', 'Tuesday': '7:0-0:0', 'W...</td>\n",
       "      <td>33.495194</td>\n",
       "      <td>-112.028588</td>\n",
       "      <td>18</td>\n",
       "      <td>3.0</td>\n",
       "      <td>...</td>\n",
       "      <td>True</td>\n",
       "      <td>False</td>\n",
       "      <td>False</td>\n",
       "      <td>No</td>\n",
       "      <td>No</td>\n",
       "      <td>Restaurants, Breakfast &amp; Brunch, Mexican, Taco...</td>\n",
       "      <td>Phoenix</td>\n",
       "      <td>[Monday, Tuesday, Wednesday, Thursday, Friday,...</td>\n",
       "      <td>[7:0-0:0, 7:0-0:0, 7:0-0:0, 7:0-1:0, 7:0-1:0, ...</td>\n",
       "      <td>[Monday, 7:0-0:0, Tuesday, 7:0-0:0, Wednesday,...</td>\n",
       "    </tr>\n",
       "    <tr>\n",
       "      <th>4</th>\n",
       "      <td>Marco's Pizza</td>\n",
       "      <td>fweCYi8FmbJXHCqLnwuk8w</td>\n",
       "      <td>5981 Andrews Rd</td>\n",
       "      <td>Italian</td>\n",
       "      <td>44060</td>\n",
       "      <td>{'Monday': '10:0-0:0', 'Tuesday': '10:0-0:0', ...</td>\n",
       "      <td>41.708520</td>\n",
       "      <td>-81.359556</td>\n",
       "      <td>16</td>\n",
       "      <td>4.0</td>\n",
       "      <td>...</td>\n",
       "      <td>True</td>\n",
       "      <td>True</td>\n",
       "      <td>False</td>\n",
       "      <td>NaN</td>\n",
       "      <td>No</td>\n",
       "      <td>Italian, Restaurants, Pizza, Chicken Wings</td>\n",
       "      <td>Mentor-on-the-Lake</td>\n",
       "      <td>[Monday, Tuesday, Wednesday, Thursday, Friday,...</td>\n",
       "      <td>[10:0-0:0, 10:0-0:0, 10:0-0:0, 10:0-0:0, 10:0-...</td>\n",
       "      <td>[Monday, 10:0-0:0, Tuesday, 10:0-0:0, Wednesda...</td>\n",
       "    </tr>\n",
       "    <tr>\n",
       "      <th>5</th>\n",
       "      <td>Carluccio's Tivoli Gardens</td>\n",
       "      <td>PZ-LZzSlhSe9utkQYU8pFg</td>\n",
       "      <td>1775 E Tropicana Ave, Ste 29</td>\n",
       "      <td>Italian</td>\n",
       "      <td>89119</td>\n",
       "      <td>NaN</td>\n",
       "      <td>36.100016</td>\n",
       "      <td>-115.128529</td>\n",
       "      <td>40</td>\n",
       "      <td>4.0</td>\n",
       "      <td>...</td>\n",
       "      <td>True</td>\n",
       "      <td>False</td>\n",
       "      <td>True</td>\n",
       "      <td>No</td>\n",
       "      <td>Full_Bar</td>\n",
       "      <td>Restaurants, Italian</td>\n",
       "      <td>Las Vegas</td>\n",
       "      <td>NaN</td>\n",
       "      <td>NaN</td>\n",
       "      <td>None</td>\n",
       "    </tr>\n",
       "    <tr>\n",
       "      <th>6</th>\n",
       "      <td>Marathon Diner</td>\n",
       "      <td>1RHY4K3BD22FK7Cfftn8Mg</td>\n",
       "      <td>Center Core - Food Court, Fl 3, Pittsburgh Int...</td>\n",
       "      <td>Others</td>\n",
       "      <td>15231</td>\n",
       "      <td>NaN</td>\n",
       "      <td>40.496177</td>\n",
       "      <td>-80.246011</td>\n",
       "      <td>35</td>\n",
       "      <td>4.0</td>\n",
       "      <td>...</td>\n",
       "      <td>True</td>\n",
       "      <td>False</td>\n",
       "      <td>False</td>\n",
       "      <td>NaN</td>\n",
       "      <td>NaN</td>\n",
       "      <td>Sandwiches, Salad, Restaurants, Burgers, Comfo...</td>\n",
       "      <td>Pittsburgh</td>\n",
       "      <td>NaN</td>\n",
       "      <td>NaN</td>\n",
       "      <td>None</td>\n",
       "    </tr>\n",
       "    <tr>\n",
       "      <th>7</th>\n",
       "      <td>Maria's Mexican Restaurant &amp; Bakery</td>\n",
       "      <td>tstimHoMcYbkSC4eBA1wEg</td>\n",
       "      <td>6055 E Lake Mead Blvd</td>\n",
       "      <td>Mexican</td>\n",
       "      <td>89156</td>\n",
       "      <td>{'Monday': '11:0-21:0', 'Tuesday': '10:0-21:0'...</td>\n",
       "      <td>36.195615</td>\n",
       "      <td>-115.040529</td>\n",
       "      <td>184</td>\n",
       "      <td>4.5</td>\n",
       "      <td>...</td>\n",
       "      <td>True</td>\n",
       "      <td>False</td>\n",
       "      <td>False</td>\n",
       "      <td>No</td>\n",
       "      <td>Beer&amp;Wine</td>\n",
       "      <td>Mexican, Restaurants, Patisserie/Cake Shop, Fo...</td>\n",
       "      <td>Las Vegas</td>\n",
       "      <td>[Monday, Tuesday, Wednesday, Thursday, Friday,...</td>\n",
       "      <td>[11:0-21:0, 10:0-21:0, 10:0-21:0, 10:0-21:0, 1...</td>\n",
       "      <td>[Monday, 11:0-21:0, Tuesday, 10:0-21:0, Wednes...</td>\n",
       "    </tr>\n",
       "    <tr>\n",
       "      <th>8</th>\n",
       "      <td>Bolt Fresh Bar</td>\n",
       "      <td>NDuUMJfrWk52RA-H-OtrpA</td>\n",
       "      <td>1170 Queen Street W</td>\n",
       "      <td>Others</td>\n",
       "      <td>M6J 1J5</td>\n",
       "      <td>{'Monday': '8:0-21:0', 'Tuesday': '8:0-21:0', ...</td>\n",
       "      <td>43.642889</td>\n",
       "      <td>-79.425429</td>\n",
       "      <td>57</td>\n",
       "      <td>3.0</td>\n",
       "      <td>...</td>\n",
       "      <td>NaN</td>\n",
       "      <td>NaN</td>\n",
       "      <td>NaN</td>\n",
       "      <td>No</td>\n",
       "      <td>NaN</td>\n",
       "      <td>Juice Bars &amp; Smoothies, Food, Restaurants, Fas...</td>\n",
       "      <td>Toronto</td>\n",
       "      <td>[Monday, Tuesday, Wednesday, Thursday, Friday,...</td>\n",
       "      <td>[8:0-21:0, 8:0-21:0, 8:0-21:0, 8:0-21:0, 8:0-2...</td>\n",
       "      <td>[Monday, 8:0-21:0, Tuesday, 8:0-21:0, Wednesda...</td>\n",
       "    </tr>\n",
       "    <tr>\n",
       "      <th>9</th>\n",
       "      <td>The Steady Cafe &amp; Bar</td>\n",
       "      <td>SP_YXIEwkFPPl_9anCYmpQ</td>\n",
       "      <td>1051 Bloor Street W</td>\n",
       "      <td>Others</td>\n",
       "      <td>M6H 1M4</td>\n",
       "      <td>{'Tuesday': '9:0-18:0', 'Wednesday': '9:0-18:0...</td>\n",
       "      <td>43.660494</td>\n",
       "      <td>-79.432099</td>\n",
       "      <td>29</td>\n",
       "      <td>3.5</td>\n",
       "      <td>...</td>\n",
       "      <td>NaN</td>\n",
       "      <td>False</td>\n",
       "      <td>True</td>\n",
       "      <td>Free</td>\n",
       "      <td>Full_Bar</td>\n",
       "      <td>Restaurants, Nightlife, Breakfast &amp; Brunch, Ve...</td>\n",
       "      <td>Toronto</td>\n",
       "      <td>[Tuesday, Wednesday, Thursday, Friday, Saturda...</td>\n",
       "      <td>[9:0-18:0, 9:0-18:0, 9:0-18:0, 9:0-2:0, 10:0-2...</td>\n",
       "      <td>[Tuesday, 9:0-18:0, Wednesday, 9:0-18:0, Thurs...</td>\n",
       "    </tr>\n",
       "    <tr>\n",
       "      <th>10</th>\n",
       "      <td>Manzetti's Tavern</td>\n",
       "      <td>BvYU3jvGd0TJ7IyZdfiN2Q</td>\n",
       "      <td>6401 Morrison Blvd</td>\n",
       "      <td>Italian, American</td>\n",
       "      <td>28211</td>\n",
       "      <td>{'Monday': '11:0-22:0', 'Tuesday': '11:0-22:0'...</td>\n",
       "      <td>35.156338</td>\n",
       "      <td>-80.831878</td>\n",
       "      <td>16</td>\n",
       "      <td>3.5</td>\n",
       "      <td>...</td>\n",
       "      <td>True</td>\n",
       "      <td>False</td>\n",
       "      <td>True</td>\n",
       "      <td>NaN</td>\n",
       "      <td>Full_Bar</td>\n",
       "      <td>Sandwiches, Italian, American (Traditional), A...</td>\n",
       "      <td>Charlotte</td>\n",
       "      <td>[Monday, Tuesday, Wednesday, Thursday, Friday,...</td>\n",
       "      <td>[11:0-22:0, 11:0-22:0, 11:0-23:0, 11:0-23:0, 1...</td>\n",
       "      <td>[Monday, 11:0-22:0, Tuesday, 11:0-22:0, Wednes...</td>\n",
       "    </tr>\n",
       "  </tbody>\n",
       "</table>\n",
       "<p>10 rows × 21 columns</p>\n",
       "</div>"
      ],
      "text/plain": [
       "                                   name             business_id  \\\n",
       "1            Emerald Chinese Restaurant  QXAEGFB4oINsVuTFxEYKFQ   \n",
       "2           Musashi Japanese Restaurant  gnKjwL_1w79qoiV3IC_xQQ   \n",
       "3                             Taco Bell  1Dfx3zM-rW4n-31KeC8sJg   \n",
       "4                         Marco's Pizza  fweCYi8FmbJXHCqLnwuk8w   \n",
       "5            Carluccio's Tivoli Gardens  PZ-LZzSlhSe9utkQYU8pFg   \n",
       "6                        Marathon Diner  1RHY4K3BD22FK7Cfftn8Mg   \n",
       "7   Maria's Mexican Restaurant & Bakery  tstimHoMcYbkSC4eBA1wEg   \n",
       "8                        Bolt Fresh Bar  NDuUMJfrWk52RA-H-OtrpA   \n",
       "9                 The Steady Cafe & Bar  SP_YXIEwkFPPl_9anCYmpQ   \n",
       "10                    Manzetti's Tavern  BvYU3jvGd0TJ7IyZdfiN2Q   \n",
       "\n",
       "                                              address            cuisine  \\\n",
       "1                                30 Eglinton Avenue W            Chinese   \n",
       "2                           10110 Johnston Rd, Ste 15           Japanese   \n",
       "3                             2450 E Indian School Rd            Mexican   \n",
       "4                                     5981 Andrews Rd            Italian   \n",
       "5                        1775 E Tropicana Ave, Ste 29            Italian   \n",
       "6   Center Core - Food Court, Fl 3, Pittsburgh Int...             Others   \n",
       "7                               6055 E Lake Mead Blvd            Mexican   \n",
       "8                                 1170 Queen Street W             Others   \n",
       "9                                 1051 Bloor Street W             Others   \n",
       "10                                 6401 Morrison Blvd  Italian, American   \n",
       "\n",
       "   postal_code                                              hours   latitude  \\\n",
       "1      L5R 3E7  {'Monday': '9:0-0:0', 'Tuesday': '9:0-0:0', 'W...  43.605499   \n",
       "2        28210  {'Monday': '17:30-21:30', 'Wednesday': '17:30-...  35.092564   \n",
       "3        85016  {'Monday': '7:0-0:0', 'Tuesday': '7:0-0:0', 'W...  33.495194   \n",
       "4        44060  {'Monday': '10:0-0:0', 'Tuesday': '10:0-0:0', ...  41.708520   \n",
       "5        89119                                                NaN  36.100016   \n",
       "6        15231                                                NaN  40.496177   \n",
       "7        89156  {'Monday': '11:0-21:0', 'Tuesday': '10:0-21:0'...  36.195615   \n",
       "8      M6J 1J5  {'Monday': '8:0-21:0', 'Tuesday': '8:0-21:0', ...  43.642889   \n",
       "9      M6H 1M4  {'Tuesday': '9:0-18:0', 'Wednesday': '9:0-18:0...  43.660494   \n",
       "10       28211  {'Monday': '11:0-22:0', 'Tuesday': '11:0-22:0'...  35.156338   \n",
       "\n",
       "     longitude  review_count  stars  ... BusinessAcceptsCreditCards  \\\n",
       "1   -79.652289           128    2.5  ...                        NaN   \n",
       "2   -80.859132           170    4.0  ...                       True   \n",
       "3  -112.028588            18    3.0  ...                       True   \n",
       "4   -81.359556            16    4.0  ...                       True   \n",
       "5  -115.128529            40    4.0  ...                       True   \n",
       "6   -80.246011            35    4.0  ...                       True   \n",
       "7  -115.040529           184    4.5  ...                       True   \n",
       "8   -79.425429            57    3.0  ...                        NaN   \n",
       "9   -79.432099            29    3.5  ...                        NaN   \n",
       "10  -80.831878            16    3.5  ...                       True   \n",
       "\n",
       "   RestaurantsDelivery RestaurantsReservations  WiFi    Alcohol  \\\n",
       "1                False                    True    No   Full_Bar   \n",
       "2                False                    True    No  Beer&Wine   \n",
       "3                False                   False    No         No   \n",
       "4                 True                   False   NaN         No   \n",
       "5                False                    True    No   Full_Bar   \n",
       "6                False                   False   NaN        NaN   \n",
       "7                False                   False    No  Beer&Wine   \n",
       "8                  NaN                     NaN    No        NaN   \n",
       "9                False                    True  Free   Full_Bar   \n",
       "10               False                    True   NaN   Full_Bar   \n",
       "\n",
       "                                           categories                city  \\\n",
       "1   Specialty Food, Restaurants, Dim Sum, Imported...         Mississauga   \n",
       "2                   Sushi Bars, Restaurants, Japanese           Charlotte   \n",
       "3   Restaurants, Breakfast & Brunch, Mexican, Taco...             Phoenix   \n",
       "4          Italian, Restaurants, Pizza, Chicken Wings  Mentor-on-the-Lake   \n",
       "5                                Restaurants, Italian           Las Vegas   \n",
       "6   Sandwiches, Salad, Restaurants, Burgers, Comfo...          Pittsburgh   \n",
       "7   Mexican, Restaurants, Patisserie/Cake Shop, Fo...           Las Vegas   \n",
       "8   Juice Bars & Smoothies, Food, Restaurants, Fas...             Toronto   \n",
       "9   Restaurants, Nightlife, Breakfast & Brunch, Ve...             Toronto   \n",
       "10  Sandwiches, Italian, American (Traditional), A...           Charlotte   \n",
       "\n",
       "                                        business_days  \\\n",
       "1   [Monday, Tuesday, Wednesday, Thursday, Friday,...   \n",
       "2   [Monday, Wednesday, Thursday, Friday, Saturday...   \n",
       "3   [Monday, Tuesday, Wednesday, Thursday, Friday,...   \n",
       "4   [Monday, Tuesday, Wednesday, Thursday, Friday,...   \n",
       "5                                                 NaN   \n",
       "6                                                 NaN   \n",
       "7   [Monday, Tuesday, Wednesday, Thursday, Friday,...   \n",
       "8   [Monday, Tuesday, Wednesday, Thursday, Friday,...   \n",
       "9   [Tuesday, Wednesday, Thursday, Friday, Saturda...   \n",
       "10  [Monday, Tuesday, Wednesday, Thursday, Friday,...   \n",
       "\n",
       "                                       business_hours  \\\n",
       "1   [9:0-0:0, 9:0-0:0, 9:0-0:0, 9:0-0:0, 9:0-1:0, ...   \n",
       "2   [17:30-21:30, 17:30-21:30, 17:30-21:30, 17:30-...   \n",
       "3   [7:0-0:0, 7:0-0:0, 7:0-0:0, 7:0-1:0, 7:0-1:0, ...   \n",
       "4   [10:0-0:0, 10:0-0:0, 10:0-0:0, 10:0-0:0, 10:0-...   \n",
       "5                                                 NaN   \n",
       "6                                                 NaN   \n",
       "7   [11:0-21:0, 10:0-21:0, 10:0-21:0, 10:0-21:0, 1...   \n",
       "8   [8:0-21:0, 8:0-21:0, 8:0-21:0, 8:0-21:0, 8:0-2...   \n",
       "9   [9:0-18:0, 9:0-18:0, 9:0-18:0, 9:0-2:0, 10:0-2...   \n",
       "10  [11:0-22:0, 11:0-22:0, 11:0-23:0, 11:0-23:0, 1...   \n",
       "\n",
       "                                            hours_day  \n",
       "1   [Monday, 9:0-0:0, Tuesday, 9:0-0:0, Wednesday,...  \n",
       "2   [Monday, 17:30-21:30, Wednesday, 17:30-21:30, ...  \n",
       "3   [Monday, 7:0-0:0, Tuesday, 7:0-0:0, Wednesday,...  \n",
       "4   [Monday, 10:0-0:0, Tuesday, 10:0-0:0, Wednesda...  \n",
       "5                                                None  \n",
       "6                                                None  \n",
       "7   [Monday, 11:0-21:0, Tuesday, 10:0-21:0, Wednes...  \n",
       "8   [Monday, 8:0-21:0, Tuesday, 8:0-21:0, Wednesda...  \n",
       "9   [Tuesday, 9:0-18:0, Wednesday, 9:0-18:0, Thurs...  \n",
       "10  [Monday, 11:0-22:0, Tuesday, 11:0-22:0, Wednes...  \n",
       "\n",
       "[10 rows x 21 columns]"
      ]
     },
     "execution_count": 130,
     "metadata": {},
     "output_type": "execute_result"
    }
   ],
   "source": [
    "Rest_new_hours = Rest_new[:]\n",
    "Rest_new_hours.head(10)"
   ]
  },
  {
   "cell_type": "code",
   "execution_count": 131,
   "metadata": {
    "pycharm": {
     "is_executing": false
    }
   },
   "outputs": [
    {
     "data": {
      "text/html": [
       "<div>\n",
       "<style scoped>\n",
       "    .dataframe tbody tr th:only-of-type {\n",
       "        vertical-align: middle;\n",
       "    }\n",
       "\n",
       "    .dataframe tbody tr th {\n",
       "        vertical-align: top;\n",
       "    }\n",
       "\n",
       "    .dataframe thead th {\n",
       "        text-align: right;\n",
       "    }\n",
       "</style>\n",
       "<table border=\"1\" class=\"dataframe\">\n",
       "  <thead>\n",
       "    <tr style=\"text-align: right;\">\n",
       "      <th></th>\n",
       "      <th>name</th>\n",
       "      <th>business_id</th>\n",
       "      <th>address</th>\n",
       "      <th>cuisine</th>\n",
       "      <th>postal_code</th>\n",
       "      <th>hours</th>\n",
       "      <th>latitude</th>\n",
       "      <th>longitude</th>\n",
       "      <th>review_count</th>\n",
       "      <th>stars</th>\n",
       "      <th>...</th>\n",
       "      <th>BusinessAcceptsCreditCards</th>\n",
       "      <th>RestaurantsDelivery</th>\n",
       "      <th>RestaurantsReservations</th>\n",
       "      <th>WiFi</th>\n",
       "      <th>Alcohol</th>\n",
       "      <th>categories</th>\n",
       "      <th>city</th>\n",
       "      <th>business_days</th>\n",
       "      <th>business_hours</th>\n",
       "      <th>hours_day</th>\n",
       "    </tr>\n",
       "  </thead>\n",
       "  <tbody>\n",
       "    <tr>\n",
       "      <th>1</th>\n",
       "      <td>Emerald Chinese Restaurant</td>\n",
       "      <td>QXAEGFB4oINsVuTFxEYKFQ</td>\n",
       "      <td>30 Eglinton Avenue W</td>\n",
       "      <td>Chinese</td>\n",
       "      <td>L5R 3E7</td>\n",
       "      <td>{'Monday': '9:0-0:0', 'Tuesday': '9:0-0:0', 'W...</td>\n",
       "      <td>43.605499</td>\n",
       "      <td>-79.652289</td>\n",
       "      <td>128</td>\n",
       "      <td>2.5</td>\n",
       "      <td>...</td>\n",
       "      <td>NaN</td>\n",
       "      <td>False</td>\n",
       "      <td>True</td>\n",
       "      <td>No</td>\n",
       "      <td>Full_Bar</td>\n",
       "      <td>Specialty Food, Restaurants, Dim Sum, Imported...</td>\n",
       "      <td>Mississauga</td>\n",
       "      <td>[Monday, Tuesday, Wednesday, Thursday, Friday,...</td>\n",
       "      <td>[9:0-0:0, 9:0-0:0, 9:0-0:0, 9:0-0:0, 9:0-1:0, ...</td>\n",
       "      <td>Monday9:0-0:0Tuesday9:0-0:0Wednesday9:0-0:0Thu...</td>\n",
       "    </tr>\n",
       "    <tr>\n",
       "      <th>2</th>\n",
       "      <td>Musashi Japanese Restaurant</td>\n",
       "      <td>gnKjwL_1w79qoiV3IC_xQQ</td>\n",
       "      <td>10110 Johnston Rd, Ste 15</td>\n",
       "      <td>Japanese</td>\n",
       "      <td>28210</td>\n",
       "      <td>{'Monday': '17:30-21:30', 'Wednesday': '17:30-...</td>\n",
       "      <td>35.092564</td>\n",
       "      <td>-80.859132</td>\n",
       "      <td>170</td>\n",
       "      <td>4.0</td>\n",
       "      <td>...</td>\n",
       "      <td>True</td>\n",
       "      <td>False</td>\n",
       "      <td>True</td>\n",
       "      <td>No</td>\n",
       "      <td>Beer&amp;Wine</td>\n",
       "      <td>Sushi Bars, Restaurants, Japanese</td>\n",
       "      <td>Charlotte</td>\n",
       "      <td>[Monday, Wednesday, Thursday, Friday, Saturday...</td>\n",
       "      <td>[17:30-21:30, 17:30-21:30, 17:30-21:30, 17:30-...</td>\n",
       "      <td>Monday17:30-21:30Wednesday17:30-21:30Thursday1...</td>\n",
       "    </tr>\n",
       "    <tr>\n",
       "      <th>3</th>\n",
       "      <td>Taco Bell</td>\n",
       "      <td>1Dfx3zM-rW4n-31KeC8sJg</td>\n",
       "      <td>2450 E Indian School Rd</td>\n",
       "      <td>Mexican</td>\n",
       "      <td>85016</td>\n",
       "      <td>{'Monday': '7:0-0:0', 'Tuesday': '7:0-0:0', 'W...</td>\n",
       "      <td>33.495194</td>\n",
       "      <td>-112.028588</td>\n",
       "      <td>18</td>\n",
       "      <td>3.0</td>\n",
       "      <td>...</td>\n",
       "      <td>True</td>\n",
       "      <td>False</td>\n",
       "      <td>False</td>\n",
       "      <td>No</td>\n",
       "      <td>No</td>\n",
       "      <td>Restaurants, Breakfast &amp; Brunch, Mexican, Taco...</td>\n",
       "      <td>Phoenix</td>\n",
       "      <td>[Monday, Tuesday, Wednesday, Thursday, Friday,...</td>\n",
       "      <td>[7:0-0:0, 7:0-0:0, 7:0-0:0, 7:0-1:0, 7:0-1:0, ...</td>\n",
       "      <td>Monday7:0-0:0Tuesday7:0-0:0Wednesday7:0-0:0Thu...</td>\n",
       "    </tr>\n",
       "    <tr>\n",
       "      <th>4</th>\n",
       "      <td>Marco's Pizza</td>\n",
       "      <td>fweCYi8FmbJXHCqLnwuk8w</td>\n",
       "      <td>5981 Andrews Rd</td>\n",
       "      <td>Italian</td>\n",
       "      <td>44060</td>\n",
       "      <td>{'Monday': '10:0-0:0', 'Tuesday': '10:0-0:0', ...</td>\n",
       "      <td>41.708520</td>\n",
       "      <td>-81.359556</td>\n",
       "      <td>16</td>\n",
       "      <td>4.0</td>\n",
       "      <td>...</td>\n",
       "      <td>True</td>\n",
       "      <td>True</td>\n",
       "      <td>False</td>\n",
       "      <td>NaN</td>\n",
       "      <td>No</td>\n",
       "      <td>Italian, Restaurants, Pizza, Chicken Wings</td>\n",
       "      <td>Mentor-on-the-Lake</td>\n",
       "      <td>[Monday, Tuesday, Wednesday, Thursday, Friday,...</td>\n",
       "      <td>[10:0-0:0, 10:0-0:0, 10:0-0:0, 10:0-0:0, 10:0-...</td>\n",
       "      <td>Monday10:0-0:0Tuesday10:0-0:0Wednesday10:0-0:0...</td>\n",
       "    </tr>\n",
       "    <tr>\n",
       "      <th>5</th>\n",
       "      <td>Carluccio's Tivoli Gardens</td>\n",
       "      <td>PZ-LZzSlhSe9utkQYU8pFg</td>\n",
       "      <td>1775 E Tropicana Ave, Ste 29</td>\n",
       "      <td>Italian</td>\n",
       "      <td>89119</td>\n",
       "      <td>NaN</td>\n",
       "      <td>36.100016</td>\n",
       "      <td>-115.128529</td>\n",
       "      <td>40</td>\n",
       "      <td>4.0</td>\n",
       "      <td>...</td>\n",
       "      <td>True</td>\n",
       "      <td>False</td>\n",
       "      <td>True</td>\n",
       "      <td>No</td>\n",
       "      <td>Full_Bar</td>\n",
       "      <td>Restaurants, Italian</td>\n",
       "      <td>Las Vegas</td>\n",
       "      <td>NaN</td>\n",
       "      <td>NaN</td>\n",
       "      <td>None</td>\n",
       "    </tr>\n",
       "  </tbody>\n",
       "</table>\n",
       "<p>5 rows × 21 columns</p>\n",
       "</div>"
      ],
      "text/plain": [
       "                          name             business_id  \\\n",
       "1   Emerald Chinese Restaurant  QXAEGFB4oINsVuTFxEYKFQ   \n",
       "2  Musashi Japanese Restaurant  gnKjwL_1w79qoiV3IC_xQQ   \n",
       "3                    Taco Bell  1Dfx3zM-rW4n-31KeC8sJg   \n",
       "4                Marco's Pizza  fweCYi8FmbJXHCqLnwuk8w   \n",
       "5   Carluccio's Tivoli Gardens  PZ-LZzSlhSe9utkQYU8pFg   \n",
       "\n",
       "                        address   cuisine postal_code  \\\n",
       "1          30 Eglinton Avenue W   Chinese     L5R 3E7   \n",
       "2     10110 Johnston Rd, Ste 15  Japanese       28210   \n",
       "3       2450 E Indian School Rd   Mexican       85016   \n",
       "4               5981 Andrews Rd   Italian       44060   \n",
       "5  1775 E Tropicana Ave, Ste 29   Italian       89119   \n",
       "\n",
       "                                               hours   latitude   longitude  \\\n",
       "1  {'Monday': '9:0-0:0', 'Tuesday': '9:0-0:0', 'W...  43.605499  -79.652289   \n",
       "2  {'Monday': '17:30-21:30', 'Wednesday': '17:30-...  35.092564  -80.859132   \n",
       "3  {'Monday': '7:0-0:0', 'Tuesday': '7:0-0:0', 'W...  33.495194 -112.028588   \n",
       "4  {'Monday': '10:0-0:0', 'Tuesday': '10:0-0:0', ...  41.708520  -81.359556   \n",
       "5                                                NaN  36.100016 -115.128529   \n",
       "\n",
       "   review_count  stars  ... BusinessAcceptsCreditCards RestaurantsDelivery  \\\n",
       "1           128    2.5  ...                        NaN               False   \n",
       "2           170    4.0  ...                       True               False   \n",
       "3            18    3.0  ...                       True               False   \n",
       "4            16    4.0  ...                       True                True   \n",
       "5            40    4.0  ...                       True               False   \n",
       "\n",
       "  RestaurantsReservations WiFi    Alcohol  \\\n",
       "1                    True   No   Full_Bar   \n",
       "2                    True   No  Beer&Wine   \n",
       "3                   False   No         No   \n",
       "4                   False  NaN         No   \n",
       "5                    True   No   Full_Bar   \n",
       "\n",
       "                                          categories                city  \\\n",
       "1  Specialty Food, Restaurants, Dim Sum, Imported...         Mississauga   \n",
       "2                  Sushi Bars, Restaurants, Japanese           Charlotte   \n",
       "3  Restaurants, Breakfast & Brunch, Mexican, Taco...             Phoenix   \n",
       "4         Italian, Restaurants, Pizza, Chicken Wings  Mentor-on-the-Lake   \n",
       "5                               Restaurants, Italian           Las Vegas   \n",
       "\n",
       "                                       business_days  \\\n",
       "1  [Monday, Tuesday, Wednesday, Thursday, Friday,...   \n",
       "2  [Monday, Wednesday, Thursday, Friday, Saturday...   \n",
       "3  [Monday, Tuesday, Wednesday, Thursday, Friday,...   \n",
       "4  [Monday, Tuesday, Wednesday, Thursday, Friday,...   \n",
       "5                                                NaN   \n",
       "\n",
       "                                      business_hours  \\\n",
       "1  [9:0-0:0, 9:0-0:0, 9:0-0:0, 9:0-0:0, 9:0-1:0, ...   \n",
       "2  [17:30-21:30, 17:30-21:30, 17:30-21:30, 17:30-...   \n",
       "3  [7:0-0:0, 7:0-0:0, 7:0-0:0, 7:0-1:0, 7:0-1:0, ...   \n",
       "4  [10:0-0:0, 10:0-0:0, 10:0-0:0, 10:0-0:0, 10:0-...   \n",
       "5                                                NaN   \n",
       "\n",
       "                                           hours_day  \n",
       "1  Monday9:0-0:0Tuesday9:0-0:0Wednesday9:0-0:0Thu...  \n",
       "2  Monday17:30-21:30Wednesday17:30-21:30Thursday1...  \n",
       "3  Monday7:0-0:0Tuesday7:0-0:0Wednesday7:0-0:0Thu...  \n",
       "4  Monday10:0-0:0Tuesday10:0-0:0Wednesday10:0-0:0...  \n",
       "5                                               None  \n",
       "\n",
       "[5 rows x 21 columns]"
      ]
     },
     "execution_count": 131,
     "metadata": {},
     "output_type": "execute_result"
    }
   ],
   "source": [
    "Rest_new_hours['hours_day'][Rest_new_hours['hours_day'].notnull()] = Rest_new_hours['hours_day'][Rest_new['hours_day'].notnull()].map(lambda x: ''.join(x))\n",
    "Rest_new_hours.head()"
   ]
  },
  {
   "cell_type": "code",
   "execution_count": 132,
   "metadata": {
    "pycharm": {
     "is_executing": false
    }
   },
   "outputs": [],
   "source": [
    "Rest_new_hours['Monday_Open']=Rest_new_hours['hours_day'].str.extract('[M][o][n][d][a][y](\\d*[:]\\d*)[-]\\d*[:]\\d*')\n",
    "Rest_new_hours['Tuesday_Open']=Rest_new_hours['hours_day'].str.extract('[T][u][e][s][d][a][y](\\d*[:]\\d*)[-]\\d*[:]\\d*')\n",
    "Rest_new_hours['Wednesday_Open']=Rest_new_hours['hours_day'].str.extract('[W][e][d][n][e][s][d][a][y](\\d*[:]\\d*)[-]\\d*[:]\\d*')\n",
    "Rest_new_hours['Thursday_Open']=Rest_new_hours['hours_day'].str.extract('[T][h][u][r][s][d][a][y](\\d*[:]\\d*)[-]\\d*[:]\\d*')\n",
    "Rest_new_hours['Friday_Open']=Rest_new_hours['hours_day'].str.extract('[F][r][i][d][a][y](\\d*[:]\\d*)[-]\\d*[:]\\d*')\n",
    "Rest_new_hours['Saturday_Open']=Rest_new_hours['hours_day'].str.extract('[S][a][t][u][r][d][a][y](\\d*[:]\\d*)[-]\\d*[:]\\d*')\n",
    "Rest_new_hours['Sunday_Open']=Rest_new_hours['hours_day'].str.extract('[S][u][n][d][a][y](\\d*[:]\\d*)[-]\\d*[:]\\d*')\n",
    "Rest_new_hours['Monday_Close']=Rest_new_hours['hours_day'].str.extract('[M][o][n][d][a][y]\\d*[:]\\d*[-](\\d*[:]\\d*)')\n",
    "Rest_new_hours['Tuesday_Close']=Rest_new_hours['hours_day'].str.extract('[T][u][e][s][d][a][y]\\d*[:]\\d*[-](\\d*[:]\\d*)')\n",
    "Rest_new_hours['Wednesday_Close']=Rest_new_hours['hours_day'].str.extract('[[W][e][d][n][e][s][d][a][y]\\d*[:]\\d*[-](\\d*[:]\\d*)')\n",
    "Rest_new_hours['Thursday_Close']=Rest_new_hours['hours_day'].str.extract('[T][h][u][r][s][d][a][y]\\d*[:]\\d*[-](\\d*[:]\\d*)')\n",
    "Rest_new_hours['Friday_Close']=Rest_new_hours['hours_day'].str.extract('[F][r][i][d][a][y]\\d*[:]\\d*[-](\\d*[:]\\d*)')\n",
    "Rest_new_hours['Saturday_Close']=Rest_new_hours['hours_day'].str.extract('[S][a][t][u][r][d][a][y]\\d*[:]\\d*[-](\\d*[:]\\d*)')\n",
    "Rest_new_hours['Sunday_Close']=Rest_new_hours['hours_day'].str.extract('[S][u][n][d][a][y]\\d*[:]\\d*[-](\\d*[:]\\d*)')"
   ]
  },
  {
   "cell_type": "code",
   "execution_count": 133,
   "metadata": {
    "pycharm": {
     "is_executing": false
    }
   },
   "outputs": [
    {
     "data": {
      "text/html": [
       "<div>\n",
       "<style scoped>\n",
       "    .dataframe tbody tr th:only-of-type {\n",
       "        vertical-align: middle;\n",
       "    }\n",
       "\n",
       "    .dataframe tbody tr th {\n",
       "        vertical-align: top;\n",
       "    }\n",
       "\n",
       "    .dataframe thead th {\n",
       "        text-align: right;\n",
       "    }\n",
       "</style>\n",
       "<table border=\"1\" class=\"dataframe\">\n",
       "  <thead>\n",
       "    <tr style=\"text-align: right;\">\n",
       "      <th></th>\n",
       "      <th>name</th>\n",
       "      <th>business_id</th>\n",
       "      <th>address</th>\n",
       "      <th>cuisine</th>\n",
       "      <th>postal_code</th>\n",
       "      <th>hours</th>\n",
       "      <th>latitude</th>\n",
       "      <th>longitude</th>\n",
       "      <th>review_count</th>\n",
       "      <th>stars</th>\n",
       "      <th>...</th>\n",
       "      <th>Friday_Open</th>\n",
       "      <th>Saturday_Open</th>\n",
       "      <th>Sunday_Open</th>\n",
       "      <th>Monday_Close</th>\n",
       "      <th>Tuesday_Close</th>\n",
       "      <th>Wednesday_Close</th>\n",
       "      <th>Thursday_Close</th>\n",
       "      <th>Friday_Close</th>\n",
       "      <th>Saturday_Close</th>\n",
       "      <th>Sunday_Close</th>\n",
       "    </tr>\n",
       "  </thead>\n",
       "  <tbody>\n",
       "    <tr>\n",
       "      <th>1</th>\n",
       "      <td>Emerald Chinese Restaurant</td>\n",
       "      <td>QXAEGFB4oINsVuTFxEYKFQ</td>\n",
       "      <td>30 Eglinton Avenue W</td>\n",
       "      <td>Chinese</td>\n",
       "      <td>L5R 3E7</td>\n",
       "      <td>{'Monday': '9:0-0:0', 'Tuesday': '9:0-0:0', 'W...</td>\n",
       "      <td>43.605499</td>\n",
       "      <td>-79.652289</td>\n",
       "      <td>128</td>\n",
       "      <td>2.5</td>\n",
       "      <td>...</td>\n",
       "      <td>9:0</td>\n",
       "      <td>9:0</td>\n",
       "      <td>9:0</td>\n",
       "      <td>0:0</td>\n",
       "      <td>0:0</td>\n",
       "      <td>0:0</td>\n",
       "      <td>0:0</td>\n",
       "      <td>1:0</td>\n",
       "      <td>1:0</td>\n",
       "      <td>0:0</td>\n",
       "    </tr>\n",
       "    <tr>\n",
       "      <th>2</th>\n",
       "      <td>Musashi Japanese Restaurant</td>\n",
       "      <td>gnKjwL_1w79qoiV3IC_xQQ</td>\n",
       "      <td>10110 Johnston Rd, Ste 15</td>\n",
       "      <td>Japanese</td>\n",
       "      <td>28210</td>\n",
       "      <td>{'Monday': '17:30-21:30', 'Wednesday': '17:30-...</td>\n",
       "      <td>35.092564</td>\n",
       "      <td>-80.859132</td>\n",
       "      <td>170</td>\n",
       "      <td>4.0</td>\n",
       "      <td>...</td>\n",
       "      <td>17:30</td>\n",
       "      <td>17:30</td>\n",
       "      <td>17:30</td>\n",
       "      <td>21:30</td>\n",
       "      <td>NaN</td>\n",
       "      <td>21:30</td>\n",
       "      <td>21:30</td>\n",
       "      <td>22:0</td>\n",
       "      <td>22:0</td>\n",
       "      <td>21:0</td>\n",
       "    </tr>\n",
       "    <tr>\n",
       "      <th>3</th>\n",
       "      <td>Taco Bell</td>\n",
       "      <td>1Dfx3zM-rW4n-31KeC8sJg</td>\n",
       "      <td>2450 E Indian School Rd</td>\n",
       "      <td>Mexican</td>\n",
       "      <td>85016</td>\n",
       "      <td>{'Monday': '7:0-0:0', 'Tuesday': '7:0-0:0', 'W...</td>\n",
       "      <td>33.495194</td>\n",
       "      <td>-112.028588</td>\n",
       "      <td>18</td>\n",
       "      <td>3.0</td>\n",
       "      <td>...</td>\n",
       "      <td>7:0</td>\n",
       "      <td>7:0</td>\n",
       "      <td>7:0</td>\n",
       "      <td>0:0</td>\n",
       "      <td>0:0</td>\n",
       "      <td>0:0</td>\n",
       "      <td>1:0</td>\n",
       "      <td>1:0</td>\n",
       "      <td>1:0</td>\n",
       "      <td>0:0</td>\n",
       "    </tr>\n",
       "    <tr>\n",
       "      <th>4</th>\n",
       "      <td>Marco's Pizza</td>\n",
       "      <td>fweCYi8FmbJXHCqLnwuk8w</td>\n",
       "      <td>5981 Andrews Rd</td>\n",
       "      <td>Italian</td>\n",
       "      <td>44060</td>\n",
       "      <td>{'Monday': '10:0-0:0', 'Tuesday': '10:0-0:0', ...</td>\n",
       "      <td>41.708520</td>\n",
       "      <td>-81.359556</td>\n",
       "      <td>16</td>\n",
       "      <td>4.0</td>\n",
       "      <td>...</td>\n",
       "      <td>10:0</td>\n",
       "      <td>10:0</td>\n",
       "      <td>10:0</td>\n",
       "      <td>0:0</td>\n",
       "      <td>0:0</td>\n",
       "      <td>0:0</td>\n",
       "      <td>0:0</td>\n",
       "      <td>1:0</td>\n",
       "      <td>1:0</td>\n",
       "      <td>0:0</td>\n",
       "    </tr>\n",
       "    <tr>\n",
       "      <th>5</th>\n",
       "      <td>Carluccio's Tivoli Gardens</td>\n",
       "      <td>PZ-LZzSlhSe9utkQYU8pFg</td>\n",
       "      <td>1775 E Tropicana Ave, Ste 29</td>\n",
       "      <td>Italian</td>\n",
       "      <td>89119</td>\n",
       "      <td>NaN</td>\n",
       "      <td>36.100016</td>\n",
       "      <td>-115.128529</td>\n",
       "      <td>40</td>\n",
       "      <td>4.0</td>\n",
       "      <td>...</td>\n",
       "      <td>NaN</td>\n",
       "      <td>NaN</td>\n",
       "      <td>NaN</td>\n",
       "      <td>NaN</td>\n",
       "      <td>NaN</td>\n",
       "      <td>NaN</td>\n",
       "      <td>NaN</td>\n",
       "      <td>NaN</td>\n",
       "      <td>NaN</td>\n",
       "      <td>NaN</td>\n",
       "    </tr>\n",
       "  </tbody>\n",
       "</table>\n",
       "<p>5 rows × 35 columns</p>\n",
       "</div>"
      ],
      "text/plain": [
       "                          name             business_id  \\\n",
       "1   Emerald Chinese Restaurant  QXAEGFB4oINsVuTFxEYKFQ   \n",
       "2  Musashi Japanese Restaurant  gnKjwL_1w79qoiV3IC_xQQ   \n",
       "3                    Taco Bell  1Dfx3zM-rW4n-31KeC8sJg   \n",
       "4                Marco's Pizza  fweCYi8FmbJXHCqLnwuk8w   \n",
       "5   Carluccio's Tivoli Gardens  PZ-LZzSlhSe9utkQYU8pFg   \n",
       "\n",
       "                        address   cuisine postal_code  \\\n",
       "1          30 Eglinton Avenue W   Chinese     L5R 3E7   \n",
       "2     10110 Johnston Rd, Ste 15  Japanese       28210   \n",
       "3       2450 E Indian School Rd   Mexican       85016   \n",
       "4               5981 Andrews Rd   Italian       44060   \n",
       "5  1775 E Tropicana Ave, Ste 29   Italian       89119   \n",
       "\n",
       "                                               hours   latitude   longitude  \\\n",
       "1  {'Monday': '9:0-0:0', 'Tuesday': '9:0-0:0', 'W...  43.605499  -79.652289   \n",
       "2  {'Monday': '17:30-21:30', 'Wednesday': '17:30-...  35.092564  -80.859132   \n",
       "3  {'Monday': '7:0-0:0', 'Tuesday': '7:0-0:0', 'W...  33.495194 -112.028588   \n",
       "4  {'Monday': '10:0-0:0', 'Tuesday': '10:0-0:0', ...  41.708520  -81.359556   \n",
       "5                                                NaN  36.100016 -115.128529   \n",
       "\n",
       "   review_count  stars  ... Friday_Open Saturday_Open Sunday_Open  \\\n",
       "1           128    2.5  ...         9:0           9:0         9:0   \n",
       "2           170    4.0  ...       17:30         17:30       17:30   \n",
       "3            18    3.0  ...         7:0           7:0         7:0   \n",
       "4            16    4.0  ...        10:0          10:0        10:0   \n",
       "5            40    4.0  ...         NaN           NaN         NaN   \n",
       "\n",
       "  Monday_Close Tuesday_Close Wednesday_Close Thursday_Close Friday_Close  \\\n",
       "1          0:0           0:0             0:0            0:0          1:0   \n",
       "2        21:30           NaN           21:30          21:30         22:0   \n",
       "3          0:0           0:0             0:0            1:0          1:0   \n",
       "4          0:0           0:0             0:0            0:0          1:0   \n",
       "5          NaN           NaN             NaN            NaN          NaN   \n",
       "\n",
       "  Saturday_Close Sunday_Close  \n",
       "1            1:0          0:0  \n",
       "2           22:0         21:0  \n",
       "3            1:0          0:0  \n",
       "4            1:0          0:0  \n",
       "5            NaN          NaN  \n",
       "\n",
       "[5 rows x 35 columns]"
      ]
     },
     "execution_count": 133,
     "metadata": {},
     "output_type": "execute_result"
    }
   ],
   "source": [
    "Rest_new_hours.head(5)"
   ]
  },
  {
   "cell_type": "code",
   "execution_count": 134,
   "metadata": {
    "pycharm": {
     "is_executing": false
    }
   },
   "outputs": [
    {
     "data": {
      "text/plain": [
       "Index(['name', 'business_id', 'address', 'cuisine', 'postal_code', 'hours',\n",
       "       'latitude', 'longitude', 'review_count', 'stars', 'OutdoorSeating',\n",
       "       'BusinessAcceptsCreditCards', 'RestaurantsDelivery',\n",
       "       'RestaurantsReservations', 'WiFi', 'Alcohol', 'categories', 'city',\n",
       "       'Monday_Open', 'Tuesday_Open', 'Wednesday_Open', 'Thursday_Open',\n",
       "       'Friday_Open', 'Saturday_Open', 'Sunday_Open', 'Monday_Close',\n",
       "       'Tuesday_Close', 'Wednesday_Close', 'Thursday_Close', 'Friday_Close',\n",
       "       'Saturday_Close', 'Sunday_Close'],\n",
       "      dtype='object')"
      ]
     },
     "execution_count": 134,
     "metadata": {},
     "output_type": "execute_result"
    }
   ],
   "source": [
    "Rest_new_hours.drop(['hours_day','business_days','business_hours'],axis=1,inplace=True)\n",
    "Rest_new_hours.columns"
   ]
  },
  {
   "cell_type": "code",
   "execution_count": 135,
   "metadata": {
    "pycharm": {
     "is_executing": false
    }
   },
   "outputs": [],
   "source": [
    "def str2time(val):\n",
    "    try:\n",
    "        return dt.datetime.strptime(val, '%H:%M').time()\n",
    "    except:\n",
    "        return pd.NaT"
   ]
  },
  {
   "cell_type": "code",
   "execution_count": 136,
   "metadata": {
    "pycharm": {
     "is_executing": false
    }
   },
   "outputs": [
    {
     "data": {
      "text/html": [
       "<div>\n",
       "<style scoped>\n",
       "    .dataframe tbody tr th:only-of-type {\n",
       "        vertical-align: middle;\n",
       "    }\n",
       "\n",
       "    .dataframe tbody tr th {\n",
       "        vertical-align: top;\n",
       "    }\n",
       "\n",
       "    .dataframe thead th {\n",
       "        text-align: right;\n",
       "    }\n",
       "</style>\n",
       "<table border=\"1\" class=\"dataframe\">\n",
       "  <thead>\n",
       "    <tr style=\"text-align: right;\">\n",
       "      <th></th>\n",
       "      <th>Monday_Open</th>\n",
       "      <th>Tuesday_Open</th>\n",
       "      <th>Wednesday_Open</th>\n",
       "      <th>Thursday_Open</th>\n",
       "      <th>Friday_Open</th>\n",
       "      <th>Saturday_Open</th>\n",
       "      <th>Sunday_Open</th>\n",
       "      <th>Monday_Close</th>\n",
       "      <th>Tuesday_Close</th>\n",
       "      <th>Wednesday_Close</th>\n",
       "      <th>Thursday_Close</th>\n",
       "      <th>Friday_Close</th>\n",
       "      <th>Saturday_Close</th>\n",
       "      <th>Sunday_Close</th>\n",
       "    </tr>\n",
       "  </thead>\n",
       "  <tbody>\n",
       "    <tr>\n",
       "      <th>1</th>\n",
       "      <td>09:00:00</td>\n",
       "      <td>09:00:00</td>\n",
       "      <td>09:00:00</td>\n",
       "      <td>09:00:00</td>\n",
       "      <td>09:00:00</td>\n",
       "      <td>09:00:00</td>\n",
       "      <td>09:00:00</td>\n",
       "      <td>00:00:00</td>\n",
       "      <td>00:00:00</td>\n",
       "      <td>00:00:00</td>\n",
       "      <td>00:00:00</td>\n",
       "      <td>01:00:00</td>\n",
       "      <td>01:00:00</td>\n",
       "      <td>00:00:00</td>\n",
       "    </tr>\n",
       "    <tr>\n",
       "      <th>2</th>\n",
       "      <td>17:30:00</td>\n",
       "      <td>NaT</td>\n",
       "      <td>17:30:00</td>\n",
       "      <td>17:30:00</td>\n",
       "      <td>17:30:00</td>\n",
       "      <td>17:30:00</td>\n",
       "      <td>17:30:00</td>\n",
       "      <td>21:30:00</td>\n",
       "      <td>NaT</td>\n",
       "      <td>21:30:00</td>\n",
       "      <td>21:30:00</td>\n",
       "      <td>22:00:00</td>\n",
       "      <td>22:00:00</td>\n",
       "      <td>21:00:00</td>\n",
       "    </tr>\n",
       "    <tr>\n",
       "      <th>3</th>\n",
       "      <td>07:00:00</td>\n",
       "      <td>07:00:00</td>\n",
       "      <td>07:00:00</td>\n",
       "      <td>07:00:00</td>\n",
       "      <td>07:00:00</td>\n",
       "      <td>07:00:00</td>\n",
       "      <td>07:00:00</td>\n",
       "      <td>00:00:00</td>\n",
       "      <td>00:00:00</td>\n",
       "      <td>00:00:00</td>\n",
       "      <td>01:00:00</td>\n",
       "      <td>01:00:00</td>\n",
       "      <td>01:00:00</td>\n",
       "      <td>00:00:00</td>\n",
       "    </tr>\n",
       "    <tr>\n",
       "      <th>4</th>\n",
       "      <td>10:00:00</td>\n",
       "      <td>10:00:00</td>\n",
       "      <td>10:00:00</td>\n",
       "      <td>10:00:00</td>\n",
       "      <td>10:00:00</td>\n",
       "      <td>10:00:00</td>\n",
       "      <td>10:00:00</td>\n",
       "      <td>00:00:00</td>\n",
       "      <td>00:00:00</td>\n",
       "      <td>00:00:00</td>\n",
       "      <td>00:00:00</td>\n",
       "      <td>01:00:00</td>\n",
       "      <td>01:00:00</td>\n",
       "      <td>00:00:00</td>\n",
       "    </tr>\n",
       "    <tr>\n",
       "      <th>5</th>\n",
       "      <td>NaT</td>\n",
       "      <td>NaT</td>\n",
       "      <td>NaT</td>\n",
       "      <td>NaT</td>\n",
       "      <td>NaT</td>\n",
       "      <td>NaT</td>\n",
       "      <td>NaT</td>\n",
       "      <td>NaT</td>\n",
       "      <td>NaT</td>\n",
       "      <td>NaT</td>\n",
       "      <td>NaT</td>\n",
       "      <td>NaT</td>\n",
       "      <td>NaT</td>\n",
       "      <td>NaT</td>\n",
       "    </tr>\n",
       "  </tbody>\n",
       "</table>\n",
       "</div>"
      ],
      "text/plain": [
       "  Monday_Open Tuesday_Open Wednesday_Open Thursday_Open Friday_Open  \\\n",
       "1    09:00:00     09:00:00       09:00:00      09:00:00    09:00:00   \n",
       "2    17:30:00          NaT       17:30:00      17:30:00    17:30:00   \n",
       "3    07:00:00     07:00:00       07:00:00      07:00:00    07:00:00   \n",
       "4    10:00:00     10:00:00       10:00:00      10:00:00    10:00:00   \n",
       "5         NaT          NaT            NaT           NaT         NaT   \n",
       "\n",
       "  Saturday_Open Sunday_Open Monday_Close Tuesday_Close Wednesday_Close  \\\n",
       "1      09:00:00    09:00:00     00:00:00      00:00:00        00:00:00   \n",
       "2      17:30:00    17:30:00     21:30:00           NaT        21:30:00   \n",
       "3      07:00:00    07:00:00     00:00:00      00:00:00        00:00:00   \n",
       "4      10:00:00    10:00:00     00:00:00      00:00:00        00:00:00   \n",
       "5           NaT         NaT          NaT           NaT             NaT   \n",
       "\n",
       "  Thursday_Close Friday_Close Saturday_Close Sunday_Close  \n",
       "1       00:00:00     01:00:00       01:00:00     00:00:00  \n",
       "2       21:30:00     22:00:00       22:00:00     21:00:00  \n",
       "3       01:00:00     01:00:00       01:00:00     00:00:00  \n",
       "4       00:00:00     01:00:00       01:00:00     00:00:00  \n",
       "5            NaT          NaT            NaT          NaT  "
      ]
     },
     "execution_count": 136,
     "metadata": {},
     "output_type": "execute_result"
    }
   ],
   "source": [
    "#Select the featurings concerning the opening and closing of the days of the week\n",
    "Rest_new_hours.iloc[:,18:32]=Rest_new_hours.iloc[:,18:32].astype(str)\n",
    "Rest_new_hours.iloc[:,18:32]=Rest_new_hours.iloc[:,18:32].applymap(lambda x: str2time(x))\n",
    "Rest_new_hours.iloc[:,18:32].head()"
   ]
  },
  {
   "cell_type": "code",
   "execution_count": 137,
   "metadata": {
    "pycharm": {
     "is_executing": false
    }
   },
   "outputs": [
    {
     "data": {
      "text/plain": [
       "name                                                                Chang Jiang\n",
       "business_id                                              asAHqgKQtCWiBbC3XriSIQ\n",
       "address                                                         646 S Gammon Rd\n",
       "cuisine                                                                 Chinese\n",
       "postal_code                                                               53719\n",
       "hours                         {'Monday': '11:0-22:0', 'Tuesday': '11:0-22:0'...\n",
       "latitude                                                                43.0505\n",
       "longitude                                                               -89.504\n",
       "review_count                                                                 31\n",
       "stars                                                                       3.5\n",
       "OutdoorSeating                                                            False\n",
       "BusinessAcceptsCreditCards                                                 True\n",
       "RestaurantsDelivery                                                        True\n",
       "RestaurantsReservations                                                   False\n",
       "WiFi                                                                         No\n",
       "Alcohol                                                                      No\n",
       "categories                    Chinese, Food, Specialty Food, Restaurants, Et...\n",
       "city                                                                    Madison\n",
       "Monday_Open                                                            11:00:00\n",
       "Tuesday_Open                                                           11:00:00\n",
       "Wednesday_Open                                                         11:00:00\n",
       "Thursday_Open                                                          11:00:00\n",
       "Friday_Open                                                            11:00:00\n",
       "Saturday_Open                                                          11:00:00\n",
       "Sunday_Open                                                            11:00:00\n",
       "Monday_Close                                                           22:00:00\n",
       "Tuesday_Close                                                          22:00:00\n",
       "Wednesday_Close                                                        22:00:00\n",
       "Thursday_Close                                                         22:00:00\n",
       "Friday_Close                                                           22:30:00\n",
       "Saturday_Close                                                         22:30:00\n",
       "Sunday_Close                                                           22:00:00\n",
       "Name: 3801, dtype: object"
      ]
     },
     "execution_count": 137,
     "metadata": {},
     "output_type": "execute_result"
    }
   ],
   "source": [
    "Rest_new_hours.loc[3801]"
   ]
  },
  {
   "cell_type": "code",
   "execution_count": 138,
   "metadata": {
    "pycharm": {
     "is_executing": false
    },
    "scrolled": true
   },
   "outputs": [
    {
     "data": {
      "text/html": [
       "<div>\n",
       "<style scoped>\n",
       "    .dataframe tbody tr th:only-of-type {\n",
       "        vertical-align: middle;\n",
       "    }\n",
       "\n",
       "    .dataframe tbody tr th {\n",
       "        vertical-align: top;\n",
       "    }\n",
       "\n",
       "    .dataframe thead th {\n",
       "        text-align: right;\n",
       "    }\n",
       "</style>\n",
       "<table border=\"1\" class=\"dataframe\">\n",
       "  <thead>\n",
       "    <tr style=\"text-align: right;\">\n",
       "      <th></th>\n",
       "      <th>name</th>\n",
       "      <th>business_id</th>\n",
       "      <th>address</th>\n",
       "      <th>cuisine</th>\n",
       "      <th>postal_code</th>\n",
       "      <th>latitude</th>\n",
       "      <th>longitude</th>\n",
       "      <th>review_count</th>\n",
       "      <th>stars</th>\n",
       "      <th>OutdoorSeating</th>\n",
       "      <th>...</th>\n",
       "      <th>Friday_Open</th>\n",
       "      <th>Saturday_Open</th>\n",
       "      <th>Sunday_Open</th>\n",
       "      <th>Monday_Close</th>\n",
       "      <th>Tuesday_Close</th>\n",
       "      <th>Wednesday_Close</th>\n",
       "      <th>Thursday_Close</th>\n",
       "      <th>Friday_Close</th>\n",
       "      <th>Saturday_Close</th>\n",
       "      <th>Sunday_Close</th>\n",
       "    </tr>\n",
       "  </thead>\n",
       "  <tbody>\n",
       "    <tr>\n",
       "      <th>1</th>\n",
       "      <td>Emerald Chinese Restaurant</td>\n",
       "      <td>QXAEGFB4oINsVuTFxEYKFQ</td>\n",
       "      <td>30 Eglinton Avenue W</td>\n",
       "      <td>Chinese</td>\n",
       "      <td>L5R 3E7</td>\n",
       "      <td>43.605499</td>\n",
       "      <td>-79.652289</td>\n",
       "      <td>128</td>\n",
       "      <td>2.5</td>\n",
       "      <td>False</td>\n",
       "      <td>...</td>\n",
       "      <td>09:00:00</td>\n",
       "      <td>09:00:00</td>\n",
       "      <td>09:00:00</td>\n",
       "      <td>00:00:00</td>\n",
       "      <td>00:00:00</td>\n",
       "      <td>00:00:00</td>\n",
       "      <td>00:00:00</td>\n",
       "      <td>01:00:00</td>\n",
       "      <td>01:00:00</td>\n",
       "      <td>00:00:00</td>\n",
       "    </tr>\n",
       "    <tr>\n",
       "      <th>2</th>\n",
       "      <td>Musashi Japanese Restaurant</td>\n",
       "      <td>gnKjwL_1w79qoiV3IC_xQQ</td>\n",
       "      <td>10110 Johnston Rd, Ste 15</td>\n",
       "      <td>Japanese</td>\n",
       "      <td>28210</td>\n",
       "      <td>35.092564</td>\n",
       "      <td>-80.859132</td>\n",
       "      <td>170</td>\n",
       "      <td>4.0</td>\n",
       "      <td>False</td>\n",
       "      <td>...</td>\n",
       "      <td>17:30:00</td>\n",
       "      <td>17:30:00</td>\n",
       "      <td>17:30:00</td>\n",
       "      <td>21:30:00</td>\n",
       "      <td>NaT</td>\n",
       "      <td>21:30:00</td>\n",
       "      <td>21:30:00</td>\n",
       "      <td>22:00:00</td>\n",
       "      <td>22:00:00</td>\n",
       "      <td>21:00:00</td>\n",
       "    </tr>\n",
       "    <tr>\n",
       "      <th>3</th>\n",
       "      <td>Taco Bell</td>\n",
       "      <td>1Dfx3zM-rW4n-31KeC8sJg</td>\n",
       "      <td>2450 E Indian School Rd</td>\n",
       "      <td>Mexican</td>\n",
       "      <td>85016</td>\n",
       "      <td>33.495194</td>\n",
       "      <td>-112.028588</td>\n",
       "      <td>18</td>\n",
       "      <td>3.0</td>\n",
       "      <td>False</td>\n",
       "      <td>...</td>\n",
       "      <td>07:00:00</td>\n",
       "      <td>07:00:00</td>\n",
       "      <td>07:00:00</td>\n",
       "      <td>00:00:00</td>\n",
       "      <td>00:00:00</td>\n",
       "      <td>00:00:00</td>\n",
       "      <td>01:00:00</td>\n",
       "      <td>01:00:00</td>\n",
       "      <td>01:00:00</td>\n",
       "      <td>00:00:00</td>\n",
       "    </tr>\n",
       "    <tr>\n",
       "      <th>4</th>\n",
       "      <td>Marco's Pizza</td>\n",
       "      <td>fweCYi8FmbJXHCqLnwuk8w</td>\n",
       "      <td>5981 Andrews Rd</td>\n",
       "      <td>Italian</td>\n",
       "      <td>44060</td>\n",
       "      <td>41.708520</td>\n",
       "      <td>-81.359556</td>\n",
       "      <td>16</td>\n",
       "      <td>4.0</td>\n",
       "      <td>False</td>\n",
       "      <td>...</td>\n",
       "      <td>10:00:00</td>\n",
       "      <td>10:00:00</td>\n",
       "      <td>10:00:00</td>\n",
       "      <td>00:00:00</td>\n",
       "      <td>00:00:00</td>\n",
       "      <td>00:00:00</td>\n",
       "      <td>00:00:00</td>\n",
       "      <td>01:00:00</td>\n",
       "      <td>01:00:00</td>\n",
       "      <td>00:00:00</td>\n",
       "    </tr>\n",
       "    <tr>\n",
       "      <th>5</th>\n",
       "      <td>Carluccio's Tivoli Gardens</td>\n",
       "      <td>PZ-LZzSlhSe9utkQYU8pFg</td>\n",
       "      <td>1775 E Tropicana Ave, Ste 29</td>\n",
       "      <td>Italian</td>\n",
       "      <td>89119</td>\n",
       "      <td>36.100016</td>\n",
       "      <td>-115.128529</td>\n",
       "      <td>40</td>\n",
       "      <td>4.0</td>\n",
       "      <td>False</td>\n",
       "      <td>...</td>\n",
       "      <td>NaT</td>\n",
       "      <td>NaT</td>\n",
       "      <td>NaT</td>\n",
       "      <td>NaT</td>\n",
       "      <td>NaT</td>\n",
       "      <td>NaT</td>\n",
       "      <td>NaT</td>\n",
       "      <td>NaT</td>\n",
       "      <td>NaT</td>\n",
       "      <td>NaT</td>\n",
       "    </tr>\n",
       "  </tbody>\n",
       "</table>\n",
       "<p>5 rows × 31 columns</p>\n",
       "</div>"
      ],
      "text/plain": [
       "                          name             business_id  \\\n",
       "1   Emerald Chinese Restaurant  QXAEGFB4oINsVuTFxEYKFQ   \n",
       "2  Musashi Japanese Restaurant  gnKjwL_1w79qoiV3IC_xQQ   \n",
       "3                    Taco Bell  1Dfx3zM-rW4n-31KeC8sJg   \n",
       "4                Marco's Pizza  fweCYi8FmbJXHCqLnwuk8w   \n",
       "5   Carluccio's Tivoli Gardens  PZ-LZzSlhSe9utkQYU8pFg   \n",
       "\n",
       "                        address   cuisine postal_code   latitude   longitude  \\\n",
       "1          30 Eglinton Avenue W   Chinese     L5R 3E7  43.605499  -79.652289   \n",
       "2     10110 Johnston Rd, Ste 15  Japanese       28210  35.092564  -80.859132   \n",
       "3       2450 E Indian School Rd   Mexican       85016  33.495194 -112.028588   \n",
       "4               5981 Andrews Rd   Italian       44060  41.708520  -81.359556   \n",
       "5  1775 E Tropicana Ave, Ste 29   Italian       89119  36.100016 -115.128529   \n",
       "\n",
       "   review_count  stars OutdoorSeating  ... Friday_Open Saturday_Open  \\\n",
       "1           128    2.5          False  ...    09:00:00      09:00:00   \n",
       "2           170    4.0          False  ...    17:30:00      17:30:00   \n",
       "3            18    3.0          False  ...    07:00:00      07:00:00   \n",
       "4            16    4.0          False  ...    10:00:00      10:00:00   \n",
       "5            40    4.0          False  ...         NaT           NaT   \n",
       "\n",
       "  Sunday_Open Monday_Close Tuesday_Close Wednesday_Close Thursday_Close  \\\n",
       "1    09:00:00     00:00:00      00:00:00        00:00:00       00:00:00   \n",
       "2    17:30:00     21:30:00           NaT        21:30:00       21:30:00   \n",
       "3    07:00:00     00:00:00      00:00:00        00:00:00       01:00:00   \n",
       "4    10:00:00     00:00:00      00:00:00        00:00:00       00:00:00   \n",
       "5         NaT          NaT           NaT             NaT            NaT   \n",
       "\n",
       "  Friday_Close Saturday_Close Sunday_Close  \n",
       "1     01:00:00       01:00:00     00:00:00  \n",
       "2     22:00:00       22:00:00     21:00:00  \n",
       "3     01:00:00       01:00:00     00:00:00  \n",
       "4     01:00:00       01:00:00     00:00:00  \n",
       "5          NaT            NaT          NaT  \n",
       "\n",
       "[5 rows x 31 columns]"
      ]
     },
     "execution_count": 138,
     "metadata": {},
     "output_type": "execute_result"
    }
   ],
   "source": [
    "Rest_new_hours.drop('hours',axis=1,inplace=True)\n",
    "Rest_new_hours.head()"
   ]
  },
  {
   "cell_type": "markdown",
   "metadata": {},
   "source": [
    "### Saving dataframe"
   ]
  },
  {
   "cell_type": "markdown",
   "metadata": {},
   "source": [
    "Summary of Actions:\n",
    "\n",
    "- Saving dataframe in pickle file"
   ]
  },
  {
   "cell_type": "code",
   "execution_count": 139,
   "metadata": {
    "pycharm": {
     "is_executing": false
    }
   },
   "outputs": [],
   "source": [
    "# Saving the dataset in pickle\n",
    "Rest_new_hours.to_pickle('../dataset/restaurants.pickle') "
   ]
  },
  {
   "cell_type": "markdown",
   "metadata": {},
   "source": [
    "### Cleaning of the Review Dataset:\n",
    "\n",
    "#### Working with Review pickle file "
   ]
  },
  {
   "cell_type": "markdown",
   "metadata": {},
   "source": [
    "\n",
    "\n",
    "Summary of Actions:\n",
    "- Reset the index to 1 - for ease of reading\n",
    "- Rearranging the columns in the dataframe\n",
    "- Updating the timestamp to include only the date format (YYYY-MM-DD).\n",
    "- We used the pandas to_datetime to drop the time of the 'date'column\n",
    "- Save the pickle file again with the new operations performed."
   ]
  },
  {
   "cell_type": "code",
   "execution_count": 140,
   "metadata": {
    "pycharm": {
     "is_executing": false
    }
   },
   "outputs": [
    {
     "data": {
      "text/html": [
       "<div>\n",
       "<style scoped>\n",
       "    .dataframe tbody tr th:only-of-type {\n",
       "        vertical-align: middle;\n",
       "    }\n",
       "\n",
       "    .dataframe tbody tr th {\n",
       "        vertical-align: top;\n",
       "    }\n",
       "\n",
       "    .dataframe thead th {\n",
       "        text-align: right;\n",
       "    }\n",
       "</style>\n",
       "<table border=\"1\" class=\"dataframe\">\n",
       "  <thead>\n",
       "    <tr style=\"text-align: right;\">\n",
       "      <th></th>\n",
       "      <th>review_id</th>\n",
       "      <th>user_id</th>\n",
       "      <th>business_id</th>\n",
       "      <th>stars</th>\n",
       "      <th>useful</th>\n",
       "      <th>funny</th>\n",
       "      <th>cool</th>\n",
       "      <th>text</th>\n",
       "      <th>date</th>\n",
       "    </tr>\n",
       "  </thead>\n",
       "  <tbody>\n",
       "    <tr>\n",
       "      <th>3</th>\n",
       "      <td>yi0R0Ugj_xUx_Nek0-_Qig</td>\n",
       "      <td>dacAIZ6fTM6mqwW5uxkskg</td>\n",
       "      <td>ikCg8xy5JIg_NGPx-MSIDA</td>\n",
       "      <td>5</td>\n",
       "      <td>0</td>\n",
       "      <td>0</td>\n",
       "      <td>0</td>\n",
       "      <td>Went in for a lunch. Steak sandwich was delici...</td>\n",
       "      <td>2018-01-09 20:56:38</td>\n",
       "    </tr>\n",
       "    <tr>\n",
       "      <th>5</th>\n",
       "      <td>fdiNeiN_hoCxCMy2wTRW9g</td>\n",
       "      <td>w31MKYsNFMrjhWxxAb5wIw</td>\n",
       "      <td>eU_713ec6fTGNO4BegRaww</td>\n",
       "      <td>4</td>\n",
       "      <td>0</td>\n",
       "      <td>0</td>\n",
       "      <td>0</td>\n",
       "      <td>I'll be the first to admit that I was not exci...</td>\n",
       "      <td>2013-01-20 13:25:59</td>\n",
       "    </tr>\n",
       "    <tr>\n",
       "      <th>6</th>\n",
       "      <td>G7XHMxG0bx9oBJNECG4IFg</td>\n",
       "      <td>jlu4CztcSxrKx56ba1a5AQ</td>\n",
       "      <td>3fw2X5bZYeW9xCz_zGhOHg</td>\n",
       "      <td>3</td>\n",
       "      <td>5</td>\n",
       "      <td>4</td>\n",
       "      <td>5</td>\n",
       "      <td>Tracy dessert had a big name in Hong Kong and ...</td>\n",
       "      <td>2016-05-07 01:21:02</td>\n",
       "    </tr>\n",
       "    <tr>\n",
       "      <th>7</th>\n",
       "      <td>8e9HxxLjjqc9ez5ezzN7iQ</td>\n",
       "      <td>d6xvYpyzcfbF_AZ8vMB7QA</td>\n",
       "      <td>zvO-PJCpNk4fgAVUnExYAA</td>\n",
       "      <td>1</td>\n",
       "      <td>3</td>\n",
       "      <td>1</td>\n",
       "      <td>1</td>\n",
       "      <td>This place has gone down hill.  Clearly they h...</td>\n",
       "      <td>2010-10-05 19:12:35</td>\n",
       "    </tr>\n",
       "    <tr>\n",
       "      <th>10</th>\n",
       "      <td>kbtscdyz6lvrtGjD1quQTg</td>\n",
       "      <td>FIk4lQQu1eTe2EpzQ4xhBA</td>\n",
       "      <td>8mIrX_LrOnAqWsB5JrOojQ</td>\n",
       "      <td>4</td>\n",
       "      <td>0</td>\n",
       "      <td>0</td>\n",
       "      <td>0</td>\n",
       "      <td>Like walking back in time, every Saturday morn...</td>\n",
       "      <td>2011-11-30 02:11:15</td>\n",
       "    </tr>\n",
       "  </tbody>\n",
       "</table>\n",
       "</div>"
      ],
      "text/plain": [
       "                 review_id                 user_id             business_id  \\\n",
       "3   yi0R0Ugj_xUx_Nek0-_Qig  dacAIZ6fTM6mqwW5uxkskg  ikCg8xy5JIg_NGPx-MSIDA   \n",
       "5   fdiNeiN_hoCxCMy2wTRW9g  w31MKYsNFMrjhWxxAb5wIw  eU_713ec6fTGNO4BegRaww   \n",
       "6   G7XHMxG0bx9oBJNECG4IFg  jlu4CztcSxrKx56ba1a5AQ  3fw2X5bZYeW9xCz_zGhOHg   \n",
       "7   8e9HxxLjjqc9ez5ezzN7iQ  d6xvYpyzcfbF_AZ8vMB7QA  zvO-PJCpNk4fgAVUnExYAA   \n",
       "10  kbtscdyz6lvrtGjD1quQTg  FIk4lQQu1eTe2EpzQ4xhBA  8mIrX_LrOnAqWsB5JrOojQ   \n",
       "\n",
       "    stars  useful  funny  cool  \\\n",
       "3       5       0      0     0   \n",
       "5       4       0      0     0   \n",
       "6       3       5      4     5   \n",
       "7       1       3      1     1   \n",
       "10      4       0      0     0   \n",
       "\n",
       "                                                 text                date  \n",
       "3   Went in for a lunch. Steak sandwich was delici... 2018-01-09 20:56:38  \n",
       "5   I'll be the first to admit that I was not exci... 2013-01-20 13:25:59  \n",
       "6   Tracy dessert had a big name in Hong Kong and ... 2016-05-07 01:21:02  \n",
       "7   This place has gone down hill.  Clearly they h... 2010-10-05 19:12:35  \n",
       "10  Like walking back in time, every Saturday morn... 2011-11-30 02:11:15  "
      ]
     },
     "execution_count": 140,
     "metadata": {},
     "output_type": "execute_result"
    }
   ],
   "source": [
    "pickle_review = open(\"../dataset/all_review.pickle\",\"rb\")\n",
    "review = pickle.load(pickle_review)\n",
    "review.head()"
   ]
  },
  {
   "cell_type": "code",
   "execution_count": 141,
   "metadata": {
    "pycharm": {
     "is_executing": false
    }
   },
   "outputs": [
    {
     "data": {
      "text/html": [
       "<div>\n",
       "<style scoped>\n",
       "    .dataframe tbody tr th:only-of-type {\n",
       "        vertical-align: middle;\n",
       "    }\n",
       "\n",
       "    .dataframe tbody tr th {\n",
       "        vertical-align: top;\n",
       "    }\n",
       "\n",
       "    .dataframe thead th {\n",
       "        text-align: right;\n",
       "    }\n",
       "</style>\n",
       "<table border=\"1\" class=\"dataframe\">\n",
       "  <thead>\n",
       "    <tr style=\"text-align: right;\">\n",
       "      <th></th>\n",
       "      <th>review_id</th>\n",
       "      <th>user_id</th>\n",
       "      <th>business_id</th>\n",
       "      <th>stars</th>\n",
       "      <th>useful</th>\n",
       "      <th>funny</th>\n",
       "      <th>cool</th>\n",
       "      <th>text</th>\n",
       "      <th>date</th>\n",
       "    </tr>\n",
       "  </thead>\n",
       "  <tbody>\n",
       "    <tr>\n",
       "      <th>1</th>\n",
       "      <td>yi0R0Ugj_xUx_Nek0-_Qig</td>\n",
       "      <td>dacAIZ6fTM6mqwW5uxkskg</td>\n",
       "      <td>ikCg8xy5JIg_NGPx-MSIDA</td>\n",
       "      <td>5</td>\n",
       "      <td>0</td>\n",
       "      <td>0</td>\n",
       "      <td>0</td>\n",
       "      <td>Went in for a lunch. Steak sandwich was delici...</td>\n",
       "      <td>2018-01-09 20:56:38</td>\n",
       "    </tr>\n",
       "    <tr>\n",
       "      <th>2</th>\n",
       "      <td>fdiNeiN_hoCxCMy2wTRW9g</td>\n",
       "      <td>w31MKYsNFMrjhWxxAb5wIw</td>\n",
       "      <td>eU_713ec6fTGNO4BegRaww</td>\n",
       "      <td>4</td>\n",
       "      <td>0</td>\n",
       "      <td>0</td>\n",
       "      <td>0</td>\n",
       "      <td>I'll be the first to admit that I was not exci...</td>\n",
       "      <td>2013-01-20 13:25:59</td>\n",
       "    </tr>\n",
       "    <tr>\n",
       "      <th>3</th>\n",
       "      <td>G7XHMxG0bx9oBJNECG4IFg</td>\n",
       "      <td>jlu4CztcSxrKx56ba1a5AQ</td>\n",
       "      <td>3fw2X5bZYeW9xCz_zGhOHg</td>\n",
       "      <td>3</td>\n",
       "      <td>5</td>\n",
       "      <td>4</td>\n",
       "      <td>5</td>\n",
       "      <td>Tracy dessert had a big name in Hong Kong and ...</td>\n",
       "      <td>2016-05-07 01:21:02</td>\n",
       "    </tr>\n",
       "    <tr>\n",
       "      <th>4</th>\n",
       "      <td>8e9HxxLjjqc9ez5ezzN7iQ</td>\n",
       "      <td>d6xvYpyzcfbF_AZ8vMB7QA</td>\n",
       "      <td>zvO-PJCpNk4fgAVUnExYAA</td>\n",
       "      <td>1</td>\n",
       "      <td>3</td>\n",
       "      <td>1</td>\n",
       "      <td>1</td>\n",
       "      <td>This place has gone down hill.  Clearly they h...</td>\n",
       "      <td>2010-10-05 19:12:35</td>\n",
       "    </tr>\n",
       "    <tr>\n",
       "      <th>5</th>\n",
       "      <td>kbtscdyz6lvrtGjD1quQTg</td>\n",
       "      <td>FIk4lQQu1eTe2EpzQ4xhBA</td>\n",
       "      <td>8mIrX_LrOnAqWsB5JrOojQ</td>\n",
       "      <td>4</td>\n",
       "      <td>0</td>\n",
       "      <td>0</td>\n",
       "      <td>0</td>\n",
       "      <td>Like walking back in time, every Saturday morn...</td>\n",
       "      <td>2011-11-30 02:11:15</td>\n",
       "    </tr>\n",
       "  </tbody>\n",
       "</table>\n",
       "</div>"
      ],
      "text/plain": [
       "                review_id                 user_id             business_id  \\\n",
       "1  yi0R0Ugj_xUx_Nek0-_Qig  dacAIZ6fTM6mqwW5uxkskg  ikCg8xy5JIg_NGPx-MSIDA   \n",
       "2  fdiNeiN_hoCxCMy2wTRW9g  w31MKYsNFMrjhWxxAb5wIw  eU_713ec6fTGNO4BegRaww   \n",
       "3  G7XHMxG0bx9oBJNECG4IFg  jlu4CztcSxrKx56ba1a5AQ  3fw2X5bZYeW9xCz_zGhOHg   \n",
       "4  8e9HxxLjjqc9ez5ezzN7iQ  d6xvYpyzcfbF_AZ8vMB7QA  zvO-PJCpNk4fgAVUnExYAA   \n",
       "5  kbtscdyz6lvrtGjD1quQTg  FIk4lQQu1eTe2EpzQ4xhBA  8mIrX_LrOnAqWsB5JrOojQ   \n",
       "\n",
       "   stars  useful  funny  cool  \\\n",
       "1      5       0      0     0   \n",
       "2      4       0      0     0   \n",
       "3      3       5      4     5   \n",
       "4      1       3      1     1   \n",
       "5      4       0      0     0   \n",
       "\n",
       "                                                text                date  \n",
       "1  Went in for a lunch. Steak sandwich was delici... 2018-01-09 20:56:38  \n",
       "2  I'll be the first to admit that I was not exci... 2013-01-20 13:25:59  \n",
       "3  Tracy dessert had a big name in Hong Kong and ... 2016-05-07 01:21:02  \n",
       "4  This place has gone down hill.  Clearly they h... 2010-10-05 19:12:35  \n",
       "5  Like walking back in time, every Saturday morn... 2011-11-30 02:11:15  "
      ]
     },
     "execution_count": 141,
     "metadata": {},
     "output_type": "execute_result"
    }
   ],
   "source": [
    "Review = review.reset_index(drop = True)\n",
    "Review.index +=1\n",
    "Review.head()"
   ]
  },
  {
   "cell_type": "code",
   "execution_count": 142,
   "metadata": {
    "pycharm": {
     "is_executing": false
    }
   },
   "outputs": [
    {
     "data": {
      "text/html": [
       "<div>\n",
       "<style scoped>\n",
       "    .dataframe tbody tr th:only-of-type {\n",
       "        vertical-align: middle;\n",
       "    }\n",
       "\n",
       "    .dataframe tbody tr th {\n",
       "        vertical-align: top;\n",
       "    }\n",
       "\n",
       "    .dataframe thead th {\n",
       "        text-align: right;\n",
       "    }\n",
       "</style>\n",
       "<table border=\"1\" class=\"dataframe\">\n",
       "  <thead>\n",
       "    <tr style=\"text-align: right;\">\n",
       "      <th></th>\n",
       "      <th>business_id</th>\n",
       "      <th>user_id</th>\n",
       "      <th>review_id</th>\n",
       "      <th>date</th>\n",
       "      <th>cool</th>\n",
       "      <th>funny</th>\n",
       "      <th>useful</th>\n",
       "      <th>stars</th>\n",
       "    </tr>\n",
       "  </thead>\n",
       "  <tbody>\n",
       "    <tr>\n",
       "      <th>1</th>\n",
       "      <td>ikCg8xy5JIg_NGPx-MSIDA</td>\n",
       "      <td>dacAIZ6fTM6mqwW5uxkskg</td>\n",
       "      <td>yi0R0Ugj_xUx_Nek0-_Qig</td>\n",
       "      <td>2018-01-09 20:56:38</td>\n",
       "      <td>0</td>\n",
       "      <td>0</td>\n",
       "      <td>0</td>\n",
       "      <td>5</td>\n",
       "    </tr>\n",
       "    <tr>\n",
       "      <th>2</th>\n",
       "      <td>eU_713ec6fTGNO4BegRaww</td>\n",
       "      <td>w31MKYsNFMrjhWxxAb5wIw</td>\n",
       "      <td>fdiNeiN_hoCxCMy2wTRW9g</td>\n",
       "      <td>2013-01-20 13:25:59</td>\n",
       "      <td>0</td>\n",
       "      <td>0</td>\n",
       "      <td>0</td>\n",
       "      <td>4</td>\n",
       "    </tr>\n",
       "    <tr>\n",
       "      <th>3</th>\n",
       "      <td>3fw2X5bZYeW9xCz_zGhOHg</td>\n",
       "      <td>jlu4CztcSxrKx56ba1a5AQ</td>\n",
       "      <td>G7XHMxG0bx9oBJNECG4IFg</td>\n",
       "      <td>2016-05-07 01:21:02</td>\n",
       "      <td>5</td>\n",
       "      <td>4</td>\n",
       "      <td>5</td>\n",
       "      <td>3</td>\n",
       "    </tr>\n",
       "    <tr>\n",
       "      <th>4</th>\n",
       "      <td>zvO-PJCpNk4fgAVUnExYAA</td>\n",
       "      <td>d6xvYpyzcfbF_AZ8vMB7QA</td>\n",
       "      <td>8e9HxxLjjqc9ez5ezzN7iQ</td>\n",
       "      <td>2010-10-05 19:12:35</td>\n",
       "      <td>1</td>\n",
       "      <td>1</td>\n",
       "      <td>3</td>\n",
       "      <td>1</td>\n",
       "    </tr>\n",
       "    <tr>\n",
       "      <th>5</th>\n",
       "      <td>8mIrX_LrOnAqWsB5JrOojQ</td>\n",
       "      <td>FIk4lQQu1eTe2EpzQ4xhBA</td>\n",
       "      <td>kbtscdyz6lvrtGjD1quQTg</td>\n",
       "      <td>2011-11-30 02:11:15</td>\n",
       "      <td>0</td>\n",
       "      <td>0</td>\n",
       "      <td>0</td>\n",
       "      <td>4</td>\n",
       "    </tr>\n",
       "  </tbody>\n",
       "</table>\n",
       "</div>"
      ],
      "text/plain": [
       "              business_id                 user_id               review_id  \\\n",
       "1  ikCg8xy5JIg_NGPx-MSIDA  dacAIZ6fTM6mqwW5uxkskg  yi0R0Ugj_xUx_Nek0-_Qig   \n",
       "2  eU_713ec6fTGNO4BegRaww  w31MKYsNFMrjhWxxAb5wIw  fdiNeiN_hoCxCMy2wTRW9g   \n",
       "3  3fw2X5bZYeW9xCz_zGhOHg  jlu4CztcSxrKx56ba1a5AQ  G7XHMxG0bx9oBJNECG4IFg   \n",
       "4  zvO-PJCpNk4fgAVUnExYAA  d6xvYpyzcfbF_AZ8vMB7QA  8e9HxxLjjqc9ez5ezzN7iQ   \n",
       "5  8mIrX_LrOnAqWsB5JrOojQ  FIk4lQQu1eTe2EpzQ4xhBA  kbtscdyz6lvrtGjD1quQTg   \n",
       "\n",
       "                 date  cool  funny  useful  stars  \n",
       "1 2018-01-09 20:56:38     0      0       0      5  \n",
       "2 2013-01-20 13:25:59     0      0       0      4  \n",
       "3 2016-05-07 01:21:02     5      4       5      3  \n",
       "4 2010-10-05 19:12:35     1      1       3      1  \n",
       "5 2011-11-30 02:11:15     0      0       0      4  "
      ]
     },
     "execution_count": 142,
     "metadata": {},
     "output_type": "execute_result"
    }
   ],
   "source": [
    "Review = Review[['business_id', 'user_id', 'review_id', 'date', 'cool','funny','useful','stars']]\n",
    "Review.head()"
   ]
  },
  {
   "cell_type": "code",
   "execution_count": 143,
   "metadata": {
    "pycharm": {
     "is_executing": false
    }
   },
   "outputs": [],
   "source": [
    "#Saving the dataset in pickle \n",
    "review.to_pickle('../dataset/all_review.pickle')"
   ]
  },
  {
   "cell_type": "markdown",
   "metadata": {},
   "source": [
    "### Cleaning Users Dataset\n",
    "\n",
    "#### Working with users pickle file"
   ]
  },
  {
   "cell_type": "markdown",
   "metadata": {},
   "source": [
    "Summary of Actions:\n",
    "- After processing the data, we have shrunk the dataset from 22 columns to 11 columns. The 'compliment' columns are all dropped because they function very similar to 'cool' and 'funny' columns which are also counting how many different kinds of compliments the user got from others. So, to remove the redundancy, we have eliminated those variables.\n",
    "- Since we have extracted all data, the index was not in order. Therefore, the first step is to reset the index and make the first index '1'. \n",
    "- Second, we re-arrange the columns order so the most important information will be shown first which makes it easier for readers to gain insights from the data frame.  \n",
    "- Third, the 'yelping_since' included data and time (hour and minute) which we do not need 'time' for our analysis. Therefore, we used pandas to_datatime function to drop the 'time' in that column.\n",
    "- After that, we worked on the multivalued columns: elite and friends. 'elite' columns contained all the years that the user was a elite member in a string format. \n",
    "- We decided that having the year details do not help with analyzing the dataset, instead, counting how many years the user is a elite member provides more useful information. \n",
    "- Therefore, we first used regular expression to find all the years which would also convert strings to lists.\n",
    "- The similar methods apply to 'friends' too, but  instead of regular expression, we used a string method to split the strings. \n",
    "- Consequently, we changed 'name' to 'user_name' to specify which dataset this column belongs to.\n",
    "- Save the pickle file again with the new operations performed."
   ]
  },
  {
   "cell_type": "code",
   "execution_count": 144,
   "metadata": {
    "pycharm": {
     "is_executing": false
    }
   },
   "outputs": [],
   "source": [
    "pickle_users = open(\"../dataset/all_users.pickle\",\"rb\")\n",
    "users = pickle.load(pickle_users)"
   ]
  },
  {
   "cell_type": "code",
   "execution_count": 145,
   "metadata": {
    "pycharm": {
     "is_executing": false
    }
   },
   "outputs": [],
   "source": [
    "#dropping org index \n",
    "users = users.reset_index(drop=True)\n",
    "users.index +=1"
   ]
  },
  {
   "cell_type": "code",
   "execution_count": 146,
   "metadata": {
    "pycharm": {
     "is_executing": false
    }
   },
   "outputs": [],
   "source": [
    "titles = ['user_id','name','average_stars','yelping_since','review_count','elite','fans','useful','cool','funny','friends']\n",
    "users =users.reindex(columns=titles)\n",
    "\n",
    "#rename columns\n",
    "users = users.rename(columns={'name':'user_name','review_count':'review'})   "
   ]
  },
  {
   "cell_type": "code",
   "execution_count": 147,
   "metadata": {
    "pycharm": {
     "is_executing": false
    }
   },
   "outputs": [],
   "source": [
    "#converting timestamp to date \n",
    "users['yelping_since'] = pd.to_datetime(users['yelping_since'])\n",
    "users['yelping_since'] = users['yelping_since'].dt.date"
   ]
  },
  {
   "cell_type": "code",
   "execution_count": 148,
   "metadata": {
    "pycharm": {
     "is_executing": false
    }
   },
   "outputs": [],
   "source": [
    "users['elite'] = users['elite'].apply(lambda x: re.findall('20\\d\\d',x))"
   ]
  },
  {
   "cell_type": "code",
   "execution_count": 149,
   "metadata": {
    "pycharm": {
     "is_executing": false
    }
   },
   "outputs": [],
   "source": [
    "users['elite'] = users['elite'].apply(lambda x: len(x))"
   ]
  },
  {
   "cell_type": "code",
   "execution_count": 150,
   "metadata": {
    "pycharm": {
     "is_executing": false
    }
   },
   "outputs": [],
   "source": [
    "users['friends'].str.split(',')\n",
    "users['friends'] = users['friends'].apply(lambda x: len(x))"
   ]
  },
  {
   "cell_type": "code",
   "execution_count": 151,
   "metadata": {
    "pycharm": {
     "is_executing": false
    }
   },
   "outputs": [
    {
     "data": {
      "text/html": [
       "<div>\n",
       "<style scoped>\n",
       "    .dataframe tbody tr th:only-of-type {\n",
       "        vertical-align: middle;\n",
       "    }\n",
       "\n",
       "    .dataframe tbody tr th {\n",
       "        vertical-align: top;\n",
       "    }\n",
       "\n",
       "    .dataframe thead th {\n",
       "        text-align: right;\n",
       "    }\n",
       "</style>\n",
       "<table border=\"1\" class=\"dataframe\">\n",
       "  <thead>\n",
       "    <tr style=\"text-align: right;\">\n",
       "      <th></th>\n",
       "      <th>user_id</th>\n",
       "      <th>user_name</th>\n",
       "      <th>average_stars</th>\n",
       "      <th>yelping_since</th>\n",
       "      <th>review</th>\n",
       "      <th>years_of_elite</th>\n",
       "      <th>fans</th>\n",
       "      <th>useful</th>\n",
       "      <th>cool</th>\n",
       "      <th>funny</th>\n",
       "      <th>friends</th>\n",
       "    </tr>\n",
       "  </thead>\n",
       "  <tbody>\n",
       "    <tr>\n",
       "      <th>1</th>\n",
       "      <td>l6BmjZMeQD3rDxWUbiAiow</td>\n",
       "      <td>Rashmi</td>\n",
       "      <td>4.03</td>\n",
       "      <td>2013-10-08</td>\n",
       "      <td>95</td>\n",
       "      <td>3</td>\n",
       "      <td>5</td>\n",
       "      <td>84</td>\n",
       "      <td>25</td>\n",
       "      <td>17</td>\n",
       "      <td>2374</td>\n",
       "    </tr>\n",
       "    <tr>\n",
       "      <th>2</th>\n",
       "      <td>4XChL029mKr5hydo79Ljxg</td>\n",
       "      <td>Jenna</td>\n",
       "      <td>3.63</td>\n",
       "      <td>2013-02-21</td>\n",
       "      <td>33</td>\n",
       "      <td>0</td>\n",
       "      <td>4</td>\n",
       "      <td>48</td>\n",
       "      <td>16</td>\n",
       "      <td>22</td>\n",
       "      <td>27646</td>\n",
       "    </tr>\n",
       "    <tr>\n",
       "      <th>3</th>\n",
       "      <td>bc8C_eETBWL0olvFSJJd0w</td>\n",
       "      <td>David</td>\n",
       "      <td>3.71</td>\n",
       "      <td>2013-10-04</td>\n",
       "      <td>16</td>\n",
       "      <td>0</td>\n",
       "      <td>0</td>\n",
       "      <td>28</td>\n",
       "      <td>10</td>\n",
       "      <td>8</td>\n",
       "      <td>358</td>\n",
       "    </tr>\n",
       "    <tr>\n",
       "      <th>4</th>\n",
       "      <td>dD0gZpBctWGdWo9WlGuhlA</td>\n",
       "      <td>Angela</td>\n",
       "      <td>4.85</td>\n",
       "      <td>2014-05-22</td>\n",
       "      <td>17</td>\n",
       "      <td>0</td>\n",
       "      <td>5</td>\n",
       "      <td>30</td>\n",
       "      <td>14</td>\n",
       "      <td>4</td>\n",
       "      <td>12598</td>\n",
       "    </tr>\n",
       "    <tr>\n",
       "      <th>5</th>\n",
       "      <td>MM4RJAeH6yuaN8oZDSt0RA</td>\n",
       "      <td>Nancy</td>\n",
       "      <td>4.08</td>\n",
       "      <td>2013-10-23</td>\n",
       "      <td>361</td>\n",
       "      <td>4</td>\n",
       "      <td>39</td>\n",
       "      <td>1114</td>\n",
       "      <td>665</td>\n",
       "      <td>279</td>\n",
       "      <td>5542</td>\n",
       "    </tr>\n",
       "  </tbody>\n",
       "</table>\n",
       "</div>"
      ],
      "text/plain": [
       "                  user_id user_name  average_stars yelping_since  review  \\\n",
       "1  l6BmjZMeQD3rDxWUbiAiow    Rashmi           4.03    2013-10-08      95   \n",
       "2  4XChL029mKr5hydo79Ljxg     Jenna           3.63    2013-02-21      33   \n",
       "3  bc8C_eETBWL0olvFSJJd0w     David           3.71    2013-10-04      16   \n",
       "4  dD0gZpBctWGdWo9WlGuhlA    Angela           4.85    2014-05-22      17   \n",
       "5  MM4RJAeH6yuaN8oZDSt0RA     Nancy           4.08    2013-10-23     361   \n",
       "\n",
       "   years_of_elite  fans  useful  cool  funny  friends  \n",
       "1               3     5      84    25     17     2374  \n",
       "2               0     4      48    16     22    27646  \n",
       "3               0     0      28    10      8      358  \n",
       "4               0     5      30    14      4    12598  \n",
       "5               4    39    1114   665    279     5542  "
      ]
     },
     "execution_count": 151,
     "metadata": {},
     "output_type": "execute_result"
    }
   ],
   "source": [
    "users = users.rename(columns={'elite':'years_of_elite'})\n",
    "users.head()"
   ]
  },
  {
   "cell_type": "code",
   "execution_count": 152,
   "metadata": {
    "pycharm": {
     "is_executing": false
    }
   },
   "outputs": [],
   "source": [
    "users.to_pickle('../dataset/all_users.pickle')"
   ]
  },
  {
   "cell_type": "markdown",
   "metadata": {},
   "source": [
    "### Cleaning Tip Dataset\n",
    "\n",
    "#### Working with tip pickle file"
   ]
  },
  {
   "cell_type": "markdown",
   "metadata": {},
   "source": [
    "Summary of Actions:\n",
    "\n",
    "- Since the original tip dataset only contain business_id, we extracted 'business_id' and 'name' from restaurant dataset in order to add the 'name' column in the tip_new dataset. \n",
    "- We added the column through doing an inner join.\n",
    "- Also, we used the pandas to_datetime to drop the time of the 'date'column. \n",
    "- After that, we rearrange the column orders and renamed the columns names so we do not have same names accross different dataset.\n",
    "- Save the pickle file again with the new operations performed."
   ]
  },
  {
   "cell_type": "code",
   "execution_count": 174,
   "metadata": {
    "pycharm": {
     "is_executing": false
    }
   },
   "outputs": [
    {
     "data": {
      "text/html": [
       "<div>\n",
       "<style scoped>\n",
       "    .dataframe tbody tr th:only-of-type {\n",
       "        vertical-align: middle;\n",
       "    }\n",
       "\n",
       "    .dataframe tbody tr th {\n",
       "        vertical-align: top;\n",
       "    }\n",
       "\n",
       "    .dataframe thead th {\n",
       "        text-align: right;\n",
       "    }\n",
       "</style>\n",
       "<table border=\"1\" class=\"dataframe\">\n",
       "  <thead>\n",
       "    <tr style=\"text-align: right;\">\n",
       "      <th></th>\n",
       "      <th>user_id</th>\n",
       "      <th>business_id</th>\n",
       "      <th>text</th>\n",
       "      <th>date</th>\n",
       "      <th>compliment_count</th>\n",
       "    </tr>\n",
       "  </thead>\n",
       "  <tbody>\n",
       "    <tr>\n",
       "      <th>0</th>\n",
       "      <td>UPw5DWs_b-e2JRBS-t37Ag</td>\n",
       "      <td>VaKXUpmWTTWDKbpJ3aQdMw</td>\n",
       "      <td>Great for watching games, ufc, and whatever el...</td>\n",
       "      <td>2014-03-27 03:51:24</td>\n",
       "      <td>0</td>\n",
       "    </tr>\n",
       "    <tr>\n",
       "      <th>1</th>\n",
       "      <td>Ocha4kZBHb4JK0lOWvE0sg</td>\n",
       "      <td>OPiPeoJiv92rENwbq76orA</td>\n",
       "      <td>Happy Hour 2-4 daily with 1/2 price drinks and...</td>\n",
       "      <td>2013-05-25 06:00:56</td>\n",
       "      <td>0</td>\n",
       "    </tr>\n",
       "    <tr>\n",
       "      <th>2</th>\n",
       "      <td>jRyO2V1pA4CdVVqCIOPc1Q</td>\n",
       "      <td>5KheTjYPu1HcQzQFtm4_vw</td>\n",
       "      <td>Good chips and salsa. Loud at times. Good serv...</td>\n",
       "      <td>2011-12-26 01:46:17</td>\n",
       "      <td>0</td>\n",
       "    </tr>\n",
       "    <tr>\n",
       "      <th>3</th>\n",
       "      <td>FuTJWFYm4UKqewaosss1KA</td>\n",
       "      <td>TkoyGi8J7YFjA6SbaRzrxg</td>\n",
       "      <td>The setting and decoration here is amazing. Co...</td>\n",
       "      <td>2014-03-23 21:32:49</td>\n",
       "      <td>0</td>\n",
       "    </tr>\n",
       "    <tr>\n",
       "      <th>4</th>\n",
       "      <td>LUlKtaM3nXd-E4N4uOk_fQ</td>\n",
       "      <td>AkL6Ous6A1atZejfZXn1Bg</td>\n",
       "      <td>Molly is definately taking a picture with Sant...</td>\n",
       "      <td>2012-10-06 00:19:27</td>\n",
       "      <td>0</td>\n",
       "    </tr>\n",
       "  </tbody>\n",
       "</table>\n",
       "</div>"
      ],
      "text/plain": [
       "                  user_id             business_id  \\\n",
       "0  UPw5DWs_b-e2JRBS-t37Ag  VaKXUpmWTTWDKbpJ3aQdMw   \n",
       "1  Ocha4kZBHb4JK0lOWvE0sg  OPiPeoJiv92rENwbq76orA   \n",
       "2  jRyO2V1pA4CdVVqCIOPc1Q  5KheTjYPu1HcQzQFtm4_vw   \n",
       "3  FuTJWFYm4UKqewaosss1KA  TkoyGi8J7YFjA6SbaRzrxg   \n",
       "4  LUlKtaM3nXd-E4N4uOk_fQ  AkL6Ous6A1atZejfZXn1Bg   \n",
       "\n",
       "                                                text                date  \\\n",
       "0  Great for watching games, ufc, and whatever el... 2014-03-27 03:51:24   \n",
       "1  Happy Hour 2-4 daily with 1/2 price drinks and... 2013-05-25 06:00:56   \n",
       "2  Good chips and salsa. Loud at times. Good serv... 2011-12-26 01:46:17   \n",
       "3  The setting and decoration here is amazing. Co... 2014-03-23 21:32:49   \n",
       "4  Molly is definately taking a picture with Sant... 2012-10-06 00:19:27   \n",
       "\n",
       "   compliment_count  \n",
       "0                 0  \n",
       "1                 0  \n",
       "2                 0  \n",
       "3                 0  \n",
       "4                 0  "
      ]
     },
     "execution_count": 174,
     "metadata": {},
     "output_type": "execute_result"
    }
   ],
   "source": [
    "pickle_tip = open(\"../dataset/all_tips.pickle\",\"rb\")\n",
    "tip = pickle.load(pickle_tip)\n",
    "tip.head()"
   ]
  },
  {
   "cell_type": "code",
   "execution_count": 177,
   "metadata": {
    "pycharm": {
     "is_executing": false
    }
   },
   "outputs": [
    {
     "data": {
      "text/html": [
       "<div>\n",
       "<style scoped>\n",
       "    .dataframe tbody tr th:only-of-type {\n",
       "        vertical-align: middle;\n",
       "    }\n",
       "\n",
       "    .dataframe tbody tr th {\n",
       "        vertical-align: top;\n",
       "    }\n",
       "\n",
       "    .dataframe thead th {\n",
       "        text-align: right;\n",
       "    }\n",
       "</style>\n",
       "<table border=\"1\" class=\"dataframe\">\n",
       "  <thead>\n",
       "    <tr style=\"text-align: right;\">\n",
       "      <th></th>\n",
       "      <th>user_id</th>\n",
       "      <th>business_id</th>\n",
       "      <th>date</th>\n",
       "      <th>compliment_count</th>\n",
       "    </tr>\n",
       "  </thead>\n",
       "  <tbody>\n",
       "    <tr>\n",
       "      <th>0</th>\n",
       "      <td>UPw5DWs_b-e2JRBS-t37Ag</td>\n",
       "      <td>VaKXUpmWTTWDKbpJ3aQdMw</td>\n",
       "      <td>2014-03-27</td>\n",
       "      <td>0</td>\n",
       "    </tr>\n",
       "    <tr>\n",
       "      <th>1</th>\n",
       "      <td>Ocha4kZBHb4JK0lOWvE0sg</td>\n",
       "      <td>OPiPeoJiv92rENwbq76orA</td>\n",
       "      <td>2013-05-25</td>\n",
       "      <td>0</td>\n",
       "    </tr>\n",
       "    <tr>\n",
       "      <th>2</th>\n",
       "      <td>jRyO2V1pA4CdVVqCIOPc1Q</td>\n",
       "      <td>5KheTjYPu1HcQzQFtm4_vw</td>\n",
       "      <td>2011-12-26</td>\n",
       "      <td>0</td>\n",
       "    </tr>\n",
       "    <tr>\n",
       "      <th>3</th>\n",
       "      <td>FuTJWFYm4UKqewaosss1KA</td>\n",
       "      <td>TkoyGi8J7YFjA6SbaRzrxg</td>\n",
       "      <td>2014-03-23</td>\n",
       "      <td>0</td>\n",
       "    </tr>\n",
       "    <tr>\n",
       "      <th>4</th>\n",
       "      <td>LUlKtaM3nXd-E4N4uOk_fQ</td>\n",
       "      <td>AkL6Ous6A1atZejfZXn1Bg</td>\n",
       "      <td>2012-10-06</td>\n",
       "      <td>0</td>\n",
       "    </tr>\n",
       "  </tbody>\n",
       "</table>\n",
       "</div>"
      ],
      "text/plain": [
       "                  user_id             business_id        date  \\\n",
       "0  UPw5DWs_b-e2JRBS-t37Ag  VaKXUpmWTTWDKbpJ3aQdMw  2014-03-27   \n",
       "1  Ocha4kZBHb4JK0lOWvE0sg  OPiPeoJiv92rENwbq76orA  2013-05-25   \n",
       "2  jRyO2V1pA4CdVVqCIOPc1Q  5KheTjYPu1HcQzQFtm4_vw  2011-12-26   \n",
       "3  FuTJWFYm4UKqewaosss1KA  TkoyGi8J7YFjA6SbaRzrxg  2014-03-23   \n",
       "4  LUlKtaM3nXd-E4N4uOk_fQ  AkL6Ous6A1atZejfZXn1Bg  2012-10-06   \n",
       "\n",
       "   compliment_count  \n",
       "0                 0  \n",
       "1                 0  \n",
       "2                 0  \n",
       "3                 0  \n",
       "4                 0  "
      ]
     },
     "execution_count": 177,
     "metadata": {},
     "output_type": "execute_result"
    }
   ],
   "source": [
    "tip['date'] = pd.to_datetime(tip['date'])\n",
    "tip['date'] = tip['date'].dt.date\n",
    "tip = tip.drop(columns = ['text'])\n",
    "tip.head()"
   ]
  },
  {
   "cell_type": "code",
   "execution_count": 179,
   "metadata": {
    "pycharm": {
     "is_executing": false
    }
   },
   "outputs": [
    {
     "data": {
      "text/html": [
       "<div>\n",
       "<style scoped>\n",
       "    .dataframe tbody tr th:only-of-type {\n",
       "        vertical-align: middle;\n",
       "    }\n",
       "\n",
       "    .dataframe tbody tr th {\n",
       "        vertical-align: top;\n",
       "    }\n",
       "\n",
       "    .dataframe thead th {\n",
       "        text-align: right;\n",
       "    }\n",
       "</style>\n",
       "<table border=\"1\" class=\"dataframe\">\n",
       "  <thead>\n",
       "    <tr style=\"text-align: right;\">\n",
       "      <th></th>\n",
       "      <th>user_id</th>\n",
       "      <th>business_id</th>\n",
       "      <th>tips_date</th>\n",
       "      <th>compliment_count</th>\n",
       "    </tr>\n",
       "  </thead>\n",
       "  <tbody>\n",
       "    <tr>\n",
       "      <th>0</th>\n",
       "      <td>UPw5DWs_b-e2JRBS-t37Ag</td>\n",
       "      <td>VaKXUpmWTTWDKbpJ3aQdMw</td>\n",
       "      <td>2014-03-27</td>\n",
       "      <td>0</td>\n",
       "    </tr>\n",
       "    <tr>\n",
       "      <th>1</th>\n",
       "      <td>Ocha4kZBHb4JK0lOWvE0sg</td>\n",
       "      <td>OPiPeoJiv92rENwbq76orA</td>\n",
       "      <td>2013-05-25</td>\n",
       "      <td>0</td>\n",
       "    </tr>\n",
       "    <tr>\n",
       "      <th>2</th>\n",
       "      <td>jRyO2V1pA4CdVVqCIOPc1Q</td>\n",
       "      <td>5KheTjYPu1HcQzQFtm4_vw</td>\n",
       "      <td>2011-12-26</td>\n",
       "      <td>0</td>\n",
       "    </tr>\n",
       "    <tr>\n",
       "      <th>3</th>\n",
       "      <td>FuTJWFYm4UKqewaosss1KA</td>\n",
       "      <td>TkoyGi8J7YFjA6SbaRzrxg</td>\n",
       "      <td>2014-03-23</td>\n",
       "      <td>0</td>\n",
       "    </tr>\n",
       "    <tr>\n",
       "      <th>4</th>\n",
       "      <td>LUlKtaM3nXd-E4N4uOk_fQ</td>\n",
       "      <td>AkL6Ous6A1atZejfZXn1Bg</td>\n",
       "      <td>2012-10-06</td>\n",
       "      <td>0</td>\n",
       "    </tr>\n",
       "  </tbody>\n",
       "</table>\n",
       "</div>"
      ],
      "text/plain": [
       "                  user_id             business_id   tips_date  \\\n",
       "0  UPw5DWs_b-e2JRBS-t37Ag  VaKXUpmWTTWDKbpJ3aQdMw  2014-03-27   \n",
       "1  Ocha4kZBHb4JK0lOWvE0sg  OPiPeoJiv92rENwbq76orA  2013-05-25   \n",
       "2  jRyO2V1pA4CdVVqCIOPc1Q  5KheTjYPu1HcQzQFtm4_vw  2011-12-26   \n",
       "3  FuTJWFYm4UKqewaosss1KA  TkoyGi8J7YFjA6SbaRzrxg  2014-03-23   \n",
       "4  LUlKtaM3nXd-E4N4uOk_fQ  AkL6Ous6A1atZejfZXn1Bg  2012-10-06   \n",
       "\n",
       "   compliment_count  \n",
       "0                 0  \n",
       "1                 0  \n",
       "2                 0  \n",
       "3                 0  \n",
       "4                 0  "
      ]
     },
     "execution_count": 179,
     "metadata": {},
     "output_type": "execute_result"
    }
   ],
   "source": [
    "tip = tip.rename(columns={'date':'tips_date'})\n",
    "tip.head()"
   ]
  },
  {
   "cell_type": "code",
   "execution_count": 180,
   "metadata": {
    "pycharm": {
     "is_executing": false
    }
   },
   "outputs": [],
   "source": [
    "tip.to_pickle('../dataset/all_tips.pickle')"
   ]
  },
  {
   "cell_type": "code",
   "execution_count": null,
   "metadata": {
    "pycharm": {
     "is_executing": true,
     "name": "#%%\n"
    }
   },
   "outputs": [],
   "source": [
    "%reset\n"
   ]
  }
 ],
 "metadata": {
  "kernelspec": {
   "display_name": "Python 3",
   "language": "python",
   "name": "python3"
  },
  "language_info": {
   "codemirror_mode": {
    "name": "ipython",
    "version": 3
   },
   "file_extension": ".py",
   "mimetype": "text/x-python",
   "name": "python",
   "nbconvert_exporter": "python",
   "pygments_lexer": "ipython3",
   "version": "3.6.8"
  },
  "pycharm": {
   "stem_cell": {
    "cell_type": "raw",
    "metadata": {
     "collapsed": false
    },
    "source": []
   }
  }
 },
 "nbformat": 4,
 "nbformat_minor": 1
}
