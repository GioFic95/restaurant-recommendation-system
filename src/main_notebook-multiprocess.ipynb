{
 "cells": [
  {
   "cell_type": "markdown",
   "metadata": {
    "pycharm": {
     "name": "#%% md\n"
    }
   },
   "source": [
    "# Recommendation system for restaurants\n",
    "### Based on the [Yelp Dataset](https://www.kaggle.com/yelp-dataset/yelp-dataset).  "
   ]
  },
  {
   "cell_type": "markdown",
   "metadata": {
    "pycharm": {
     "name": "#%% md\n"
    }
   },
   "source": [
    "## 0. Libraries\n",
    "First of all, we define all the libraries we need."
   ]
  },
  {
   "cell_type": "code",
   "execution_count": 1,
   "metadata": {
    "pycharm": {
     "is_executing": false,
     "name": "#%% \n"
    }
   },
   "outputs": [],
   "source": [
    "from matplotlib.ticker import PercentFormatter as _PercentFormatter\n",
    "import matplotlib.pyplot as _plt \n",
    "import numpy as _np\n",
    "import pandas as _pd\n",
    "import joblib as _jl\n",
    "import glob as _glob\n",
    "import os as _os\n",
    "import time as _time\n",
    "from multiprocessing import Pool as _Pool\n",
    "from sklearn.metrics import confusion_matrix as _confusion_matrix, roc_curve as _roc_curve, classification_report as _classification_report, accuracy_score as _accuracy_score\n",
    "from sklearn.model_selection import cross_val_score as _cross_val_score\n",
    "from sklearn.svm import LinearSVC as _LinearSVC"
   ]
  },
  {
   "cell_type": "markdown",
   "metadata": {
    "pycharm": {
     "name": "#%% md\n"
    }
   },
   "source": [
    "Since we are going to use big datasets, and we'll need to load them more\n",
    "times, we define a commodity function that deletes all user defined variables,\n",
    "in order to free some memory."
   ]
  },
  {
   "cell_type": "code",
   "execution_count": 2,
   "metadata": {
    "pycharm": {
     "is_executing": false,
     "name": "#%%\n"
    }
   },
   "outputs": [],
   "source": [
    "def _del_all():\n",
    "    %reset_selective -f [^_]"
   ]
  },
  {
   "cell_type": "markdown",
   "metadata": {},
   "source": [
    "## 1. Data cleaning\n",
    "### Based on [Ashish Gandhe's kernel](https://www.kaggle.com/wenqihou828/recommendation-for-yelp-users-itself).\n",
    "\n",
    "We execute the code in ```recommendation_system_preprocessing.ipynb``` in order to\n",
    "clean the data and to reduce the size of the dataset, using pickles instead of json and dropping unnecessary columns.\n",
    "\n",
    "We explore the resulting datasets: "
   ]
  },
  {
   "cell_type": "code",
   "execution_count": 5,
   "metadata": {
    "pycharm": {
     "is_executing": false,
     "name": "#%%\n"
    }
   },
   "outputs": [
    {
     "name": "stdout",
     "output_type": "stream",
     "text": [
      "Dataset 'all_checkin':\n",
      "\tfeatures: business_id, date\n",
      "\tshape: (57402, 2)\n",
      "\n",
      "Dataset 'all_review':\n",
      "\tfeatures: review_id, user_id, business_id, stars, useful, funny, cool, text, date\n",
      "\tshape: (4201684, 9)\n",
      "\n",
      "Dataset 'all_tips':\n",
      "\tfeatures: restaurant_name, tips_date, user_id\n",
      "\tshape: (770878, 3)\n",
      "\n",
      "Dataset 'all_users':\n",
      "\tfeatures: user_id, user_name, average_stars, yelping_since, review, years_of_elite, fans, useful, cool, funny, friends\n",
      "\tshape: (1148098, 11)\n",
      "\n",
      "Dataset 'restaurants':\n",
      "\tfeatures: name, business_id, address, cuisine, postal_code, latitude, longitude, review_count, stars, OutdoorSeating, BusinessAcceptsCreditCards, RestaurantsDelivery, RestaurantsReservations, WiFi, Alcohol, categories, city, Monday_Open, Tuesday_Open, Wednesday_Open, Thursday_Open, Friday_Open, Saturday_Open, Sunday_Open, Monday_Close, Tuesday_Close, Wednesday_Close, Thursday_Close, Friday_Close, Saturday_Close, Sunday_Close\n",
      "\tshape: (59371, 31)\n",
      "\n"
     ]
    }
   ],
   "source": [
    "dataset_list = _glob.glob(\"../dataset/[!checked]*.pickle\")\n",
    "for d in dataset_list:\n",
    "    dataset = _pd.read_pickle(d)\n",
    "    \n",
    "    f = _os.path.splitext(_os.path.basename(d))[0]\n",
    "    c = \", \".join(list(dataset.columns))\n",
    "    s = dataset.shape\n",
    "    \n",
    "    print(\"Dataset '\" + f + \"':\")\n",
    "    print(\"\\tfeatures:\", c)\n",
    "    print(\"\\tshape:\", s)\n",
    "    print()"
   ]
  },
  {
   "cell_type": "code",
   "execution_count": 10,
   "metadata": {
    "pycharm": {
     "is_executing": false,
     "name": "#%%\n"
    }
   },
   "outputs": [],
   "source": [
    "_del_all()"
   ]
  },
  {
   "cell_type": "markdown",
   "metadata": {
    "pycharm": {
     "name": "#%% md\n"
    }
   },
   "source": [
    "## 2. Fake Review Detection\n",
    "### Based on Zhiwei Zhang's [work](https://medium.com/@zhiwei_zhang/final-blog-642fb9c7e781) and [code](https://github.com/zzhang83/Yelp_Sentiment_Analysis)."
   ]
  },
  {
   "cell_type": "markdown",
   "metadata": {
    "pycharm": {
     "name": "#%% md\n"
    }
   },
   "source": [
    "Then, in order to filter out deceptive reviews, that could alter the results\n",
    "of our analysis, we load the model based on Support Vector Machine\n",
    "defined in ```Yelp_sentiment_analysis/Scripts/fake_reviews.ipynb```\n",
    "by [Zhiwei Zhang](https://medium.com/@zhiwei_zhang/final-blog-642fb9c7e781),\n",
    "that has the best scores for accuracy, precision, recall and f1-score."
   ]
  },
  {
   "cell_type": "code",
   "execution_count": 2,
   "metadata": {
    "pycharm": {
     "is_executing": false,
     "name": "#%%\n"
    }
   },
   "outputs": [],
   "source": [
    "vectorizer = _jl.load('../models/tfidf_vectorizer.joblib')\n",
    "svc = _jl.load('../models/fake_review_svc_model.joblib')"
   ]
  },
  {
   "cell_type": "markdown",
   "metadata": {},
   "source": [
    "Now, we can apply this model to our data."
   ]
  },
  {
   "cell_type": "code",
   "execution_count": 4,
   "metadata": {
    "pycharm": {
     "is_executing": false,
     "name": "#%%\n"
    }
   },
   "outputs": [
    {
     "data": {
      "text/html": [
       "<div>\n",
       "<style scoped>\n",
       "    .dataframe tbody tr th:only-of-type {\n",
       "        vertical-align: middle;\n",
       "    }\n",
       "\n",
       "    .dataframe tbody tr th {\n",
       "        vertical-align: top;\n",
       "    }\n",
       "\n",
       "    .dataframe thead th {\n",
       "        text-align: right;\n",
       "    }\n",
       "</style>\n",
       "<table border=\"1\" class=\"dataframe\">\n",
       "  <thead>\n",
       "    <tr style=\"text-align: right;\">\n",
       "      <th></th>\n",
       "      <th>review_id</th>\n",
       "      <th>user_id</th>\n",
       "      <th>business_id</th>\n",
       "      <th>stars</th>\n",
       "      <th>useful</th>\n",
       "      <th>funny</th>\n",
       "      <th>cool</th>\n",
       "      <th>text</th>\n",
       "      <th>date</th>\n",
       "    </tr>\n",
       "  </thead>\n",
       "  <tbody>\n",
       "    <tr>\n",
       "      <th>3</th>\n",
       "      <td>yi0R0Ugj_xUx_Nek0-_Qig</td>\n",
       "      <td>dacAIZ6fTM6mqwW5uxkskg</td>\n",
       "      <td>ikCg8xy5JIg_NGPx-MSIDA</td>\n",
       "      <td>5</td>\n",
       "      <td>0</td>\n",
       "      <td>0</td>\n",
       "      <td>0</td>\n",
       "      <td>Went in for a lunch. Steak sandwich was delici...</td>\n",
       "      <td>2018-01-09 20:56:38</td>\n",
       "    </tr>\n",
       "    <tr>\n",
       "      <th>5</th>\n",
       "      <td>fdiNeiN_hoCxCMy2wTRW9g</td>\n",
       "      <td>w31MKYsNFMrjhWxxAb5wIw</td>\n",
       "      <td>eU_713ec6fTGNO4BegRaww</td>\n",
       "      <td>4</td>\n",
       "      <td>0</td>\n",
       "      <td>0</td>\n",
       "      <td>0</td>\n",
       "      <td>I'll be the first to admit that I was not exci...</td>\n",
       "      <td>2013-01-20 13:25:59</td>\n",
       "    </tr>\n",
       "    <tr>\n",
       "      <th>6</th>\n",
       "      <td>G7XHMxG0bx9oBJNECG4IFg</td>\n",
       "      <td>jlu4CztcSxrKx56ba1a5AQ</td>\n",
       "      <td>3fw2X5bZYeW9xCz_zGhOHg</td>\n",
       "      <td>3</td>\n",
       "      <td>5</td>\n",
       "      <td>4</td>\n",
       "      <td>5</td>\n",
       "      <td>Tracy dessert had a big name in Hong Kong and ...</td>\n",
       "      <td>2016-05-07 01:21:02</td>\n",
       "    </tr>\n",
       "    <tr>\n",
       "      <th>7</th>\n",
       "      <td>8e9HxxLjjqc9ez5ezzN7iQ</td>\n",
       "      <td>d6xvYpyzcfbF_AZ8vMB7QA</td>\n",
       "      <td>zvO-PJCpNk4fgAVUnExYAA</td>\n",
       "      <td>1</td>\n",
       "      <td>3</td>\n",
       "      <td>1</td>\n",
       "      <td>1</td>\n",
       "      <td>This place has gone down hill.  Clearly they h...</td>\n",
       "      <td>2010-10-05 19:12:35</td>\n",
       "    </tr>\n",
       "    <tr>\n",
       "      <th>10</th>\n",
       "      <td>kbtscdyz6lvrtGjD1quQTg</td>\n",
       "      <td>FIk4lQQu1eTe2EpzQ4xhBA</td>\n",
       "      <td>8mIrX_LrOnAqWsB5JrOojQ</td>\n",
       "      <td>4</td>\n",
       "      <td>0</td>\n",
       "      <td>0</td>\n",
       "      <td>0</td>\n",
       "      <td>Like walking back in time, every Saturday morn...</td>\n",
       "      <td>2011-11-30 02:11:15</td>\n",
       "    </tr>\n",
       "  </tbody>\n",
       "</table>\n",
       "</div>"
      ],
      "text/plain": [
       "                 review_id                 user_id             business_id  \\\n",
       "3   yi0R0Ugj_xUx_Nek0-_Qig  dacAIZ6fTM6mqwW5uxkskg  ikCg8xy5JIg_NGPx-MSIDA   \n",
       "5   fdiNeiN_hoCxCMy2wTRW9g  w31MKYsNFMrjhWxxAb5wIw  eU_713ec6fTGNO4BegRaww   \n",
       "6   G7XHMxG0bx9oBJNECG4IFg  jlu4CztcSxrKx56ba1a5AQ  3fw2X5bZYeW9xCz_zGhOHg   \n",
       "7   8e9HxxLjjqc9ez5ezzN7iQ  d6xvYpyzcfbF_AZ8vMB7QA  zvO-PJCpNk4fgAVUnExYAA   \n",
       "10  kbtscdyz6lvrtGjD1quQTg  FIk4lQQu1eTe2EpzQ4xhBA  8mIrX_LrOnAqWsB5JrOojQ   \n",
       "\n",
       "    stars  useful  funny  cool  \\\n",
       "3       5       0      0     0   \n",
       "5       4       0      0     0   \n",
       "6       3       5      4     5   \n",
       "7       1       3      1     1   \n",
       "10      4       0      0     0   \n",
       "\n",
       "                                                 text                date  \n",
       "3   Went in for a lunch. Steak sandwich was delici... 2018-01-09 20:56:38  \n",
       "5   I'll be the first to admit that I was not exci... 2013-01-20 13:25:59  \n",
       "6   Tracy dessert had a big name in Hong Kong and ... 2016-05-07 01:21:02  \n",
       "7   This place has gone down hill.  Clearly they h... 2010-10-05 19:12:35  \n",
       "10  Like walking back in time, every Saturday morn... 2011-11-30 02:11:15  "
      ]
     },
     "execution_count": 4,
     "metadata": {},
     "output_type": "execute_result"
    }
   ],
   "source": [
    "review = _pd.read_pickle(\"../dataset/all_review.pickle\")\n",
    "\n",
    "review.head()"
   ]
  },
  {
   "cell_type": "code",
   "execution_count": 5,
   "metadata": {
    "pycharm": {
     "is_executing": false,
     "name": "#%%\n"
    }
   },
   "outputs": [],
   "source": [
    "texts = list(review[\"text\"])\n",
    "X = vectorizer.transform(texts)\n",
    "predictions = svc.predict(X)"
   ]
  },
  {
   "cell_type": "code",
   "execution_count": 6,
   "metadata": {
    "pycharm": {
     "is_executing": false,
     "name": "#%%\n"
    }
   },
   "outputs": [
    {
     "name": "stdout",
     "output_type": "stream",
     "text": [
      "<class 'numpy.ndarray'>\n",
      "SVC predictions: [1 1 1 ... 1 1 1]\n"
     ]
    }
   ],
   "source": [
    "print(type(predictions))\n",
    "print(\"SVC predictions:\", predictions)"
   ]
  },
  {
   "cell_type": "markdown",
   "metadata": {},
   "source": [
    "Now we repeat the whole process with a different model that allows us to\n",
    "obtain real weights instead of a binary evaluation. "
   ]
  },
  {
   "cell_type": "code",
   "execution_count": 7,
   "metadata": {
    "pycharm": {
     "is_executing": false,
     "name": "#%%\n"
    }
   },
   "outputs": [],
   "source": [
    "cal_svc = _jl.load('../models/fake_review_cal_svc_model.joblib')\n",
    "cal_predictions = cal_svc.predict_proba(X)\n"
   ]
  },
  {
   "cell_type": "code",
   "execution_count": 8,
   "metadata": {
    "pycharm": {
     "is_executing": false,
     "name": "#%%\n"
    }
   },
   "outputs": [
    {
     "name": "stdout",
     "output_type": "stream",
     "text": [
      "Calibrated SVC predictions:\n",
      " [[0.12112422 0.87887578]\n",
      " [0.011      0.989     ]\n",
      " [0.03538102 0.96461898]\n",
      " ...\n",
      " [0.36147536 0.63852464]\n",
      " [0.00379598 0.99620402]\n",
      " [0.00133685 0.99866315]]\n",
      "Calibrated SVC predictions for class '1':\n",
      " [0.87887578 0.989      0.96461898 ... 0.63852464 0.99620402 0.99866315]\n"
     ]
    }
   ],
   "source": [
    "print(\"Calibrated SVC predictions:\\n\", cal_predictions)\n",
    "cal_predictions = _np.array([x[1] for x in cal_predictions])\n",
    "print(\"Calibrated SVC predictions for class '1':\\n\", cal_predictions)"
   ]
  },
  {
   "cell_type": "code",
   "execution_count": 9,
   "metadata": {
    "pycharm": {
     "is_executing": false,
     "name": "#%%\n"
    }
   },
   "outputs": [
    {
     "name": "stdout",
     "output_type": "stream",
     "text": [
      "columns before:\n",
      " Index(['review_id', 'user_id', 'business_id', 'stars', 'useful', 'funny',\n",
      "       'cool', 'text', 'date'],\n",
      "      dtype='object')\n",
      "columns after:\n",
      " Index(['review_id', 'user_id', 'business_id', 'stars', 'useful', 'funny',\n",
      "       'cool', 'text', 'date', 'bin_truth_score', 'real_truth_score'],\n",
      "      dtype='object')\n"
     ]
    }
   ],
   "source": [
    "print(\"columns before:\\n\", review.columns)\n",
    "checked_review = review.assign(bin_truth_score=predictions, real_truth_score=cal_predictions)\n",
    "print(\"columns after:\\n\", checked_review.columns)"
   ]
  },
  {
   "cell_type": "markdown",
   "metadata": {
    "pycharm": {
     "name": "#%% md\n"
    }
   },
   "source": [
    "Let's see what we just obtained."
   ]
  },
  {
   "cell_type": "code",
   "execution_count": 10,
   "metadata": {
    "pycharm": {
     "is_executing": false,
     "name": "#%%\n"
    }
   },
   "outputs": [
    {
     "data": {
      "text/html": [
       "<div>\n",
       "<style scoped>\n",
       "    .dataframe tbody tr th:only-of-type {\n",
       "        vertical-align: middle;\n",
       "    }\n",
       "\n",
       "    .dataframe tbody tr th {\n",
       "        vertical-align: top;\n",
       "    }\n",
       "\n",
       "    .dataframe thead th {\n",
       "        text-align: right;\n",
       "    }\n",
       "</style>\n",
       "<table border=\"1\" class=\"dataframe\">\n",
       "  <thead>\n",
       "    <tr style=\"text-align: right;\">\n",
       "      <th></th>\n",
       "      <th>review_id</th>\n",
       "      <th>text</th>\n",
       "      <th>bin_truth_score</th>\n",
       "      <th>real_truth_score</th>\n",
       "    </tr>\n",
       "  </thead>\n",
       "  <tbody>\n",
       "    <tr>\n",
       "      <th>3</th>\n",
       "      <td>yi0R0Ugj_xUx_Nek0-_Qig</td>\n",
       "      <td>Went in for a lunch. Steak sandwich was delici...</td>\n",
       "      <td>1</td>\n",
       "      <td>0.878876</td>\n",
       "    </tr>\n",
       "    <tr>\n",
       "      <th>5</th>\n",
       "      <td>fdiNeiN_hoCxCMy2wTRW9g</td>\n",
       "      <td>I'll be the first to admit that I was not exci...</td>\n",
       "      <td>1</td>\n",
       "      <td>0.989000</td>\n",
       "    </tr>\n",
       "    <tr>\n",
       "      <th>6</th>\n",
       "      <td>G7XHMxG0bx9oBJNECG4IFg</td>\n",
       "      <td>Tracy dessert had a big name in Hong Kong and ...</td>\n",
       "      <td>1</td>\n",
       "      <td>0.964619</td>\n",
       "    </tr>\n",
       "    <tr>\n",
       "      <th>7</th>\n",
       "      <td>8e9HxxLjjqc9ez5ezzN7iQ</td>\n",
       "      <td>This place has gone down hill.  Clearly they h...</td>\n",
       "      <td>1</td>\n",
       "      <td>0.867897</td>\n",
       "    </tr>\n",
       "    <tr>\n",
       "      <th>10</th>\n",
       "      <td>kbtscdyz6lvrtGjD1quQTg</td>\n",
       "      <td>Like walking back in time, every Saturday morn...</td>\n",
       "      <td>1</td>\n",
       "      <td>0.975404</td>\n",
       "    </tr>\n",
       "  </tbody>\n",
       "</table>\n",
       "</div>"
      ],
      "text/plain": [
       "                 review_id                                               text  \\\n",
       "3   yi0R0Ugj_xUx_Nek0-_Qig  Went in for a lunch. Steak sandwich was delici...   \n",
       "5   fdiNeiN_hoCxCMy2wTRW9g  I'll be the first to admit that I was not exci...   \n",
       "6   G7XHMxG0bx9oBJNECG4IFg  Tracy dessert had a big name in Hong Kong and ...   \n",
       "7   8e9HxxLjjqc9ez5ezzN7iQ  This place has gone down hill.  Clearly they h...   \n",
       "10  kbtscdyz6lvrtGjD1quQTg  Like walking back in time, every Saturday morn...   \n",
       "\n",
       "    bin_truth_score  real_truth_score  \n",
       "3                 1          0.878876  \n",
       "5                 1          0.989000  \n",
       "6                 1          0.964619  \n",
       "7                 1          0.867897  \n",
       "10                1          0.975404  "
      ]
     },
     "execution_count": 10,
     "metadata": {},
     "output_type": "execute_result"
    }
   ],
   "source": [
    "checked_review[['review_id', 'text', 'bin_truth_score', 'real_truth_score']].head()"
   ]
  },
  {
   "cell_type": "code",
   "execution_count": 11,
   "metadata": {
    "pycharm": {
     "is_executing": false,
     "name": "#%%\n"
    }
   },
   "outputs": [
    {
     "data": {
      "image/png": "[encoded data removed]",
      "text/plain": [
       "<Figure size 432x288 with 1 Axes>"
      ]
     },
     "metadata": {
      "needs_background": "light"
     },
     "output_type": "display_data"
    }
   ],
   "source": [
    "data = checked_review['bin_truth_score']\n",
    "_plt.hist(data, weights=_np.ones(len(data)) / len(data))\n",
    "_plt.title(\"SVC labels distribution\")\n",
    "_plt.gca().yaxis.set_major_formatter(_PercentFormatter(1))\n",
    "_plt.show()"
   ]
  },
  {
   "cell_type": "code",
   "execution_count": 12,
   "metadata": {
    "pycharm": {
     "is_executing": false,
     "name": "#%%\n"
    }
   },
   "outputs": [
    {
     "data": {
      "image/png": "[encoded data removed]",
      "text/plain": [
       "<Figure size 432x288 with 1 Axes>"
      ]
     },
     "metadata": {
      "needs_background": "light"
     },
     "output_type": "display_data"
    }
   ],
   "source": [
    "data = checked_review['real_truth_score']\n",
    "_plt.hist(data, weights=_np.ones(len(data)) / len(data))\n",
    "_plt.title(\"Calibrated SVC labels distribution\")\n",
    "_plt.gca().yaxis.set_major_formatter(_PercentFormatter(1))\n",
    "_plt.show()"
   ]
  },
  {
   "cell_type": "markdown",
   "metadata": {
    "pycharm": {
     "name": "#%% md\n"
    }
   },
   "source": [
    "Finally, we can save the new dataset without the ```text``` column,\n",
    "in order to save space and computation time.  "
   ]
  },
  {
   "cell_type": "code",
   "execution_count": 17,
   "metadata": {
    "pycharm": {
     "is_executing": false,
     "name": "#%%\n"
    }
   },
   "outputs": [],
   "source": [
    "checked_review.drop(columns=['text'], inplace=True)\n",
    "checked_review.to_pickle('../dataset/checked_review.pickle')"
   ]
  },
  {
   "cell_type": "markdown",
   "metadata": {
    "pycharm": {
     "name": "#%% md\n"
    }
   },
   "source": [
    "Check that everything has worked properly. "
   ]
  },
  {
   "cell_type": "code",
   "execution_count": 18,
   "metadata": {
    "pycharm": {
     "is_executing": false,
     "name": "#%%\n"
    }
   },
   "outputs": [
    {
     "name": "stdout",
     "output_type": "stream",
     "text": [
      "Index(['review_id', 'user_id', 'business_id', 'stars', 'useful', 'funny',\n",
      "       'cool', 'date', 'bin_truth_score', 'real_truth_score'],\n",
      "      dtype='object')\n"
     ]
    },
    {
     "data": {
      "text/html": [
       "<div>\n",
       "<style scoped>\n",
       "    .dataframe tbody tr th:only-of-type {\n",
       "        vertical-align: middle;\n",
       "    }\n",
       "\n",
       "    .dataframe tbody tr th {\n",
       "        vertical-align: top;\n",
       "    }\n",
       "\n",
       "    .dataframe thead th {\n",
       "        text-align: right;\n",
       "    }\n",
       "</style>\n",
       "<table border=\"1\" class=\"dataframe\">\n",
       "  <thead>\n",
       "    <tr style=\"text-align: right;\">\n",
       "      <th></th>\n",
       "      <th>review_id</th>\n",
       "      <th>user_id</th>\n",
       "      <th>business_id</th>\n",
       "      <th>stars</th>\n",
       "      <th>useful</th>\n",
       "      <th>funny</th>\n",
       "      <th>cool</th>\n",
       "      <th>date</th>\n",
       "      <th>bin_truth_score</th>\n",
       "      <th>real_truth_score</th>\n",
       "    </tr>\n",
       "  </thead>\n",
       "  <tbody>\n",
       "    <tr>\n",
       "      <th>3</th>\n",
       "      <td>yi0R0Ugj_xUx_Nek0-_Qig</td>\n",
       "      <td>dacAIZ6fTM6mqwW5uxkskg</td>\n",
       "      <td>ikCg8xy5JIg_NGPx-MSIDA</td>\n",
       "      <td>5</td>\n",
       "      <td>0</td>\n",
       "      <td>0</td>\n",
       "      <td>0</td>\n",
       "      <td>2018-01-09 20:56:38</td>\n",
       "      <td>1</td>\n",
       "      <td>0.878876</td>\n",
       "    </tr>\n",
       "    <tr>\n",
       "      <th>5</th>\n",
       "      <td>fdiNeiN_hoCxCMy2wTRW9g</td>\n",
       "      <td>w31MKYsNFMrjhWxxAb5wIw</td>\n",
       "      <td>eU_713ec6fTGNO4BegRaww</td>\n",
       "      <td>4</td>\n",
       "      <td>0</td>\n",
       "      <td>0</td>\n",
       "      <td>0</td>\n",
       "      <td>2013-01-20 13:25:59</td>\n",
       "      <td>1</td>\n",
       "      <td>0.989000</td>\n",
       "    </tr>\n",
       "    <tr>\n",
       "      <th>6</th>\n",
       "      <td>G7XHMxG0bx9oBJNECG4IFg</td>\n",
       "      <td>jlu4CztcSxrKx56ba1a5AQ</td>\n",
       "      <td>3fw2X5bZYeW9xCz_zGhOHg</td>\n",
       "      <td>3</td>\n",
       "      <td>5</td>\n",
       "      <td>4</td>\n",
       "      <td>5</td>\n",
       "      <td>2016-05-07 01:21:02</td>\n",
       "      <td>1</td>\n",
       "      <td>0.964619</td>\n",
       "    </tr>\n",
       "    <tr>\n",
       "      <th>7</th>\n",
       "      <td>8e9HxxLjjqc9ez5ezzN7iQ</td>\n",
       "      <td>d6xvYpyzcfbF_AZ8vMB7QA</td>\n",
       "      <td>zvO-PJCpNk4fgAVUnExYAA</td>\n",
       "      <td>1</td>\n",
       "      <td>3</td>\n",
       "      <td>1</td>\n",
       "      <td>1</td>\n",
       "      <td>2010-10-05 19:12:35</td>\n",
       "      <td>1</td>\n",
       "      <td>0.867897</td>\n",
       "    </tr>\n",
       "    <tr>\n",
       "      <th>10</th>\n",
       "      <td>kbtscdyz6lvrtGjD1quQTg</td>\n",
       "      <td>FIk4lQQu1eTe2EpzQ4xhBA</td>\n",
       "      <td>8mIrX_LrOnAqWsB5JrOojQ</td>\n",
       "      <td>4</td>\n",
       "      <td>0</td>\n",
       "      <td>0</td>\n",
       "      <td>0</td>\n",
       "      <td>2011-11-30 02:11:15</td>\n",
       "      <td>1</td>\n",
       "      <td>0.975404</td>\n",
       "    </tr>\n",
       "  </tbody>\n",
       "</table>\n",
       "</div>"
      ],
      "text/plain": [
       "                 review_id                 user_id             business_id  \\\n",
       "3   yi0R0Ugj_xUx_Nek0-_Qig  dacAIZ6fTM6mqwW5uxkskg  ikCg8xy5JIg_NGPx-MSIDA   \n",
       "5   fdiNeiN_hoCxCMy2wTRW9g  w31MKYsNFMrjhWxxAb5wIw  eU_713ec6fTGNO4BegRaww   \n",
       "6   G7XHMxG0bx9oBJNECG4IFg  jlu4CztcSxrKx56ba1a5AQ  3fw2X5bZYeW9xCz_zGhOHg   \n",
       "7   8e9HxxLjjqc9ez5ezzN7iQ  d6xvYpyzcfbF_AZ8vMB7QA  zvO-PJCpNk4fgAVUnExYAA   \n",
       "10  kbtscdyz6lvrtGjD1quQTg  FIk4lQQu1eTe2EpzQ4xhBA  8mIrX_LrOnAqWsB5JrOojQ   \n",
       "\n",
       "    stars  useful  funny  cool                date  bin_truth_score  \\\n",
       "3       5       0      0     0 2018-01-09 20:56:38                1   \n",
       "5       4       0      0     0 2013-01-20 13:25:59                1   \n",
       "6       3       5      4     5 2016-05-07 01:21:02                1   \n",
       "7       1       3      1     1 2010-10-05 19:12:35                1   \n",
       "10      4       0      0     0 2011-11-30 02:11:15                1   \n",
       "\n",
       "    real_truth_score  \n",
       "3           0.878876  \n",
       "5           0.989000  \n",
       "6           0.964619  \n",
       "7           0.867897  \n",
       "10          0.975404  "
      ]
     },
     "execution_count": 18,
     "metadata": {},
     "output_type": "execute_result"
    }
   ],
   "source": [
    "final_review = _pd.read_pickle('../dataset/checked_review.pickle')\n",
    "print(final_review.columns)\n",
    "final_review.head()"
   ]
  },
  {
   "cell_type": "code",
   "execution_count": null,
   "metadata": {
    "pycharm": {
     "name": "#%%\n"
    }
   },
   "outputs": [],
   "source": [
    "_del_all()"
   ]
  },
  {
   "cell_type": "markdown",
   "metadata": {
    "pycharm": {
     "name": "#%% md\n"
    }
   },
   "source": [
    "## 3. Historical features\n",
    "\n",
    "Following [this paper](https://www.semanticscholar.org/paper/Restaurant-Recommendation-System-Gandhe/093cecc3e53f2ba4c0c466ad3d8294ba64962050),\n",
    "we add some historical features to our dataset:\n",
    "1. user-level features:\n",
    "    <br>1.1. average of the ratings given by a certain user,\n",
    "    <br>1.2. number of reviews written by a certain user,\n",
    "2. business-level features:\n",
    "    <br>2.1. average of the ratings given to a certain restaurant,\n",
    "    <br>2.2. number of reviews written about a certain restaurant,\n",
    "3. user-business features:\n",
    "    <br>3.1. average rating given by a certain user to each category,\n",
    "    <br>3.2. average of the ratings given by a certain user to the categories of a certain restaurant."
   ]
  },
  {
   "cell_type": "markdown",
   "metadata": {
    "pycharm": {
     "name": "#%% md\n"
    }
   },
   "source": [
    "Before proceeding with the computation of the new features, we have to split the dataset in three parts:\n",
    "1. <i>Test set</i>, from the last day considered in the dataset, to the previous `M` months;\n",
    "2. <i>Training set</i>, from the day before the beginning of the test set, up to `N` months before;\n",
    "3. <i>History</i>, the remaining part of the dataset, used to compute historical features."
   ]
  },
  {
   "cell_type": "markdown",
   "metadata": {
    "pycharm": {
     "name": "#%% md\n"
    }
   },
   "source": [
    "For the moment, we pick `m=2` and `n=9`, so the test set goes from 10/1/2018 to 11/30/2018,\n",
    "the training set goes from 1/1/2018 to 9/30/2018, the history contains the remaining data,\n",
    "from 10/12/2004 to 12/31/2017."
   ]
  },
  {
   "cell_type": "code",
   "execution_count": 7,
   "metadata": {
    "pycharm": {
     "is_executing": false,
     "name": "#%%\n"
    }
   },
   "outputs": [],
   "source": [
    "review_all = _pd.read_pickle(\"../dataset/checked_review.pickle\")\n",
    "review_test = review_all[review_all['date']>=_np.datetime64('2018-10-01')]\n",
    "review_train = review_all[(review_all['date']>=_np.datetime64('2018-01-01')) & (review_all['date']<_np.datetime64('2018-10-01'))]\n",
    "review_hist = review_all[review_all['date']<_np.datetime64('2018-01-01')]\n",
    "\n",
    "review_test.to_pickle('../dataset/m2_n9/review_test.pickle')\n",
    "review_train.to_pickle('../dataset/m2_n9/review_train.pickle')\n",
    "review_hist.to_pickle('../dataset/m2_n9/review_hist.pickle')"
   ]
  },
  {
   "cell_type": "code",
   "execution_count": 9,
   "metadata": {
    "pycharm": {
     "is_executing": false,
     "name": "#%%\n"
    }
   },
   "outputs": [],
   "source": [
    "tips_all = _pd.read_pickle(\"../dataset/all_tips.pickle\")\n",
    "tips_test = tips_all[tips_all['tips_date']>=_np.datetime64('2018-10-01')]\n",
    "tips_train = tips_all[(tips_all['tips_date']>=_np.datetime64('2018-01-01')) & (tips_all['tips_date']<_np.datetime64('2018-10-01'))]\n",
    "tips_hist = tips_all[tips_all['tips_date']<_np.datetime64('2018-01-01')]\n",
    "\n",
    "tips_test.to_pickle('../dataset/m2_n9/tips_test.pickle')\n",
    "tips_train.to_pickle('../dataset/m2_n9/tips_train.pickle')\n",
    "tips_hist.to_pickle('../dataset/m2_n9/tips_hist.pickle')"
   ]
  },
  {
   "cell_type": "code",
   "execution_count": 18,
   "metadata": {
    "pycharm": {
     "is_executing": false,
     "name": "#%%\n"
    }
   },
   "outputs": [],
   "source": [
    "_del_all()"
   ]
  },
  {
   "cell_type": "markdown",
   "metadata": {},
   "source": [
    "### User-level features"
   ]
  },
  {
   "cell_type": "code",
   "execution_count": 3,
   "metadata": {
    "pycharm": {
     "is_executing": false,
     "name": "#%%\n"
    }
   },
   "outputs": [],
   "source": [
    "review_hist = _pd.read_pickle('../dataset/m2_n9/review_hist.pickle')\n",
    "users = _pd.read_pickle(\"../dataset/all_users.pickle\")"
   ]
  },
  {
   "cell_type": "code",
   "execution_count": 8,
   "metadata": {
    "pycharm": {
     "is_executing": false,
     "name": "#%%\n"
    }
   },
   "outputs": [
    {
     "data": {
      "text/html": [
       "<div>\n",
       "<style scoped>\n",
       "    .dataframe tbody tr th:only-of-type {\n",
       "        vertical-align: middle;\n",
       "    }\n",
       "\n",
       "    .dataframe tbody tr th {\n",
       "        vertical-align: top;\n",
       "    }\n",
       "\n",
       "    .dataframe thead th {\n",
       "        text-align: right;\n",
       "    }\n",
       "</style>\n",
       "<table border=\"1\" class=\"dataframe\">\n",
       "  <thead>\n",
       "    <tr style=\"text-align: right;\">\n",
       "      <th></th>\n",
       "      <th>user_name</th>\n",
       "      <th>average_stars</th>\n",
       "      <th>yelping_since</th>\n",
       "      <th>review</th>\n",
       "      <th>years_of_elite</th>\n",
       "      <th>fans</th>\n",
       "      <th>useful</th>\n",
       "      <th>cool</th>\n",
       "      <th>funny</th>\n",
       "      <th>friends</th>\n",
       "      <th>num_reviews</th>\n",
       "      <th>average_stars_bin</th>\n",
       "      <th>num_reviews_bin</th>\n",
       "      <th>average_stars_real</th>\n",
       "      <th>num_reviews_real</th>\n",
       "    </tr>\n",
       "    <tr>\n",
       "      <th>user_id</th>\n",
       "      <th></th>\n",
       "      <th></th>\n",
       "      <th></th>\n",
       "      <th></th>\n",
       "      <th></th>\n",
       "      <th></th>\n",
       "      <th></th>\n",
       "      <th></th>\n",
       "      <th></th>\n",
       "      <th></th>\n",
       "      <th></th>\n",
       "      <th></th>\n",
       "      <th></th>\n",
       "      <th></th>\n",
       "      <th></th>\n",
       "    </tr>\n",
       "  </thead>\n",
       "  <tbody>\n",
       "    <tr>\n",
       "      <th>l6BmjZMeQD3rDxWUbiAiow</th>\n",
       "      <td>Rashmi</td>\n",
       "      <td>3.703313</td>\n",
       "      <td>2013-10-08</td>\n",
       "      <td>95</td>\n",
       "      <td>3</td>\n",
       "      <td>5</td>\n",
       "      <td>84</td>\n",
       "      <td>25</td>\n",
       "      <td>17</td>\n",
       "      <td>2374</td>\n",
       "      <td>0</td>\n",
       "      <td>3.703313</td>\n",
       "      <td>0</td>\n",
       "      <td>3.703313</td>\n",
       "      <td>0</td>\n",
       "    </tr>\n",
       "    <tr>\n",
       "      <th>4XChL029mKr5hydo79Ljxg</th>\n",
       "      <td>Jenna</td>\n",
       "      <td>3.703313</td>\n",
       "      <td>2013-02-21</td>\n",
       "      <td>33</td>\n",
       "      <td>0</td>\n",
       "      <td>4</td>\n",
       "      <td>48</td>\n",
       "      <td>16</td>\n",
       "      <td>22</td>\n",
       "      <td>27646</td>\n",
       "      <td>0</td>\n",
       "      <td>3.703313</td>\n",
       "      <td>0</td>\n",
       "      <td>3.703313</td>\n",
       "      <td>0</td>\n",
       "    </tr>\n",
       "    <tr>\n",
       "      <th>bc8C_eETBWL0olvFSJJd0w</th>\n",
       "      <td>David</td>\n",
       "      <td>3.703313</td>\n",
       "      <td>2013-10-04</td>\n",
       "      <td>16</td>\n",
       "      <td>0</td>\n",
       "      <td>0</td>\n",
       "      <td>28</td>\n",
       "      <td>10</td>\n",
       "      <td>8</td>\n",
       "      <td>358</td>\n",
       "      <td>0</td>\n",
       "      <td>3.703313</td>\n",
       "      <td>0</td>\n",
       "      <td>3.703313</td>\n",
       "      <td>0</td>\n",
       "    </tr>\n",
       "    <tr>\n",
       "      <th>dD0gZpBctWGdWo9WlGuhlA</th>\n",
       "      <td>Angela</td>\n",
       "      <td>3.703313</td>\n",
       "      <td>2014-05-22</td>\n",
       "      <td>17</td>\n",
       "      <td>0</td>\n",
       "      <td>5</td>\n",
       "      <td>30</td>\n",
       "      <td>14</td>\n",
       "      <td>4</td>\n",
       "      <td>12598</td>\n",
       "      <td>0</td>\n",
       "      <td>3.703313</td>\n",
       "      <td>0</td>\n",
       "      <td>3.703313</td>\n",
       "      <td>0</td>\n",
       "    </tr>\n",
       "    <tr>\n",
       "      <th>MM4RJAeH6yuaN8oZDSt0RA</th>\n",
       "      <td>Nancy</td>\n",
       "      <td>3.703313</td>\n",
       "      <td>2013-10-23</td>\n",
       "      <td>361</td>\n",
       "      <td>4</td>\n",
       "      <td>39</td>\n",
       "      <td>1114</td>\n",
       "      <td>665</td>\n",
       "      <td>279</td>\n",
       "      <td>5542</td>\n",
       "      <td>0</td>\n",
       "      <td>3.703313</td>\n",
       "      <td>0</td>\n",
       "      <td>3.703313</td>\n",
       "      <td>0</td>\n",
       "    </tr>\n",
       "  </tbody>\n",
       "</table>\n",
       "</div>"
      ],
      "text/plain": [
       "                       user_name  average_stars yelping_since  review  \\\n",
       "user_id                                                                 \n",
       "l6BmjZMeQD3rDxWUbiAiow    Rashmi       3.703313    2013-10-08      95   \n",
       "4XChL029mKr5hydo79Ljxg     Jenna       3.703313    2013-02-21      33   \n",
       "bc8C_eETBWL0olvFSJJd0w     David       3.703313    2013-10-04      16   \n",
       "dD0gZpBctWGdWo9WlGuhlA    Angela       3.703313    2014-05-22      17   \n",
       "MM4RJAeH6yuaN8oZDSt0RA     Nancy       3.703313    2013-10-23     361   \n",
       "\n",
       "                        years_of_elite  fans  useful  cool  funny  friends  \\\n",
       "user_id                                                                      \n",
       "l6BmjZMeQD3rDxWUbiAiow               3     5      84    25     17     2374   \n",
       "4XChL029mKr5hydo79Ljxg               0     4      48    16     22    27646   \n",
       "bc8C_eETBWL0olvFSJJd0w               0     0      28    10      8      358   \n",
       "dD0gZpBctWGdWo9WlGuhlA               0     5      30    14      4    12598   \n",
       "MM4RJAeH6yuaN8oZDSt0RA               4    39    1114   665    279     5542   \n",
       "\n",
       "                        num_reviews  average_stars_bin  num_reviews_bin  \\\n",
       "user_id                                                                   \n",
       "l6BmjZMeQD3rDxWUbiAiow            0           3.703313                0   \n",
       "4XChL029mKr5hydo79Ljxg            0           3.703313                0   \n",
       "bc8C_eETBWL0olvFSJJd0w            0           3.703313                0   \n",
       "dD0gZpBctWGdWo9WlGuhlA            0           3.703313                0   \n",
       "MM4RJAeH6yuaN8oZDSt0RA            0           3.703313                0   \n",
       "\n",
       "                        average_stars_real  num_reviews_real  \n",
       "user_id                                                       \n",
       "l6BmjZMeQD3rDxWUbiAiow            3.703313                 0  \n",
       "4XChL029mKr5hydo79Ljxg            3.703313                 0  \n",
       "bc8C_eETBWL0olvFSJJd0w            3.703313                 0  \n",
       "dD0gZpBctWGdWo9WlGuhlA            3.703313                 0  \n",
       "MM4RJAeH6yuaN8oZDSt0RA            3.703313                 0  "
      ]
     },
     "execution_count": 8,
     "metadata": {},
     "output_type": "execute_result"
    }
   ],
   "source": [
    "avg_stars = review_hist['stars'].mean()\n",
    "\n",
    "users = users.assign(average_stars=avg_stars)\n",
    "users = users.assign(num_reviews=0)\n",
    "users = users.assign(average_stars_bin=avg_stars)\n",
    "users = users.assign(num_reviews_bin=0)\n",
    "users = users.assign(average_stars_real=avg_stars)\n",
    "users = users.assign(num_reviews_real=0)\n",
    "users = users.set_index('user_id')\n",
    "users.head()"
   ]
  },
  {
   "cell_type": "code",
   "execution_count": 3,
   "metadata": {
    "pycharm": {
     "is_executing": false,
     "name": "#%%\n"
    }
   },
   "outputs": [],
   "source": [
    "def _f(grouped):\n",
    "    d = {}\n",
    "    \n",
    "    d['num'] = grouped['stars'].size\n",
    "    d['stars'] = grouped['stars'].mean()\n",
    "    \n",
    "    non_fake = _np.ma.masked_where(grouped['bin_truth_score']<0, grouped['stars']).compressed()\n",
    "    d['num_bin'] = non_fake.size\n",
    "    d['stars_bin'] = non_fake.mean()\n",
    "    \n",
    "    d['num_real'] = grouped['real_truth_score'].sum()\n",
    "    d['stars_real'] = _np.average(grouped['stars'], weights=grouped['real_truth_score'])\n",
    "    \n",
    "    return _pd.Series(d, index=['num', 'stars', 'num_bin', 'stars_bin', 'num_real', 'stars_real'])"
   ]
  },
  {
   "cell_type": "code",
   "execution_count": null,
   "metadata": {
    "pycharm": {
     "name": "#%%\n"
    }
   },
   "outputs": [],
   "source": [
    "grouped_reviews = review_hist.groupby('user_id').apply(_f)\n",
    "grouped_reviews.head()"
   ]
  },
  {
   "cell_type": "code",
   "execution_count": 18,
   "metadata": {
    "pycharm": {
     "is_executing": false,
     "name": "#%%\n"
    }
   },
   "outputs": [
    {
     "name": "stdout",
     "output_type": "stream",
     "text": [
      "hours: 53.065662455\n",
      "hours mul: 8.774814544166667\n"
     ]
    }
   ],
   "source": [
    "import random\n",
    "import statistics\n",
    "\n",
    "current_milli_time = lambda: int(round(_time.time() * 1000))\n",
    "\n",
    "def get_time(df):\n",
    "    us_id = random.choice(grouped_reviews.index)\n",
    "    x = random.randrange(1000)\n",
    "    t = current_milli_time()\n",
    "    df.loc[us_id, [\"test\"]] = x\n",
    "    t0 = current_milli_time()\n",
    "    return t0-t\n",
    "\n",
    "def get_time_mul(df):\n",
    "    us_id = random.choice(grouped_reviews.index)\n",
    "    x = random.randrange(1000)\n",
    "    y = random.randrange(1000)\n",
    "    z = random.randrange(1000)\n",
    "    t = current_milli_time()\n",
    "    df.loc[us_id, [\"test\", \"ciao\", \"prova\"]] = [x, y, z]\n",
    "    t0 = current_milli_time()\n",
    "    return t0-t\n",
    "\n",
    "def test():\n",
    "    df = users.copy()\n",
    "    df['test'] = -1\n",
    "    times = []\n",
    "    for i in range(1000):\n",
    "         times += [get_time(df)]\n",
    "    avg_time = statistics.mean(times)\n",
    "    del df\n",
    "    return avg_time\n",
    "\n",
    "def test_mul():\n",
    "    df = users.copy()\n",
    "    df['test'] = -1\n",
    "    df['ciao'] = -1\n",
    "    df['prova'] = -1\n",
    "    times = []\n",
    "    for i in range(1000):\n",
    "         times += [get_time(df)]\n",
    "    avg_time = statistics.mean(times)\n",
    "    del df\n",
    "    return avg_time\n",
    "\n",
    "def tot_time(ops, x, k):\n",
    "    time_millis = ops * k * x\n",
    "    hours = time_millis/1000/60/60\n",
    "    return hours\n",
    "\n",
    "tot = len(grouped_reviews)\n",
    "x = test()\n",
    "print(\"hours:\", tot_time(tot, x, 6))\n",
    "x = test_mul()\n",
    "print(\"hours mul:\", tot_time(tot, x, 1))"
   ]
  },
  {
   "cell_type": "code",
   "execution_count": 9,
   "metadata": {
    "pycharm": {
     "is_executing": false,
     "name": "#%%\n"
    }
   },
   "outputs": [
    {
     "name": "stdout",
     "output_type": "stream",
     "text": [
      "tot: 954447\n",
      "row 1000/954447 - 0.10477271131870078%\n",
      "row 2000/954447 - 0.20954542263740156%\n",
      "row 3000/954447 - 0.31431813395610236%\n",
      "row 4000/954447 - 0.4190908452748031%\n",
      "row 5000/954447 - 0.5238635565935038%\n",
      "row 6000/954447 - 0.6286362679122047%\n",
      "row 7000/954447 - 0.7334089792309054%\n",
      "row 8000/954447 - 0.8381816905496062%\n",
      "row 9000/954447 - 0.942954401868307%\n",
      "row 10000/954447 - 1.0477271131870076%\n",
      "row 11000/954447 - 1.1524998245057085%\n",
      "row 12000/954447 - 1.2572725358244095%\n",
      "row 13000/954447 - 1.3620452471431101%\n",
      "row 14000/954447 - 1.4668179584618108%\n",
      "row 15000/954447 - 1.5715906697805118%\n",
      "row 16000/954447 - 1.6763633810992125%\n",
      "row 17000/954447 - 1.7811360924179132%\n",
      "row 18000/954447 - 1.885908803736614%\n",
      "row 19000/954447 - 1.9906815150553148%\n",
      "row 20000/954447 - 2.0954542263740152%\n",
      "row 21000/954447 - 2.2002269376927166%\n",
      "row 22000/954447 - 2.304999649011417%\n",
      "row 23000/954447 - 2.409772360330118%\n",
      "row 24000/954447 - 2.514545071648819%\n",
      "row 25000/954447 - 2.6193177829675194%\n",
      "row 26000/954447 - 2.7240904942862203%\n",
      "row 27000/954447 - 2.8288632056049208%\n",
      "row 28000/954447 - 2.9336359169236217%\n",
      "row 29000/954447 - 3.0384086282423226%\n",
      "row 30000/954447 - 3.1431813395610235%\n",
      "row 31000/954447 - 3.247954050879724%\n",
      "row 32000/954447 - 3.352726762198425%\n",
      "row 33000/954447 - 3.4574994735171254%\n",
      "row 34000/954447 - 3.5622721848358263%\n",
      "row 35000/954447 - 3.667044896154527%\n",
      "row 36000/954447 - 3.771817607473228%\n",
      "row 37000/954447 - 3.876590318791929%\n",
      "row 38000/954447 - 3.9813630301106295%\n",
      "row 39000/954447 - 4.08613574142933%\n",
      "row 40000/954447 - 4.1909084527480305%\n",
      "row 41000/954447 - 4.295681164066732%\n",
      "row 42000/954447 - 4.400453875385433%\n",
      "row 43000/954447 - 4.505226586704134%\n",
      "row 44000/954447 - 4.609999298022834%\n",
      "row 45000/954447 - 4.714772009341535%\n",
      "row 46000/954447 - 4.819544720660236%\n",
      "row 47000/954447 - 4.9243174319789365%\n",
      "row 48000/954447 - 5.029090143297638%\n",
      "row 49000/954447 - 5.133862854616338%\n",
      "row 50000/954447 - 5.238635565935039%\n",
      "row 51000/954447 - 5.343408277253739%\n",
      "row 52000/954447 - 5.448180988572441%\n",
      "row 53000/954447 - 5.552953699891141%\n",
      "row 54000/954447 - 5.6577264112098415%\n",
      "row 55000/954447 - 5.762499122528543%\n",
      "row 56000/954447 - 5.867271833847243%\n",
      "row 57000/954447 - 5.972044545165945%\n",
      "row 58000/954447 - 6.076817256484645%\n",
      "row 59000/954447 - 6.181589967803346%\n",
      "row 60000/954447 - 6.286362679122047%\n",
      "row 61000/954447 - 6.391135390440747%\n",
      "row 62000/954447 - 6.495908101759448%\n",
      "row 63000/954447 - 6.6006808130781485%\n",
      "row 64000/954447 - 6.70545352439685%\n",
      "row 65000/954447 - 6.810226235715551%\n",
      "row 66000/954447 - 6.914998947034251%\n",
      "row 67000/954447 - 7.019771658352952%\n",
      "row 68000/954447 - 7.124544369671653%\n",
      "row 69000/954447 - 7.229317080990354%\n",
      "row 70000/954447 - 7.334089792309054%\n",
      "row 71000/954447 - 7.438862503627755%\n",
      "row 72000/954447 - 7.543635214946456%\n",
      "row 73000/954447 - 7.648407926265157%\n",
      "row 74000/954447 - 7.753180637583858%\n",
      "row 75000/954447 - 7.857953348902558%\n",
      "row 76000/954447 - 7.962726060221259%\n",
      "row 77000/954447 - 8.06749877153996%\n",
      "row 78000/954447 - 8.17227148285866%\n",
      "row 79000/954447 - 8.277044194177362%\n",
      "row 80000/954447 - 8.381816905496061%\n",
      "row 81000/954447 - 8.486589616814763%\n",
      "row 82000/954447 - 8.591362328133464%\n",
      "row 83000/954447 - 8.696135039452164%\n",
      "row 84000/954447 - 8.800907750770866%\n",
      "row 85000/954447 - 8.905680462089565%\n",
      "row 86000/954447 - 9.010453173408267%\n",
      "row 87000/954447 - 9.115225884726968%\n",
      "row 88000/954447 - 9.219998596045668%\n",
      "row 89000/954447 - 9.324771307364369%\n",
      "row 90000/954447 - 9.42954401868307%\n",
      "row 91000/954447 - 9.534316730001771%\n",
      "row 92000/954447 - 9.639089441320472%\n",
      "row 93000/954447 - 9.743862152639172%\n",
      "row 94000/954447 - 9.848634863957873%\n",
      "row 95000/954447 - 9.953407575276573%\n",
      "row 96000/954447 - 10.058180286595276%\n",
      "row 97000/954447 - 10.162952997913974%\n",
      "row 98000/954447 - 10.267725709232677%\n",
      "row 99000/954447 - 10.372498420551377%\n",
      "row 100000/954447 - 10.477271131870078%\n",
      "row 101000/954447 - 10.582043843188778%\n",
      "row 102000/954447 - 10.686816554507478%\n",
      "row 103000/954447 - 10.79158926582618%\n",
      "row 104000/954447 - 10.896361977144881%\n",
      "row 105000/954447 - 11.001134688463582%\n",
      "row 106000/954447 - 11.105907399782282%\n",
      "row 107000/954447 - 11.210680111100983%\n",
      "row 108000/954447 - 11.315452822419683%\n",
      "row 109000/954447 - 11.420225533738385%\n",
      "row 110000/954447 - 11.524998245057086%\n",
      "row 111000/954447 - 11.629770956375786%\n",
      "row 112000/954447 - 11.734543667694487%\n",
      "row 113000/954447 - 11.839316379013187%\n",
      "row 114000/954447 - 11.94408909033189%\n",
      "row 115000/954447 - 12.04886180165059%\n",
      "row 116000/954447 - 12.15363451296929%\n",
      "row 117000/954447 - 12.258407224287991%\n",
      "row 118000/954447 - 12.363179935606691%\n",
      "row 119000/954447 - 12.467952646925392%\n",
      "row 120000/954447 - 12.572725358244094%\n",
      "row 121000/954447 - 12.677498069562793%\n",
      "row 122000/954447 - 12.782270780881493%\n",
      "row 123000/954447 - 12.887043492200196%\n",
      "row 124000/954447 - 12.991816203518896%\n",
      "row 125000/954447 - 13.096588914837598%\n",
      "row 126000/954447 - 13.201361626156297%\n",
      "row 127000/954447 - 13.306134337474997%\n",
      "row 128000/954447 - 13.4109070487937%\n",
      "row 129000/954447 - 13.5156797601124%\n",
      "row 130000/954447 - 13.620452471431102%\n",
      "row 131000/954447 - 13.725225182749801%\n",
      "row 132000/954447 - 13.829997894068502%\n",
      "row 133000/954447 - 13.934770605387204%\n",
      "row 134000/954447 - 14.039543316705904%\n",
      "row 135000/954447 - 14.144316028024607%\n",
      "row 136000/954447 - 14.249088739343305%\n",
      "row 137000/954447 - 14.353861450662006%\n",
      "row 138000/954447 - 14.458634161980708%\n",
      "row 139000/954447 - 14.563406873299408%\n",
      "row 140000/954447 - 14.668179584618107%\n",
      "row 141000/954447 - 14.77295229593681%\n",
      "row 142000/954447 - 14.87772500725551%\n",
      "row 143000/954447 - 14.982497718574212%\n",
      "row 144000/954447 - 15.087270429892913%\n",
      "row 145000/954447 - 15.192043141211611%\n",
      "row 146000/954447 - 15.296815852530314%\n",
      "row 147000/954447 - 15.401588563849014%\n",
      "row 148000/954447 - 15.506361275167716%\n",
      "row 149000/954447 - 15.611133986486417%\n",
      "row 150000/954447 - 15.715906697805115%\n",
      "row 151000/954447 - 15.820679409123816%\n",
      "row 152000/954447 - 15.925452120442518%\n",
      "row 153000/954447 - 16.03022483176122%\n",
      "row 154000/954447 - 16.13499754307992%\n",
      "row 155000/954447 - 16.239770254398618%\n",
      "row 156000/954447 - 16.34454296571732%\n",
      "row 157000/954447 - 16.449315677036022%\n",
      "row 158000/954447 - 16.554088388354725%\n",
      "row 159000/954447 - 16.658861099673423%\n",
      "row 160000/954447 - 16.763633810992122%\n",
      "row 161000/954447 - 16.868406522310824%\n",
      "row 162000/954447 - 16.973179233629526%\n",
      "row 163000/954447 - 17.07795194494823%\n",
      "row 164000/954447 - 17.182724656266927%\n",
      "row 165000/954447 - 17.287497367585626%\n",
      "row 166000/954447 - 17.39227007890433%\n",
      "row 167000/954447 - 17.49704279022303%\n",
      "row 168000/954447 - 17.601815501541733%\n",
      "row 169000/954447 - 17.70658821286043%\n",
      "row 170000/954447 - 17.81136092417913%\n",
      "row 171000/954447 - 17.916133635497832%\n",
      "row 172000/954447 - 18.020906346816535%\n",
      "row 173000/954447 - 18.125679058135237%\n",
      "row 174000/954447 - 18.230451769453936%\n",
      "row 175000/954447 - 18.335224480772634%\n",
      "row 176000/954447 - 18.439997192091337%\n",
      "row 177000/954447 - 18.54476990341004%\n",
      "row 178000/954447 - 18.649542614728738%\n",
      "row 179000/954447 - 18.75431532604744%\n",
      "row 180000/954447 - 18.85908803736614%\n",
      "row 181000/954447 - 18.96386074868484%\n",
      "row 182000/954447 - 19.068633460003543%\n",
      "row 183000/954447 - 19.17340617132224%\n",
      "row 184000/954447 - 19.278178882640944%\n",
      "row 185000/954447 - 19.382951593959643%\n",
      "row 186000/954447 - 19.487724305278345%\n",
      "row 187000/954447 - 19.592497016597047%\n",
      "row 188000/954447 - 19.697269727915746%\n",
      "row 189000/954447 - 19.802042439234448%\n",
      "row 190000/954447 - 19.906815150553147%\n",
      "row 191000/954447 - 20.01158786187185%\n",
      "row 192000/954447 - 20.11636057319055%\n",
      "row 193000/954447 - 20.22113328450925%\n",
      "row 194000/954447 - 20.32590599582795%\n",
      "row 195000/954447 - 20.43067870714665%\n",
      "row 196000/954447 - 20.535451418465353%\n",
      "row 197000/954447 - 20.640224129784052%\n",
      "row 198000/954447 - 20.744996841102754%\n",
      "row 199000/954447 - 20.849769552421453%\n",
      "row 200000/954447 - 20.954542263740155%\n",
      "row 201000/954447 - 21.059314975058857%\n",
      "row 202000/954447 - 21.164087686377556%\n",
      "row 203000/954447 - 21.26886039769626%\n",
      "row 204000/954447 - 21.373633109014957%\n",
      "row 205000/954447 - 21.47840582033366%\n",
      "row 206000/954447 - 21.58317853165236%\n",
      "row 207000/954447 - 21.68795124297106%\n",
      "row 208000/954447 - 21.792723954289762%\n",
      "row 209000/954447 - 21.89749666560846%\n",
      "row 210000/954447 - 22.002269376927163%\n",
      "row 211000/954447 - 22.107042088245866%\n",
      "row 212000/954447 - 22.211814799564564%\n",
      "row 213000/954447 - 22.316587510883267%\n",
      "row 214000/954447 - 22.421360222201965%\n",
      "row 215000/954447 - 22.526132933520667%\n",
      "row 216000/954447 - 22.630905644839366%\n",
      "row 217000/954447 - 22.73567835615807%\n",
      "row 218000/954447 - 22.84045106747677%\n",
      "row 219000/954447 - 22.94522377879547%\n",
      "row 220000/954447 - 23.04999649011417%\n",
      "row 221000/954447 - 23.15476920143287%\n",
      "row 222000/954447 - 23.259541912751573%\n",
      "row 223000/954447 - 23.364314624070275%\n",
      "row 224000/954447 - 23.469087335388974%\n",
      "row 225000/954447 - 23.573860046707676%\n",
      "row 226000/954447 - 23.678632758026374%\n",
      "row 227000/954447 - 23.783405469345077%\n",
      "row 228000/954447 - 23.88817818066378%\n",
      "row 229000/954447 - 23.992950891982478%\n",
      "row 230000/954447 - 24.09772360330118%\n",
      "row 231000/954447 - 24.20249631461988%\n",
      "row 232000/954447 - 24.30726902593858%\n",
      "row 233000/954447 - 24.41204173725728%\n",
      "row 234000/954447 - 24.516814448575982%\n",
      "row 235000/954447 - 24.62158715989468%\n",
      "row 236000/954447 - 24.726359871213383%\n",
      "row 237000/954447 - 24.831132582532085%\n",
      "row 238000/954447 - 24.935905293850784%\n",
      "row 239000/954447 - 25.040678005169486%\n",
      "row 240000/954447 - 25.145450716488188%\n",
      "row 241000/954447 - 25.25022342780689%\n",
      "row 242000/954447 - 25.354996139125586%\n",
      "row 243000/954447 - 25.459768850444288%\n",
      "row 244000/954447 - 25.564541561762987%\n",
      "row 245000/954447 - 25.66931427308169%\n",
      "row 246000/954447 - 25.77408698440039%\n",
      "row 247000/954447 - 25.878859695719093%\n",
      "row 248000/954447 - 25.983632407037792%\n",
      "row 249000/954447 - 26.088405118356494%\n",
      "row 250000/954447 - 26.193177829675196%\n",
      "row 251000/954447 - 26.2979505409939%\n",
      "row 252000/954447 - 26.402723252312594%\n",
      "row 253000/954447 - 26.507495963631296%\n",
      "row 254000/954447 - 26.612268674949995%\n",
      "row 255000/954447 - 26.717041386268697%\n",
      "row 256000/954447 - 26.8218140975874%\n",
      "row 257000/954447 - 26.9265868089061%\n",
      "row 258000/954447 - 27.0313595202248%\n",
      "row 259000/954447 - 27.136132231543503%\n",
      "row 260000/954447 - 27.240904942862205%\n",
      "row 261000/954447 - 27.3456776541809%\n",
      "row 262000/954447 - 27.450450365499602%\n",
      "row 263000/954447 - 27.5552230768183%\n",
      "row 264000/954447 - 27.659995788137003%\n",
      "row 265000/954447 - 27.764768499455705%\n",
      "row 266000/954447 - 27.869541210774408%\n",
      "row 267000/954447 - 27.97431392209311%\n",
      "row 268000/954447 - 28.07908663341181%\n",
      "row 269000/954447 - 28.18385934473051%\n",
      "row 270000/954447 - 28.288632056049213%\n",
      "row 271000/954447 - 28.393404767367908%\n",
      "row 272000/954447 - 28.49817747868661%\n",
      "row 273000/954447 - 28.60295019000531%\n",
      "row 274000/954447 - 28.70772290132401%\n",
      "row 275000/954447 - 28.812495612642714%\n",
      "row 276000/954447 - 28.917268323961416%\n",
      "row 277000/954447 - 29.022041035280115%\n",
      "row 278000/954447 - 29.126813746598817%\n",
      "row 279000/954447 - 29.23158645791752%\n",
      "row 280000/954447 - 29.336359169236214%\n",
      "row 281000/954447 - 29.441131880554916%\n",
      "row 282000/954447 - 29.54590459187362%\n",
      "row 283000/954447 - 29.650677303192317%\n",
      "row 284000/954447 - 29.75545001451102%\n",
      "row 285000/954447 - 29.860222725829722%\n",
      "row 286000/954447 - 29.964995437148424%\n",
      "row 287000/954447 - 30.069768148467123%\n",
      "row 288000/954447 - 30.174540859785825%\n",
      "row 289000/954447 - 30.279313571104527%\n",
      "row 290000/954447 - 30.384086282423223%\n",
      "row 291000/954447 - 30.488858993741925%\n",
      "row 292000/954447 - 30.593631705060627%\n",
      "row 293000/954447 - 30.698404416379326%\n",
      "row 294000/954447 - 30.803177127698028%\n",
      "row 295000/954447 - 30.90794983901673%\n",
      "row 296000/954447 - 31.012722550335432%\n",
      "row 297000/954447 - 31.11749526165413%\n",
      "row 298000/954447 - 31.222267972972833%\n",
      "row 299000/954447 - 31.32704068429153%\n",
      "row 300000/954447 - 31.43181339561023%\n",
      "row 301000/954447 - 31.536586106928933%\n",
      "row 302000/954447 - 31.64135881824763%\n",
      "row 303000/954447 - 31.746131529566334%\n",
      "row 304000/954447 - 31.850904240885036%\n",
      "row 305000/954447 - 31.95567695220374%\n",
      "row 306000/954447 - 32.06044966352244%\n",
      "row 307000/954447 - 32.16522237484114%\n",
      "row 308000/954447 - 32.26999508615984%\n",
      "row 309000/954447 - 32.37476779747854%\n",
      "row 310000/954447 - 32.479540508797236%\n",
      "row 311000/954447 - 32.58431322011594%\n",
      "row 312000/954447 - 32.68908593143464%\n",
      "row 313000/954447 - 32.79385864275334%\n",
      "row 314000/954447 - 32.898631354072045%\n",
      "row 315000/954447 - 33.00340406539075%\n",
      "row 316000/954447 - 33.10817677670945%\n",
      "row 317000/954447 - 33.21294948802815%\n",
      "row 318000/954447 - 33.317722199346846%\n",
      "row 319000/954447 - 33.42249491066555%\n",
      "row 320000/954447 - 33.527267621984244%\n",
      "row 321000/954447 - 33.632040333302946%\n",
      "row 322000/954447 - 33.73681304462165%\n",
      "row 323000/954447 - 33.84158575594035%\n",
      "row 324000/954447 - 33.94635846725905%\n",
      "row 325000/954447 - 34.051131178577755%\n",
      "row 326000/954447 - 34.15590388989646%\n",
      "row 327000/954447 - 34.26067660121516%\n",
      "row 328000/954447 - 34.365449312533855%\n",
      "row 329000/954447 - 34.47022202385256%\n",
      "row 330000/954447 - 34.57499473517125%\n",
      "row 331000/954447 - 34.679767446489954%\n",
      "row 332000/954447 - 34.78454015780866%\n",
      "row 333000/954447 - 34.88931286912736%\n",
      "row 334000/954447 - 34.99408558044606%\n",
      "row 335000/954447 - 35.09885829176476%\n",
      "row 336000/954447 - 35.203631003083466%\n",
      "row 337000/954447 - 35.30840371440216%\n",
      "row 338000/954447 - 35.41317642572086%\n",
      "row 339000/954447 - 35.517949137039565%\n",
      "row 340000/954447 - 35.62272184835826%\n",
      "row 341000/954447 - 35.72749455967696%\n",
      "row 342000/954447 - 35.832267270995665%\n",
      "row 343000/954447 - 35.93703998231437%\n",
      "row 344000/954447 - 36.04181269363307%\n",
      "row 345000/954447 - 36.14658540495177%\n",
      "row 346000/954447 - 36.251358116270474%\n",
      "row 347000/954447 - 36.35613082758917%\n",
      "row 348000/954447 - 36.46090353890787%\n",
      "row 349000/954447 - 36.565676250226566%\n",
      "row 350000/954447 - 36.67044896154527%\n",
      "row 351000/954447 - 36.77522167286397%\n",
      "row 352000/954447 - 36.87999438418267%\n",
      "row 353000/954447 - 36.984767095501375%\n",
      "row 354000/954447 - 37.08953980682008%\n",
      "row 355000/954447 - 37.19431251813878%\n",
      "row 356000/954447 - 37.299085229457475%\n",
      "row 357000/954447 - 37.40385794077618%\n",
      "row 358000/954447 - 37.50863065209488%\n",
      "row 359000/954447 - 37.613403363413575%\n",
      "row 360000/954447 - 37.71817607473228%\n",
      "row 361000/954447 - 37.82294878605098%\n",
      "row 362000/954447 - 37.92772149736968%\n",
      "row 363000/954447 - 38.032494208688384%\n",
      "row 364000/954447 - 38.137266920007086%\n",
      "row 365000/954447 - 38.24203963132579%\n",
      "row 366000/954447 - 38.34681234264448%\n",
      "row 367000/954447 - 38.451585053963186%\n",
      "row 368000/954447 - 38.55635776528189%\n",
      "row 369000/954447 - 38.66113047660058%\n",
      "row 370000/954447 - 38.765903187919285%\n",
      "row 371000/954447 - 38.87067589923799%\n",
      "row 372000/954447 - 38.97544861055669%\n",
      "row 373000/954447 - 39.08022132187539%\n",
      "row 374000/954447 - 39.184994033194094%\n",
      "row 375000/954447 - 39.28976674451279%\n",
      "row 376000/954447 - 39.39453945583149%\n",
      "row 377000/954447 - 39.499312167150194%\n",
      "row 378000/954447 - 39.604084878468896%\n",
      "row 379000/954447 - 39.70885758978759%\n",
      "row 380000/954447 - 39.81363030110629%\n",
      "row 381000/954447 - 39.918403012424996%\n",
      "row 382000/954447 - 40.0231757237437%\n",
      "row 383000/954447 - 40.1279484350624%\n",
      "row 384000/954447 - 40.2327211463811%\n",
      "row 385000/954447 - 40.3374938576998%\n",
      "row 386000/954447 - 40.4422665690185%\n",
      "row 387000/954447 - 40.5470392803372%\n",
      "row 388000/954447 - 40.6518119916559%\n",
      "row 389000/954447 - 40.7565847029746%\n",
      "row 390000/954447 - 40.8613574142933%\n",
      "row 391000/954447 - 40.966130125612004%\n",
      "row 392000/954447 - 41.070902836930706%\n",
      "row 393000/954447 - 41.17567554824941%\n",
      "row 394000/954447 - 41.280448259568104%\n",
      "row 395000/954447 - 41.385220970886806%\n",
      "row 396000/954447 - 41.48999368220551%\n",
      "row 397000/954447 - 41.59476639352421%\n",
      "row 398000/954447 - 41.699539104842906%\n",
      "row 399000/954447 - 41.80431181616161%\n",
      "row 400000/954447 - 41.90908452748031%\n",
      "row 401000/954447 - 42.01385723879901%\n",
      "row 402000/954447 - 42.118629950117715%\n",
      "row 403000/954447 - 42.22340266143642%\n",
      "row 404000/954447 - 42.32817537275511%\n",
      "row 405000/954447 - 42.432948084073814%\n",
      "row 406000/954447 - 42.53772079539252%\n",
      "row 407000/954447 - 42.64249350671122%\n",
      "row 408000/954447 - 42.747266218029914%\n",
      "row 409000/954447 - 42.852038929348616%\n",
      "row 410000/954447 - 42.95681164066732%\n",
      "row 411000/954447 - 43.06158435198602%\n",
      "row 412000/954447 - 43.16635706330472%\n",
      "row 413000/954447 - 43.27112977462342%\n",
      "row 414000/954447 - 43.37590248594212%\n",
      "row 415000/954447 - 43.48067519726082%\n",
      "row 416000/954447 - 43.585447908579525%\n",
      "row 417000/954447 - 43.69022061989823%\n",
      "row 418000/954447 - 43.79499333121692%\n",
      "row 419000/954447 - 43.899766042535624%\n",
      "row 420000/954447 - 44.00453875385433%\n",
      "row 421000/954447 - 44.10931146517303%\n",
      "row 422000/954447 - 44.21408417649173%\n",
      "row 423000/954447 - 44.318856887810426%\n",
      "row 424000/954447 - 44.42362959912913%\n",
      "row 425000/954447 - 44.52840231044783%\n",
      "row 426000/954447 - 44.63317502176653%\n",
      "row 427000/954447 - 44.73794773308523%\n",
      "row 428000/954447 - 44.84272044440393%\n",
      "row 429000/954447 - 44.94749315572263%\n",
      "row 430000/954447 - 45.052265867041335%\n",
      "row 431000/954447 - 45.15703857836004%\n",
      "row 432000/954447 - 45.26181128967873%\n",
      "row 433000/954447 - 45.366584000997435%\n",
      "row 434000/954447 - 45.47135671231614%\n",
      "row 435000/954447 - 45.57612942363484%\n",
      "row 436000/954447 - 45.68090213495354%\n",
      "row 437000/954447 - 45.78567484627224%\n",
      "row 438000/954447 - 45.89044755759094%\n",
      "row 439000/954447 - 45.99522026890964%\n",
      "row 440000/954447 - 46.09999298022834%\n",
      "row 441000/954447 - 46.204765691547045%\n",
      "row 442000/954447 - 46.30953840286574%\n",
      "row 443000/954447 - 46.41431111418444%\n",
      "row 444000/954447 - 46.519083825503145%\n",
      "row 445000/954447 - 46.62385653682185%\n",
      "row 446000/954447 - 46.72862924814055%\n",
      "row 447000/954447 - 46.833401959459245%\n",
      "row 448000/954447 - 46.93817467077795%\n",
      "row 449000/954447 - 47.04294738209665%\n",
      "row 450000/954447 - 47.14772009341535%\n",
      "row 451000/954447 - 47.25249280473405%\n",
      "row 452000/954447 - 47.35726551605275%\n",
      "row 453000/954447 - 47.46203822737145%\n",
      "row 454000/954447 - 47.56681093869015%\n",
      "row 455000/954447 - 47.671583650008856%\n",
      "row 456000/954447 - 47.77635636132756%\n",
      "row 457000/954447 - 47.88112907264625%\n",
      "row 458000/954447 - 47.985901783964955%\n",
      "row 459000/954447 - 48.09067449528366%\n",
      "row 460000/954447 - 48.19544720660236%\n",
      "row 461000/954447 - 48.300219917921055%\n",
      "row 462000/954447 - 48.40499262923976%\n",
      "row 463000/954447 - 48.50976534055846%\n",
      "row 464000/954447 - 48.61453805187716%\n",
      "row 465000/954447 - 48.719310763195864%\n",
      "row 466000/954447 - 48.82408347451456%\n",
      "row 467000/954447 - 48.92885618583326%\n",
      "row 468000/954447 - 49.033628897151964%\n",
      "row 469000/954447 - 49.138401608470666%\n",
      "row 470000/954447 - 49.24317431978936%\n",
      "row 471000/954447 - 49.34794703110806%\n",
      "row 472000/954447 - 49.452719742426765%\n",
      "row 473000/954447 - 49.55749245374547%\n",
      "row 474000/954447 - 49.66226516506417%\n",
      "row 475000/954447 - 49.76703787638287%\n",
      "row 476000/954447 - 49.87181058770157%\n",
      "row 477000/954447 - 49.97658329902027%\n",
      "row 478000/954447 - 50.08135601033897%\n",
      "row 479000/954447 - 50.186128721657674%\n",
      "row 480000/954447 - 50.290901432976376%\n",
      "row 481000/954447 - 50.39567414429508%\n",
      "row 482000/954447 - 50.50044685561378%\n",
      "row 483000/954447 - 50.60521956693248%\n",
      "row 484000/954447 - 50.70999227825117%\n",
      "row 485000/954447 - 50.81476498956987%\n",
      "row 486000/954447 - 50.919537700888576%\n",
      "row 487000/954447 - 51.02431041220727%\n",
      "row 488000/954447 - 51.12908312352597%\n",
      "row 489000/954447 - 51.233855834844675%\n",
      "row 490000/954447 - 51.33862854616338%\n",
      "row 491000/954447 - 51.44340125748208%\n",
      "row 492000/954447 - 51.54817396880078%\n",
      "row 493000/954447 - 51.652946680119484%\n",
      "row 494000/954447 - 51.75771939143819%\n",
      "row 495000/954447 - 51.86249210275689%\n",
      "row 496000/954447 - 51.967264814075584%\n",
      "row 497000/954447 - 52.072037525394286%\n",
      "row 498000/954447 - 52.17681023671299%\n",
      "row 499000/954447 - 52.28158294803169%\n",
      "row 500000/954447 - 52.38635565935039%\n",
      "row 501000/954447 - 52.491128370669095%\n",
      "row 502000/954447 - 52.5959010819878%\n",
      "row 503000/954447 - 52.700673793306485%\n",
      "row 504000/954447 - 52.80544650462519%\n",
      "row 505000/954447 - 52.91021921594389%\n",
      "row 506000/954447 - 53.01499192726259%\n",
      "row 507000/954447 - 53.11976463858129%\n",
      "row 508000/954447 - 53.22453734989999%\n",
      "row 509000/954447 - 53.32931006121869%\n",
      "row 510000/954447 - 53.434082772537394%\n",
      "row 511000/954447 - 53.538855483856096%\n",
      "row 512000/954447 - 53.6436281951748%\n",
      "row 513000/954447 - 53.7484009064935%\n",
      "row 514000/954447 - 53.8531736178122%\n",
      "row 515000/954447 - 53.9579463291309%\n",
      "row 516000/954447 - 54.0627190404496%\n",
      "row 517000/954447 - 54.1674917517683%\n",
      "row 518000/954447 - 54.272264463087005%\n",
      "row 519000/954447 - 54.37703717440571%\n",
      "row 520000/954447 - 54.48180988572441%\n",
      "row 521000/954447 - 54.58658259704311%\n",
      "row 522000/954447 - 54.6913553083618%\n",
      "row 523000/954447 - 54.7961280196805%\n",
      "row 524000/954447 - 54.900900730999204%\n",
      "row 525000/954447 - 55.00567344231791%\n",
      "row 526000/954447 - 55.1104461536366%\n",
      "row 527000/954447 - 55.215218864955304%\n",
      "row 528000/954447 - 55.319991576274006%\n",
      "row 529000/954447 - 55.42476428759271%\n",
      "row 530000/954447 - 55.52953699891141%\n",
      "row 531000/954447 - 55.63430971023011%\n",
      "row 532000/954447 - 55.739082421548815%\n",
      "row 533000/954447 - 55.84385513286752%\n",
      "row 534000/954447 - 55.94862784418622%\n",
      "row 535000/954447 - 56.053400555504915%\n",
      "row 536000/954447 - 56.15817326682362%\n",
      "row 537000/954447 - 56.26294597814232%\n",
      "row 538000/954447 - 56.36771868946102%\n",
      "row 539000/954447 - 56.472491400779724%\n",
      "row 540000/954447 - 56.577264112098426%\n",
      "row 541000/954447 - 56.682036823417114%\n",
      "row 542000/954447 - 56.786809534735816%\n",
      "row 543000/954447 - 56.89158224605452%\n",
      "row 544000/954447 - 56.99635495737322%\n",
      "row 545000/954447 - 57.10112766869192%\n",
      "row 546000/954447 - 57.20590038001062%\n",
      "row 547000/954447 - 57.31067309132932%\n",
      "row 548000/954447 - 57.41544580264802%\n",
      "row 549000/954447 - 57.520218513966725%\n",
      "row 550000/954447 - 57.62499122528543%\n",
      "row 551000/954447 - 57.72976393660413%\n",
      "row 552000/954447 - 57.83453664792283%\n",
      "row 553000/954447 - 57.939309359241534%\n",
      "row 554000/954447 - 58.04408207056023%\n",
      "row 555000/954447 - 58.14885478187893%\n",
      "row 556000/954447 - 58.253627493197634%\n",
      "row 557000/954447 - 58.358400204516336%\n",
      "row 558000/954447 - 58.46317291583504%\n",
      "row 559000/954447 - 58.56794562715374%\n",
      "row 560000/954447 - 58.67271833847243%\n",
      "row 561000/954447 - 58.77749104979113%\n",
      "row 562000/954447 - 58.88226376110983%\n",
      "row 563000/954447 - 58.987036472428535%\n",
      "row 564000/954447 - 59.09180918374724%\n",
      "row 565000/954447 - 59.19658189506593%\n",
      "row 566000/954447 - 59.301354606384635%\n",
      "row 567000/954447 - 59.40612731770334%\n",
      "row 568000/954447 - 59.51090002902204%\n",
      "row 569000/954447 - 59.61567274034074%\n",
      "row 570000/954447 - 59.720445451659444%\n",
      "row 571000/954447 - 59.825218162978146%\n",
      "row 572000/954447 - 59.92999087429685%\n",
      "row 573000/954447 - 60.03476358561555%\n",
      "row 574000/954447 - 60.139536296934246%\n",
      "row 575000/954447 - 60.24430900825295%\n",
      "row 576000/954447 - 60.34908171957165%\n",
      "row 577000/954447 - 60.45385443089035%\n",
      "row 578000/954447 - 60.558627142209055%\n",
      "row 579000/954447 - 60.66339985352774%\n",
      "row 580000/954447 - 60.768172564846445%\n",
      "row 581000/954447 - 60.87294527616515%\n",
      "row 582000/954447 - 60.97771798748385%\n",
      "row 583000/954447 - 61.08249069880255%\n",
      "row 584000/954447 - 61.187263410121254%\n",
      "row 585000/954447 - 61.29203612143995%\n",
      "row 586000/954447 - 61.39680883275865%\n",
      "row 587000/954447 - 61.501581544077354%\n",
      "row 588000/954447 - 61.606354255396056%\n",
      "row 589000/954447 - 61.71112696671476%\n",
      "row 590000/954447 - 61.81589967803346%\n",
      "row 591000/954447 - 61.92067238935216%\n",
      "row 592000/954447 - 62.025445100670865%\n",
      "row 593000/954447 - 62.13021781198956%\n",
      "row 594000/954447 - 62.23499052330826%\n",
      "row 595000/954447 - 62.339763234626965%\n",
      "row 596000/954447 - 62.44453594594567%\n",
      "row 597000/954447 - 62.54930865726437%\n",
      "row 598000/954447 - 62.65408136858306%\n",
      "row 599000/954447 - 62.75885407990176%\n",
      "row 600000/954447 - 62.86362679122046%\n",
      "row 601000/954447 - 62.968399502539164%\n",
      "row 602000/954447 - 63.073172213857866%\n",
      "row 603000/954447 - 63.17794492517657%\n",
      "row 604000/954447 - 63.28271763649526%\n",
      "row 605000/954447 - 63.387490347813966%\n",
      "row 606000/954447 - 63.49226305913267%\n",
      "row 607000/954447 - 63.59703577045137%\n",
      "row 608000/954447 - 63.70180848177007%\n",
      "row 609000/954447 - 63.806581193088775%\n",
      "row 610000/954447 - 63.91135390440748%\n",
      "row 611000/954447 - 64.01612661572618%\n",
      "row 612000/954447 - 64.12089932704488%\n",
      "row 613000/954447 - 64.22567203836358%\n",
      "row 614000/954447 - 64.33044474968229%\n",
      "row 615000/954447 - 64.43521746100099%\n",
      "row 616000/954447 - 64.53999017231968%\n",
      "row 617000/954447 - 64.64476288363838%\n",
      "row 618000/954447 - 64.74953559495708%\n",
      "row 619000/954447 - 64.85430830627578%\n",
      "row 620000/954447 - 64.95908101759447%\n",
      "row 621000/954447 - 65.06385372891317%\n",
      "row 622000/954447 - 65.16862644023188%\n",
      "row 623000/954447 - 65.27339915155058%\n",
      "row 624000/954447 - 65.37817186286928%\n",
      "row 625000/954447 - 65.48294457418798%\n",
      "row 626000/954447 - 65.58771728550668%\n",
      "row 627000/954447 - 65.69248999682539%\n",
      "row 628000/954447 - 65.79726270814409%\n",
      "row 629000/954447 - 65.90203541946279%\n",
      "row 630000/954447 - 66.0068081307815%\n",
      "row 631000/954447 - 66.1115808421002%\n",
      "row 632000/954447 - 66.2163535534189%\n",
      "row 633000/954447 - 66.3211262647376%\n",
      "row 634000/954447 - 66.4258989760563%\n",
      "row 635000/954447 - 66.530671687375%\n",
      "row 636000/954447 - 66.63544439869369%\n",
      "row 637000/954447 - 66.7402171100124%\n",
      "row 638000/954447 - 66.8449898213311%\n",
      "row 639000/954447 - 66.9497625326498%\n",
      "row 640000/954447 - 67.05453524396849%\n",
      "row 641000/954447 - 67.15930795528719%\n",
      "row 642000/954447 - 67.26408066660589%\n",
      "row 643000/954447 - 67.3688533779246%\n",
      "row 644000/954447 - 67.4736260892433%\n",
      "row 645000/954447 - 67.578398800562%\n",
      "row 646000/954447 - 67.6831715118807%\n",
      "row 647000/954447 - 67.7879442231994%\n",
      "row 648000/954447 - 67.8927169345181%\n",
      "row 649000/954447 - 67.99748964583681%\n",
      "row 650000/954447 - 68.10226235715551%\n",
      "row 651000/954447 - 68.20703506847421%\n",
      "row 652000/954447 - 68.31180777979291%\n",
      "row 653000/954447 - 68.41658049111162%\n",
      "row 654000/954447 - 68.52135320243032%\n",
      "row 655000/954447 - 68.62612591374901%\n",
      "row 656000/954447 - 68.73089862506771%\n",
      "row 657000/954447 - 68.83567133638641%\n",
      "row 658000/954447 - 68.94044404770511%\n",
      "row 659000/954447 - 69.0452167590238%\n",
      "row 660000/954447 - 69.1499894703425%\n",
      "row 661000/954447 - 69.2547621816612%\n",
      "row 662000/954447 - 69.35953489297991%\n",
      "row 663000/954447 - 69.46430760429861%\n",
      "row 664000/954447 - 69.56908031561731%\n",
      "row 665000/954447 - 69.67385302693602%\n",
      "row 666000/954447 - 69.77862573825472%\n",
      "row 667000/954447 - 69.88339844957342%\n",
      "row 668000/954447 - 69.98817116089212%\n",
      "row 669000/954447 - 70.09294387221082%\n",
      "row 670000/954447 - 70.19771658352953%\n",
      "row 671000/954447 - 70.30248929484823%\n",
      "row 672000/954447 - 70.40726200616693%\n",
      "row 673000/954447 - 70.51203471748563%\n",
      "row 674000/954447 - 70.61680742880432%\n",
      "row 675000/954447 - 70.72158014012302%\n",
      "row 676000/954447 - 70.82635285144173%\n",
      "row 677000/954447 - 70.93112556276043%\n",
      "row 678000/954447 - 71.03589827407913%\n",
      "row 679000/954447 - 71.14067098539782%\n",
      "row 680000/954447 - 71.24544369671652%\n",
      "row 681000/954447 - 71.35021640803522%\n",
      "row 682000/954447 - 71.45498911935393%\n",
      "row 683000/954447 - 71.55976183067263%\n",
      "row 684000/954447 - 71.66453454199133%\n",
      "row 685000/954447 - 71.76930725331003%\n",
      "row 686000/954447 - 71.87407996462873%\n",
      "row 687000/954447 - 71.97885267594744%\n",
      "row 688000/954447 - 72.08362538726614%\n",
      "row 689000/954447 - 72.18839809858484%\n",
      "row 690000/954447 - 72.29317080990354%\n",
      "row 691000/954447 - 72.39794352122225%\n",
      "row 692000/954447 - 72.50271623254095%\n",
      "row 693000/954447 - 72.60748894385964%\n",
      "row 694000/954447 - 72.71226165517834%\n",
      "row 695000/954447 - 72.81703436649704%\n",
      "row 696000/954447 - 72.92180707781574%\n",
      "row 697000/954447 - 73.02657978913444%\n",
      "row 698000/954447 - 73.13135250045313%\n",
      "row 699000/954447 - 73.23612521177184%\n",
      "row 700000/954447 - 73.34089792309054%\n",
      "row 701000/954447 - 73.44567063440924%\n",
      "row 702000/954447 - 73.55044334572794%\n",
      "row 703000/954447 - 73.65521605704664%\n",
      "row 704000/954447 - 73.75998876836535%\n",
      "row 705000/954447 - 73.86476147968405%\n",
      "row 706000/954447 - 73.96953419100275%\n",
      "row 707000/954447 - 74.07430690232145%\n",
      "row 708000/954447 - 74.17907961364016%\n",
      "row 709000/954447 - 74.28385232495886%\n",
      "row 710000/954447 - 74.38862503627756%\n",
      "row 711000/954447 - 74.49339774759626%\n",
      "row 712000/954447 - 74.59817045891495%\n",
      "row 713000/954447 - 74.70294317023365%\n",
      "row 714000/954447 - 74.80771588155235%\n",
      "row 715000/954447 - 74.91248859287106%\n",
      "row 716000/954447 - 75.01726130418976%\n",
      "row 717000/954447 - 75.12203401550846%\n",
      "row 718000/954447 - 75.22680672682715%\n",
      "row 719000/954447 - 75.33157943814585%\n",
      "row 720000/954447 - 75.43635214946455%\n",
      "row 721000/954447 - 75.54112486078326%\n",
      "row 722000/954447 - 75.64589757210196%\n",
      "row 723000/954447 - 75.75067028342066%\n",
      "row 724000/954447 - 75.85544299473936%\n",
      "row 725000/954447 - 75.96021570605807%\n",
      "row 726000/954447 - 76.06498841737677%\n",
      "row 727000/954447 - 76.16976112869547%\n",
      "row 728000/954447 - 76.27453384001417%\n",
      "row 729000/954447 - 76.37930655133287%\n",
      "row 730000/954447 - 76.48407926265158%\n",
      "row 731000/954447 - 76.58885197397026%\n",
      "row 732000/954447 - 76.69362468528897%\n",
      "row 733000/954447 - 76.79839739660767%\n",
      "row 734000/954447 - 76.90317010792637%\n",
      "row 735000/954447 - 77.00794281924507%\n",
      "row 736000/954447 - 77.11271553056378%\n",
      "row 737000/954447 - 77.21748824188246%\n",
      "row 738000/954447 - 77.32226095320117%\n",
      "row 739000/954447 - 77.42703366451987%\n",
      "row 740000/954447 - 77.53180637583857%\n",
      "row 741000/954447 - 77.63657908715727%\n",
      "row 742000/954447 - 77.74135179847597%\n",
      "row 743000/954447 - 77.84612450979468%\n",
      "row 744000/954447 - 77.95089722111338%\n",
      "row 745000/954447 - 78.05566993243208%\n",
      "row 746000/954447 - 78.16044264375078%\n",
      "row 747000/954447 - 78.26521535506949%\n",
      "row 748000/954447 - 78.36998806638819%\n",
      "row 749000/954447 - 78.47476077770689%\n",
      "row 750000/954447 - 78.57953348902558%\n",
      "row 751000/954447 - 78.68430620034428%\n",
      "row 752000/954447 - 78.78907891166298%\n",
      "row 753000/954447 - 78.89385162298169%\n",
      "row 754000/954447 - 78.99862433430039%\n",
      "row 755000/954447 - 79.10339704561909%\n",
      "row 756000/954447 - 79.20816975693779%\n",
      "row 757000/954447 - 79.31294246825648%\n",
      "row 758000/954447 - 79.41771517957518%\n",
      "row 759000/954447 - 79.52248789089388%\n",
      "row 760000/954447 - 79.62726060221259%\n",
      "row 761000/954447 - 79.73203331353129%\n",
      "row 762000/954447 - 79.83680602484999%\n",
      "row 763000/954447 - 79.9415787361687%\n",
      "row 764000/954447 - 80.0463514474874%\n",
      "row 765000/954447 - 80.1511241588061%\n",
      "row 766000/954447 - 80.2558968701248%\n",
      "row 767000/954447 - 80.3606695814435%\n",
      "row 768000/954447 - 80.4654422927622%\n",
      "row 769000/954447 - 80.5702150040809%\n",
      "row 770000/954447 - 80.6749877153996%\n",
      "row 771000/954447 - 80.7797604267183%\n",
      "row 772000/954447 - 80.884533138037%\n",
      "row 773000/954447 - 80.9893058493557%\n",
      "row 774000/954447 - 81.0940785606744%\n",
      "row 775000/954447 - 81.1988512719931%\n",
      "row 776000/954447 - 81.3036239833118%\n",
      "row 777000/954447 - 81.4083966946305%\n",
      "row 778000/954447 - 81.5131694059492%\n",
      "row 779000/954447 - 81.6179421172679%\n",
      "row 780000/954447 - 81.7227148285866%\n",
      "row 781000/954447 - 81.8274875399053%\n",
      "row 782000/954447 - 81.93226025122401%\n",
      "row 783000/954447 - 82.03703296254271%\n",
      "row 784000/954447 - 82.14180567386141%\n",
      "row 785000/954447 - 82.24657838518011%\n",
      "row 786000/954447 - 82.35135109649882%\n",
      "row 787000/954447 - 82.45612380781752%\n",
      "row 788000/954447 - 82.56089651913621%\n",
      "row 789000/954447 - 82.66566923045491%\n",
      "row 790000/954447 - 82.77044194177361%\n",
      "row 791000/954447 - 82.87521465309231%\n",
      "row 792000/954447 - 82.97998736441102%\n",
      "row 793000/954447 - 83.08476007572972%\n",
      "row 794000/954447 - 83.18953278704842%\n",
      "row 795000/954447 - 83.29430549836712%\n",
      "row 796000/954447 - 83.39907820968581%\n",
      "row 797000/954447 - 83.50385092100451%\n",
      "row 798000/954447 - 83.60862363232322%\n",
      "row 799000/954447 - 83.71339634364192%\n",
      "row 800000/954447 - 83.81816905496062%\n",
      "row 801000/954447 - 83.92294176627932%\n",
      "row 802000/954447 - 84.02771447759802%\n",
      "row 803000/954447 - 84.13248718891673%\n",
      "row 804000/954447 - 84.23725990023543%\n",
      "row 805000/954447 - 84.34203261155413%\n",
      "row 806000/954447 - 84.44680532287283%\n",
      "row 807000/954447 - 84.55157803419152%\n",
      "row 808000/954447 - 84.65635074551022%\n",
      "row 809000/954447 - 84.76112345682893%\n",
      "row 810000/954447 - 84.86589616814763%\n",
      "row 811000/954447 - 84.97066887946633%\n",
      "row 812000/954447 - 85.07544159078503%\n",
      "row 813000/954447 - 85.18021430210374%\n",
      "row 814000/954447 - 85.28498701342244%\n",
      "row 815000/954447 - 85.38975972474113%\n",
      "row 816000/954447 - 85.49453243605983%\n",
      "row 817000/954447 - 85.59930514737853%\n",
      "row 818000/954447 - 85.70407785869723%\n",
      "row 819000/954447 - 85.80885057001593%\n",
      "row 820000/954447 - 85.91362328133464%\n",
      "row 821000/954447 - 86.01839599265334%\n",
      "row 822000/954447 - 86.12316870397204%\n",
      "row 823000/954447 - 86.22794141529074%\n",
      "row 824000/954447 - 86.33271412660945%\n",
      "row 825000/954447 - 86.43748683792815%\n",
      "row 826000/954447 - 86.54225954924684%\n",
      "row 827000/954447 - 86.64703226056554%\n",
      "row 828000/954447 - 86.75180497188424%\n",
      "row 829000/954447 - 86.85657768320294%\n",
      "row 830000/954447 - 86.96135039452165%\n",
      "row 831000/954447 - 87.06612310584035%\n",
      "row 832000/954447 - 87.17089581715905%\n",
      "row 833000/954447 - 87.27566852847775%\n",
      "row 834000/954447 - 87.38044123979645%\n",
      "row 835000/954447 - 87.48521395111514%\n",
      "row 836000/954447 - 87.58998666243384%\n",
      "row 837000/954447 - 87.69475937375255%\n",
      "row 838000/954447 - 87.79953208507125%\n",
      "row 839000/954447 - 87.90430479638995%\n",
      "row 840000/954447 - 88.00907750770865%\n",
      "row 841000/954447 - 88.11385021902736%\n",
      "row 842000/954447 - 88.21862293034606%\n",
      "row 843000/954447 - 88.32339564166476%\n",
      "row 844000/954447 - 88.42816835298346%\n",
      "row 845000/954447 - 88.53294106430215%\n",
      "row 846000/954447 - 88.63771377562085%\n",
      "row 847000/954447 - 88.74248648693955%\n",
      "row 848000/954447 - 88.84725919825826%\n",
      "row 849000/954447 - 88.95203190957696%\n",
      "row 850000/954447 - 89.05680462089566%\n",
      "row 851000/954447 - 89.16157733221436%\n",
      "row 852000/954447 - 89.26635004353307%\n",
      "row 853000/954447 - 89.37112275485177%\n",
      "row 854000/954447 - 89.47589546617046%\n",
      "row 855000/954447 - 89.58066817748916%\n",
      "row 856000/954447 - 89.68544088880786%\n",
      "row 857000/954447 - 89.79021360012656%\n",
      "row 858000/954447 - 89.89498631144527%\n",
      "row 859000/954447 - 89.99975902276397%\n",
      "row 860000/954447 - 90.10453173408267%\n",
      "row 861000/954447 - 90.20930444540137%\n",
      "row 862000/954447 - 90.31407715672007%\n",
      "row 863000/954447 - 90.41884986803878%\n",
      "row 864000/954447 - 90.52362257935746%\n",
      "row 865000/954447 - 90.62839529067617%\n",
      "row 866000/954447 - 90.73316800199487%\n",
      "row 867000/954447 - 90.83794071331357%\n",
      "row 868000/954447 - 90.94271342463227%\n",
      "row 869000/954447 - 91.04748613595098%\n",
      "row 870000/954447 - 91.15225884726968%\n",
      "row 871000/954447 - 91.25703155858838%\n",
      "row 872000/954447 - 91.36180426990708%\n",
      "row 873000/954447 - 91.46657698122578%\n",
      "row 874000/954447 - 91.57134969254447%\n",
      "row 875000/954447 - 91.67612240386318%\n",
      "row 876000/954447 - 91.78089511518188%\n",
      "row 877000/954447 - 91.88566782650058%\n",
      "row 878000/954447 - 91.99044053781928%\n",
      "row 879000/954447 - 92.09521324913798%\n",
      "row 880000/954447 - 92.19998596045669%\n",
      "row 881000/954447 - 92.30475867177539%\n",
      "row 882000/954447 - 92.40953138309409%\n",
      "row 883000/954447 - 92.51430409441278%\n",
      "row 884000/954447 - 92.61907680573148%\n",
      "row 885000/954447 - 92.72384951705018%\n",
      "row 886000/954447 - 92.82862222836889%\n",
      "row 887000/954447 - 92.93339493968759%\n",
      "row 888000/954447 - 93.03816765100629%\n",
      "row 889000/954447 - 93.14294036232499%\n",
      "row 890000/954447 - 93.2477130736437%\n",
      "row 891000/954447 - 93.3524857849624%\n",
      "row 892000/954447 - 93.4572584962811%\n",
      "row 893000/954447 - 93.56203120759979%\n",
      "row 894000/954447 - 93.66680391891849%\n",
      "row 895000/954447 - 93.77157663023719%\n",
      "row 896000/954447 - 93.8763493415559%\n",
      "row 897000/954447 - 93.9811220528746%\n",
      "row 898000/954447 - 94.0858947641933%\n",
      "row 899000/954447 - 94.190667475512%\n",
      "row 900000/954447 - 94.2954401868307%\n",
      "row 901000/954447 - 94.4002128981494%\n",
      "row 902000/954447 - 94.5049856094681%\n",
      "row 903000/954447 - 94.6097583207868%\n",
      "row 904000/954447 - 94.7145310321055%\n",
      "row 905000/954447 - 94.8193037434242%\n",
      "row 906000/954447 - 94.9240764547429%\n",
      "row 907000/954447 - 95.0288491660616%\n",
      "row 908000/954447 - 95.1336218773803%\n",
      "row 909000/954447 - 95.23839458869901%\n",
      "row 910000/954447 - 95.34316730001771%\n",
      "row 911000/954447 - 95.44794001133641%\n",
      "row 912000/954447 - 95.55271272265512%\n",
      "row 913000/954447 - 95.6574854339738%\n",
      "row 914000/954447 - 95.7622581452925%\n",
      "row 915000/954447 - 95.86703085661121%\n",
      "row 916000/954447 - 95.97180356792991%\n",
      "row 917000/954447 - 96.07657627924861%\n",
      "row 918000/954447 - 96.18134899056732%\n",
      "row 919000/954447 - 96.28612170188602%\n",
      "row 920000/954447 - 96.39089441320472%\n",
      "row 921000/954447 - 96.49566712452341%\n",
      "row 922000/954447 - 96.60043983584211%\n",
      "row 923000/954447 - 96.70521254716081%\n",
      "row 924000/954447 - 96.80998525847951%\n",
      "row 925000/954447 - 96.91475796979822%\n",
      "row 926000/954447 - 97.01953068111692%\n",
      "row 927000/954447 - 97.12430339243562%\n",
      "row 928000/954447 - 97.22907610375432%\n",
      "row 929000/954447 - 97.33384881507303%\n",
      "row 930000/954447 - 97.43862152639173%\n",
      "row 931000/954447 - 97.54339423771043%\n",
      "row 932000/954447 - 97.64816694902912%\n",
      "row 933000/954447 - 97.75293966034782%\n",
      "row 934000/954447 - 97.85771237166652%\n",
      "row 935000/954447 - 97.96248508298522%\n",
      "row 936000/954447 - 98.06725779430393%\n",
      "row 937000/954447 - 98.17203050562263%\n",
      "row 938000/954447 - 98.27680321694133%\n",
      "row 939000/954447 - 98.38157592826003%\n",
      "row 940000/954447 - 98.48634863957872%\n",
      "row 941000/954447 - 98.59112135089742%\n",
      "row 942000/954447 - 98.69589406221613%\n",
      "row 943000/954447 - 98.80066677353483%\n",
      "row 944000/954447 - 98.90543948485353%\n",
      "row 945000/954447 - 99.01021219617223%\n",
      "row 946000/954447 - 99.11498490749094%\n",
      "row 947000/954447 - 99.21975761880964%\n",
      "row 948000/954447 - 99.32453033012834%\n",
      "row 949000/954447 - 99.42930304144704%\n",
      "row 950000/954447 - 99.53407575276574%\n",
      "row 951000/954447 - 99.63884846408445%\n",
      "row 952000/954447 - 99.74362117540313%\n",
      "row 953000/954447 - 99.84839388672184%\n",
      "row 954000/954447 - 99.95316659804054%\n"
     ]
    }
   ],
   "source": [
    "count = 1\n",
    "tot = len(grouped_reviews)\n",
    "print(\"tot:\", tot)\n",
    "\n",
    "for index, row in grouped_reviews.iterrows():\n",
    "    uid = index\n",
    "    num = row['num']\n",
    "    stars = row['stars']\n",
    "    num_bin = row['num_bin']\n",
    "    stars_bin = row['stars_bin']\n",
    "    num_real = row['num_real']\n",
    "    stars_real = row['stars_real']\n",
    "    \n",
    "    cols = [\"num_reviews\", \"average_stars\", \"num_reviews_bin\",\n",
    "            \"average_stars_bin\", \"num_reviews_real\", \"average_stars_real\"]\n",
    "    vals = [num, stars, num_bin, stars_bin, num_real, stars_real]\n",
    "    users.loc[uid, cols] = vals\n",
    "    \n",
    "    count += 1\n",
    "    if count % 1000 == 0:\n",
    "        percent = (count/tot)*100\n",
    "        print(\"row {}/{} - {}%\".format(count, tot, percent))"
   ]
  },
  {
   "cell_type": "code",
   "execution_count": 10,
   "metadata": {
    "pycharm": {
     "is_executing": false,
     "name": "#%%\n"
    }
   },
   "outputs": [],
   "source": [
    "users = users.reset_index()\n",
    "users.to_pickle('../dataset/m2_n9/users.pickle')\n",
    "_del_all()"
   ]
  },
  {
   "cell_type": "markdown",
   "metadata": {
    "pycharm": {
     "name": "#%% md\n"
    }
   },
   "source": [
    "### Business-level features"
   ]
  },
  {
   "cell_type": "code",
   "execution_count": 4,
   "metadata": {
    "pycharm": {
     "is_executing": false,
     "name": "#%%\n"
    }
   },
   "outputs": [],
   "source": [
    "restaurants = _pd.read_pickle(\"../dataset/restaurants.pickle\")\n",
    "review_hist = _pd.read_pickle('../dataset/m2_n9/review_hist.pickle')\n",
    "avg_stars = review_hist['stars'].mean()"
   ]
  },
  {
   "cell_type": "code",
   "execution_count": 5,
   "metadata": {
    "pycharm": {
     "is_executing": false,
     "name": "#%%\n"
    }
   },
   "outputs": [
    {
     "data": {
      "text/html": [
       "<div>\n",
       "<style scoped>\n",
       "    .dataframe tbody tr th:only-of-type {\n",
       "        vertical-align: middle;\n",
       "    }\n",
       "\n",
       "    .dataframe tbody tr th {\n",
       "        vertical-align: top;\n",
       "    }\n",
       "\n",
       "    .dataframe thead th {\n",
       "        text-align: right;\n",
       "    }\n",
       "</style>\n",
       "<table border=\"1\" class=\"dataframe\">\n",
       "  <thead>\n",
       "    <tr style=\"text-align: right;\">\n",
       "      <th></th>\n",
       "      <th>name</th>\n",
       "      <th>address</th>\n",
       "      <th>cuisine</th>\n",
       "      <th>postal_code</th>\n",
       "      <th>latitude</th>\n",
       "      <th>longitude</th>\n",
       "      <th>review_count</th>\n",
       "      <th>stars</th>\n",
       "      <th>OutdoorSeating</th>\n",
       "      <th>BusinessAcceptsCreditCards</th>\n",
       "      <th>...</th>\n",
       "      <th>Thursday_Close</th>\n",
       "      <th>Friday_Close</th>\n",
       "      <th>Saturday_Close</th>\n",
       "      <th>Sunday_Close</th>\n",
       "      <th>average_stars</th>\n",
       "      <th>num_reviews</th>\n",
       "      <th>average_stars_bin</th>\n",
       "      <th>num_reviews_bin</th>\n",
       "      <th>average_stars_real</th>\n",
       "      <th>num_reviews_real</th>\n",
       "    </tr>\n",
       "    <tr>\n",
       "      <th>business_id</th>\n",
       "      <th></th>\n",
       "      <th></th>\n",
       "      <th></th>\n",
       "      <th></th>\n",
       "      <th></th>\n",
       "      <th></th>\n",
       "      <th></th>\n",
       "      <th></th>\n",
       "      <th></th>\n",
       "      <th></th>\n",
       "      <th></th>\n",
       "      <th></th>\n",
       "      <th></th>\n",
       "      <th></th>\n",
       "      <th></th>\n",
       "      <th></th>\n",
       "      <th></th>\n",
       "      <th></th>\n",
       "      <th></th>\n",
       "      <th></th>\n",
       "      <th></th>\n",
       "    </tr>\n",
       "  </thead>\n",
       "  <tbody>\n",
       "    <tr>\n",
       "      <th>QXAEGFB4oINsVuTFxEYKFQ</th>\n",
       "      <td>Emerald Chinese Restaurant</td>\n",
       "      <td>30 Eglinton Avenue W</td>\n",
       "      <td>Chinese</td>\n",
       "      <td>L5R 3E7</td>\n",
       "      <td>43.605499</td>\n",
       "      <td>-79.652289</td>\n",
       "      <td>128</td>\n",
       "      <td>2.5</td>\n",
       "      <td>False</td>\n",
       "      <td>NaN</td>\n",
       "      <td>...</td>\n",
       "      <td>00:00:00</td>\n",
       "      <td>01:00:00</td>\n",
       "      <td>01:00:00</td>\n",
       "      <td>00:00:00</td>\n",
       "      <td>3.703313</td>\n",
       "      <td>0</td>\n",
       "      <td>3.703313</td>\n",
       "      <td>0</td>\n",
       "      <td>3.703313</td>\n",
       "      <td>0</td>\n",
       "    </tr>\n",
       "    <tr>\n",
       "      <th>gnKjwL_1w79qoiV3IC_xQQ</th>\n",
       "      <td>Musashi Japanese Restaurant</td>\n",
       "      <td>10110 Johnston Rd, Ste 15</td>\n",
       "      <td>Japanese</td>\n",
       "      <td>28210</td>\n",
       "      <td>35.092564</td>\n",
       "      <td>-80.859132</td>\n",
       "      <td>170</td>\n",
       "      <td>4.0</td>\n",
       "      <td>False</td>\n",
       "      <td>True</td>\n",
       "      <td>...</td>\n",
       "      <td>21:30:00</td>\n",
       "      <td>22:00:00</td>\n",
       "      <td>22:00:00</td>\n",
       "      <td>21:00:00</td>\n",
       "      <td>3.703313</td>\n",
       "      <td>0</td>\n",
       "      <td>3.703313</td>\n",
       "      <td>0</td>\n",
       "      <td>3.703313</td>\n",
       "      <td>0</td>\n",
       "    </tr>\n",
       "    <tr>\n",
       "      <th>1Dfx3zM-rW4n-31KeC8sJg</th>\n",
       "      <td>Taco Bell</td>\n",
       "      <td>2450 E Indian School Rd</td>\n",
       "      <td>Mexican</td>\n",
       "      <td>85016</td>\n",
       "      <td>33.495194</td>\n",
       "      <td>-112.028588</td>\n",
       "      <td>18</td>\n",
       "      <td>3.0</td>\n",
       "      <td>False</td>\n",
       "      <td>True</td>\n",
       "      <td>...</td>\n",
       "      <td>01:00:00</td>\n",
       "      <td>01:00:00</td>\n",
       "      <td>01:00:00</td>\n",
       "      <td>00:00:00</td>\n",
       "      <td>3.703313</td>\n",
       "      <td>0</td>\n",
       "      <td>3.703313</td>\n",
       "      <td>0</td>\n",
       "      <td>3.703313</td>\n",
       "      <td>0</td>\n",
       "    </tr>\n",
       "    <tr>\n",
       "      <th>fweCYi8FmbJXHCqLnwuk8w</th>\n",
       "      <td>Marco's Pizza</td>\n",
       "      <td>5981 Andrews Rd</td>\n",
       "      <td>Italian</td>\n",
       "      <td>44060</td>\n",
       "      <td>41.708520</td>\n",
       "      <td>-81.359556</td>\n",
       "      <td>16</td>\n",
       "      <td>4.0</td>\n",
       "      <td>False</td>\n",
       "      <td>True</td>\n",
       "      <td>...</td>\n",
       "      <td>00:00:00</td>\n",
       "      <td>01:00:00</td>\n",
       "      <td>01:00:00</td>\n",
       "      <td>00:00:00</td>\n",
       "      <td>3.703313</td>\n",
       "      <td>0</td>\n",
       "      <td>3.703313</td>\n",
       "      <td>0</td>\n",
       "      <td>3.703313</td>\n",
       "      <td>0</td>\n",
       "    </tr>\n",
       "    <tr>\n",
       "      <th>PZ-LZzSlhSe9utkQYU8pFg</th>\n",
       "      <td>Carluccio's Tivoli Gardens</td>\n",
       "      <td>1775 E Tropicana Ave, Ste 29</td>\n",
       "      <td>Italian</td>\n",
       "      <td>89119</td>\n",
       "      <td>36.100016</td>\n",
       "      <td>-115.128529</td>\n",
       "      <td>40</td>\n",
       "      <td>4.0</td>\n",
       "      <td>False</td>\n",
       "      <td>True</td>\n",
       "      <td>...</td>\n",
       "      <td>NaT</td>\n",
       "      <td>NaT</td>\n",
       "      <td>NaT</td>\n",
       "      <td>NaT</td>\n",
       "      <td>3.703313</td>\n",
       "      <td>0</td>\n",
       "      <td>3.703313</td>\n",
       "      <td>0</td>\n",
       "      <td>3.703313</td>\n",
       "      <td>0</td>\n",
       "    </tr>\n",
       "  </tbody>\n",
       "</table>\n",
       "<p>5 rows × 36 columns</p>\n",
       "</div>"
      ],
      "text/plain": [
       "                                               name  \\\n",
       "business_id                                           \n",
       "QXAEGFB4oINsVuTFxEYKFQ   Emerald Chinese Restaurant   \n",
       "gnKjwL_1w79qoiV3IC_xQQ  Musashi Japanese Restaurant   \n",
       "1Dfx3zM-rW4n-31KeC8sJg                    Taco Bell   \n",
       "fweCYi8FmbJXHCqLnwuk8w                Marco's Pizza   \n",
       "PZ-LZzSlhSe9utkQYU8pFg   Carluccio's Tivoli Gardens   \n",
       "\n",
       "                                             address   cuisine postal_code  \\\n",
       "business_id                                                                  \n",
       "QXAEGFB4oINsVuTFxEYKFQ          30 Eglinton Avenue W   Chinese     L5R 3E7   \n",
       "gnKjwL_1w79qoiV3IC_xQQ     10110 Johnston Rd, Ste 15  Japanese       28210   \n",
       "1Dfx3zM-rW4n-31KeC8sJg       2450 E Indian School Rd   Mexican       85016   \n",
       "fweCYi8FmbJXHCqLnwuk8w               5981 Andrews Rd   Italian       44060   \n",
       "PZ-LZzSlhSe9utkQYU8pFg  1775 E Tropicana Ave, Ste 29   Italian       89119   \n",
       "\n",
       "                         latitude   longitude  review_count  stars  \\\n",
       "business_id                                                          \n",
       "QXAEGFB4oINsVuTFxEYKFQ  43.605499  -79.652289           128    2.5   \n",
       "gnKjwL_1w79qoiV3IC_xQQ  35.092564  -80.859132           170    4.0   \n",
       "1Dfx3zM-rW4n-31KeC8sJg  33.495194 -112.028588            18    3.0   \n",
       "fweCYi8FmbJXHCqLnwuk8w  41.708520  -81.359556            16    4.0   \n",
       "PZ-LZzSlhSe9utkQYU8pFg  36.100016 -115.128529            40    4.0   \n",
       "\n",
       "                       OutdoorSeating BusinessAcceptsCreditCards  ...  \\\n",
       "business_id                                                       ...   \n",
       "QXAEGFB4oINsVuTFxEYKFQ          False                        NaN  ...   \n",
       "gnKjwL_1w79qoiV3IC_xQQ          False                       True  ...   \n",
       "1Dfx3zM-rW4n-31KeC8sJg          False                       True  ...   \n",
       "fweCYi8FmbJXHCqLnwuk8w          False                       True  ...   \n",
       "PZ-LZzSlhSe9utkQYU8pFg          False                       True  ...   \n",
       "\n",
       "                       Thursday_Close Friday_Close Saturday_Close  \\\n",
       "business_id                                                         \n",
       "QXAEGFB4oINsVuTFxEYKFQ       00:00:00     01:00:00       01:00:00   \n",
       "gnKjwL_1w79qoiV3IC_xQQ       21:30:00     22:00:00       22:00:00   \n",
       "1Dfx3zM-rW4n-31KeC8sJg       01:00:00     01:00:00       01:00:00   \n",
       "fweCYi8FmbJXHCqLnwuk8w       00:00:00     01:00:00       01:00:00   \n",
       "PZ-LZzSlhSe9utkQYU8pFg            NaT          NaT            NaT   \n",
       "\n",
       "                       Sunday_Close average_stars num_reviews  \\\n",
       "business_id                                                     \n",
       "QXAEGFB4oINsVuTFxEYKFQ     00:00:00      3.703313           0   \n",
       "gnKjwL_1w79qoiV3IC_xQQ     21:00:00      3.703313           0   \n",
       "1Dfx3zM-rW4n-31KeC8sJg     00:00:00      3.703313           0   \n",
       "fweCYi8FmbJXHCqLnwuk8w     00:00:00      3.703313           0   \n",
       "PZ-LZzSlhSe9utkQYU8pFg          NaT      3.703313           0   \n",
       "\n",
       "                       average_stars_bin num_reviews_bin average_stars_real  \\\n",
       "business_id                                                                   \n",
       "QXAEGFB4oINsVuTFxEYKFQ          3.703313               0           3.703313   \n",
       "gnKjwL_1w79qoiV3IC_xQQ          3.703313               0           3.703313   \n",
       "1Dfx3zM-rW4n-31KeC8sJg          3.703313               0           3.703313   \n",
       "fweCYi8FmbJXHCqLnwuk8w          3.703313               0           3.703313   \n",
       "PZ-LZzSlhSe9utkQYU8pFg          3.703313               0           3.703313   \n",
       "\n",
       "                       num_reviews_real  \n",
       "business_id                              \n",
       "QXAEGFB4oINsVuTFxEYKFQ                0  \n",
       "gnKjwL_1w79qoiV3IC_xQQ                0  \n",
       "1Dfx3zM-rW4n-31KeC8sJg                0  \n",
       "fweCYi8FmbJXHCqLnwuk8w                0  \n",
       "PZ-LZzSlhSe9utkQYU8pFg                0  \n",
       "\n",
       "[5 rows x 36 columns]"
      ]
     },
     "execution_count": 5,
     "metadata": {},
     "output_type": "execute_result"
    }
   ],
   "source": [
    "restaurants = restaurants.assign(average_stars=avg_stars)\n",
    "restaurants = restaurants.assign(num_reviews=0)\n",
    "restaurants = restaurants.assign(average_stars_bin=avg_stars)\n",
    "restaurants = restaurants.assign(num_reviews_bin=0)\n",
    "restaurants = restaurants.assign(average_stars_real=avg_stars)\n",
    "restaurants = restaurants.assign(num_reviews_real=0)\n",
    "restaurants = restaurants.set_index('business_id')\n",
    "restaurants.head()"
   ]
  },
  {
   "cell_type": "code",
   "execution_count": 6,
   "metadata": {
    "pycharm": {
     "is_executing": false,
     "name": "#%%\n"
    },
    "scrolled": true
   },
   "outputs": [
    {
     "name": "stderr",
     "output_type": "stream",
     "text": [
      "C:\\Users\\super\\Anaconda3\\envs\\tf-gpu\\lib\\site-packages\\ipykernel_launcher.py:10: RuntimeWarning: Mean of empty slice.\n",
      "  # Remove the CWD from sys.path while we load stuff.\n",
      "C:\\Users\\super\\Anaconda3\\envs\\tf-gpu\\lib\\site-packages\\numpy\\core\\_methods.py:80: RuntimeWarning: invalid value encountered in double_scalars\n",
      "  ret = ret.dtype.type(ret / rcount)\n"
     ]
    },
    {
     "data": {
      "text/html": [
       "<div>\n",
       "<style scoped>\n",
       "    .dataframe tbody tr th:only-of-type {\n",
       "        vertical-align: middle;\n",
       "    }\n",
       "\n",
       "    .dataframe tbody tr th {\n",
       "        vertical-align: top;\n",
       "    }\n",
       "\n",
       "    .dataframe thead th {\n",
       "        text-align: right;\n",
       "    }\n",
       "</style>\n",
       "<table border=\"1\" class=\"dataframe\">\n",
       "  <thead>\n",
       "    <tr style=\"text-align: right;\">\n",
       "      <th></th>\n",
       "      <th>num</th>\n",
       "      <th>stars</th>\n",
       "      <th>num_bin</th>\n",
       "      <th>stars_bin</th>\n",
       "      <th>num_real</th>\n",
       "      <th>stars_real</th>\n",
       "    </tr>\n",
       "    <tr>\n",
       "      <th>business_id</th>\n",
       "      <th></th>\n",
       "      <th></th>\n",
       "      <th></th>\n",
       "      <th></th>\n",
       "      <th></th>\n",
       "      <th></th>\n",
       "    </tr>\n",
       "  </thead>\n",
       "  <tbody>\n",
       "    <tr>\n",
       "      <th>--1UhMGODdWsrMastO9DZw</th>\n",
       "      <td>22.0</td>\n",
       "      <td>4.227273</td>\n",
       "      <td>14.0</td>\n",
       "      <td>4.214286</td>\n",
       "      <td>16.978214</td>\n",
       "      <td>4.267477</td>\n",
       "    </tr>\n",
       "    <tr>\n",
       "      <th>--6MefnULPED_I942VcFNA</th>\n",
       "      <td>38.0</td>\n",
       "      <td>3.157895</td>\n",
       "      <td>32.0</td>\n",
       "      <td>3.218750</td>\n",
       "      <td>33.948759</td>\n",
       "      <td>3.218815</td>\n",
       "    </tr>\n",
       "    <tr>\n",
       "      <th>--9e1ONYQuAa-CB_Rrw7Tw</th>\n",
       "      <td>1504.0</td>\n",
       "      <td>4.107048</td>\n",
       "      <td>1216.0</td>\n",
       "      <td>4.088816</td>\n",
       "      <td>1205.738732</td>\n",
       "      <td>4.092415</td>\n",
       "    </tr>\n",
       "    <tr>\n",
       "      <th>--DaPTJW3-tB1vP-PfdTEg</th>\n",
       "      <td>40.0</td>\n",
       "      <td>3.650000</td>\n",
       "      <td>33.0</td>\n",
       "      <td>3.575758</td>\n",
       "      <td>34.780500</td>\n",
       "      <td>3.642790</td>\n",
       "    </tr>\n",
       "    <tr>\n",
       "      <th>--FBCX-N37CMYDfs790Bnw</th>\n",
       "      <td>122.0</td>\n",
       "      <td>3.737705</td>\n",
       "      <td>90.0</td>\n",
       "      <td>3.611111</td>\n",
       "      <td>93.369750</td>\n",
       "      <td>3.646290</td>\n",
       "    </tr>\n",
       "  </tbody>\n",
       "</table>\n",
       "</div>"
      ],
      "text/plain": [
       "                           num     stars  num_bin  stars_bin     num_real  \\\n",
       "business_id                                                                 \n",
       "--1UhMGODdWsrMastO9DZw    22.0  4.227273     14.0   4.214286    16.978214   \n",
       "--6MefnULPED_I942VcFNA    38.0  3.157895     32.0   3.218750    33.948759   \n",
       "--9e1ONYQuAa-CB_Rrw7Tw  1504.0  4.107048   1216.0   4.088816  1205.738732   \n",
       "--DaPTJW3-tB1vP-PfdTEg    40.0  3.650000     33.0   3.575758    34.780500   \n",
       "--FBCX-N37CMYDfs790Bnw   122.0  3.737705     90.0   3.611111    93.369750   \n",
       "\n",
       "                        stars_real  \n",
       "business_id                         \n",
       "--1UhMGODdWsrMastO9DZw    4.267477  \n",
       "--6MefnULPED_I942VcFNA    3.218815  \n",
       "--9e1ONYQuAa-CB_Rrw7Tw    4.092415  \n",
       "--DaPTJW3-tB1vP-PfdTEg    3.642790  \n",
       "--FBCX-N37CMYDfs790Bnw    3.646290  "
      ]
     },
     "execution_count": 6,
     "metadata": {},
     "output_type": "execute_result"
    }
   ],
   "source": [
    "grouped_reviews = review_hist.groupby('business_id').apply(_f)\n",
    "grouped_reviews.head()"
   ]
  },
  {
   "cell_type": "code",
   "execution_count": 7,
   "metadata": {
    "pycharm": {
     "is_executing": false,
     "name": "#%%\n"
    }
   },
   "outputs": [
    {
     "name": "stdout",
     "output_type": "stream",
     "text": [
      "tot: 56850\n",
      "row 1000/56850 - 1.759014951627089%\n",
      "row 2000/56850 - 3.518029903254178%\n",
      "row 3000/56850 - 5.277044854881266%\n",
      "row 4000/56850 - 7.036059806508356%\n",
      "row 5000/56850 - 8.795074758135444%\n",
      "row 6000/56850 - 10.554089709762533%\n",
      "row 7000/56850 - 12.313104661389621%\n",
      "row 8000/56850 - 14.072119613016712%\n",
      "row 9000/56850 - 15.8311345646438%\n",
      "row 10000/56850 - 17.590149516270888%\n",
      "row 11000/56850 - 19.349164467897978%\n",
      "row 12000/56850 - 21.108179419525065%\n",
      "row 13000/56850 - 22.867194371152156%\n",
      "row 14000/56850 - 24.626209322779243%\n",
      "row 15000/56850 - 26.385224274406333%\n",
      "row 16000/56850 - 28.144239226033424%\n",
      "row 17000/56850 - 29.90325417766051%\n",
      "row 18000/56850 - 31.6622691292876%\n",
      "row 19000/56850 - 33.42128408091469%\n",
      "row 20000/56850 - 35.180299032541775%\n",
      "row 21000/56850 - 36.93931398416886%\n",
      "row 22000/56850 - 38.698328935795956%\n",
      "row 23000/56850 - 40.45734388742304%\n",
      "row 24000/56850 - 42.21635883905013%\n",
      "row 25000/56850 - 43.97537379067722%\n",
      "row 26000/56850 - 45.73438874230431%\n",
      "row 27000/56850 - 47.4934036939314%\n",
      "row 28000/56850 - 49.252418645558485%\n",
      "row 29000/56850 - 51.01143359718557%\n",
      "row 30000/56850 - 52.770448548812666%\n",
      "row 31000/56850 - 54.52946350043975%\n",
      "row 32000/56850 - 56.28847845206685%\n",
      "row 33000/56850 - 58.04749340369393%\n",
      "row 34000/56850 - 59.80650835532102%\n",
      "row 35000/56850 - 61.56552330694811%\n",
      "row 36000/56850 - 63.3245382585752%\n",
      "row 37000/56850 - 65.08355321020228%\n",
      "row 38000/56850 - 66.84256816182938%\n",
      "row 39000/56850 - 68.60158311345647%\n",
      "row 40000/56850 - 70.36059806508355%\n",
      "row 41000/56850 - 72.11961301671064%\n",
      "row 42000/56850 - 73.87862796833772%\n",
      "row 43000/56850 - 75.63764291996482%\n",
      "row 44000/56850 - 77.39665787159191%\n",
      "row 45000/56850 - 79.15567282321899%\n",
      "row 46000/56850 - 80.91468777484609%\n",
      "row 47000/56850 - 82.67370272647318%\n",
      "row 48000/56850 - 84.43271767810026%\n",
      "row 49000/56850 - 86.19173262972735%\n",
      "row 50000/56850 - 87.95074758135443%\n",
      "row 51000/56850 - 89.70976253298153%\n",
      "row 52000/56850 - 91.46877748460862%\n",
      "row 53000/56850 - 93.22779243623572%\n",
      "row 54000/56850 - 94.9868073878628%\n",
      "row 55000/56850 - 96.74582233948989%\n",
      "row 56000/56850 - 98.50483729111697%\n"
     ]
    }
   ],
   "source": [
    "count = 1\n",
    "tot = len(grouped_reviews)\n",
    "print(\"tot:\", tot)\n",
    "\n",
    "for index, row in grouped_reviews.iterrows():\n",
    "    uid = index\n",
    "    num = row['num']\n",
    "    stars = row['stars']\n",
    "    num_bin = row['num_bin']\n",
    "    stars_bin = row['stars_bin']\n",
    "    num_real = row['num_real']\n",
    "    stars_real = row['stars_real']\n",
    "    \n",
    "    cols = [\"num_reviews\", \"average_stars\", \"num_reviews_bin\",\n",
    "            \"average_stars_bin\", \"num_reviews_real\", \"average_stars_real\"]\n",
    "    vals = [num, stars, num_bin, stars_bin, num_real, stars_real]\n",
    "    restaurants.loc[uid, cols] = vals\n",
    "    \n",
    "    count += 1\n",
    "    if count % 1000 == 0:\n",
    "        percent = (count/tot)*100\n",
    "        print(\"row {}/{} - {}%\".format(count, tot, percent))"
   ]
  },
  {
   "cell_type": "code",
   "execution_count": 8,
   "metadata": {
    "pycharm": {
     "is_executing": false,
     "name": "#%%\n"
    }
   },
   "outputs": [],
   "source": [
    "restaurants = restaurants.reset_index()\n",
    "restaurants.to_pickle('../dataset/m2_n9/restaurants.pickle')\n",
    "_del_all()\n"
   ]
  },
  {
   "cell_type": "markdown",
   "metadata": {},
   "source": [
    "### User - Business level features"
   ]
  },
  {
   "cell_type": "markdown",
   "metadata": {},
   "source": [
    "#### 3.1. average rating given by a certain user to each category"
   ]
  },
  {
   "cell_type": "code",
   "execution_count": 4,
   "metadata": {
    "pycharm": {
     "is_executing": false
    },
    "scrolled": true
   },
   "outputs": [
    {
     "data": {
      "text/html": [
       "<div>\n",
       "<style scoped>\n",
       "    .dataframe tbody tr th:only-of-type {\n",
       "        vertical-align: middle;\n",
       "    }\n",
       "\n",
       "    .dataframe tbody tr th {\n",
       "        vertical-align: top;\n",
       "    }\n",
       "\n",
       "    .dataframe thead th {\n",
       "        text-align: right;\n",
       "    }\n",
       "</style>\n",
       "<table border=\"1\" class=\"dataframe\">\n",
       "  <thead>\n",
       "    <tr style=\"text-align: right;\">\n",
       "      <th></th>\n",
       "      <th>business_id</th>\n",
       "      <th>name</th>\n",
       "      <th>address</th>\n",
       "      <th>cuisine</th>\n",
       "      <th>postal_code</th>\n",
       "      <th>latitude</th>\n",
       "      <th>longitude</th>\n",
       "      <th>review_count</th>\n",
       "      <th>stars</th>\n",
       "      <th>OutdoorSeating</th>\n",
       "      <th>...</th>\n",
       "      <th>Thursday_Close</th>\n",
       "      <th>Friday_Close</th>\n",
       "      <th>Saturday_Close</th>\n",
       "      <th>Sunday_Close</th>\n",
       "      <th>average_stars</th>\n",
       "      <th>num_reviews</th>\n",
       "      <th>average_stars_bin</th>\n",
       "      <th>num_reviews_bin</th>\n",
       "      <th>average_stars_real</th>\n",
       "      <th>num_reviews_real</th>\n",
       "    </tr>\n",
       "  </thead>\n",
       "  <tbody>\n",
       "    <tr>\n",
       "      <th>0</th>\n",
       "      <td>QXAEGFB4oINsVuTFxEYKFQ</td>\n",
       "      <td>Emerald Chinese Restaurant</td>\n",
       "      <td>30 Eglinton Avenue W</td>\n",
       "      <td>Chinese</td>\n",
       "      <td>L5R 3E7</td>\n",
       "      <td>43.605499</td>\n",
       "      <td>-79.652289</td>\n",
       "      <td>128</td>\n",
       "      <td>2.5</td>\n",
       "      <td>False</td>\n",
       "      <td>...</td>\n",
       "      <td>00:00:00</td>\n",
       "      <td>01:00:00</td>\n",
       "      <td>01:00:00</td>\n",
       "      <td>00:00:00</td>\n",
       "      <td>2.726496</td>\n",
       "      <td>117.0</td>\n",
       "      <td>2.718750</td>\n",
       "      <td>96.0</td>\n",
       "      <td>2.730197</td>\n",
       "      <td>95.873087</td>\n",
       "    </tr>\n",
       "    <tr>\n",
       "      <th>1</th>\n",
       "      <td>gnKjwL_1w79qoiV3IC_xQQ</td>\n",
       "      <td>Musashi Japanese Restaurant</td>\n",
       "      <td>10110 Johnston Rd, Ste 15</td>\n",
       "      <td>Japanese</td>\n",
       "      <td>28210</td>\n",
       "      <td>35.092564</td>\n",
       "      <td>-80.859132</td>\n",
       "      <td>170</td>\n",
       "      <td>4.0</td>\n",
       "      <td>False</td>\n",
       "      <td>...</td>\n",
       "      <td>21:30:00</td>\n",
       "      <td>22:00:00</td>\n",
       "      <td>22:00:00</td>\n",
       "      <td>21:00:00</td>\n",
       "      <td>4.063291</td>\n",
       "      <td>158.0</td>\n",
       "      <td>4.094203</td>\n",
       "      <td>138.0</td>\n",
       "      <td>4.067541</td>\n",
       "      <td>139.112078</td>\n",
       "    </tr>\n",
       "    <tr>\n",
       "      <th>2</th>\n",
       "      <td>1Dfx3zM-rW4n-31KeC8sJg</td>\n",
       "      <td>Taco Bell</td>\n",
       "      <td>2450 E Indian School Rd</td>\n",
       "      <td>Mexican</td>\n",
       "      <td>85016</td>\n",
       "      <td>33.495194</td>\n",
       "      <td>-112.028588</td>\n",
       "      <td>18</td>\n",
       "      <td>3.0</td>\n",
       "      <td>False</td>\n",
       "      <td>...</td>\n",
       "      <td>01:00:00</td>\n",
       "      <td>01:00:00</td>\n",
       "      <td>01:00:00</td>\n",
       "      <td>00:00:00</td>\n",
       "      <td>3.125000</td>\n",
       "      <td>16.0</td>\n",
       "      <td>2.769231</td>\n",
       "      <td>13.0</td>\n",
       "      <td>2.847327</td>\n",
       "      <td>12.604125</td>\n",
       "    </tr>\n",
       "    <tr>\n",
       "      <th>3</th>\n",
       "      <td>fweCYi8FmbJXHCqLnwuk8w</td>\n",
       "      <td>Marco's Pizza</td>\n",
       "      <td>5981 Andrews Rd</td>\n",
       "      <td>Italian</td>\n",
       "      <td>44060</td>\n",
       "      <td>41.708520</td>\n",
       "      <td>-81.359556</td>\n",
       "      <td>16</td>\n",
       "      <td>4.0</td>\n",
       "      <td>False</td>\n",
       "      <td>...</td>\n",
       "      <td>00:00:00</td>\n",
       "      <td>01:00:00</td>\n",
       "      <td>01:00:00</td>\n",
       "      <td>00:00:00</td>\n",
       "      <td>4.230769</td>\n",
       "      <td>13.0</td>\n",
       "      <td>4.166667</td>\n",
       "      <td>12.0</td>\n",
       "      <td>4.142021</td>\n",
       "      <td>10.965903</td>\n",
       "    </tr>\n",
       "    <tr>\n",
       "      <th>4</th>\n",
       "      <td>PZ-LZzSlhSe9utkQYU8pFg</td>\n",
       "      <td>Carluccio's Tivoli Gardens</td>\n",
       "      <td>1775 E Tropicana Ave, Ste 29</td>\n",
       "      <td>Italian</td>\n",
       "      <td>89119</td>\n",
       "      <td>36.100016</td>\n",
       "      <td>-115.128529</td>\n",
       "      <td>40</td>\n",
       "      <td>4.0</td>\n",
       "      <td>False</td>\n",
       "      <td>...</td>\n",
       "      <td>NaT</td>\n",
       "      <td>NaT</td>\n",
       "      <td>NaT</td>\n",
       "      <td>NaT</td>\n",
       "      <td>4.097561</td>\n",
       "      <td>41.0</td>\n",
       "      <td>4.212121</td>\n",
       "      <td>33.0</td>\n",
       "      <td>4.167159</td>\n",
       "      <td>33.655622</td>\n",
       "    </tr>\n",
       "  </tbody>\n",
       "</table>\n",
       "<p>5 rows × 37 columns</p>\n",
       "</div>"
      ],
      "text/plain": [
       "              business_id                         name  \\\n",
       "0  QXAEGFB4oINsVuTFxEYKFQ   Emerald Chinese Restaurant   \n",
       "1  gnKjwL_1w79qoiV3IC_xQQ  Musashi Japanese Restaurant   \n",
       "2  1Dfx3zM-rW4n-31KeC8sJg                    Taco Bell   \n",
       "3  fweCYi8FmbJXHCqLnwuk8w                Marco's Pizza   \n",
       "4  PZ-LZzSlhSe9utkQYU8pFg   Carluccio's Tivoli Gardens   \n",
       "\n",
       "                        address   cuisine postal_code   latitude   longitude  \\\n",
       "0          30 Eglinton Avenue W   Chinese     L5R 3E7  43.605499  -79.652289   \n",
       "1     10110 Johnston Rd, Ste 15  Japanese       28210  35.092564  -80.859132   \n",
       "2       2450 E Indian School Rd   Mexican       85016  33.495194 -112.028588   \n",
       "3               5981 Andrews Rd   Italian       44060  41.708520  -81.359556   \n",
       "4  1775 E Tropicana Ave, Ste 29   Italian       89119  36.100016 -115.128529   \n",
       "\n",
       "   review_count  stars OutdoorSeating  ... Thursday_Close Friday_Close  \\\n",
       "0           128    2.5          False  ...       00:00:00     01:00:00   \n",
       "1           170    4.0          False  ...       21:30:00     22:00:00   \n",
       "2            18    3.0          False  ...       01:00:00     01:00:00   \n",
       "3            16    4.0          False  ...       00:00:00     01:00:00   \n",
       "4            40    4.0          False  ...            NaT          NaT   \n",
       "\n",
       "  Saturday_Close Sunday_Close average_stars num_reviews average_stars_bin  \\\n",
       "0       01:00:00     00:00:00      2.726496       117.0          2.718750   \n",
       "1       22:00:00     21:00:00      4.063291       158.0          4.094203   \n",
       "2       01:00:00     00:00:00      3.125000        16.0          2.769231   \n",
       "3       01:00:00     00:00:00      4.230769        13.0          4.166667   \n",
       "4            NaT          NaT      4.097561        41.0          4.212121   \n",
       "\n",
       "  num_reviews_bin average_stars_real num_reviews_real  \n",
       "0            96.0           2.730197        95.873087  \n",
       "1           138.0           4.067541       139.112078  \n",
       "2            13.0           2.847327        12.604125  \n",
       "3            12.0           4.142021        10.965903  \n",
       "4            33.0           4.167159        33.655622  \n",
       "\n",
       "[5 rows x 37 columns]"
      ]
     },
     "execution_count": 4,
     "metadata": {},
     "output_type": "execute_result"
    }
   ],
   "source": [
    "restaurants = _pd.read_pickle('../dataset/m2_n9/restaurants.pickle')\n",
    "restaurants.head()"
   ]
  },
  {
   "cell_type": "code",
   "execution_count": 5,
   "metadata": {
    "pycharm": {
     "is_executing": false
    }
   },
   "outputs": [
    {
     "data": {
      "text/plain": [
       "Index(['business_id', 'name', 'address', 'cuisine', 'postal_code', 'latitude',\n",
       "       'longitude', 'review_count', 'stars', 'OutdoorSeating',\n",
       "       'BusinessAcceptsCreditCards', 'RestaurantsDelivery',\n",
       "       'RestaurantsReservations', 'WiFi', 'Alcohol', 'categories', 'city',\n",
       "       'Monday_Open', 'Tuesday_Open', 'Wednesday_Open', 'Thursday_Open',\n",
       "       'Friday_Open', 'Saturday_Open', 'Sunday_Open', 'Monday_Close',\n",
       "       'Tuesday_Close', 'Wednesday_Close', 'Thursday_Close', 'Friday_Close',\n",
       "       'Saturday_Close', 'Sunday_Close', 'average_stars', 'num_reviews',\n",
       "       'average_stars_bin', 'num_reviews_bin', 'average_stars_real',\n",
       "       'num_reviews_real'],\n",
       "      dtype='object')"
      ]
     },
     "execution_count": 5,
     "metadata": {},
     "output_type": "execute_result"
    }
   ],
   "source": [
    "restaurants.columns"
   ]
  },
  {
   "cell_type": "code",
   "execution_count": 6,
   "metadata": {
    "pycharm": {
     "is_executing": false
    }
   },
   "outputs": [
    {
     "data": {
      "text/html": [
       "<div>\n",
       "<style scoped>\n",
       "    .dataframe tbody tr th:only-of-type {\n",
       "        vertical-align: middle;\n",
       "    }\n",
       "\n",
       "    .dataframe tbody tr th {\n",
       "        vertical-align: top;\n",
       "    }\n",
       "\n",
       "    .dataframe thead th {\n",
       "        text-align: right;\n",
       "    }\n",
       "</style>\n",
       "<table border=\"1\" class=\"dataframe\">\n",
       "  <thead>\n",
       "    <tr style=\"text-align: right;\">\n",
       "      <th></th>\n",
       "      <th>review_id</th>\n",
       "      <th>user_id</th>\n",
       "      <th>business_id</th>\n",
       "      <th>stars</th>\n",
       "      <th>useful</th>\n",
       "      <th>funny</th>\n",
       "      <th>cool</th>\n",
       "      <th>date</th>\n",
       "      <th>bin_truth_score</th>\n",
       "      <th>real_truth_score</th>\n",
       "    </tr>\n",
       "  </thead>\n",
       "  <tbody>\n",
       "    <tr>\n",
       "      <th>5</th>\n",
       "      <td>fdiNeiN_hoCxCMy2wTRW9g</td>\n",
       "      <td>w31MKYsNFMrjhWxxAb5wIw</td>\n",
       "      <td>eU_713ec6fTGNO4BegRaww</td>\n",
       "      <td>4</td>\n",
       "      <td>0</td>\n",
       "      <td>0</td>\n",
       "      <td>0</td>\n",
       "      <td>2013-01-20 13:25:59</td>\n",
       "      <td>1</td>\n",
       "      <td>0.989000</td>\n",
       "    </tr>\n",
       "    <tr>\n",
       "      <th>6</th>\n",
       "      <td>G7XHMxG0bx9oBJNECG4IFg</td>\n",
       "      <td>jlu4CztcSxrKx56ba1a5AQ</td>\n",
       "      <td>3fw2X5bZYeW9xCz_zGhOHg</td>\n",
       "      <td>3</td>\n",
       "      <td>5</td>\n",
       "      <td>4</td>\n",
       "      <td>5</td>\n",
       "      <td>2016-05-07 01:21:02</td>\n",
       "      <td>1</td>\n",
       "      <td>0.964619</td>\n",
       "    </tr>\n",
       "    <tr>\n",
       "      <th>7</th>\n",
       "      <td>8e9HxxLjjqc9ez5ezzN7iQ</td>\n",
       "      <td>d6xvYpyzcfbF_AZ8vMB7QA</td>\n",
       "      <td>zvO-PJCpNk4fgAVUnExYAA</td>\n",
       "      <td>1</td>\n",
       "      <td>3</td>\n",
       "      <td>1</td>\n",
       "      <td>1</td>\n",
       "      <td>2010-10-05 19:12:35</td>\n",
       "      <td>1</td>\n",
       "      <td>0.867897</td>\n",
       "    </tr>\n",
       "    <tr>\n",
       "      <th>10</th>\n",
       "      <td>kbtscdyz6lvrtGjD1quQTg</td>\n",
       "      <td>FIk4lQQu1eTe2EpzQ4xhBA</td>\n",
       "      <td>8mIrX_LrOnAqWsB5JrOojQ</td>\n",
       "      <td>4</td>\n",
       "      <td>0</td>\n",
       "      <td>0</td>\n",
       "      <td>0</td>\n",
       "      <td>2011-11-30 02:11:15</td>\n",
       "      <td>1</td>\n",
       "      <td>0.975404</td>\n",
       "    </tr>\n",
       "    <tr>\n",
       "      <th>11</th>\n",
       "      <td>-I5umRTkhw15RqpKMl_o1Q</td>\n",
       "      <td>-mA3-1mN4JIEkqOtdbNXCQ</td>\n",
       "      <td>mRUVMJkUGxrByzMQ2MuOpA</td>\n",
       "      <td>1</td>\n",
       "      <td>0</td>\n",
       "      <td>1</td>\n",
       "      <td>0</td>\n",
       "      <td>2017-12-15 23:27:08</td>\n",
       "      <td>1</td>\n",
       "      <td>0.972826</td>\n",
       "    </tr>\n",
       "  </tbody>\n",
       "</table>\n",
       "</div>"
      ],
      "text/plain": [
       "                 review_id                 user_id             business_id  \\\n",
       "5   fdiNeiN_hoCxCMy2wTRW9g  w31MKYsNFMrjhWxxAb5wIw  eU_713ec6fTGNO4BegRaww   \n",
       "6   G7XHMxG0bx9oBJNECG4IFg  jlu4CztcSxrKx56ba1a5AQ  3fw2X5bZYeW9xCz_zGhOHg   \n",
       "7   8e9HxxLjjqc9ez5ezzN7iQ  d6xvYpyzcfbF_AZ8vMB7QA  zvO-PJCpNk4fgAVUnExYAA   \n",
       "10  kbtscdyz6lvrtGjD1quQTg  FIk4lQQu1eTe2EpzQ4xhBA  8mIrX_LrOnAqWsB5JrOojQ   \n",
       "11  -I5umRTkhw15RqpKMl_o1Q  -mA3-1mN4JIEkqOtdbNXCQ  mRUVMJkUGxrByzMQ2MuOpA   \n",
       "\n",
       "    stars  useful  funny  cool                date  bin_truth_score  \\\n",
       "5       4       0      0     0 2013-01-20 13:25:59                1   \n",
       "6       3       5      4     5 2016-05-07 01:21:02                1   \n",
       "7       1       3      1     1 2010-10-05 19:12:35                1   \n",
       "10      4       0      0     0 2011-11-30 02:11:15                1   \n",
       "11      1       0      1     0 2017-12-15 23:27:08                1   \n",
       "\n",
       "    real_truth_score  \n",
       "5           0.989000  \n",
       "6           0.964619  \n",
       "7           0.867897  \n",
       "10          0.975404  \n",
       "11          0.972826  "
      ]
     },
     "execution_count": 6,
     "metadata": {},
     "output_type": "execute_result"
    }
   ],
   "source": [
    "review_hist = _pd.read_pickle('../dataset/m2_n9/review_hist.pickle')\n",
    "review_hist.head()"
   ]
  },
  {
   "cell_type": "code",
   "execution_count": 7,
   "metadata": {
    "pycharm": {
     "is_executing": false
    }
   },
   "outputs": [
    {
     "data": {
      "text/html": [
       "<div>\n",
       "<style scoped>\n",
       "    .dataframe tbody tr th:only-of-type {\n",
       "        vertical-align: middle;\n",
       "    }\n",
       "\n",
       "    .dataframe tbody tr th {\n",
       "        vertical-align: top;\n",
       "    }\n",
       "\n",
       "    .dataframe thead th {\n",
       "        text-align: right;\n",
       "    }\n",
       "</style>\n",
       "<table border=\"1\" class=\"dataframe\">\n",
       "  <thead>\n",
       "    <tr style=\"text-align: right;\">\n",
       "      <th></th>\n",
       "      <th>review_id</th>\n",
       "      <th>user_id</th>\n",
       "      <th>business_id</th>\n",
       "      <th>stars_review</th>\n",
       "      <th>useful</th>\n",
       "      <th>funny</th>\n",
       "      <th>cool</th>\n",
       "      <th>date</th>\n",
       "      <th>bin_truth_score</th>\n",
       "      <th>real_truth_score</th>\n",
       "      <th>...</th>\n",
       "      <th>Thursday_Close</th>\n",
       "      <th>Friday_Close</th>\n",
       "      <th>Saturday_Close</th>\n",
       "      <th>Sunday_Close</th>\n",
       "      <th>average_stars</th>\n",
       "      <th>num_reviews</th>\n",
       "      <th>average_stars_bin</th>\n",
       "      <th>num_reviews_bin</th>\n",
       "      <th>average_stars_real</th>\n",
       "      <th>num_reviews_real</th>\n",
       "    </tr>\n",
       "  </thead>\n",
       "  <tbody>\n",
       "    <tr>\n",
       "      <th>5</th>\n",
       "      <td>fdiNeiN_hoCxCMy2wTRW9g</td>\n",
       "      <td>w31MKYsNFMrjhWxxAb5wIw</td>\n",
       "      <td>eU_713ec6fTGNO4BegRaww</td>\n",
       "      <td>4</td>\n",
       "      <td>0</td>\n",
       "      <td>0</td>\n",
       "      <td>0</td>\n",
       "      <td>2013-01-20 13:25:59</td>\n",
       "      <td>1</td>\n",
       "      <td>0.989000</td>\n",
       "      <td>...</td>\n",
       "      <td>22:00:00</td>\n",
       "      <td>23:00:00</td>\n",
       "      <td>23:00:00</td>\n",
       "      <td>NaT</td>\n",
       "      <td>3.642276</td>\n",
       "      <td>123.0</td>\n",
       "      <td>3.594059</td>\n",
       "      <td>101.0</td>\n",
       "      <td>3.596369</td>\n",
       "      <td>99.505441</td>\n",
       "    </tr>\n",
       "    <tr>\n",
       "      <th>6</th>\n",
       "      <td>G7XHMxG0bx9oBJNECG4IFg</td>\n",
       "      <td>jlu4CztcSxrKx56ba1a5AQ</td>\n",
       "      <td>3fw2X5bZYeW9xCz_zGhOHg</td>\n",
       "      <td>3</td>\n",
       "      <td>5</td>\n",
       "      <td>4</td>\n",
       "      <td>5</td>\n",
       "      <td>2016-05-07 01:21:02</td>\n",
       "      <td>1</td>\n",
       "      <td>0.964619</td>\n",
       "      <td>...</td>\n",
       "      <td>00:00:00</td>\n",
       "      <td>02:00:00</td>\n",
       "      <td>02:00:00</td>\n",
       "      <td>00:00:00</td>\n",
       "      <td>3.292453</td>\n",
       "      <td>106.0</td>\n",
       "      <td>3.320000</td>\n",
       "      <td>100.0</td>\n",
       "      <td>3.289493</td>\n",
       "      <td>94.480786</td>\n",
       "    </tr>\n",
       "    <tr>\n",
       "      <th>7</th>\n",
       "      <td>8e9HxxLjjqc9ez5ezzN7iQ</td>\n",
       "      <td>d6xvYpyzcfbF_AZ8vMB7QA</td>\n",
       "      <td>zvO-PJCpNk4fgAVUnExYAA</td>\n",
       "      <td>1</td>\n",
       "      <td>3</td>\n",
       "      <td>1</td>\n",
       "      <td>1</td>\n",
       "      <td>2010-10-05 19:12:35</td>\n",
       "      <td>1</td>\n",
       "      <td>0.867897</td>\n",
       "      <td>...</td>\n",
       "      <td>22:00:00</td>\n",
       "      <td>23:00:00</td>\n",
       "      <td>23:00:00</td>\n",
       "      <td>23:00:00</td>\n",
       "      <td>2.655172</td>\n",
       "      <td>29.0</td>\n",
       "      <td>2.875000</td>\n",
       "      <td>24.0</td>\n",
       "      <td>2.727490</td>\n",
       "      <td>23.413530</td>\n",
       "    </tr>\n",
       "    <tr>\n",
       "      <th>10</th>\n",
       "      <td>kbtscdyz6lvrtGjD1quQTg</td>\n",
       "      <td>FIk4lQQu1eTe2EpzQ4xhBA</td>\n",
       "      <td>8mIrX_LrOnAqWsB5JrOojQ</td>\n",
       "      <td>4</td>\n",
       "      <td>0</td>\n",
       "      <td>0</td>\n",
       "      <td>0</td>\n",
       "      <td>2011-11-30 02:11:15</td>\n",
       "      <td>1</td>\n",
       "      <td>0.975404</td>\n",
       "      <td>...</td>\n",
       "      <td>23:00:00</td>\n",
       "      <td>00:00:00</td>\n",
       "      <td>00:00:00</td>\n",
       "      <td>23:00:00</td>\n",
       "      <td>4.491259</td>\n",
       "      <td>1144.0</td>\n",
       "      <td>4.499535</td>\n",
       "      <td>1075.0</td>\n",
       "      <td>4.502904</td>\n",
       "      <td>1031.313358</td>\n",
       "    </tr>\n",
       "    <tr>\n",
       "      <th>11</th>\n",
       "      <td>-I5umRTkhw15RqpKMl_o1Q</td>\n",
       "      <td>-mA3-1mN4JIEkqOtdbNXCQ</td>\n",
       "      <td>mRUVMJkUGxrByzMQ2MuOpA</td>\n",
       "      <td>1</td>\n",
       "      <td>0</td>\n",
       "      <td>1</td>\n",
       "      <td>0</td>\n",
       "      <td>2017-12-15 23:27:08</td>\n",
       "      <td>1</td>\n",
       "      <td>0.972826</td>\n",
       "      <td>...</td>\n",
       "      <td>00:00:00</td>\n",
       "      <td>02:00:00</td>\n",
       "      <td>02:00:00</td>\n",
       "      <td>00:00:00</td>\n",
       "      <td>3.666667</td>\n",
       "      <td>12.0</td>\n",
       "      <td>3.833333</td>\n",
       "      <td>6.0</td>\n",
       "      <td>3.650460</td>\n",
       "      <td>7.482296</td>\n",
       "    </tr>\n",
       "  </tbody>\n",
       "</table>\n",
       "<p>5 rows × 46 columns</p>\n",
       "</div>"
      ],
      "text/plain": [
       "                 review_id                 user_id             business_id  \\\n",
       "5   fdiNeiN_hoCxCMy2wTRW9g  w31MKYsNFMrjhWxxAb5wIw  eU_713ec6fTGNO4BegRaww   \n",
       "6   G7XHMxG0bx9oBJNECG4IFg  jlu4CztcSxrKx56ba1a5AQ  3fw2X5bZYeW9xCz_zGhOHg   \n",
       "7   8e9HxxLjjqc9ez5ezzN7iQ  d6xvYpyzcfbF_AZ8vMB7QA  zvO-PJCpNk4fgAVUnExYAA   \n",
       "10  kbtscdyz6lvrtGjD1quQTg  FIk4lQQu1eTe2EpzQ4xhBA  8mIrX_LrOnAqWsB5JrOojQ   \n",
       "11  -I5umRTkhw15RqpKMl_o1Q  -mA3-1mN4JIEkqOtdbNXCQ  mRUVMJkUGxrByzMQ2MuOpA   \n",
       "\n",
       "    stars_review  useful  funny  cool                date  bin_truth_score  \\\n",
       "5              4       0      0     0 2013-01-20 13:25:59                1   \n",
       "6              3       5      4     5 2016-05-07 01:21:02                1   \n",
       "7              1       3      1     1 2010-10-05 19:12:35                1   \n",
       "10             4       0      0     0 2011-11-30 02:11:15                1   \n",
       "11             1       0      1     0 2017-12-15 23:27:08                1   \n",
       "\n",
       "    real_truth_score  ... Thursday_Close Friday_Close Saturday_Close  \\\n",
       "5           0.989000  ...       22:00:00     23:00:00       23:00:00   \n",
       "6           0.964619  ...       00:00:00     02:00:00       02:00:00   \n",
       "7           0.867897  ...       22:00:00     23:00:00       23:00:00   \n",
       "10          0.975404  ...       23:00:00     00:00:00       00:00:00   \n",
       "11          0.972826  ...       00:00:00     02:00:00       02:00:00   \n",
       "\n",
       "   Sunday_Close  average_stars  num_reviews  average_stars_bin  \\\n",
       "5           NaT       3.642276        123.0           3.594059   \n",
       "6      00:00:00       3.292453        106.0           3.320000   \n",
       "7      23:00:00       2.655172         29.0           2.875000   \n",
       "10     23:00:00       4.491259       1144.0           4.499535   \n",
       "11     00:00:00       3.666667         12.0           3.833333   \n",
       "\n",
       "    num_reviews_bin average_stars_real num_reviews_real  \n",
       "5             101.0           3.596369        99.505441  \n",
       "6             100.0           3.289493        94.480786  \n",
       "7              24.0           2.727490        23.413530  \n",
       "10           1075.0           4.502904      1031.313358  \n",
       "11              6.0           3.650460         7.482296  \n",
       "\n",
       "[5 rows x 46 columns]"
      ]
     },
     "execution_count": 7,
     "metadata": {},
     "output_type": "execute_result"
    }
   ],
   "source": [
    "joined_reviews = review_hist.join(restaurants.set_index('business_id'), on = 'business_id', lsuffix='_review', rsuffix='_rest')\n",
    "joined_reviews.head()"
   ]
  },
  {
   "cell_type": "code",
   "execution_count": 8,
   "metadata": {
    "pycharm": {
     "is_executing": false
    },
    "scrolled": true
   },
   "outputs": [
    {
     "name": "stdout",
     "output_type": "stream",
     "text": [
      "173884\n",
      "761\n",
      "249\n",
      "Number of cuisines: 10\n",
      "['Chinese', 'Japanese', 'Mexican', 'Italian', 'Others', 'American', 'Korean', 'Mediterranean', 'Thai', 'Asian Fusion']\n"
     ]
    }
   ],
   "source": [
    "categories = ', '.join(list(restaurants['categories'].unique()))\n",
    "categories = categories.split(', ')\n",
    "print(len(categories))\n",
    "\n",
    "cat = []\n",
    "for h in categories:\n",
    "    if h not in cat:\n",
    "        cat.append(h)\n",
    "        \n",
    "print(len(cat))\n",
    "\n",
    "cuisines = ', '.join(list(restaurants['cuisine'].unique()))\n",
    "cuisines = cuisines.split(', ')\n",
    "print(len(cuisines))\n",
    "\n",
    "_cuisines_unique = []\n",
    "for cuisine in cuisines:\n",
    "    if not cuisine in _cuisines_unique:\n",
    "        _cuisines_unique.append(cuisine)\n",
    "        \n",
    "print(\"Number of cuisines: {0}\".format(len(_cuisines_unique)))\n",
    "print(_cuisines_unique)"
   ]
  },
  {
   "cell_type": "code",
   "execution_count": null,
   "metadata": {
    "pycharm": {
     "is_executing": true
    }
   },
   "outputs": [],
   "source": [
    "joined_reviews = joined_reviews.reset_index()\n",
    "joined_reviews.to_pickle('../dataset/m2_n9/join_restaurants_reviewhist.pickle')"
   ]
  },
  {
   "cell_type": "code",
   "execution_count": null,
   "metadata": {
    "pycharm": {
     "is_executing": true
    }
   },
   "outputs": [],
   "source": [
    "_del_all()"
   ]
  },
  {
   "cell_type": "markdown",
   "metadata": {},
   "source": [
    "Checkpoint"
   ]
  },
  {
   "cell_type": "code",
   "execution_count": null,
   "metadata": {
    "pycharm": {
     "is_executing": true
    }
   },
   "outputs": [
    {
     "data": {
      "text/html": [
       "<div>\n",
       "<style scoped>\n",
       "    .dataframe tbody tr th:only-of-type {\n",
       "        vertical-align: middle;\n",
       "    }\n",
       "\n",
       "    .dataframe tbody tr th {\n",
       "        vertical-align: top;\n",
       "    }\n",
       "\n",
       "    .dataframe thead th {\n",
       "        text-align: right;\n",
       "    }\n",
       "</style>\n",
       "<table border=\"1\" class=\"dataframe\">\n",
       "  <thead>\n",
       "    <tr style=\"text-align: right;\">\n",
       "      <th></th>\n",
       "      <th>index</th>\n",
       "      <th>review_id</th>\n",
       "      <th>user_id</th>\n",
       "      <th>business_id</th>\n",
       "      <th>stars_review</th>\n",
       "      <th>useful</th>\n",
       "      <th>funny</th>\n",
       "      <th>cool</th>\n",
       "      <th>date</th>\n",
       "      <th>bin_truth_score</th>\n",
       "      <th>...</th>\n",
       "      <th>Thursday_Close</th>\n",
       "      <th>Friday_Close</th>\n",
       "      <th>Saturday_Close</th>\n",
       "      <th>Sunday_Close</th>\n",
       "      <th>average_stars</th>\n",
       "      <th>num_reviews</th>\n",
       "      <th>average_stars_bin</th>\n",
       "      <th>num_reviews_bin</th>\n",
       "      <th>average_stars_real</th>\n",
       "      <th>num_reviews_real</th>\n",
       "    </tr>\n",
       "  </thead>\n",
       "  <tbody>\n",
       "    <tr>\n",
       "      <th>0</th>\n",
       "      <td>5</td>\n",
       "      <td>fdiNeiN_hoCxCMy2wTRW9g</td>\n",
       "      <td>w31MKYsNFMrjhWxxAb5wIw</td>\n",
       "      <td>eU_713ec6fTGNO4BegRaww</td>\n",
       "      <td>4</td>\n",
       "      <td>0</td>\n",
       "      <td>0</td>\n",
       "      <td>0</td>\n",
       "      <td>2013-01-20 13:25:59</td>\n",
       "      <td>1</td>\n",
       "      <td>...</td>\n",
       "      <td>22:00:00</td>\n",
       "      <td>23:00:00</td>\n",
       "      <td>23:00:00</td>\n",
       "      <td>NaT</td>\n",
       "      <td>3.642276</td>\n",
       "      <td>123.0</td>\n",
       "      <td>3.594059</td>\n",
       "      <td>101.0</td>\n",
       "      <td>3.596369</td>\n",
       "      <td>99.505441</td>\n",
       "    </tr>\n",
       "    <tr>\n",
       "      <th>1</th>\n",
       "      <td>6</td>\n",
       "      <td>G7XHMxG0bx9oBJNECG4IFg</td>\n",
       "      <td>jlu4CztcSxrKx56ba1a5AQ</td>\n",
       "      <td>3fw2X5bZYeW9xCz_zGhOHg</td>\n",
       "      <td>3</td>\n",
       "      <td>5</td>\n",
       "      <td>4</td>\n",
       "      <td>5</td>\n",
       "      <td>2016-05-07 01:21:02</td>\n",
       "      <td>1</td>\n",
       "      <td>...</td>\n",
       "      <td>00:00:00</td>\n",
       "      <td>02:00:00</td>\n",
       "      <td>02:00:00</td>\n",
       "      <td>00:00:00</td>\n",
       "      <td>3.292453</td>\n",
       "      <td>106.0</td>\n",
       "      <td>3.320000</td>\n",
       "      <td>100.0</td>\n",
       "      <td>3.289493</td>\n",
       "      <td>94.480786</td>\n",
       "    </tr>\n",
       "    <tr>\n",
       "      <th>2</th>\n",
       "      <td>7</td>\n",
       "      <td>8e9HxxLjjqc9ez5ezzN7iQ</td>\n",
       "      <td>d6xvYpyzcfbF_AZ8vMB7QA</td>\n",
       "      <td>zvO-PJCpNk4fgAVUnExYAA</td>\n",
       "      <td>1</td>\n",
       "      <td>3</td>\n",
       "      <td>1</td>\n",
       "      <td>1</td>\n",
       "      <td>2010-10-05 19:12:35</td>\n",
       "      <td>1</td>\n",
       "      <td>...</td>\n",
       "      <td>22:00:00</td>\n",
       "      <td>23:00:00</td>\n",
       "      <td>23:00:00</td>\n",
       "      <td>23:00:00</td>\n",
       "      <td>2.655172</td>\n",
       "      <td>29.0</td>\n",
       "      <td>2.875000</td>\n",
       "      <td>24.0</td>\n",
       "      <td>2.727490</td>\n",
       "      <td>23.413530</td>\n",
       "    </tr>\n",
       "    <tr>\n",
       "      <th>3</th>\n",
       "      <td>10</td>\n",
       "      <td>kbtscdyz6lvrtGjD1quQTg</td>\n",
       "      <td>FIk4lQQu1eTe2EpzQ4xhBA</td>\n",
       "      <td>8mIrX_LrOnAqWsB5JrOojQ</td>\n",
       "      <td>4</td>\n",
       "      <td>0</td>\n",
       "      <td>0</td>\n",
       "      <td>0</td>\n",
       "      <td>2011-11-30 02:11:15</td>\n",
       "      <td>1</td>\n",
       "      <td>...</td>\n",
       "      <td>23:00:00</td>\n",
       "      <td>00:00:00</td>\n",
       "      <td>00:00:00</td>\n",
       "      <td>23:00:00</td>\n",
       "      <td>4.491259</td>\n",
       "      <td>1144.0</td>\n",
       "      <td>4.499535</td>\n",
       "      <td>1075.0</td>\n",
       "      <td>4.502904</td>\n",
       "      <td>1031.313358</td>\n",
       "    </tr>\n",
       "    <tr>\n",
       "      <th>4</th>\n",
       "      <td>11</td>\n",
       "      <td>-I5umRTkhw15RqpKMl_o1Q</td>\n",
       "      <td>-mA3-1mN4JIEkqOtdbNXCQ</td>\n",
       "      <td>mRUVMJkUGxrByzMQ2MuOpA</td>\n",
       "      <td>1</td>\n",
       "      <td>0</td>\n",
       "      <td>1</td>\n",
       "      <td>0</td>\n",
       "      <td>2017-12-15 23:27:08</td>\n",
       "      <td>1</td>\n",
       "      <td>...</td>\n",
       "      <td>00:00:00</td>\n",
       "      <td>02:00:00</td>\n",
       "      <td>02:00:00</td>\n",
       "      <td>00:00:00</td>\n",
       "      <td>3.666667</td>\n",
       "      <td>12.0</td>\n",
       "      <td>3.833333</td>\n",
       "      <td>6.0</td>\n",
       "      <td>3.650460</td>\n",
       "      <td>7.482296</td>\n",
       "    </tr>\n",
       "  </tbody>\n",
       "</table>\n",
       "<p>5 rows × 47 columns</p>\n",
       "</div>"
      ],
      "text/plain": [
       "   index               review_id                 user_id  \\\n",
       "0      5  fdiNeiN_hoCxCMy2wTRW9g  w31MKYsNFMrjhWxxAb5wIw   \n",
       "1      6  G7XHMxG0bx9oBJNECG4IFg  jlu4CztcSxrKx56ba1a5AQ   \n",
       "2      7  8e9HxxLjjqc9ez5ezzN7iQ  d6xvYpyzcfbF_AZ8vMB7QA   \n",
       "3     10  kbtscdyz6lvrtGjD1quQTg  FIk4lQQu1eTe2EpzQ4xhBA   \n",
       "4     11  -I5umRTkhw15RqpKMl_o1Q  -mA3-1mN4JIEkqOtdbNXCQ   \n",
       "\n",
       "              business_id  stars_review  useful  funny  cool  \\\n",
       "0  eU_713ec6fTGNO4BegRaww             4       0      0     0   \n",
       "1  3fw2X5bZYeW9xCz_zGhOHg             3       5      4     5   \n",
       "2  zvO-PJCpNk4fgAVUnExYAA             1       3      1     1   \n",
       "3  8mIrX_LrOnAqWsB5JrOojQ             4       0      0     0   \n",
       "4  mRUVMJkUGxrByzMQ2MuOpA             1       0      1     0   \n",
       "\n",
       "                 date  bin_truth_score  ...  Thursday_Close Friday_Close  \\\n",
       "0 2013-01-20 13:25:59                1  ...        22:00:00     23:00:00   \n",
       "1 2016-05-07 01:21:02                1  ...        00:00:00     02:00:00   \n",
       "2 2010-10-05 19:12:35                1  ...        22:00:00     23:00:00   \n",
       "3 2011-11-30 02:11:15                1  ...        23:00:00     00:00:00   \n",
       "4 2017-12-15 23:27:08                1  ...        00:00:00     02:00:00   \n",
       "\n",
       "  Saturday_Close Sunday_Close average_stars  num_reviews  average_stars_bin  \\\n",
       "0       23:00:00          NaT      3.642276        123.0           3.594059   \n",
       "1       02:00:00     00:00:00      3.292453        106.0           3.320000   \n",
       "2       23:00:00     23:00:00      2.655172         29.0           2.875000   \n",
       "3       00:00:00     23:00:00      4.491259       1144.0           4.499535   \n",
       "4       02:00:00     00:00:00      3.666667         12.0           3.833333   \n",
       "\n",
       "   num_reviews_bin  average_stars_real num_reviews_real  \n",
       "0            101.0            3.596369        99.505441  \n",
       "1            100.0            3.289493        94.480786  \n",
       "2             24.0            2.727490        23.413530  \n",
       "3           1075.0            4.502904      1031.313358  \n",
       "4              6.0            3.650460         7.482296  \n",
       "\n",
       "[5 rows x 47 columns]"
      ]
     },
     "execution_count": 11,
     "metadata": {},
     "output_type": "execute_result"
    }
   ],
   "source": [
    "joined_reviews =  _pd.read_pickle('../dataset/m2_n9/join_restaurants_reviewhist.pickle')\n",
    "joined_reviews.head()"
   ]
  },
  {
   "cell_type": "code",
   "execution_count": null,
   "metadata": {
    "pycharm": {
     "is_executing": true
    }
   },
   "outputs": [
    {
     "data": {
      "text/html": [
       "<div>\n",
       "<style scoped>\n",
       "    .dataframe tbody tr th:only-of-type {\n",
       "        vertical-align: middle;\n",
       "    }\n",
       "\n",
       "    .dataframe tbody tr th {\n",
       "        vertical-align: top;\n",
       "    }\n",
       "\n",
       "    .dataframe thead th {\n",
       "        text-align: right;\n",
       "    }\n",
       "</style>\n",
       "<table border=\"1\" class=\"dataframe\">\n",
       "  <thead>\n",
       "    <tr style=\"text-align: right;\">\n",
       "      <th></th>\n",
       "      <th>review_id</th>\n",
       "      <th>user_id</th>\n",
       "      <th>business_id</th>\n",
       "      <th>bin_truth_score</th>\n",
       "      <th>real_truth_score</th>\n",
       "      <th>cuisine</th>\n",
       "      <th>stars_review</th>\n",
       "    </tr>\n",
       "  </thead>\n",
       "  <tbody>\n",
       "    <tr>\n",
       "      <th>0</th>\n",
       "      <td>fdiNeiN_hoCxCMy2wTRW9g</td>\n",
       "      <td>w31MKYsNFMrjhWxxAb5wIw</td>\n",
       "      <td>eU_713ec6fTGNO4BegRaww</td>\n",
       "      <td>1</td>\n",
       "      <td>0.989000</td>\n",
       "      <td>Italian</td>\n",
       "      <td>4</td>\n",
       "    </tr>\n",
       "    <tr>\n",
       "      <th>1</th>\n",
       "      <td>G7XHMxG0bx9oBJNECG4IFg</td>\n",
       "      <td>jlu4CztcSxrKx56ba1a5AQ</td>\n",
       "      <td>3fw2X5bZYeW9xCz_zGhOHg</td>\n",
       "      <td>1</td>\n",
       "      <td>0.964619</td>\n",
       "      <td>Chinese</td>\n",
       "      <td>3</td>\n",
       "    </tr>\n",
       "    <tr>\n",
       "      <th>2</th>\n",
       "      <td>8e9HxxLjjqc9ez5ezzN7iQ</td>\n",
       "      <td>d6xvYpyzcfbF_AZ8vMB7QA</td>\n",
       "      <td>zvO-PJCpNk4fgAVUnExYAA</td>\n",
       "      <td>1</td>\n",
       "      <td>0.867897</td>\n",
       "      <td>American</td>\n",
       "      <td>1</td>\n",
       "    </tr>\n",
       "    <tr>\n",
       "      <th>3</th>\n",
       "      <td>kbtscdyz6lvrtGjD1quQTg</td>\n",
       "      <td>FIk4lQQu1eTe2EpzQ4xhBA</td>\n",
       "      <td>8mIrX_LrOnAqWsB5JrOojQ</td>\n",
       "      <td>1</td>\n",
       "      <td>0.975404</td>\n",
       "      <td>Others</td>\n",
       "      <td>4</td>\n",
       "    </tr>\n",
       "    <tr>\n",
       "      <th>4</th>\n",
       "      <td>-I5umRTkhw15RqpKMl_o1Q</td>\n",
       "      <td>-mA3-1mN4JIEkqOtdbNXCQ</td>\n",
       "      <td>mRUVMJkUGxrByzMQ2MuOpA</td>\n",
       "      <td>1</td>\n",
       "      <td>0.972826</td>\n",
       "      <td>American</td>\n",
       "      <td>1</td>\n",
       "    </tr>\n",
       "  </tbody>\n",
       "</table>\n",
       "</div>"
      ],
      "text/plain": [
       "                review_id                 user_id             business_id  \\\n",
       "0  fdiNeiN_hoCxCMy2wTRW9g  w31MKYsNFMrjhWxxAb5wIw  eU_713ec6fTGNO4BegRaww   \n",
       "1  G7XHMxG0bx9oBJNECG4IFg  jlu4CztcSxrKx56ba1a5AQ  3fw2X5bZYeW9xCz_zGhOHg   \n",
       "2  8e9HxxLjjqc9ez5ezzN7iQ  d6xvYpyzcfbF_AZ8vMB7QA  zvO-PJCpNk4fgAVUnExYAA   \n",
       "3  kbtscdyz6lvrtGjD1quQTg  FIk4lQQu1eTe2EpzQ4xhBA  8mIrX_LrOnAqWsB5JrOojQ   \n",
       "4  -I5umRTkhw15RqpKMl_o1Q  -mA3-1mN4JIEkqOtdbNXCQ  mRUVMJkUGxrByzMQ2MuOpA   \n",
       "\n",
       "   bin_truth_score  real_truth_score   cuisine  stars_review  \n",
       "0                1          0.989000   Italian             4  \n",
       "1                1          0.964619   Chinese             3  \n",
       "2                1          0.867897  American             1  \n",
       "3                1          0.975404    Others             4  \n",
       "4                1          0.972826  American             1  "
      ]
     },
     "execution_count": 12,
     "metadata": {},
     "output_type": "execute_result"
    }
   ],
   "source": [
    "# joined_reviews = joined_reviews.reset_index()\n",
    "joined_reviews = joined_reviews[['review_id', 'user_id', 'business_id', 'bin_truth_score', 'real_truth_score', 'cuisine', 'stars_review']]\n",
    "joined_reviews.head()"
   ]
  },
  {
   "cell_type": "code",
   "execution_count": null,
   "metadata": {},
   "outputs": [],
   "source": [
    "#cuisines_unique = ['Chinese', 'Japanese', 'Mexican', 'Italian', 'Others', 'American', 'Korean', 'Mediterranean', 'Thai', 'Asian Fusion']"
   ]
  },
  {
   "cell_type": "code",
   "execution_count": null,
   "metadata": {
    "pycharm": {
     "is_executing": true
    }
   },
   "outputs": [],
   "source": [
    "def each_cuisine_ratings(grouped):\n",
    "    d = {}\n",
    "    index = []\n",
    "    for cuisine in _cuisines_unique:\n",
    "        cuisine_av = cuisine + \"_av\"\n",
    "        cuisine_records = _np.ma.masked_where(~grouped['cuisine'].str.contains(cuisine), grouped['stars_review']).compressed()\n",
    "        d[cuisine_av] = cuisine_records.mean()\n",
    "        index.append(cuisine_av)\n",
    "    # print(\"cuisine_av done\")\n",
    "        \n",
    "    for cuisine in _cuisines_unique:\n",
    "        cuisine_av_bin = cuisine + \"_av_bin\"\n",
    "        #non_fake = _np.ma.masked_where(grouped['bin_truth_score'] < 0, grouped).compressed()\n",
    "        non_fake = grouped[grouped['bin_truth_score'] > 0]\n",
    "        cuisine_records = _np.ma.masked_where(~non_fake['cuisine'].str.contains(cuisine), non_fake['stars_review']).compressed()\n",
    "        d[cuisine_av_bin] = cuisine_records.mean()\n",
    "        index.append(cuisine_av_bin)\n",
    "    # print(\"cuisine_av_bin done\")\n",
    "    \n",
    "    for cuisine in _cuisines_unique:\n",
    "        cuisine_av_real = cuisine + \"_av_real\"\n",
    "        cuisine_records = _np.ma.masked_where(~grouped['cuisine'].str.contains(cuisine), grouped['stars_review']).compressed()\n",
    "        cuisine_truth_score = _np.ma.masked_where(~grouped['cuisine'].str.contains(cuisine), grouped['real_truth_score']).compressed()\n",
    "        d[cuisine_av_real] = _np.ma.average(cuisine_records, weights = cuisine_truth_score)\n",
    "        index.append(cuisine_av_real)\n",
    "    # print(\"cuisine_av_real done\")\n",
    "    \n",
    "    return _pd.Series(d, index = index)\n",
    "    "
   ]
  },
  {
   "cell_type": "code",
   "execution_count": null,
   "metadata": {
    "pycharm": {
     "is_executing": true
    }
   },
   "outputs": [
    {
     "name": "stderr",
     "output_type": "stream",
     "text": [
      "C:\\Users\\super\\Anaconda3\\envs\\tf-gpu\\lib\\site-packages\\ipykernel_launcher.py:8: RuntimeWarning: Mean of empty slice.\n",
      "  \n",
      "C:\\Users\\super\\Anaconda3\\envs\\tf-gpu\\lib\\site-packages\\numpy\\core\\_methods.py:80: RuntimeWarning: invalid value encountered in double_scalars\n",
      "  ret = ret.dtype.type(ret / rcount)\n",
      "C:\\Users\\super\\Anaconda3\\envs\\tf-gpu\\lib\\site-packages\\ipykernel_launcher.py:17: RuntimeWarning: Mean of empty slice.\n",
      "C:\\Users\\super\\Anaconda3\\envs\\tf-gpu\\lib\\site-packages\\numpy\\ma\\extras.py:607: RuntimeWarning: invalid value encountered in double_scalars\n",
      "  avg = np.multiply(a, wgt, dtype=result_dtype).sum(axis)/scl\n"
     ]
    }
   ],
   "source": [
    "grouped_reviews = joined_reviews.groupby('user_id').apply(each_cuisine_ratings)"
   ]
  },
  {
   "cell_type": "code",
   "execution_count": null,
   "metadata": {
    "pycharm": {
     "is_executing": true
    }
   },
   "outputs": [
    {
     "data": {
      "text/html": [
       "<div>\n",
       "<style scoped>\n",
       "    .dataframe tbody tr th:only-of-type {\n",
       "        vertical-align: middle;\n",
       "    }\n",
       "\n",
       "    .dataframe tbody tr th {\n",
       "        vertical-align: top;\n",
       "    }\n",
       "\n",
       "    .dataframe thead th {\n",
       "        text-align: right;\n",
       "    }\n",
       "</style>\n",
       "<table border=\"1\" class=\"dataframe\">\n",
       "  <thead>\n",
       "    <tr style=\"text-align: right;\">\n",
       "      <th></th>\n",
       "      <th>Chinese_av</th>\n",
       "      <th>Japanese_av</th>\n",
       "      <th>Mexican_av</th>\n",
       "      <th>Italian_av</th>\n",
       "      <th>Others_av</th>\n",
       "      <th>American_av</th>\n",
       "      <th>Korean_av</th>\n",
       "      <th>Mediterranean_av</th>\n",
       "      <th>Thai_av</th>\n",
       "      <th>Asian Fusion_av</th>\n",
       "      <th>...</th>\n",
       "      <th>Chinese_av_real</th>\n",
       "      <th>Japanese_av_real</th>\n",
       "      <th>Mexican_av_real</th>\n",
       "      <th>Italian_av_real</th>\n",
       "      <th>Others_av_real</th>\n",
       "      <th>American_av_real</th>\n",
       "      <th>Korean_av_real</th>\n",
       "      <th>Mediterranean_av_real</th>\n",
       "      <th>Thai_av_real</th>\n",
       "      <th>Asian Fusion_av_real</th>\n",
       "    </tr>\n",
       "    <tr>\n",
       "      <th>user_id</th>\n",
       "      <th></th>\n",
       "      <th></th>\n",
       "      <th></th>\n",
       "      <th></th>\n",
       "      <th></th>\n",
       "      <th></th>\n",
       "      <th></th>\n",
       "      <th></th>\n",
       "      <th></th>\n",
       "      <th></th>\n",
       "      <th></th>\n",
       "      <th></th>\n",
       "      <th></th>\n",
       "      <th></th>\n",
       "      <th></th>\n",
       "      <th></th>\n",
       "      <th></th>\n",
       "      <th></th>\n",
       "      <th></th>\n",
       "      <th></th>\n",
       "      <th></th>\n",
       "    </tr>\n",
       "  </thead>\n",
       "  <tbody>\n",
       "    <tr>\n",
       "      <th>---1lKK3aKOuomHnwAkAow</th>\n",
       "      <td>NaN</td>\n",
       "      <td>2.333333</td>\n",
       "      <td>3.666667</td>\n",
       "      <td>3.166667</td>\n",
       "      <td>4.352941</td>\n",
       "      <td>3.9375</td>\n",
       "      <td>4.0</td>\n",
       "      <td>NaN</td>\n",
       "      <td>3.25</td>\n",
       "      <td>3.5</td>\n",
       "      <td>...</td>\n",
       "      <td>NaN</td>\n",
       "      <td>2.035809</td>\n",
       "      <td>3.720609</td>\n",
       "      <td>3.226154</td>\n",
       "      <td>4.524134</td>\n",
       "      <td>3.963953</td>\n",
       "      <td>4.0</td>\n",
       "      <td>NaN</td>\n",
       "      <td>3.134858</td>\n",
       "      <td>3.443446</td>\n",
       "    </tr>\n",
       "    <tr>\n",
       "      <th>---PLwSf5gKdIoVnyRHgBA</th>\n",
       "      <td>NaN</td>\n",
       "      <td>NaN</td>\n",
       "      <td>NaN</td>\n",
       "      <td>NaN</td>\n",
       "      <td>3.000000</td>\n",
       "      <td>NaN</td>\n",
       "      <td>NaN</td>\n",
       "      <td>NaN</td>\n",
       "      <td>NaN</td>\n",
       "      <td>NaN</td>\n",
       "      <td>...</td>\n",
       "      <td>NaN</td>\n",
       "      <td>NaN</td>\n",
       "      <td>NaN</td>\n",
       "      <td>NaN</td>\n",
       "      <td>3.000000</td>\n",
       "      <td>NaN</td>\n",
       "      <td>NaN</td>\n",
       "      <td>NaN</td>\n",
       "      <td>NaN</td>\n",
       "      <td>NaN</td>\n",
       "    </tr>\n",
       "    <tr>\n",
       "      <th>---cu1hq55BP9DWVXXKHZg</th>\n",
       "      <td>NaN</td>\n",
       "      <td>NaN</td>\n",
       "      <td>4.000000</td>\n",
       "      <td>NaN</td>\n",
       "      <td>NaN</td>\n",
       "      <td>NaN</td>\n",
       "      <td>NaN</td>\n",
       "      <td>NaN</td>\n",
       "      <td>NaN</td>\n",
       "      <td>1.0</td>\n",
       "      <td>...</td>\n",
       "      <td>NaN</td>\n",
       "      <td>NaN</td>\n",
       "      <td>4.000000</td>\n",
       "      <td>NaN</td>\n",
       "      <td>NaN</td>\n",
       "      <td>NaN</td>\n",
       "      <td>NaN</td>\n",
       "      <td>NaN</td>\n",
       "      <td>NaN</td>\n",
       "      <td>1.000000</td>\n",
       "    </tr>\n",
       "    <tr>\n",
       "      <th>---udAKDsn0yQXmzbWQNSw</th>\n",
       "      <td>NaN</td>\n",
       "      <td>NaN</td>\n",
       "      <td>NaN</td>\n",
       "      <td>NaN</td>\n",
       "      <td>5.000000</td>\n",
       "      <td>NaN</td>\n",
       "      <td>NaN</td>\n",
       "      <td>NaN</td>\n",
       "      <td>4.00</td>\n",
       "      <td>NaN</td>\n",
       "      <td>...</td>\n",
       "      <td>NaN</td>\n",
       "      <td>NaN</td>\n",
       "      <td>NaN</td>\n",
       "      <td>NaN</td>\n",
       "      <td>5.000000</td>\n",
       "      <td>NaN</td>\n",
       "      <td>NaN</td>\n",
       "      <td>NaN</td>\n",
       "      <td>4.000000</td>\n",
       "      <td>NaN</td>\n",
       "    </tr>\n",
       "    <tr>\n",
       "      <th>--0RtXvcOIE4XbErYca6Rw</th>\n",
       "      <td>NaN</td>\n",
       "      <td>NaN</td>\n",
       "      <td>NaN</td>\n",
       "      <td>NaN</td>\n",
       "      <td>4.000000</td>\n",
       "      <td>NaN</td>\n",
       "      <td>NaN</td>\n",
       "      <td>NaN</td>\n",
       "      <td>NaN</td>\n",
       "      <td>NaN</td>\n",
       "      <td>...</td>\n",
       "      <td>NaN</td>\n",
       "      <td>NaN</td>\n",
       "      <td>NaN</td>\n",
       "      <td>NaN</td>\n",
       "      <td>4.000000</td>\n",
       "      <td>NaN</td>\n",
       "      <td>NaN</td>\n",
       "      <td>NaN</td>\n",
       "      <td>NaN</td>\n",
       "      <td>NaN</td>\n",
       "    </tr>\n",
       "  </tbody>\n",
       "</table>\n",
       "<p>5 rows × 30 columns</p>\n",
       "</div>"
      ],
      "text/plain": [
       "                        Chinese_av  Japanese_av  Mexican_av  Italian_av  \\\n",
       "user_id                                                                   \n",
       "---1lKK3aKOuomHnwAkAow         NaN     2.333333    3.666667    3.166667   \n",
       "---PLwSf5gKdIoVnyRHgBA         NaN          NaN         NaN         NaN   \n",
       "---cu1hq55BP9DWVXXKHZg         NaN          NaN    4.000000         NaN   \n",
       "---udAKDsn0yQXmzbWQNSw         NaN          NaN         NaN         NaN   \n",
       "--0RtXvcOIE4XbErYca6Rw         NaN          NaN         NaN         NaN   \n",
       "\n",
       "                        Others_av  American_av  Korean_av  Mediterranean_av  \\\n",
       "user_id                                                                       \n",
       "---1lKK3aKOuomHnwAkAow   4.352941       3.9375        4.0               NaN   \n",
       "---PLwSf5gKdIoVnyRHgBA   3.000000          NaN        NaN               NaN   \n",
       "---cu1hq55BP9DWVXXKHZg        NaN          NaN        NaN               NaN   \n",
       "---udAKDsn0yQXmzbWQNSw   5.000000          NaN        NaN               NaN   \n",
       "--0RtXvcOIE4XbErYca6Rw   4.000000          NaN        NaN               NaN   \n",
       "\n",
       "                        Thai_av  Asian Fusion_av  ...  Chinese_av_real  \\\n",
       "user_id                                           ...                    \n",
       "---1lKK3aKOuomHnwAkAow     3.25              3.5  ...              NaN   \n",
       "---PLwSf5gKdIoVnyRHgBA      NaN              NaN  ...              NaN   \n",
       "---cu1hq55BP9DWVXXKHZg      NaN              1.0  ...              NaN   \n",
       "---udAKDsn0yQXmzbWQNSw     4.00              NaN  ...              NaN   \n",
       "--0RtXvcOIE4XbErYca6Rw      NaN              NaN  ...              NaN   \n",
       "\n",
       "                        Japanese_av_real  Mexican_av_real  Italian_av_real  \\\n",
       "user_id                                                                      \n",
       "---1lKK3aKOuomHnwAkAow          2.035809         3.720609         3.226154   \n",
       "---PLwSf5gKdIoVnyRHgBA               NaN              NaN              NaN   \n",
       "---cu1hq55BP9DWVXXKHZg               NaN         4.000000              NaN   \n",
       "---udAKDsn0yQXmzbWQNSw               NaN              NaN              NaN   \n",
       "--0RtXvcOIE4XbErYca6Rw               NaN              NaN              NaN   \n",
       "\n",
       "                        Others_av_real  American_av_real  Korean_av_real  \\\n",
       "user_id                                                                    \n",
       "---1lKK3aKOuomHnwAkAow        4.524134          3.963953             4.0   \n",
       "---PLwSf5gKdIoVnyRHgBA        3.000000               NaN             NaN   \n",
       "---cu1hq55BP9DWVXXKHZg             NaN               NaN             NaN   \n",
       "---udAKDsn0yQXmzbWQNSw        5.000000               NaN             NaN   \n",
       "--0RtXvcOIE4XbErYca6Rw        4.000000               NaN             NaN   \n",
       "\n",
       "                        Mediterranean_av_real  Thai_av_real  \\\n",
       "user_id                                                       \n",
       "---1lKK3aKOuomHnwAkAow                    NaN      3.134858   \n",
       "---PLwSf5gKdIoVnyRHgBA                    NaN           NaN   \n",
       "---cu1hq55BP9DWVXXKHZg                    NaN           NaN   \n",
       "---udAKDsn0yQXmzbWQNSw                    NaN      4.000000   \n",
       "--0RtXvcOIE4XbErYca6Rw                    NaN           NaN   \n",
       "\n",
       "                        Asian Fusion_av_real  \n",
       "user_id                                       \n",
       "---1lKK3aKOuomHnwAkAow              3.443446  \n",
       "---PLwSf5gKdIoVnyRHgBA                   NaN  \n",
       "---cu1hq55BP9DWVXXKHZg              1.000000  \n",
       "---udAKDsn0yQXmzbWQNSw                   NaN  \n",
       "--0RtXvcOIE4XbErYca6Rw                   NaN  \n",
       "\n",
       "[5 rows x 30 columns]"
      ]
     },
     "execution_count": 19,
     "metadata": {},
     "output_type": "execute_result"
    }
   ],
   "source": [
    "grouped_reviews.head()"
   ]
  },
  {
   "cell_type": "markdown",
   "metadata": {},
   "source": [
    "Checkpoint 2"
   ]
  },
  {
   "cell_type": "code",
   "execution_count": 3,
   "metadata": {
    "pycharm": {
     "is_executing": false
    }
   },
   "outputs": [
    {
     "data": {
      "text/html": [
       "<div>\n",
       "<style scoped>\n",
       "    .dataframe tbody tr th:only-of-type {\n",
       "        vertical-align: middle;\n",
       "    }\n",
       "\n",
       "    .dataframe tbody tr th {\n",
       "        vertical-align: top;\n",
       "    }\n",
       "\n",
       "    .dataframe thead th {\n",
       "        text-align: right;\n",
       "    }\n",
       "</style>\n",
       "<table border=\"1\" class=\"dataframe\">\n",
       "  <thead>\n",
       "    <tr style=\"text-align: right;\">\n",
       "      <th></th>\n",
       "      <th>user_id</th>\n",
       "      <th>user_name</th>\n",
       "      <th>average_stars</th>\n",
       "      <th>yelping_since</th>\n",
       "      <th>review</th>\n",
       "      <th>years_of_elite</th>\n",
       "      <th>fans</th>\n",
       "      <th>useful</th>\n",
       "      <th>cool</th>\n",
       "      <th>funny</th>\n",
       "      <th>friends</th>\n",
       "      <th>num_reviews</th>\n",
       "      <th>average_stars_bin</th>\n",
       "      <th>num_reviews_bin</th>\n",
       "      <th>average_stars_real</th>\n",
       "      <th>num_reviews_real</th>\n",
       "    </tr>\n",
       "  </thead>\n",
       "  <tbody>\n",
       "    <tr>\n",
       "      <th>0</th>\n",
       "      <td>l6BmjZMeQD3rDxWUbiAiow</td>\n",
       "      <td>Rashmi</td>\n",
       "      <td>3.000000</td>\n",
       "      <td>2013-10-08</td>\n",
       "      <td>95</td>\n",
       "      <td>3</td>\n",
       "      <td>5</td>\n",
       "      <td>84</td>\n",
       "      <td>25</td>\n",
       "      <td>17</td>\n",
       "      <td>2374</td>\n",
       "      <td>2.0</td>\n",
       "      <td>3.000000</td>\n",
       "      <td>2.0</td>\n",
       "      <td>3.017247</td>\n",
       "      <td>1.957334</td>\n",
       "    </tr>\n",
       "    <tr>\n",
       "      <th>1</th>\n",
       "      <td>4XChL029mKr5hydo79Ljxg</td>\n",
       "      <td>Jenna</td>\n",
       "      <td>3.500000</td>\n",
       "      <td>2013-02-21</td>\n",
       "      <td>33</td>\n",
       "      <td>0</td>\n",
       "      <td>4</td>\n",
       "      <td>48</td>\n",
       "      <td>16</td>\n",
       "      <td>22</td>\n",
       "      <td>27646</td>\n",
       "      <td>12.0</td>\n",
       "      <td>3.777778</td>\n",
       "      <td>9.0</td>\n",
       "      <td>3.626019</td>\n",
       "      <td>9.280533</td>\n",
       "    </tr>\n",
       "    <tr>\n",
       "      <th>2</th>\n",
       "      <td>bc8C_eETBWL0olvFSJJd0w</td>\n",
       "      <td>David</td>\n",
       "      <td>3.384615</td>\n",
       "      <td>2013-10-04</td>\n",
       "      <td>16</td>\n",
       "      <td>0</td>\n",
       "      <td>0</td>\n",
       "      <td>28</td>\n",
       "      <td>10</td>\n",
       "      <td>8</td>\n",
       "      <td>358</td>\n",
       "      <td>13.0</td>\n",
       "      <td>3.500000</td>\n",
       "      <td>12.0</td>\n",
       "      <td>3.326528</td>\n",
       "      <td>10.350275</td>\n",
       "    </tr>\n",
       "    <tr>\n",
       "      <th>3</th>\n",
       "      <td>dD0gZpBctWGdWo9WlGuhlA</td>\n",
       "      <td>Angela</td>\n",
       "      <td>5.000000</td>\n",
       "      <td>2014-05-22</td>\n",
       "      <td>17</td>\n",
       "      <td>0</td>\n",
       "      <td>5</td>\n",
       "      <td>30</td>\n",
       "      <td>14</td>\n",
       "      <td>4</td>\n",
       "      <td>12598</td>\n",
       "      <td>1.0</td>\n",
       "      <td>NaN</td>\n",
       "      <td>0.0</td>\n",
       "      <td>5.000000</td>\n",
       "      <td>0.329341</td>\n",
       "    </tr>\n",
       "    <tr>\n",
       "      <th>4</th>\n",
       "      <td>MM4RJAeH6yuaN8oZDSt0RA</td>\n",
       "      <td>Nancy</td>\n",
       "      <td>4.400000</td>\n",
       "      <td>2013-10-23</td>\n",
       "      <td>361</td>\n",
       "      <td>4</td>\n",
       "      <td>39</td>\n",
       "      <td>1114</td>\n",
       "      <td>665</td>\n",
       "      <td>279</td>\n",
       "      <td>5542</td>\n",
       "      <td>5.0</td>\n",
       "      <td>4.400000</td>\n",
       "      <td>5.0</td>\n",
       "      <td>4.378799</td>\n",
       "      <td>4.720870</td>\n",
       "    </tr>\n",
       "  </tbody>\n",
       "</table>\n",
       "</div>"
      ],
      "text/plain": [
       "                  user_id user_name  average_stars yelping_since  review  \\\n",
       "0  l6BmjZMeQD3rDxWUbiAiow    Rashmi       3.000000    2013-10-08      95   \n",
       "1  4XChL029mKr5hydo79Ljxg     Jenna       3.500000    2013-02-21      33   \n",
       "2  bc8C_eETBWL0olvFSJJd0w     David       3.384615    2013-10-04      16   \n",
       "3  dD0gZpBctWGdWo9WlGuhlA    Angela       5.000000    2014-05-22      17   \n",
       "4  MM4RJAeH6yuaN8oZDSt0RA     Nancy       4.400000    2013-10-23     361   \n",
       "\n",
       "   years_of_elite  fans  useful  cool  funny  friends  num_reviews  \\\n",
       "0               3     5      84    25     17     2374          2.0   \n",
       "1               0     4      48    16     22    27646         12.0   \n",
       "2               0     0      28    10      8      358         13.0   \n",
       "3               0     5      30    14      4    12598          1.0   \n",
       "4               4    39    1114   665    279     5542          5.0   \n",
       "\n",
       "   average_stars_bin  num_reviews_bin  average_stars_real  num_reviews_real  \n",
       "0           3.000000              2.0            3.017247          1.957334  \n",
       "1           3.777778              9.0            3.626019          9.280533  \n",
       "2           3.500000             12.0            3.326528         10.350275  \n",
       "3                NaN              0.0            5.000000          0.329341  \n",
       "4           4.400000              5.0            4.378799          4.720870  "
      ]
     },
     "execution_count": 3,
     "metadata": {},
     "output_type": "execute_result"
    }
   ],
   "source": [
    "users = _pd.read_pickle('../dataset/m2_n9/users.pickle')\n",
    "users.head()"
   ]
  },
  {
   "cell_type": "code",
   "execution_count": 4,
   "metadata": {
    "pycharm": {
     "is_executing": false
    }
   },
   "outputs": [],
   "source": [
    "users = users.assign(av_rat_chinese_cuisine = _np.nan, av_rat_japanese_cuisine = _np.nan, av_rat_mexican_cuisine = _np.nan, \n",
    "                     av_rat_italian_cuisine = _np.nan, av_rat_others_cuisine = _np.nan, av_rat_american_cuisine = _np.nan, \n",
    "                     av_rat_korean_cuisine = _np.nan, av_rat_mediterranean_cuisine = _np.nan, av_rat_thai_cuisine = _np.nan, \n",
    "                     av_rat_asianfusion_cuisine = _np.nan)\n",
    "\n",
    "users = users.assign(av_rat_chinese_cuisine_bin = _np.nan, av_rat_japanese_cuisine_bin = _np.nan, av_rat_mexican_cuisine_bin = _np.nan, \n",
    "                     av_rat_italian_cuisine_bin = _np.nan, av_rat_others_cuisine_bin = _np.nan, av_rat_american_cuisine_bin = _np.nan, \n",
    "                     av_rat_korean_cuisine_bin = _np.nan, av_rat_mediterranean_cuisine_bin = _np.nan, av_rat_thai_cuisine_bin = _np.nan, \n",
    "                     av_rat_asianfusion_cuisine_bin = _np.nan)\n",
    "\n",
    "users = users.assign(av_rat_chinese_cuisine_real = _np.nan, av_rat_japanese_cuisine_real = _np.nan, av_rat_mexican_cuisine_real = _np.nan, \n",
    "                     av_rat_italian_cuisine_real = _np.nan, av_rat_others_cuisine_real = _np.nan, av_rat_american_cuisine_real = _np.nan, \n",
    "                     av_rat_korean_cuisine_real = _np.nan, av_rat_mediterranean_cuisine_real = _np.nan, av_rat_thai_cuisine_real = _np.nan, \n",
    "                     av_rat_asianfusion_cuisine_real = _np.nan)\n",
    "\n",
    "users = users.set_index('user_id')"
   ]
  },
  {
   "cell_type": "code",
   "execution_count": 5,
   "metadata": {
    "pycharm": {
     "is_executing": false
    },
    "scrolled": true
   },
   "outputs": [
    {
     "data": {
      "text/html": [
       "<div>\n",
       "<style scoped>\n",
       "    .dataframe tbody tr th:only-of-type {\n",
       "        vertical-align: middle;\n",
       "    }\n",
       "\n",
       "    .dataframe tbody tr th {\n",
       "        vertical-align: top;\n",
       "    }\n",
       "\n",
       "    .dataframe thead th {\n",
       "        text-align: right;\n",
       "    }\n",
       "</style>\n",
       "<table border=\"1\" class=\"dataframe\">\n",
       "  <thead>\n",
       "    <tr style=\"text-align: right;\">\n",
       "      <th></th>\n",
       "      <th>user_name</th>\n",
       "      <th>average_stars</th>\n",
       "      <th>yelping_since</th>\n",
       "      <th>review</th>\n",
       "      <th>years_of_elite</th>\n",
       "      <th>fans</th>\n",
       "      <th>useful</th>\n",
       "      <th>cool</th>\n",
       "      <th>funny</th>\n",
       "      <th>friends</th>\n",
       "      <th>...</th>\n",
       "      <th>av_rat_chinese_cuisine_real</th>\n",
       "      <th>av_rat_japanese_cuisine_real</th>\n",
       "      <th>av_rat_mexican_cuisine_real</th>\n",
       "      <th>av_rat_italian_cuisine_real</th>\n",
       "      <th>av_rat_others_cuisine_real</th>\n",
       "      <th>av_rat_american_cuisine_real</th>\n",
       "      <th>av_rat_korean_cuisine_real</th>\n",
       "      <th>av_rat_mediterranean_cuisine_real</th>\n",
       "      <th>av_rat_thai_cuisine_real</th>\n",
       "      <th>av_rat_asianfusion_cuisine_real</th>\n",
       "    </tr>\n",
       "    <tr>\n",
       "      <th>user_id</th>\n",
       "      <th></th>\n",
       "      <th></th>\n",
       "      <th></th>\n",
       "      <th></th>\n",
       "      <th></th>\n",
       "      <th></th>\n",
       "      <th></th>\n",
       "      <th></th>\n",
       "      <th></th>\n",
       "      <th></th>\n",
       "      <th></th>\n",
       "      <th></th>\n",
       "      <th></th>\n",
       "      <th></th>\n",
       "      <th></th>\n",
       "      <th></th>\n",
       "      <th></th>\n",
       "      <th></th>\n",
       "      <th></th>\n",
       "      <th></th>\n",
       "      <th></th>\n",
       "    </tr>\n",
       "  </thead>\n",
       "  <tbody>\n",
       "    <tr>\n",
       "      <th>l6BmjZMeQD3rDxWUbiAiow</th>\n",
       "      <td>Rashmi</td>\n",
       "      <td>3.000000</td>\n",
       "      <td>2013-10-08</td>\n",
       "      <td>95</td>\n",
       "      <td>3</td>\n",
       "      <td>5</td>\n",
       "      <td>84</td>\n",
       "      <td>25</td>\n",
       "      <td>17</td>\n",
       "      <td>2374</td>\n",
       "      <td>...</td>\n",
       "      <td>NaN</td>\n",
       "      <td>NaN</td>\n",
       "      <td>NaN</td>\n",
       "      <td>NaN</td>\n",
       "      <td>NaN</td>\n",
       "      <td>NaN</td>\n",
       "      <td>NaN</td>\n",
       "      <td>NaN</td>\n",
       "      <td>NaN</td>\n",
       "      <td>NaN</td>\n",
       "    </tr>\n",
       "    <tr>\n",
       "      <th>4XChL029mKr5hydo79Ljxg</th>\n",
       "      <td>Jenna</td>\n",
       "      <td>3.500000</td>\n",
       "      <td>2013-02-21</td>\n",
       "      <td>33</td>\n",
       "      <td>0</td>\n",
       "      <td>4</td>\n",
       "      <td>48</td>\n",
       "      <td>16</td>\n",
       "      <td>22</td>\n",
       "      <td>27646</td>\n",
       "      <td>...</td>\n",
       "      <td>NaN</td>\n",
       "      <td>NaN</td>\n",
       "      <td>NaN</td>\n",
       "      <td>NaN</td>\n",
       "      <td>NaN</td>\n",
       "      <td>NaN</td>\n",
       "      <td>NaN</td>\n",
       "      <td>NaN</td>\n",
       "      <td>NaN</td>\n",
       "      <td>NaN</td>\n",
       "    </tr>\n",
       "    <tr>\n",
       "      <th>bc8C_eETBWL0olvFSJJd0w</th>\n",
       "      <td>David</td>\n",
       "      <td>3.384615</td>\n",
       "      <td>2013-10-04</td>\n",
       "      <td>16</td>\n",
       "      <td>0</td>\n",
       "      <td>0</td>\n",
       "      <td>28</td>\n",
       "      <td>10</td>\n",
       "      <td>8</td>\n",
       "      <td>358</td>\n",
       "      <td>...</td>\n",
       "      <td>NaN</td>\n",
       "      <td>NaN</td>\n",
       "      <td>NaN</td>\n",
       "      <td>NaN</td>\n",
       "      <td>NaN</td>\n",
       "      <td>NaN</td>\n",
       "      <td>NaN</td>\n",
       "      <td>NaN</td>\n",
       "      <td>NaN</td>\n",
       "      <td>NaN</td>\n",
       "    </tr>\n",
       "    <tr>\n",
       "      <th>dD0gZpBctWGdWo9WlGuhlA</th>\n",
       "      <td>Angela</td>\n",
       "      <td>5.000000</td>\n",
       "      <td>2014-05-22</td>\n",
       "      <td>17</td>\n",
       "      <td>0</td>\n",
       "      <td>5</td>\n",
       "      <td>30</td>\n",
       "      <td>14</td>\n",
       "      <td>4</td>\n",
       "      <td>12598</td>\n",
       "      <td>...</td>\n",
       "      <td>NaN</td>\n",
       "      <td>NaN</td>\n",
       "      <td>NaN</td>\n",
       "      <td>NaN</td>\n",
       "      <td>NaN</td>\n",
       "      <td>NaN</td>\n",
       "      <td>NaN</td>\n",
       "      <td>NaN</td>\n",
       "      <td>NaN</td>\n",
       "      <td>NaN</td>\n",
       "    </tr>\n",
       "    <tr>\n",
       "      <th>MM4RJAeH6yuaN8oZDSt0RA</th>\n",
       "      <td>Nancy</td>\n",
       "      <td>4.400000</td>\n",
       "      <td>2013-10-23</td>\n",
       "      <td>361</td>\n",
       "      <td>4</td>\n",
       "      <td>39</td>\n",
       "      <td>1114</td>\n",
       "      <td>665</td>\n",
       "      <td>279</td>\n",
       "      <td>5542</td>\n",
       "      <td>...</td>\n",
       "      <td>NaN</td>\n",
       "      <td>NaN</td>\n",
       "      <td>NaN</td>\n",
       "      <td>NaN</td>\n",
       "      <td>NaN</td>\n",
       "      <td>NaN</td>\n",
       "      <td>NaN</td>\n",
       "      <td>NaN</td>\n",
       "      <td>NaN</td>\n",
       "      <td>NaN</td>\n",
       "    </tr>\n",
       "  </tbody>\n",
       "</table>\n",
       "<p>5 rows × 45 columns</p>\n",
       "</div>"
      ],
      "text/plain": [
       "                       user_name  average_stars yelping_since  review  \\\n",
       "user_id                                                                 \n",
       "l6BmjZMeQD3rDxWUbiAiow    Rashmi       3.000000    2013-10-08      95   \n",
       "4XChL029mKr5hydo79Ljxg     Jenna       3.500000    2013-02-21      33   \n",
       "bc8C_eETBWL0olvFSJJd0w     David       3.384615    2013-10-04      16   \n",
       "dD0gZpBctWGdWo9WlGuhlA    Angela       5.000000    2014-05-22      17   \n",
       "MM4RJAeH6yuaN8oZDSt0RA     Nancy       4.400000    2013-10-23     361   \n",
       "\n",
       "                        years_of_elite  fans  useful  cool  funny  friends  \\\n",
       "user_id                                                                      \n",
       "l6BmjZMeQD3rDxWUbiAiow               3     5      84    25     17     2374   \n",
       "4XChL029mKr5hydo79Ljxg               0     4      48    16     22    27646   \n",
       "bc8C_eETBWL0olvFSJJd0w               0     0      28    10      8      358   \n",
       "dD0gZpBctWGdWo9WlGuhlA               0     5      30    14      4    12598   \n",
       "MM4RJAeH6yuaN8oZDSt0RA               4    39    1114   665    279     5542   \n",
       "\n",
       "                        ...  av_rat_chinese_cuisine_real  \\\n",
       "user_id                 ...                                \n",
       "l6BmjZMeQD3rDxWUbiAiow  ...                          NaN   \n",
       "4XChL029mKr5hydo79Ljxg  ...                          NaN   \n",
       "bc8C_eETBWL0olvFSJJd0w  ...                          NaN   \n",
       "dD0gZpBctWGdWo9WlGuhlA  ...                          NaN   \n",
       "MM4RJAeH6yuaN8oZDSt0RA  ...                          NaN   \n",
       "\n",
       "                        av_rat_japanese_cuisine_real  \\\n",
       "user_id                                                \n",
       "l6BmjZMeQD3rDxWUbiAiow                           NaN   \n",
       "4XChL029mKr5hydo79Ljxg                           NaN   \n",
       "bc8C_eETBWL0olvFSJJd0w                           NaN   \n",
       "dD0gZpBctWGdWo9WlGuhlA                           NaN   \n",
       "MM4RJAeH6yuaN8oZDSt0RA                           NaN   \n",
       "\n",
       "                        av_rat_mexican_cuisine_real  \\\n",
       "user_id                                               \n",
       "l6BmjZMeQD3rDxWUbiAiow                          NaN   \n",
       "4XChL029mKr5hydo79Ljxg                          NaN   \n",
       "bc8C_eETBWL0olvFSJJd0w                          NaN   \n",
       "dD0gZpBctWGdWo9WlGuhlA                          NaN   \n",
       "MM4RJAeH6yuaN8oZDSt0RA                          NaN   \n",
       "\n",
       "                        av_rat_italian_cuisine_real  \\\n",
       "user_id                                               \n",
       "l6BmjZMeQD3rDxWUbiAiow                          NaN   \n",
       "4XChL029mKr5hydo79Ljxg                          NaN   \n",
       "bc8C_eETBWL0olvFSJJd0w                          NaN   \n",
       "dD0gZpBctWGdWo9WlGuhlA                          NaN   \n",
       "MM4RJAeH6yuaN8oZDSt0RA                          NaN   \n",
       "\n",
       "                        av_rat_others_cuisine_real  \\\n",
       "user_id                                              \n",
       "l6BmjZMeQD3rDxWUbiAiow                         NaN   \n",
       "4XChL029mKr5hydo79Ljxg                         NaN   \n",
       "bc8C_eETBWL0olvFSJJd0w                         NaN   \n",
       "dD0gZpBctWGdWo9WlGuhlA                         NaN   \n",
       "MM4RJAeH6yuaN8oZDSt0RA                         NaN   \n",
       "\n",
       "                        av_rat_american_cuisine_real  \\\n",
       "user_id                                                \n",
       "l6BmjZMeQD3rDxWUbiAiow                           NaN   \n",
       "4XChL029mKr5hydo79Ljxg                           NaN   \n",
       "bc8C_eETBWL0olvFSJJd0w                           NaN   \n",
       "dD0gZpBctWGdWo9WlGuhlA                           NaN   \n",
       "MM4RJAeH6yuaN8oZDSt0RA                           NaN   \n",
       "\n",
       "                        av_rat_korean_cuisine_real  \\\n",
       "user_id                                              \n",
       "l6BmjZMeQD3rDxWUbiAiow                         NaN   \n",
       "4XChL029mKr5hydo79Ljxg                         NaN   \n",
       "bc8C_eETBWL0olvFSJJd0w                         NaN   \n",
       "dD0gZpBctWGdWo9WlGuhlA                         NaN   \n",
       "MM4RJAeH6yuaN8oZDSt0RA                         NaN   \n",
       "\n",
       "                        av_rat_mediterranean_cuisine_real  \\\n",
       "user_id                                                     \n",
       "l6BmjZMeQD3rDxWUbiAiow                                NaN   \n",
       "4XChL029mKr5hydo79Ljxg                                NaN   \n",
       "bc8C_eETBWL0olvFSJJd0w                                NaN   \n",
       "dD0gZpBctWGdWo9WlGuhlA                                NaN   \n",
       "MM4RJAeH6yuaN8oZDSt0RA                                NaN   \n",
       "\n",
       "                        av_rat_thai_cuisine_real  \\\n",
       "user_id                                            \n",
       "l6BmjZMeQD3rDxWUbiAiow                       NaN   \n",
       "4XChL029mKr5hydo79Ljxg                       NaN   \n",
       "bc8C_eETBWL0olvFSJJd0w                       NaN   \n",
       "dD0gZpBctWGdWo9WlGuhlA                       NaN   \n",
       "MM4RJAeH6yuaN8oZDSt0RA                       NaN   \n",
       "\n",
       "                        av_rat_asianfusion_cuisine_real  \n",
       "user_id                                                  \n",
       "l6BmjZMeQD3rDxWUbiAiow                              NaN  \n",
       "4XChL029mKr5hydo79Ljxg                              NaN  \n",
       "bc8C_eETBWL0olvFSJJd0w                              NaN  \n",
       "dD0gZpBctWGdWo9WlGuhlA                              NaN  \n",
       "MM4RJAeH6yuaN8oZDSt0RA                              NaN  \n",
       "\n",
       "[5 rows x 45 columns]"
      ]
     },
     "execution_count": 5,
     "metadata": {},
     "output_type": "execute_result"
    }
   ],
   "source": [
    "users.head()"
   ]
  },
  {
   "cell_type": "code",
   "execution_count": 3,
   "metadata": {
    "pycharm": {
     "is_executing": false
    }
   },
   "outputs": [
    {
     "data": {
      "text/html": [
       "<div>\n",
       "<style scoped>\n",
       "    .dataframe tbody tr th:only-of-type {\n",
       "        vertical-align: middle;\n",
       "    }\n",
       "\n",
       "    .dataframe tbody tr th {\n",
       "        vertical-align: top;\n",
       "    }\n",
       "\n",
       "    .dataframe thead th {\n",
       "        text-align: right;\n",
       "    }\n",
       "</style>\n",
       "<table border=\"1\" class=\"dataframe\">\n",
       "  <thead>\n",
       "    <tr style=\"text-align: right;\">\n",
       "      <th></th>\n",
       "      <th>Chinese_av</th>\n",
       "      <th>Japanese_av</th>\n",
       "      <th>Mexican_av</th>\n",
       "      <th>Italian_av</th>\n",
       "      <th>Others_av</th>\n",
       "      <th>American_av</th>\n",
       "      <th>Korean_av</th>\n",
       "      <th>Mediterranean_av</th>\n",
       "      <th>Thai_av</th>\n",
       "      <th>Asian Fusion_av</th>\n",
       "      <th>...</th>\n",
       "      <th>Chinese_av_real</th>\n",
       "      <th>Japanese_av_real</th>\n",
       "      <th>Mexican_av_real</th>\n",
       "      <th>Italian_av_real</th>\n",
       "      <th>Others_av_real</th>\n",
       "      <th>American_av_real</th>\n",
       "      <th>Korean_av_real</th>\n",
       "      <th>Mediterranean_av_real</th>\n",
       "      <th>Thai_av_real</th>\n",
       "      <th>Asian Fusion_av_real</th>\n",
       "    </tr>\n",
       "    <tr>\n",
       "      <th>user_id</th>\n",
       "      <th></th>\n",
       "      <th></th>\n",
       "      <th></th>\n",
       "      <th></th>\n",
       "      <th></th>\n",
       "      <th></th>\n",
       "      <th></th>\n",
       "      <th></th>\n",
       "      <th></th>\n",
       "      <th></th>\n",
       "      <th></th>\n",
       "      <th></th>\n",
       "      <th></th>\n",
       "      <th></th>\n",
       "      <th></th>\n",
       "      <th></th>\n",
       "      <th></th>\n",
       "      <th></th>\n",
       "      <th></th>\n",
       "      <th></th>\n",
       "      <th></th>\n",
       "    </tr>\n",
       "  </thead>\n",
       "  <tbody>\n",
       "    <tr>\n",
       "      <th>---1lKK3aKOuomHnwAkAow</th>\n",
       "      <td>NaN</td>\n",
       "      <td>2.333333</td>\n",
       "      <td>3.666667</td>\n",
       "      <td>3.166667</td>\n",
       "      <td>4.352941</td>\n",
       "      <td>3.9375</td>\n",
       "      <td>4.0</td>\n",
       "      <td>NaN</td>\n",
       "      <td>3.25</td>\n",
       "      <td>3.5</td>\n",
       "      <td>...</td>\n",
       "      <td>NaN</td>\n",
       "      <td>2.035809</td>\n",
       "      <td>3.720609</td>\n",
       "      <td>3.226154</td>\n",
       "      <td>4.524134</td>\n",
       "      <td>3.963953</td>\n",
       "      <td>4.0</td>\n",
       "      <td>NaN</td>\n",
       "      <td>3.134858</td>\n",
       "      <td>3.443446</td>\n",
       "    </tr>\n",
       "    <tr>\n",
       "      <th>---PLwSf5gKdIoVnyRHgBA</th>\n",
       "      <td>NaN</td>\n",
       "      <td>NaN</td>\n",
       "      <td>NaN</td>\n",
       "      <td>NaN</td>\n",
       "      <td>3.000000</td>\n",
       "      <td>NaN</td>\n",
       "      <td>NaN</td>\n",
       "      <td>NaN</td>\n",
       "      <td>NaN</td>\n",
       "      <td>NaN</td>\n",
       "      <td>...</td>\n",
       "      <td>NaN</td>\n",
       "      <td>NaN</td>\n",
       "      <td>NaN</td>\n",
       "      <td>NaN</td>\n",
       "      <td>3.000000</td>\n",
       "      <td>NaN</td>\n",
       "      <td>NaN</td>\n",
       "      <td>NaN</td>\n",
       "      <td>NaN</td>\n",
       "      <td>NaN</td>\n",
       "    </tr>\n",
       "    <tr>\n",
       "      <th>---cu1hq55BP9DWVXXKHZg</th>\n",
       "      <td>NaN</td>\n",
       "      <td>NaN</td>\n",
       "      <td>4.000000</td>\n",
       "      <td>NaN</td>\n",
       "      <td>NaN</td>\n",
       "      <td>NaN</td>\n",
       "      <td>NaN</td>\n",
       "      <td>NaN</td>\n",
       "      <td>NaN</td>\n",
       "      <td>1.0</td>\n",
       "      <td>...</td>\n",
       "      <td>NaN</td>\n",
       "      <td>NaN</td>\n",
       "      <td>4.000000</td>\n",
       "      <td>NaN</td>\n",
       "      <td>NaN</td>\n",
       "      <td>NaN</td>\n",
       "      <td>NaN</td>\n",
       "      <td>NaN</td>\n",
       "      <td>NaN</td>\n",
       "      <td>1.000000</td>\n",
       "    </tr>\n",
       "    <tr>\n",
       "      <th>---udAKDsn0yQXmzbWQNSw</th>\n",
       "      <td>NaN</td>\n",
       "      <td>NaN</td>\n",
       "      <td>NaN</td>\n",
       "      <td>NaN</td>\n",
       "      <td>5.000000</td>\n",
       "      <td>NaN</td>\n",
       "      <td>NaN</td>\n",
       "      <td>NaN</td>\n",
       "      <td>4.00</td>\n",
       "      <td>NaN</td>\n",
       "      <td>...</td>\n",
       "      <td>NaN</td>\n",
       "      <td>NaN</td>\n",
       "      <td>NaN</td>\n",
       "      <td>NaN</td>\n",
       "      <td>5.000000</td>\n",
       "      <td>NaN</td>\n",
       "      <td>NaN</td>\n",
       "      <td>NaN</td>\n",
       "      <td>4.000000</td>\n",
       "      <td>NaN</td>\n",
       "    </tr>\n",
       "    <tr>\n",
       "      <th>--0RtXvcOIE4XbErYca6Rw</th>\n",
       "      <td>NaN</td>\n",
       "      <td>NaN</td>\n",
       "      <td>NaN</td>\n",
       "      <td>NaN</td>\n",
       "      <td>4.000000</td>\n",
       "      <td>NaN</td>\n",
       "      <td>NaN</td>\n",
       "      <td>NaN</td>\n",
       "      <td>NaN</td>\n",
       "      <td>NaN</td>\n",
       "      <td>...</td>\n",
       "      <td>NaN</td>\n",
       "      <td>NaN</td>\n",
       "      <td>NaN</td>\n",
       "      <td>NaN</td>\n",
       "      <td>4.000000</td>\n",
       "      <td>NaN</td>\n",
       "      <td>NaN</td>\n",
       "      <td>NaN</td>\n",
       "      <td>NaN</td>\n",
       "      <td>NaN</td>\n",
       "    </tr>\n",
       "  </tbody>\n",
       "</table>\n",
       "<p>5 rows × 30 columns</p>\n",
       "</div>"
      ],
      "text/plain": [
       "                        Chinese_av  Japanese_av  Mexican_av  Italian_av  \\\n",
       "user_id                                                                   \n",
       "---1lKK3aKOuomHnwAkAow         NaN     2.333333    3.666667    3.166667   \n",
       "---PLwSf5gKdIoVnyRHgBA         NaN          NaN         NaN         NaN   \n",
       "---cu1hq55BP9DWVXXKHZg         NaN          NaN    4.000000         NaN   \n",
       "---udAKDsn0yQXmzbWQNSw         NaN          NaN         NaN         NaN   \n",
       "--0RtXvcOIE4XbErYca6Rw         NaN          NaN         NaN         NaN   \n",
       "\n",
       "                        Others_av  American_av  Korean_av  Mediterranean_av  \\\n",
       "user_id                                                                       \n",
       "---1lKK3aKOuomHnwAkAow   4.352941       3.9375        4.0               NaN   \n",
       "---PLwSf5gKdIoVnyRHgBA   3.000000          NaN        NaN               NaN   \n",
       "---cu1hq55BP9DWVXXKHZg        NaN          NaN        NaN               NaN   \n",
       "---udAKDsn0yQXmzbWQNSw   5.000000          NaN        NaN               NaN   \n",
       "--0RtXvcOIE4XbErYca6Rw   4.000000          NaN        NaN               NaN   \n",
       "\n",
       "                        Thai_av  Asian Fusion_av  ...  Chinese_av_real  \\\n",
       "user_id                                           ...                    \n",
       "---1lKK3aKOuomHnwAkAow     3.25              3.5  ...              NaN   \n",
       "---PLwSf5gKdIoVnyRHgBA      NaN              NaN  ...              NaN   \n",
       "---cu1hq55BP9DWVXXKHZg      NaN              1.0  ...              NaN   \n",
       "---udAKDsn0yQXmzbWQNSw     4.00              NaN  ...              NaN   \n",
       "--0RtXvcOIE4XbErYca6Rw      NaN              NaN  ...              NaN   \n",
       "\n",
       "                        Japanese_av_real  Mexican_av_real  Italian_av_real  \\\n",
       "user_id                                                                      \n",
       "---1lKK3aKOuomHnwAkAow          2.035809         3.720609         3.226154   \n",
       "---PLwSf5gKdIoVnyRHgBA               NaN              NaN              NaN   \n",
       "---cu1hq55BP9DWVXXKHZg               NaN         4.000000              NaN   \n",
       "---udAKDsn0yQXmzbWQNSw               NaN              NaN              NaN   \n",
       "--0RtXvcOIE4XbErYca6Rw               NaN              NaN              NaN   \n",
       "\n",
       "                        Others_av_real  American_av_real  Korean_av_real  \\\n",
       "user_id                                                                    \n",
       "---1lKK3aKOuomHnwAkAow        4.524134          3.963953             4.0   \n",
       "---PLwSf5gKdIoVnyRHgBA        3.000000               NaN             NaN   \n",
       "---cu1hq55BP9DWVXXKHZg             NaN               NaN             NaN   \n",
       "---udAKDsn0yQXmzbWQNSw        5.000000               NaN             NaN   \n",
       "--0RtXvcOIE4XbErYca6Rw        4.000000               NaN             NaN   \n",
       "\n",
       "                        Mediterranean_av_real  Thai_av_real  \\\n",
       "user_id                                                       \n",
       "---1lKK3aKOuomHnwAkAow                    NaN      3.134858   \n",
       "---PLwSf5gKdIoVnyRHgBA                    NaN           NaN   \n",
       "---cu1hq55BP9DWVXXKHZg                    NaN           NaN   \n",
       "---udAKDsn0yQXmzbWQNSw                    NaN      4.000000   \n",
       "--0RtXvcOIE4XbErYca6Rw                    NaN           NaN   \n",
       "\n",
       "                        Asian Fusion_av_real  \n",
       "user_id                                       \n",
       "---1lKK3aKOuomHnwAkAow              3.443446  \n",
       "---PLwSf5gKdIoVnyRHgBA                   NaN  \n",
       "---cu1hq55BP9DWVXXKHZg              1.000000  \n",
       "---udAKDsn0yQXmzbWQNSw                   NaN  \n",
       "--0RtXvcOIE4XbErYca6Rw                   NaN  \n",
       "\n",
       "[5 rows x 30 columns]"
      ]
     },
     "execution_count": 3,
     "metadata": {},
     "output_type": "execute_result"
    }
   ],
   "source": [
    "grouped_reviews = _pd.read_pickle('../dataset/m2_n9/grouped_reviews.pickle')\n",
    "grouped_reviews.head()"
   ]
  },
  {
   "cell_type": "code",
   "execution_count": 8,
   "metadata": {
    "pycharm": {
     "is_executing": false
    }
   },
   "outputs": [
    {
     "name": "stderr",
     "output_type": "stream",
     "text": [
      "C:\\Users\\super\\Anaconda3\\envs\\tf-gpu\\lib\\site-packages\\ipykernel_launcher.py:12: FutureWarning: \n",
      "Passing list-likes to .loc or [] with any missing label will raise\n",
      "KeyError in the future, you can use .reindex() as an alternative.\n",
      "\n",
      "See the documentation here:\n",
      "https://pandas.pydata.org/pandas-docs/stable/user_guide/indexing.html#deprecate-loc-reindex-listlike\n",
      "  if sys.path[0] == '':\n"
     ]
    }
   ],
   "source": [
    "# split grouped_reviews and users datasets into n_cores parts, where n_cores is the number of available processors\n",
    "n_cores = _os.cpu_count()\n",
    "\n",
    "df_out = _np.array_split(users, n_cores)   # list of input dataframes (from grouped_reviews)\n",
    "\n",
    "df_out_names = []   # list of paths of output dataframes (from users)\n",
    "df_in = []\n",
    "for i, df in enumerate(df_out):\n",
    "    name = \"../dataset/m2_n9/tmp/df_out_\" + str(i) + \".pickle\"\n",
    "    df_out_names += [name]\n",
    "    \n",
    "    df_tmp = grouped_reviews.loc[df.index]\n",
    "    df_in += [df_tmp]"
   ]
  },
  {
   "cell_type": "code",
   "execution_count": 9,
   "metadata": {
    "pycharm": {
     "is_executing": false
    }
   },
   "outputs": [],
   "source": [
    "from multiproc_utils import user_business_features\n",
    "\n",
    "if __name__ ==  '__main__':\n",
    "    with _Pool(processes=n_cores) as p:\n",
    "        p.map(user_business_features, zip(df_in, df_out, df_out_names))"
   ]
  },
  {
   "cell_type": "code",
   "execution_count": 10,
   "metadata": {
    "pycharm": {
     "is_executing": false
    },
    "scrolled": false
   },
   "outputs": [
    {
     "data": {
      "text/html": [
       "<div>\n",
       "<style scoped>\n",
       "    .dataframe tbody tr th:only-of-type {\n",
       "        vertical-align: middle;\n",
       "    }\n",
       "\n",
       "    .dataframe tbody tr th {\n",
       "        vertical-align: top;\n",
       "    }\n",
       "\n",
       "    .dataframe thead th {\n",
       "        text-align: right;\n",
       "    }\n",
       "</style>\n",
       "<table border=\"1\" class=\"dataframe\">\n",
       "  <thead>\n",
       "    <tr style=\"text-align: right;\">\n",
       "      <th></th>\n",
       "      <th>user_name</th>\n",
       "      <th>average_stars</th>\n",
       "      <th>yelping_since</th>\n",
       "      <th>review</th>\n",
       "      <th>years_of_elite</th>\n",
       "      <th>fans</th>\n",
       "      <th>useful</th>\n",
       "      <th>cool</th>\n",
       "      <th>funny</th>\n",
       "      <th>friends</th>\n",
       "      <th>...</th>\n",
       "      <th>av_rat_chinese_cuisine_real</th>\n",
       "      <th>av_rat_japanese_cuisine_real</th>\n",
       "      <th>av_rat_mexican_cuisine_real</th>\n",
       "      <th>av_rat_italian_cuisine_real</th>\n",
       "      <th>av_rat_others_cuisine_real</th>\n",
       "      <th>av_rat_american_cuisine_real</th>\n",
       "      <th>av_rat_korean_cuisine_real</th>\n",
       "      <th>av_rat_mediterranean_cuisine_real</th>\n",
       "      <th>av_rat_thai_cuisine_real</th>\n",
       "      <th>av_rat_asianfusion_cuisine_real</th>\n",
       "    </tr>\n",
       "    <tr>\n",
       "      <th>user_id</th>\n",
       "      <th></th>\n",
       "      <th></th>\n",
       "      <th></th>\n",
       "      <th></th>\n",
       "      <th></th>\n",
       "      <th></th>\n",
       "      <th></th>\n",
       "      <th></th>\n",
       "      <th></th>\n",
       "      <th></th>\n",
       "      <th></th>\n",
       "      <th></th>\n",
       "      <th></th>\n",
       "      <th></th>\n",
       "      <th></th>\n",
       "      <th></th>\n",
       "      <th></th>\n",
       "      <th></th>\n",
       "      <th></th>\n",
       "      <th></th>\n",
       "      <th></th>\n",
       "    </tr>\n",
       "  </thead>\n",
       "  <tbody>\n",
       "    <tr>\n",
       "      <th>l6BmjZMeQD3rDxWUbiAiow</th>\n",
       "      <td>Rashmi</td>\n",
       "      <td>3.000000</td>\n",
       "      <td>2013-10-08</td>\n",
       "      <td>95</td>\n",
       "      <td>3</td>\n",
       "      <td>5</td>\n",
       "      <td>84</td>\n",
       "      <td>25</td>\n",
       "      <td>17</td>\n",
       "      <td>2374</td>\n",
       "      <td>...</td>\n",
       "      <td>NaN</td>\n",
       "      <td>NaN</td>\n",
       "      <td>NaN</td>\n",
       "      <td>4.0</td>\n",
       "      <td>2.0</td>\n",
       "      <td>4.000000</td>\n",
       "      <td>NaN</td>\n",
       "      <td>NaN</td>\n",
       "      <td>NaN</td>\n",
       "      <td>NaN</td>\n",
       "    </tr>\n",
       "    <tr>\n",
       "      <th>4XChL029mKr5hydo79Ljxg</th>\n",
       "      <td>Jenna</td>\n",
       "      <td>3.500000</td>\n",
       "      <td>2013-02-21</td>\n",
       "      <td>33</td>\n",
       "      <td>0</td>\n",
       "      <td>4</td>\n",
       "      <td>48</td>\n",
       "      <td>16</td>\n",
       "      <td>22</td>\n",
       "      <td>27646</td>\n",
       "      <td>...</td>\n",
       "      <td>NaN</td>\n",
       "      <td>NaN</td>\n",
       "      <td>NaN</td>\n",
       "      <td>NaN</td>\n",
       "      <td>4.0</td>\n",
       "      <td>3.501823</td>\n",
       "      <td>NaN</td>\n",
       "      <td>4.0</td>\n",
       "      <td>NaN</td>\n",
       "      <td>NaN</td>\n",
       "    </tr>\n",
       "    <tr>\n",
       "      <th>bc8C_eETBWL0olvFSJJd0w</th>\n",
       "      <td>David</td>\n",
       "      <td>3.384615</td>\n",
       "      <td>2013-10-04</td>\n",
       "      <td>16</td>\n",
       "      <td>0</td>\n",
       "      <td>0</td>\n",
       "      <td>28</td>\n",
       "      <td>10</td>\n",
       "      <td>8</td>\n",
       "      <td>358</td>\n",
       "      <td>...</td>\n",
       "      <td>3.399765</td>\n",
       "      <td>NaN</td>\n",
       "      <td>2.0</td>\n",
       "      <td>NaN</td>\n",
       "      <td>5.0</td>\n",
       "      <td>3.123598</td>\n",
       "      <td>NaN</td>\n",
       "      <td>3.0</td>\n",
       "      <td>3.632007</td>\n",
       "      <td>1.997225</td>\n",
       "    </tr>\n",
       "    <tr>\n",
       "      <th>dD0gZpBctWGdWo9WlGuhlA</th>\n",
       "      <td>Angela</td>\n",
       "      <td>5.000000</td>\n",
       "      <td>2014-05-22</td>\n",
       "      <td>17</td>\n",
       "      <td>0</td>\n",
       "      <td>5</td>\n",
       "      <td>30</td>\n",
       "      <td>14</td>\n",
       "      <td>4</td>\n",
       "      <td>12598</td>\n",
       "      <td>...</td>\n",
       "      <td>NaN</td>\n",
       "      <td>NaN</td>\n",
       "      <td>NaN</td>\n",
       "      <td>NaN</td>\n",
       "      <td>NaN</td>\n",
       "      <td>NaN</td>\n",
       "      <td>NaN</td>\n",
       "      <td>NaN</td>\n",
       "      <td>NaN</td>\n",
       "      <td>5.000000</td>\n",
       "    </tr>\n",
       "    <tr>\n",
       "      <th>MM4RJAeH6yuaN8oZDSt0RA</th>\n",
       "      <td>Nancy</td>\n",
       "      <td>4.400000</td>\n",
       "      <td>2013-10-23</td>\n",
       "      <td>361</td>\n",
       "      <td>4</td>\n",
       "      <td>39</td>\n",
       "      <td>1114</td>\n",
       "      <td>665</td>\n",
       "      <td>279</td>\n",
       "      <td>5542</td>\n",
       "      <td>...</td>\n",
       "      <td>NaN</td>\n",
       "      <td>NaN</td>\n",
       "      <td>NaN</td>\n",
       "      <td>NaN</td>\n",
       "      <td>NaN</td>\n",
       "      <td>4.450279</td>\n",
       "      <td>NaN</td>\n",
       "      <td>5.0</td>\n",
       "      <td>3.000000</td>\n",
       "      <td>5.000000</td>\n",
       "    </tr>\n",
       "  </tbody>\n",
       "</table>\n",
       "<p>5 rows × 45 columns</p>\n",
       "</div>"
      ],
      "text/plain": [
       "                       user_name  average_stars yelping_since  review  \\\n",
       "user_id                                                                 \n",
       "l6BmjZMeQD3rDxWUbiAiow    Rashmi       3.000000    2013-10-08      95   \n",
       "4XChL029mKr5hydo79Ljxg     Jenna       3.500000    2013-02-21      33   \n",
       "bc8C_eETBWL0olvFSJJd0w     David       3.384615    2013-10-04      16   \n",
       "dD0gZpBctWGdWo9WlGuhlA    Angela       5.000000    2014-05-22      17   \n",
       "MM4RJAeH6yuaN8oZDSt0RA     Nancy       4.400000    2013-10-23     361   \n",
       "\n",
       "                        years_of_elite  fans  useful  cool  funny  friends  \\\n",
       "user_id                                                                      \n",
       "l6BmjZMeQD3rDxWUbiAiow               3     5      84    25     17     2374   \n",
       "4XChL029mKr5hydo79Ljxg               0     4      48    16     22    27646   \n",
       "bc8C_eETBWL0olvFSJJd0w               0     0      28    10      8      358   \n",
       "dD0gZpBctWGdWo9WlGuhlA               0     5      30    14      4    12598   \n",
       "MM4RJAeH6yuaN8oZDSt0RA               4    39    1114   665    279     5542   \n",
       "\n",
       "                        ...  av_rat_chinese_cuisine_real  \\\n",
       "user_id                 ...                                \n",
       "l6BmjZMeQD3rDxWUbiAiow  ...                          NaN   \n",
       "4XChL029mKr5hydo79Ljxg  ...                          NaN   \n",
       "bc8C_eETBWL0olvFSJJd0w  ...                     3.399765   \n",
       "dD0gZpBctWGdWo9WlGuhlA  ...                          NaN   \n",
       "MM4RJAeH6yuaN8oZDSt0RA  ...                          NaN   \n",
       "\n",
       "                        av_rat_japanese_cuisine_real  \\\n",
       "user_id                                                \n",
       "l6BmjZMeQD3rDxWUbiAiow                           NaN   \n",
       "4XChL029mKr5hydo79Ljxg                           NaN   \n",
       "bc8C_eETBWL0olvFSJJd0w                           NaN   \n",
       "dD0gZpBctWGdWo9WlGuhlA                           NaN   \n",
       "MM4RJAeH6yuaN8oZDSt0RA                           NaN   \n",
       "\n",
       "                        av_rat_mexican_cuisine_real  \\\n",
       "user_id                                               \n",
       "l6BmjZMeQD3rDxWUbiAiow                          NaN   \n",
       "4XChL029mKr5hydo79Ljxg                          NaN   \n",
       "bc8C_eETBWL0olvFSJJd0w                          2.0   \n",
       "dD0gZpBctWGdWo9WlGuhlA                          NaN   \n",
       "MM4RJAeH6yuaN8oZDSt0RA                          NaN   \n",
       "\n",
       "                        av_rat_italian_cuisine_real  \\\n",
       "user_id                                               \n",
       "l6BmjZMeQD3rDxWUbiAiow                          4.0   \n",
       "4XChL029mKr5hydo79Ljxg                          NaN   \n",
       "bc8C_eETBWL0olvFSJJd0w                          NaN   \n",
       "dD0gZpBctWGdWo9WlGuhlA                          NaN   \n",
       "MM4RJAeH6yuaN8oZDSt0RA                          NaN   \n",
       "\n",
       "                        av_rat_others_cuisine_real  \\\n",
       "user_id                                              \n",
       "l6BmjZMeQD3rDxWUbiAiow                         2.0   \n",
       "4XChL029mKr5hydo79Ljxg                         4.0   \n",
       "bc8C_eETBWL0olvFSJJd0w                         5.0   \n",
       "dD0gZpBctWGdWo9WlGuhlA                         NaN   \n",
       "MM4RJAeH6yuaN8oZDSt0RA                         NaN   \n",
       "\n",
       "                        av_rat_american_cuisine_real  \\\n",
       "user_id                                                \n",
       "l6BmjZMeQD3rDxWUbiAiow                      4.000000   \n",
       "4XChL029mKr5hydo79Ljxg                      3.501823   \n",
       "bc8C_eETBWL0olvFSJJd0w                      3.123598   \n",
       "dD0gZpBctWGdWo9WlGuhlA                           NaN   \n",
       "MM4RJAeH6yuaN8oZDSt0RA                      4.450279   \n",
       "\n",
       "                        av_rat_korean_cuisine_real  \\\n",
       "user_id                                              \n",
       "l6BmjZMeQD3rDxWUbiAiow                         NaN   \n",
       "4XChL029mKr5hydo79Ljxg                         NaN   \n",
       "bc8C_eETBWL0olvFSJJd0w                         NaN   \n",
       "dD0gZpBctWGdWo9WlGuhlA                         NaN   \n",
       "MM4RJAeH6yuaN8oZDSt0RA                         NaN   \n",
       "\n",
       "                        av_rat_mediterranean_cuisine_real  \\\n",
       "user_id                                                     \n",
       "l6BmjZMeQD3rDxWUbiAiow                                NaN   \n",
       "4XChL029mKr5hydo79Ljxg                                4.0   \n",
       "bc8C_eETBWL0olvFSJJd0w                                3.0   \n",
       "dD0gZpBctWGdWo9WlGuhlA                                NaN   \n",
       "MM4RJAeH6yuaN8oZDSt0RA                                5.0   \n",
       "\n",
       "                        av_rat_thai_cuisine_real  \\\n",
       "user_id                                            \n",
       "l6BmjZMeQD3rDxWUbiAiow                       NaN   \n",
       "4XChL029mKr5hydo79Ljxg                       NaN   \n",
       "bc8C_eETBWL0olvFSJJd0w                  3.632007   \n",
       "dD0gZpBctWGdWo9WlGuhlA                       NaN   \n",
       "MM4RJAeH6yuaN8oZDSt0RA                  3.000000   \n",
       "\n",
       "                        av_rat_asianfusion_cuisine_real  \n",
       "user_id                                                  \n",
       "l6BmjZMeQD3rDxWUbiAiow                              NaN  \n",
       "4XChL029mKr5hydo79Ljxg                              NaN  \n",
       "bc8C_eETBWL0olvFSJJd0w                         1.997225  \n",
       "dD0gZpBctWGdWo9WlGuhlA                         5.000000  \n",
       "MM4RJAeH6yuaN8oZDSt0RA                         5.000000  \n",
       "\n",
       "[5 rows x 45 columns]"
      ]
     },
     "execution_count": 10,
     "metadata": {},
     "output_type": "execute_result"
    }
   ],
   "source": [
    "users_chunks = []\n",
    "\n",
    "# add chunks produced by subprocesses\n",
    "for name in df_out_names:\n",
    "    df_out_i = _pd.read_pickle(name)\n",
    "    users_chunks += [df_out_i]\n",
    "    _os.remove(name)\n",
    "\n",
    "users = _pd.concat(users_chunks)\n",
    "users.head()"
   ]
  },
  {
   "cell_type": "code",
   "execution_count": 11,
   "metadata": {
    "pycharm": {
     "is_executing": false,
     "name": "#%%\n"
    }
   },
   "outputs": [],
   "source": [
    "users = users.reset_index()\n",
    "users.to_pickle('../dataset/m2_n9/users_2.pickle')"
   ]
  },
  {
   "cell_type": "code",
   "execution_count": 12,
   "metadata": {
    "pycharm": {
     "is_executing": false,
     "name": "#%%\n"
    }
   },
   "outputs": [
    {
     "data": {
      "text/plain": [
       "(1148098, 46)"
      ]
     },
     "execution_count": 12,
     "metadata": {},
     "output_type": "execute_result"
    }
   ],
   "source": [
    "users.shape"
   ]
  },
  {
   "cell_type": "code",
   "execution_count": 13,
   "metadata": {
    "pycharm": {
     "is_executing": false,
     "name": "#%%\n"
    }
   },
   "outputs": [
    {
     "data": {
      "text/plain": [
       "(1148098, 16)"
      ]
     },
     "execution_count": 13,
     "metadata": {},
     "output_type": "execute_result"
    }
   ],
   "source": [
    "users_pre = _pd.read_pickle(\"../dataset/m2_n9/users.pickle\")\n",
    "users_pre.shape"
   ]
  },
  {
   "cell_type": "code",
   "execution_count": 4,
   "metadata": {},
   "outputs": [
    {
     "data": {
      "text/plain": [
       "954447"
      ]
     },
     "execution_count": 4,
     "metadata": {},
     "output_type": "execute_result"
    }
   ],
   "source": [
    "len(grouped_reviews)"
   ]
  },
  {
   "cell_type": "code",
   "execution_count": 7,
   "metadata": {},
   "outputs": [
    {
     "name": "stdout",
     "output_type": "stream",
     "text": [
      "expected diff: 193651\n"
     ]
    }
   ],
   "source": [
    "print(\"expected diff:\", users.shape[0]-len(grouped_reviews))"
   ]
  },
  {
   "cell_type": "code",
   "execution_count": 8,
   "metadata": {},
   "outputs": [
    {
     "name": "stdout",
     "output_type": "stream",
     "text": [
      "actual diff: 193651\n"
     ]
    }
   ],
   "source": [
    "users_tmp = users[['av_rat_chinese_cuisine', 'av_rat_japanese_cuisine', 'av_rat_mexican_cuisine', 'av_rat_italian_cuisine', \n",
    "            'av_rat_others_cuisine', 'av_rat_american_cuisine', 'av_rat_korean_cuisine', 'av_rat_mediterranean_cuisine',\n",
    "            'av_rat_thai_cuisine', 'av_rat_asianfusion_cuisine',\n",
    "           \n",
    "           'av_rat_chinese_cuisine_bin', 'av_rat_japanese_cuisine_bin', 'av_rat_mexican_cuisine_bin', \n",
    "           'av_rat_italian_cuisine_bin', 'av_rat_others_cuisine_bin', 'av_rat_american_cuisine_bin', \n",
    "           'av_rat_korean_cuisine_bin', 'av_rat_mediterranean_cuisine_bin', 'av_rat_thai_cuisine_bin', \n",
    "           'av_rat_asianfusion_cuisine_bin',\n",
    "           \n",
    "           'av_rat_chinese_cuisine_real', 'av_rat_japanese_cuisine_real', 'av_rat_mexican_cuisine_real', \n",
    "           'av_rat_italian_cuisine_real', 'av_rat_others_cuisine_real', 'av_rat_american_cuisine_real', \n",
    "           'av_rat_korean_cuisine_real', 'av_rat_mediterranean_cuisine_real', 'av_rat_thai_cuisine_real', \n",
    "           'av_rat_asianfusion_cuisine_real']]\n",
    "\n",
    "count_na = 0\n",
    "for i, r in users_tmp.iterrows():\n",
    "        if r.isna().all():\n",
    "            count_na += 1\n",
    "\n",
    "print(\"actual diff:\", count_na)"
   ]
  },
  {
   "cell_type": "code",
   "execution_count": 66,
   "metadata": {
    "pycharm": {
     "name": "#%%\n",
     "is_executing": false
    }
   },
   "outputs": [],
   "source": [
    "_del_all()"
   ]
  },
  {
   "cell_type": "markdown",
   "metadata": {},
   "source": [
    "#### 3.2. average of the ratings given by a certain user to the categories of a certain restaurant."
   ]
  },
  {
   "cell_type": "markdown",
   "metadata": {},
   "source": [
    "##### 3.2.1 Test set"
   ]
  },
  {
   "cell_type": "code",
   "execution_count": 67,
   "metadata": {
    "pycharm": {
     "is_executing": false
    }
   },
   "outputs": [
    {
     "data": {
      "text/plain": "(91434, 10)"
     },
     "metadata": {},
     "output_type": "execute_result",
     "execution_count": 67
    }
   ],
   "source": [
    "review_test = _pd.read_pickle('../dataset/m2_n9/review_test.pickle')\n",
    "review_test = review_test.sort_values(by=['review_id'])\n",
    "review_test = review_test.reset_index(drop = True)\n",
    "review_test.shape"
   ]
  },
  {
   "cell_type": "code",
   "execution_count": 68,
   "outputs": [
    {
     "data": {
      "text/plain": "                review_id                 user_id             business_id  \\\n0  ---j05qHS2X7FkXjjMKKtA  E6Aoz-3s4avfweIjziHjbA  cTbFJzHQzFSX-z3JF4abKQ   \n1  --4GjusuUCMh24c_oh_cEg  YOOsYiXGEtGFX_wSeZNcww  JytR7WvKyytDQNwOHUzSEg   \n2  --4RpVT5wHJ9AfnZkIC3tw  Bdw4E8jFVd6-CbhrNAJ_EA  -CfFjcCcGGDM9MVH_d42RQ   \n3  --4vJzoC0m5h-yodXv-qCw  jm4a1GghQ4zLCN3lQGMQUQ  XMPBg6r_LqZhy9Cf-4ZJrA   \n4  --B9JxEb5gY5gAgD2BRhDQ  x_6VdQU3CIdakwHod-dNzA  Fn_IxcCtZl1EoS81sq_s9w   \n\n   stars  useful  funny  cool                date  bin_truth_score  \\\n0      5       1      0     1 2018-11-02 15:01:11               -1   \n1      4       1      0     0 2018-10-13 00:07:17                1   \n2      5       0      0     0 2018-10-14 04:41:42               -1   \n3      2       0      0     0 2018-11-01 19:11:50                1   \n4      3       1      0     0 2018-10-31 02:01:04                1   \n\n   real_truth_score  \n0          0.229833  \n1          0.987487  \n2          0.524751  \n3          0.979875  \n4          0.662471  ",
      "text/html": "<div>\n<style scoped>\n    .dataframe tbody tr th:only-of-type {\n        vertical-align: middle;\n    }\n\n    .dataframe tbody tr th {\n        vertical-align: top;\n    }\n\n    .dataframe thead th {\n        text-align: right;\n    }\n</style>\n<table border=\"1\" class=\"dataframe\">\n  <thead>\n    <tr style=\"text-align: right;\">\n      <th></th>\n      <th>review_id</th>\n      <th>user_id</th>\n      <th>business_id</th>\n      <th>stars</th>\n      <th>useful</th>\n      <th>funny</th>\n      <th>cool</th>\n      <th>date</th>\n      <th>bin_truth_score</th>\n      <th>real_truth_score</th>\n    </tr>\n  </thead>\n  <tbody>\n    <tr>\n      <th>0</th>\n      <td>---j05qHS2X7FkXjjMKKtA</td>\n      <td>E6Aoz-3s4avfweIjziHjbA</td>\n      <td>cTbFJzHQzFSX-z3JF4abKQ</td>\n      <td>5</td>\n      <td>1</td>\n      <td>0</td>\n      <td>1</td>\n      <td>2018-11-02 15:01:11</td>\n      <td>-1</td>\n      <td>0.229833</td>\n    </tr>\n    <tr>\n      <th>1</th>\n      <td>--4GjusuUCMh24c_oh_cEg</td>\n      <td>YOOsYiXGEtGFX_wSeZNcww</td>\n      <td>JytR7WvKyytDQNwOHUzSEg</td>\n      <td>4</td>\n      <td>1</td>\n      <td>0</td>\n      <td>0</td>\n      <td>2018-10-13 00:07:17</td>\n      <td>1</td>\n      <td>0.987487</td>\n    </tr>\n    <tr>\n      <th>2</th>\n      <td>--4RpVT5wHJ9AfnZkIC3tw</td>\n      <td>Bdw4E8jFVd6-CbhrNAJ_EA</td>\n      <td>-CfFjcCcGGDM9MVH_d42RQ</td>\n      <td>5</td>\n      <td>0</td>\n      <td>0</td>\n      <td>0</td>\n      <td>2018-10-14 04:41:42</td>\n      <td>-1</td>\n      <td>0.524751</td>\n    </tr>\n    <tr>\n      <th>3</th>\n      <td>--4vJzoC0m5h-yodXv-qCw</td>\n      <td>jm4a1GghQ4zLCN3lQGMQUQ</td>\n      <td>XMPBg6r_LqZhy9Cf-4ZJrA</td>\n      <td>2</td>\n      <td>0</td>\n      <td>0</td>\n      <td>0</td>\n      <td>2018-11-01 19:11:50</td>\n      <td>1</td>\n      <td>0.979875</td>\n    </tr>\n    <tr>\n      <th>4</th>\n      <td>--B9JxEb5gY5gAgD2BRhDQ</td>\n      <td>x_6VdQU3CIdakwHod-dNzA</td>\n      <td>Fn_IxcCtZl1EoS81sq_s9w</td>\n      <td>3</td>\n      <td>1</td>\n      <td>0</td>\n      <td>0</td>\n      <td>2018-10-31 02:01:04</td>\n      <td>1</td>\n      <td>0.662471</td>\n    </tr>\n  </tbody>\n</table>\n</div>"
     },
     "metadata": {},
     "output_type": "execute_result",
     "execution_count": 68
    }
   ],
   "source": [
    "review_test.head()"
   ],
   "metadata": {
    "collapsed": false,
    "pycharm": {
     "name": "#%%\n",
     "is_executing": false
    }
   }
  },
  {
   "cell_type": "code",
   "execution_count": 69,
   "metadata": {
    "pycharm": {
     "is_executing": false
    }
   },
   "outputs": [
    {
     "data": {
      "text/plain": "    cuisine             business_id\n0   Chinese  QXAEGFB4oINsVuTFxEYKFQ\n1  Japanese  gnKjwL_1w79qoiV3IC_xQQ\n2   Mexican  1Dfx3zM-rW4n-31KeC8sJg\n3   Italian  fweCYi8FmbJXHCqLnwuk8w\n4   Italian  PZ-LZzSlhSe9utkQYU8pFg",
      "text/html": "<div>\n<style scoped>\n    .dataframe tbody tr th:only-of-type {\n        vertical-align: middle;\n    }\n\n    .dataframe tbody tr th {\n        vertical-align: top;\n    }\n\n    .dataframe thead th {\n        text-align: right;\n    }\n</style>\n<table border=\"1\" class=\"dataframe\">\n  <thead>\n    <tr style=\"text-align: right;\">\n      <th></th>\n      <th>cuisine</th>\n      <th>business_id</th>\n    </tr>\n  </thead>\n  <tbody>\n    <tr>\n      <th>0</th>\n      <td>Chinese</td>\n      <td>QXAEGFB4oINsVuTFxEYKFQ</td>\n    </tr>\n    <tr>\n      <th>1</th>\n      <td>Japanese</td>\n      <td>gnKjwL_1w79qoiV3IC_xQQ</td>\n    </tr>\n    <tr>\n      <th>2</th>\n      <td>Mexican</td>\n      <td>1Dfx3zM-rW4n-31KeC8sJg</td>\n    </tr>\n    <tr>\n      <th>3</th>\n      <td>Italian</td>\n      <td>fweCYi8FmbJXHCqLnwuk8w</td>\n    </tr>\n    <tr>\n      <th>4</th>\n      <td>Italian</td>\n      <td>PZ-LZzSlhSe9utkQYU8pFg</td>\n    </tr>\n  </tbody>\n</table>\n</div>"
     },
     "metadata": {},
     "output_type": "execute_result",
     "execution_count": 69
    }
   ],
   "source": [
    "restaurants = _pd.read_pickle('../dataset/m2_n9/restaurants.pickle')\n",
    "restaurants = restaurants.reset_index(drop = True)\n",
    "restaurants = restaurants[['cuisine', 'business_id']]\n",
    "restaurants.head()"
   ]
  },
  {
   "cell_type": "code",
   "execution_count": 70,
   "metadata": {
    "pycharm": {
     "is_executing": false
    }
   },
   "outputs": [
    {
     "data": {
      "text/plain": "(91434, 11)"
     },
     "metadata": {},
     "output_type": "execute_result",
     "execution_count": 70
    }
   ],
   "source": [
    "review_test_rest = review_test.join(restaurants.set_index('business_id'), on = 'business_id')\n",
    "review_test_rest.to_pickle('../dataset/m2_n9/review_test_cuisine.pickle')\n",
    "review_test_rest.shape"
   ]
  },
  {
   "cell_type": "code",
   "execution_count": 71,
   "outputs": [
    {
     "data": {
      "text/plain": "                review_id                 user_id             business_id  \\\n0  ---j05qHS2X7FkXjjMKKtA  E6Aoz-3s4avfweIjziHjbA  cTbFJzHQzFSX-z3JF4abKQ   \n1  --4GjusuUCMh24c_oh_cEg  YOOsYiXGEtGFX_wSeZNcww  JytR7WvKyytDQNwOHUzSEg   \n2  --4RpVT5wHJ9AfnZkIC3tw  Bdw4E8jFVd6-CbhrNAJ_EA  -CfFjcCcGGDM9MVH_d42RQ   \n3  --4vJzoC0m5h-yodXv-qCw  jm4a1GghQ4zLCN3lQGMQUQ  XMPBg6r_LqZhy9Cf-4ZJrA   \n4  --B9JxEb5gY5gAgD2BRhDQ  x_6VdQU3CIdakwHod-dNzA  Fn_IxcCtZl1EoS81sq_s9w   \n\n   stars  useful  funny  cool                date  bin_truth_score  \\\n0      5       1      0     1 2018-11-02 15:01:11               -1   \n1      4       1      0     0 2018-10-13 00:07:17                1   \n2      5       0      0     0 2018-10-14 04:41:42               -1   \n3      2       0      0     0 2018-11-01 19:11:50                1   \n4      3       1      0     0 2018-10-31 02:01:04                1   \n\n   real_truth_score        cuisine  \n0          0.229833       American  \n1          0.987487         Others  \n2          0.524751  Mediterranean  \n3          0.979875         Others  \n4          0.662471        Italian  ",
      "text/html": "<div>\n<style scoped>\n    .dataframe tbody tr th:only-of-type {\n        vertical-align: middle;\n    }\n\n    .dataframe tbody tr th {\n        vertical-align: top;\n    }\n\n    .dataframe thead th {\n        text-align: right;\n    }\n</style>\n<table border=\"1\" class=\"dataframe\">\n  <thead>\n    <tr style=\"text-align: right;\">\n      <th></th>\n      <th>review_id</th>\n      <th>user_id</th>\n      <th>business_id</th>\n      <th>stars</th>\n      <th>useful</th>\n      <th>funny</th>\n      <th>cool</th>\n      <th>date</th>\n      <th>bin_truth_score</th>\n      <th>real_truth_score</th>\n      <th>cuisine</th>\n    </tr>\n  </thead>\n  <tbody>\n    <tr>\n      <th>0</th>\n      <td>---j05qHS2X7FkXjjMKKtA</td>\n      <td>E6Aoz-3s4avfweIjziHjbA</td>\n      <td>cTbFJzHQzFSX-z3JF4abKQ</td>\n      <td>5</td>\n      <td>1</td>\n      <td>0</td>\n      <td>1</td>\n      <td>2018-11-02 15:01:11</td>\n      <td>-1</td>\n      <td>0.229833</td>\n      <td>American</td>\n    </tr>\n    <tr>\n      <th>1</th>\n      <td>--4GjusuUCMh24c_oh_cEg</td>\n      <td>YOOsYiXGEtGFX_wSeZNcww</td>\n      <td>JytR7WvKyytDQNwOHUzSEg</td>\n      <td>4</td>\n      <td>1</td>\n      <td>0</td>\n      <td>0</td>\n      <td>2018-10-13 00:07:17</td>\n      <td>1</td>\n      <td>0.987487</td>\n      <td>Others</td>\n    </tr>\n    <tr>\n      <th>2</th>\n      <td>--4RpVT5wHJ9AfnZkIC3tw</td>\n      <td>Bdw4E8jFVd6-CbhrNAJ_EA</td>\n      <td>-CfFjcCcGGDM9MVH_d42RQ</td>\n      <td>5</td>\n      <td>0</td>\n      <td>0</td>\n      <td>0</td>\n      <td>2018-10-14 04:41:42</td>\n      <td>-1</td>\n      <td>0.524751</td>\n      <td>Mediterranean</td>\n    </tr>\n    <tr>\n      <th>3</th>\n      <td>--4vJzoC0m5h-yodXv-qCw</td>\n      <td>jm4a1GghQ4zLCN3lQGMQUQ</td>\n      <td>XMPBg6r_LqZhy9Cf-4ZJrA</td>\n      <td>2</td>\n      <td>0</td>\n      <td>0</td>\n      <td>0</td>\n      <td>2018-11-01 19:11:50</td>\n      <td>1</td>\n      <td>0.979875</td>\n      <td>Others</td>\n    </tr>\n    <tr>\n      <th>4</th>\n      <td>--B9JxEb5gY5gAgD2BRhDQ</td>\n      <td>x_6VdQU3CIdakwHod-dNzA</td>\n      <td>Fn_IxcCtZl1EoS81sq_s9w</td>\n      <td>3</td>\n      <td>1</td>\n      <td>0</td>\n      <td>0</td>\n      <td>2018-10-31 02:01:04</td>\n      <td>1</td>\n      <td>0.662471</td>\n      <td>Italian</td>\n    </tr>\n  </tbody>\n</table>\n</div>"
     },
     "metadata": {},
     "output_type": "execute_result",
     "execution_count": 71
    }
   ],
   "source": [
    "review_test_rest.head()"
   ],
   "metadata": {
    "collapsed": false,
    "pycharm": {
     "name": "#%%\n",
     "is_executing": false
    }
   }
  },
  {
   "cell_type": "code",
   "execution_count": 72,
   "metadata": {
    "pycharm": {
     "is_executing": false
    },
    "scrolled": true
   },
   "outputs": [
    {
     "data": {
      "text/plain": "                  user_id user_name  average_stars yelping_since  review  \\\n0  l6BmjZMeQD3rDxWUbiAiow    Rashmi       3.000000    2013-10-08      95   \n1  4XChL029mKr5hydo79Ljxg     Jenna       3.500000    2013-02-21      33   \n2  bc8C_eETBWL0olvFSJJd0w     David       3.384615    2013-10-04      16   \n3  dD0gZpBctWGdWo9WlGuhlA    Angela       5.000000    2014-05-22      17   \n4  MM4RJAeH6yuaN8oZDSt0RA     Nancy       4.400000    2013-10-23     361   \n\n   years_of_elite  fans  useful  cool  funny  ...  \\\n0               3     5      84    25     17  ...   \n1               0     4      48    16     22  ...   \n2               0     0      28    10      8  ...   \n3               0     5      30    14      4  ...   \n4               4    39    1114   665    279  ...   \n\n   av_rat_chinese_cuisine_real  av_rat_japanese_cuisine_real  \\\n0                          NaN                           NaN   \n1                          NaN                           NaN   \n2                     3.399765                           NaN   \n3                          NaN                           NaN   \n4                          NaN                           NaN   \n\n   av_rat_mexican_cuisine_real  av_rat_italian_cuisine_real  \\\n0                          NaN                          4.0   \n1                          NaN                          NaN   \n2                          2.0                          NaN   \n3                          NaN                          NaN   \n4                          NaN                          NaN   \n\n   av_rat_others_cuisine_real  av_rat_american_cuisine_real  \\\n0                         2.0                      4.000000   \n1                         4.0                      3.501823   \n2                         5.0                      3.123598   \n3                         NaN                           NaN   \n4                         NaN                      4.450279   \n\n   av_rat_korean_cuisine_real  av_rat_mediterranean_cuisine_real  \\\n0                         NaN                                NaN   \n1                         NaN                                4.0   \n2                         NaN                                3.0   \n3                         NaN                                NaN   \n4                         NaN                                5.0   \n\n   av_rat_thai_cuisine_real  av_rat_asianfusion_cuisine_real  \n0                       NaN                              NaN  \n1                       NaN                              NaN  \n2                  3.632007                         1.997225  \n3                       NaN                         5.000000  \n4                  3.000000                         5.000000  \n\n[5 rows x 46 columns]",
      "text/html": "<div>\n<style scoped>\n    .dataframe tbody tr th:only-of-type {\n        vertical-align: middle;\n    }\n\n    .dataframe tbody tr th {\n        vertical-align: top;\n    }\n\n    .dataframe thead th {\n        text-align: right;\n    }\n</style>\n<table border=\"1\" class=\"dataframe\">\n  <thead>\n    <tr style=\"text-align: right;\">\n      <th></th>\n      <th>user_id</th>\n      <th>user_name</th>\n      <th>average_stars</th>\n      <th>yelping_since</th>\n      <th>review</th>\n      <th>years_of_elite</th>\n      <th>fans</th>\n      <th>useful</th>\n      <th>cool</th>\n      <th>funny</th>\n      <th>...</th>\n      <th>av_rat_chinese_cuisine_real</th>\n      <th>av_rat_japanese_cuisine_real</th>\n      <th>av_rat_mexican_cuisine_real</th>\n      <th>av_rat_italian_cuisine_real</th>\n      <th>av_rat_others_cuisine_real</th>\n      <th>av_rat_american_cuisine_real</th>\n      <th>av_rat_korean_cuisine_real</th>\n      <th>av_rat_mediterranean_cuisine_real</th>\n      <th>av_rat_thai_cuisine_real</th>\n      <th>av_rat_asianfusion_cuisine_real</th>\n    </tr>\n  </thead>\n  <tbody>\n    <tr>\n      <th>0</th>\n      <td>l6BmjZMeQD3rDxWUbiAiow</td>\n      <td>Rashmi</td>\n      <td>3.000000</td>\n      <td>2013-10-08</td>\n      <td>95</td>\n      <td>3</td>\n      <td>5</td>\n      <td>84</td>\n      <td>25</td>\n      <td>17</td>\n      <td>...</td>\n      <td>NaN</td>\n      <td>NaN</td>\n      <td>NaN</td>\n      <td>4.0</td>\n      <td>2.0</td>\n      <td>4.000000</td>\n      <td>NaN</td>\n      <td>NaN</td>\n      <td>NaN</td>\n      <td>NaN</td>\n    </tr>\n    <tr>\n      <th>1</th>\n      <td>4XChL029mKr5hydo79Ljxg</td>\n      <td>Jenna</td>\n      <td>3.500000</td>\n      <td>2013-02-21</td>\n      <td>33</td>\n      <td>0</td>\n      <td>4</td>\n      <td>48</td>\n      <td>16</td>\n      <td>22</td>\n      <td>...</td>\n      <td>NaN</td>\n      <td>NaN</td>\n      <td>NaN</td>\n      <td>NaN</td>\n      <td>4.0</td>\n      <td>3.501823</td>\n      <td>NaN</td>\n      <td>4.0</td>\n      <td>NaN</td>\n      <td>NaN</td>\n    </tr>\n    <tr>\n      <th>2</th>\n      <td>bc8C_eETBWL0olvFSJJd0w</td>\n      <td>David</td>\n      <td>3.384615</td>\n      <td>2013-10-04</td>\n      <td>16</td>\n      <td>0</td>\n      <td>0</td>\n      <td>28</td>\n      <td>10</td>\n      <td>8</td>\n      <td>...</td>\n      <td>3.399765</td>\n      <td>NaN</td>\n      <td>2.0</td>\n      <td>NaN</td>\n      <td>5.0</td>\n      <td>3.123598</td>\n      <td>NaN</td>\n      <td>3.0</td>\n      <td>3.632007</td>\n      <td>1.997225</td>\n    </tr>\n    <tr>\n      <th>3</th>\n      <td>dD0gZpBctWGdWo9WlGuhlA</td>\n      <td>Angela</td>\n      <td>5.000000</td>\n      <td>2014-05-22</td>\n      <td>17</td>\n      <td>0</td>\n      <td>5</td>\n      <td>30</td>\n      <td>14</td>\n      <td>4</td>\n      <td>...</td>\n      <td>NaN</td>\n      <td>NaN</td>\n      <td>NaN</td>\n      <td>NaN</td>\n      <td>NaN</td>\n      <td>NaN</td>\n      <td>NaN</td>\n      <td>NaN</td>\n      <td>NaN</td>\n      <td>5.000000</td>\n    </tr>\n    <tr>\n      <th>4</th>\n      <td>MM4RJAeH6yuaN8oZDSt0RA</td>\n      <td>Nancy</td>\n      <td>4.400000</td>\n      <td>2013-10-23</td>\n      <td>361</td>\n      <td>4</td>\n      <td>39</td>\n      <td>1114</td>\n      <td>665</td>\n      <td>279</td>\n      <td>...</td>\n      <td>NaN</td>\n      <td>NaN</td>\n      <td>NaN</td>\n      <td>NaN</td>\n      <td>NaN</td>\n      <td>4.450279</td>\n      <td>NaN</td>\n      <td>5.0</td>\n      <td>3.000000</td>\n      <td>5.000000</td>\n    </tr>\n  </tbody>\n</table>\n<p>5 rows × 46 columns</p>\n</div>"
     },
     "metadata": {},
     "output_type": "execute_result",
     "execution_count": 72
    }
   ],
   "source": [
    "del restaurants\n",
    "\n",
    "users = _pd.read_pickle('../dataset/m2_n9/users_2.pickle')\n",
    "users.head()"
   ]
  },
  {
   "cell_type": "code",
   "execution_count": 73,
   "metadata": {
    "pycharm": {
     "is_executing": false
    }
   },
   "outputs": [
    {
     "data": {
      "text/plain": "                  user_id  av_rat_chinese_cuisine  av_rat_japanese_cuisine  \\\n0  l6BmjZMeQD3rDxWUbiAiow                     NaN                      NaN   \n1  4XChL029mKr5hydo79Ljxg                     NaN                      NaN   \n2  bc8C_eETBWL0olvFSJJd0w                     3.5                      NaN   \n3  dD0gZpBctWGdWo9WlGuhlA                     NaN                      NaN   \n4  MM4RJAeH6yuaN8oZDSt0RA                     NaN                      NaN   \n\n   av_rat_mexican_cuisine  av_rat_italian_cuisine  av_rat_others_cuisine  \\\n0                     NaN                     4.0                    2.0   \n1                     NaN                     NaN                    4.0   \n2                     2.0                     NaN                    5.0   \n3                     NaN                     NaN                    NaN   \n4                     NaN                     NaN                    NaN   \n\n   av_rat_american_cuisine  av_rat_korean_cuisine  \\\n0                 4.000000                    NaN   \n1                 3.333333                    NaN   \n2                 3.000000                    NaN   \n3                      NaN                    NaN   \n4                 4.500000                    NaN   \n\n   av_rat_mediterranean_cuisine  av_rat_thai_cuisine  ...  \\\n0                           NaN                  NaN  ...   \n1                           4.0                  NaN  ...   \n2                           3.0             3.666667  ...   \n3                           NaN                  NaN  ...   \n4                           5.0             3.000000  ...   \n\n   av_rat_chinese_cuisine_real  av_rat_japanese_cuisine_real  \\\n0                          NaN                           NaN   \n1                          NaN                           NaN   \n2                     3.399765                           NaN   \n3                          NaN                           NaN   \n4                          NaN                           NaN   \n\n   av_rat_mexican_cuisine_real  av_rat_italian_cuisine_real  \\\n0                          NaN                          4.0   \n1                          NaN                          NaN   \n2                          2.0                          NaN   \n3                          NaN                          NaN   \n4                          NaN                          NaN   \n\n   av_rat_others_cuisine_real  av_rat_american_cuisine_real  \\\n0                         2.0                      4.000000   \n1                         4.0                      3.501823   \n2                         5.0                      3.123598   \n3                         NaN                           NaN   \n4                         NaN                      4.450279   \n\n   av_rat_korean_cuisine_real  av_rat_mediterranean_cuisine_real  \\\n0                         NaN                                NaN   \n1                         NaN                                4.0   \n2                         NaN                                3.0   \n3                         NaN                                NaN   \n4                         NaN                                5.0   \n\n   av_rat_thai_cuisine_real  av_rat_asianfusion_cuisine_real  \n0                       NaN                              NaN  \n1                       NaN                              NaN  \n2                  3.632007                         1.997225  \n3                       NaN                         5.000000  \n4                  3.000000                         5.000000  \n\n[5 rows x 31 columns]",
      "text/html": "<div>\n<style scoped>\n    .dataframe tbody tr th:only-of-type {\n        vertical-align: middle;\n    }\n\n    .dataframe tbody tr th {\n        vertical-align: top;\n    }\n\n    .dataframe thead th {\n        text-align: right;\n    }\n</style>\n<table border=\"1\" class=\"dataframe\">\n  <thead>\n    <tr style=\"text-align: right;\">\n      <th></th>\n      <th>user_id</th>\n      <th>av_rat_chinese_cuisine</th>\n      <th>av_rat_japanese_cuisine</th>\n      <th>av_rat_mexican_cuisine</th>\n      <th>av_rat_italian_cuisine</th>\n      <th>av_rat_others_cuisine</th>\n      <th>av_rat_american_cuisine</th>\n      <th>av_rat_korean_cuisine</th>\n      <th>av_rat_mediterranean_cuisine</th>\n      <th>av_rat_thai_cuisine</th>\n      <th>...</th>\n      <th>av_rat_chinese_cuisine_real</th>\n      <th>av_rat_japanese_cuisine_real</th>\n      <th>av_rat_mexican_cuisine_real</th>\n      <th>av_rat_italian_cuisine_real</th>\n      <th>av_rat_others_cuisine_real</th>\n      <th>av_rat_american_cuisine_real</th>\n      <th>av_rat_korean_cuisine_real</th>\n      <th>av_rat_mediterranean_cuisine_real</th>\n      <th>av_rat_thai_cuisine_real</th>\n      <th>av_rat_asianfusion_cuisine_real</th>\n    </tr>\n  </thead>\n  <tbody>\n    <tr>\n      <th>0</th>\n      <td>l6BmjZMeQD3rDxWUbiAiow</td>\n      <td>NaN</td>\n      <td>NaN</td>\n      <td>NaN</td>\n      <td>4.0</td>\n      <td>2.0</td>\n      <td>4.000000</td>\n      <td>NaN</td>\n      <td>NaN</td>\n      <td>NaN</td>\n      <td>...</td>\n      <td>NaN</td>\n      <td>NaN</td>\n      <td>NaN</td>\n      <td>4.0</td>\n      <td>2.0</td>\n      <td>4.000000</td>\n      <td>NaN</td>\n      <td>NaN</td>\n      <td>NaN</td>\n      <td>NaN</td>\n    </tr>\n    <tr>\n      <th>1</th>\n      <td>4XChL029mKr5hydo79Ljxg</td>\n      <td>NaN</td>\n      <td>NaN</td>\n      <td>NaN</td>\n      <td>NaN</td>\n      <td>4.0</td>\n      <td>3.333333</td>\n      <td>NaN</td>\n      <td>4.0</td>\n      <td>NaN</td>\n      <td>...</td>\n      <td>NaN</td>\n      <td>NaN</td>\n      <td>NaN</td>\n      <td>NaN</td>\n      <td>4.0</td>\n      <td>3.501823</td>\n      <td>NaN</td>\n      <td>4.0</td>\n      <td>NaN</td>\n      <td>NaN</td>\n    </tr>\n    <tr>\n      <th>2</th>\n      <td>bc8C_eETBWL0olvFSJJd0w</td>\n      <td>3.5</td>\n      <td>NaN</td>\n      <td>2.0</td>\n      <td>NaN</td>\n      <td>5.0</td>\n      <td>3.000000</td>\n      <td>NaN</td>\n      <td>3.0</td>\n      <td>3.666667</td>\n      <td>...</td>\n      <td>3.399765</td>\n      <td>NaN</td>\n      <td>2.0</td>\n      <td>NaN</td>\n      <td>5.0</td>\n      <td>3.123598</td>\n      <td>NaN</td>\n      <td>3.0</td>\n      <td>3.632007</td>\n      <td>1.997225</td>\n    </tr>\n    <tr>\n      <th>3</th>\n      <td>dD0gZpBctWGdWo9WlGuhlA</td>\n      <td>NaN</td>\n      <td>NaN</td>\n      <td>NaN</td>\n      <td>NaN</td>\n      <td>NaN</td>\n      <td>NaN</td>\n      <td>NaN</td>\n      <td>NaN</td>\n      <td>NaN</td>\n      <td>...</td>\n      <td>NaN</td>\n      <td>NaN</td>\n      <td>NaN</td>\n      <td>NaN</td>\n      <td>NaN</td>\n      <td>NaN</td>\n      <td>NaN</td>\n      <td>NaN</td>\n      <td>NaN</td>\n      <td>5.000000</td>\n    </tr>\n    <tr>\n      <th>4</th>\n      <td>MM4RJAeH6yuaN8oZDSt0RA</td>\n      <td>NaN</td>\n      <td>NaN</td>\n      <td>NaN</td>\n      <td>NaN</td>\n      <td>NaN</td>\n      <td>4.500000</td>\n      <td>NaN</td>\n      <td>5.0</td>\n      <td>3.000000</td>\n      <td>...</td>\n      <td>NaN</td>\n      <td>NaN</td>\n      <td>NaN</td>\n      <td>NaN</td>\n      <td>NaN</td>\n      <td>4.450279</td>\n      <td>NaN</td>\n      <td>5.0</td>\n      <td>3.000000</td>\n      <td>5.000000</td>\n    </tr>\n  </tbody>\n</table>\n<p>5 rows × 31 columns</p>\n</div>"
     },
     "metadata": {},
     "output_type": "execute_result",
     "execution_count": 73
    }
   ],
   "source": [
    "users = users[['user_id', 'av_rat_chinese_cuisine', 'av_rat_japanese_cuisine', 'av_rat_mexican_cuisine', 'av_rat_italian_cuisine', \n",
    "            'av_rat_others_cuisine', 'av_rat_american_cuisine', 'av_rat_korean_cuisine', 'av_rat_mediterranean_cuisine',\n",
    "            'av_rat_thai_cuisine', 'av_rat_asianfusion_cuisine',\n",
    "           \n",
    "           'av_rat_chinese_cuisine_bin', 'av_rat_japanese_cuisine_bin', 'av_rat_mexican_cuisine_bin', \n",
    "           'av_rat_italian_cuisine_bin', 'av_rat_others_cuisine_bin', 'av_rat_american_cuisine_bin', \n",
    "           'av_rat_korean_cuisine_bin', 'av_rat_mediterranean_cuisine_bin', 'av_rat_thai_cuisine_bin', \n",
    "           'av_rat_asianfusion_cuisine_bin',\n",
    "           \n",
    "           'av_rat_chinese_cuisine_real', 'av_rat_japanese_cuisine_real', 'av_rat_mexican_cuisine_real', \n",
    "           'av_rat_italian_cuisine_real', 'av_rat_others_cuisine_real', 'av_rat_american_cuisine_real', \n",
    "           'av_rat_korean_cuisine_real', 'av_rat_mediterranean_cuisine_real', 'av_rat_thai_cuisine_real', \n",
    "           'av_rat_asianfusion_cuisine_real']]\n",
    "\n",
    "users.head()"
   ]
  },
  {
   "cell_type": "code",
   "execution_count": 74,
   "metadata": {
    "pycharm": {
     "is_executing": false
    }
   },
   "outputs": [
    {
     "data": {
      "text/plain": "(91434, 41)"
     },
     "metadata": {},
     "output_type": "execute_result",
     "execution_count": 74
    }
   ],
   "source": [
    "test_join = review_test_rest.join(users.set_index('user_id'), on = 'user_id', lsuffix = '_test_revirew', rsuffix = '_users')\n",
    "test_join.shape"
   ]
  },
  {
   "cell_type": "code",
   "execution_count": 75,
   "outputs": [
    {
     "data": {
      "text/plain": "                review_id                 user_id             business_id  \\\n0  ---j05qHS2X7FkXjjMKKtA  E6Aoz-3s4avfweIjziHjbA  cTbFJzHQzFSX-z3JF4abKQ   \n1  --4GjusuUCMh24c_oh_cEg  YOOsYiXGEtGFX_wSeZNcww  JytR7WvKyytDQNwOHUzSEg   \n2  --4RpVT5wHJ9AfnZkIC3tw  Bdw4E8jFVd6-CbhrNAJ_EA  -CfFjcCcGGDM9MVH_d42RQ   \n3  --4vJzoC0m5h-yodXv-qCw  jm4a1GghQ4zLCN3lQGMQUQ  XMPBg6r_LqZhy9Cf-4ZJrA   \n4  --B9JxEb5gY5gAgD2BRhDQ  x_6VdQU3CIdakwHod-dNzA  Fn_IxcCtZl1EoS81sq_s9w   \n\n   stars  useful  funny  cool                date  bin_truth_score  \\\n0      5       1      0     1 2018-11-02 15:01:11               -1   \n1      4       1      0     0 2018-10-13 00:07:17                1   \n2      5       0      0     0 2018-10-14 04:41:42               -1   \n3      2       0      0     0 2018-11-01 19:11:50                1   \n4      3       1      0     0 2018-10-31 02:01:04                1   \n\n   real_truth_score  ... av_rat_chinese_cuisine_real  \\\n0          0.229833  ...                         NaN   \n1          0.987487  ...                    3.756843   \n2          0.524751  ...                         NaN   \n3          0.979875  ...                         NaN   \n4          0.662471  ...                         NaN   \n\n   av_rat_japanese_cuisine_real  av_rat_mexican_cuisine_real  \\\n0                      4.000000                          NaN   \n1                      3.726028                     4.287215   \n2                           NaN                     1.000000   \n3                           NaN                          NaN   \n4                           NaN                          NaN   \n\n   av_rat_italian_cuisine_real  av_rat_others_cuisine_real  \\\n0                     4.508384                    3.446572   \n1                     3.525072                    3.610109   \n2                          NaN                    5.000000   \n3                          NaN                         NaN   \n4                          NaN                         NaN   \n\n   av_rat_american_cuisine_real  av_rat_korean_cuisine_real  \\\n0                      3.969038                         NaN   \n1                      3.170261                         2.0   \n2                      5.000000                         NaN   \n3                           NaN                         NaN   \n4                           NaN                         NaN   \n\n   av_rat_mediterranean_cuisine_real  av_rat_thai_cuisine_real  \\\n0                                NaN                       NaN   \n1                           4.355007                  3.664197   \n2                           5.000000                       NaN   \n3                                NaN                       NaN   \n4                                NaN                       NaN   \n\n   av_rat_asianfusion_cuisine_real  \n0                         4.102936  \n1                         3.021022  \n2                              NaN  \n3                              NaN  \n4                              NaN  \n\n[5 rows x 41 columns]",
      "text/html": "<div>\n<style scoped>\n    .dataframe tbody tr th:only-of-type {\n        vertical-align: middle;\n    }\n\n    .dataframe tbody tr th {\n        vertical-align: top;\n    }\n\n    .dataframe thead th {\n        text-align: right;\n    }\n</style>\n<table border=\"1\" class=\"dataframe\">\n  <thead>\n    <tr style=\"text-align: right;\">\n      <th></th>\n      <th>review_id</th>\n      <th>user_id</th>\n      <th>business_id</th>\n      <th>stars</th>\n      <th>useful</th>\n      <th>funny</th>\n      <th>cool</th>\n      <th>date</th>\n      <th>bin_truth_score</th>\n      <th>real_truth_score</th>\n      <th>...</th>\n      <th>av_rat_chinese_cuisine_real</th>\n      <th>av_rat_japanese_cuisine_real</th>\n      <th>av_rat_mexican_cuisine_real</th>\n      <th>av_rat_italian_cuisine_real</th>\n      <th>av_rat_others_cuisine_real</th>\n      <th>av_rat_american_cuisine_real</th>\n      <th>av_rat_korean_cuisine_real</th>\n      <th>av_rat_mediterranean_cuisine_real</th>\n      <th>av_rat_thai_cuisine_real</th>\n      <th>av_rat_asianfusion_cuisine_real</th>\n    </tr>\n  </thead>\n  <tbody>\n    <tr>\n      <th>0</th>\n      <td>---j05qHS2X7FkXjjMKKtA</td>\n      <td>E6Aoz-3s4avfweIjziHjbA</td>\n      <td>cTbFJzHQzFSX-z3JF4abKQ</td>\n      <td>5</td>\n      <td>1</td>\n      <td>0</td>\n      <td>1</td>\n      <td>2018-11-02 15:01:11</td>\n      <td>-1</td>\n      <td>0.229833</td>\n      <td>...</td>\n      <td>NaN</td>\n      <td>4.000000</td>\n      <td>NaN</td>\n      <td>4.508384</td>\n      <td>3.446572</td>\n      <td>3.969038</td>\n      <td>NaN</td>\n      <td>NaN</td>\n      <td>NaN</td>\n      <td>4.102936</td>\n    </tr>\n    <tr>\n      <th>1</th>\n      <td>--4GjusuUCMh24c_oh_cEg</td>\n      <td>YOOsYiXGEtGFX_wSeZNcww</td>\n      <td>JytR7WvKyytDQNwOHUzSEg</td>\n      <td>4</td>\n      <td>1</td>\n      <td>0</td>\n      <td>0</td>\n      <td>2018-10-13 00:07:17</td>\n      <td>1</td>\n      <td>0.987487</td>\n      <td>...</td>\n      <td>3.756843</td>\n      <td>3.726028</td>\n      <td>4.287215</td>\n      <td>3.525072</td>\n      <td>3.610109</td>\n      <td>3.170261</td>\n      <td>2.0</td>\n      <td>4.355007</td>\n      <td>3.664197</td>\n      <td>3.021022</td>\n    </tr>\n    <tr>\n      <th>2</th>\n      <td>--4RpVT5wHJ9AfnZkIC3tw</td>\n      <td>Bdw4E8jFVd6-CbhrNAJ_EA</td>\n      <td>-CfFjcCcGGDM9MVH_d42RQ</td>\n      <td>5</td>\n      <td>0</td>\n      <td>0</td>\n      <td>0</td>\n      <td>2018-10-14 04:41:42</td>\n      <td>-1</td>\n      <td>0.524751</td>\n      <td>...</td>\n      <td>NaN</td>\n      <td>NaN</td>\n      <td>1.000000</td>\n      <td>NaN</td>\n      <td>5.000000</td>\n      <td>5.000000</td>\n      <td>NaN</td>\n      <td>5.000000</td>\n      <td>NaN</td>\n      <td>NaN</td>\n    </tr>\n    <tr>\n      <th>3</th>\n      <td>--4vJzoC0m5h-yodXv-qCw</td>\n      <td>jm4a1GghQ4zLCN3lQGMQUQ</td>\n      <td>XMPBg6r_LqZhy9Cf-4ZJrA</td>\n      <td>2</td>\n      <td>0</td>\n      <td>0</td>\n      <td>0</td>\n      <td>2018-11-01 19:11:50</td>\n      <td>1</td>\n      <td>0.979875</td>\n      <td>...</td>\n      <td>NaN</td>\n      <td>NaN</td>\n      <td>NaN</td>\n      <td>NaN</td>\n      <td>NaN</td>\n      <td>NaN</td>\n      <td>NaN</td>\n      <td>NaN</td>\n      <td>NaN</td>\n      <td>NaN</td>\n    </tr>\n    <tr>\n      <th>4</th>\n      <td>--B9JxEb5gY5gAgD2BRhDQ</td>\n      <td>x_6VdQU3CIdakwHod-dNzA</td>\n      <td>Fn_IxcCtZl1EoS81sq_s9w</td>\n      <td>3</td>\n      <td>1</td>\n      <td>0</td>\n      <td>0</td>\n      <td>2018-10-31 02:01:04</td>\n      <td>1</td>\n      <td>0.662471</td>\n      <td>...</td>\n      <td>NaN</td>\n      <td>NaN</td>\n      <td>NaN</td>\n      <td>NaN</td>\n      <td>NaN</td>\n      <td>NaN</td>\n      <td>NaN</td>\n      <td>NaN</td>\n      <td>NaN</td>\n      <td>NaN</td>\n    </tr>\n  </tbody>\n</table>\n<p>5 rows × 41 columns</p>\n</div>"
     },
     "metadata": {},
     "output_type": "execute_result",
     "execution_count": 75
    }
   ],
   "source": [
    "test_join.head()"
   ],
   "metadata": {
    "collapsed": false,
    "pycharm": {
     "name": "#%%\n",
     "is_executing": false
    }
   }
  },
  {
   "cell_type": "code",
   "execution_count": 76,
   "metadata": {
    "pycharm": {
     "is_executing": false,
     "name": "#%%\n"
    }
   },
   "outputs": [],
   "source": [
    "test_join.to_pickle('../dataset/m2_n9/join_test_users_review.pickle')\n",
    "del users, review_test_rest"
   ]
  },
  {
   "cell_type": "code",
   "execution_count": 97,
   "metadata": {
    "pycharm": {
     "is_executing": false
    }
   },
   "outputs": [],
   "source": [
    "def _restaturants_users_cuisine_ratings(grouped):\n",
    "    cuisines = str(grouped['cuisine']).split(\", \")\n",
    "    \n",
    "    d = {'review_id' : grouped['review_id'],'cuisine_av_hist' : 0, 'cuisine_av_hist_bin' : 0, 'cuisine_av_hist_real': 0}\n",
    "    index = ['review_id', 'cuisine_av_hist', 'cuisine_av_hist_bin', 'cuisine_av_hist_real']\n",
    "   \n",
    "    values = []\n",
    "    for cuisine in cuisines:\n",
    "        cui = cuisine.lower().replace(\" \", \"\")\n",
    "        name = \"av_rat_{0}_cuisine\".format(cui)\n",
    "        values.append(grouped[name])\n",
    "    d['cuisine_av_hist'] = _np.average(values)\n",
    "    \n",
    "    values = []\n",
    "    for cuisine in cuisines:\n",
    "        cui = cuisine.lower().replace(\" \", \"\")\n",
    "        name = \"av_rat_{0}_cuisine_bin\".format(cui)\n",
    "        values.append(grouped[name])\n",
    "    d['cuisine_av_hist_bin'] = _np.average(values)\n",
    "    \n",
    "    values = []\n",
    "    for cuisine in cuisines:\n",
    "        cui = cuisine.lower().replace(\" \", \"\")\n",
    "        name = \"av_rat_{0}_cuisine_real\".format(cui)\n",
    "        values.append(grouped[name])\n",
    "    d['cuisine_av_hist_real'] = _np.average(values)\n",
    "    \n",
    "    return _pd.Series(d, index = index)"
   ]
  },
  {
   "cell_type": "code",
   "execution_count": 78,
   "metadata": {
    "pycharm": {
     "is_executing": false
    }
   },
   "outputs": [
    {
     "data": {
      "text/plain": "(91434, 4)"
     },
     "metadata": {},
     "output_type": "execute_result",
     "execution_count": 78
    }
   ],
   "source": [
    "applied_test = test_join.apply(_restaturants_users_cuisine_ratings, axis = 1)\n",
    "applied_test.shape"
   ]
  },
  {
   "cell_type": "code",
   "execution_count": 79,
   "outputs": [
    {
     "data": {
      "text/plain": "                review_id  cuisine_av_hist  cuisine_av_hist_bin  \\\n0  ---j05qHS2X7FkXjjMKKtA         4.000000             4.285714   \n1  --4GjusuUCMh24c_oh_cEg         3.604167             3.607143   \n2  --4RpVT5wHJ9AfnZkIC3tw         5.000000                  NaN   \n3  --4vJzoC0m5h-yodXv-qCw              NaN                  NaN   \n4  --B9JxEb5gY5gAgD2BRhDQ              NaN                  NaN   \n\n   cuisine_av_hist_real  \n0              3.969038  \n1              3.610109  \n2              5.000000  \n3                   NaN  \n4                   NaN  ",
      "text/html": "<div>\n<style scoped>\n    .dataframe tbody tr th:only-of-type {\n        vertical-align: middle;\n    }\n\n    .dataframe tbody tr th {\n        vertical-align: top;\n    }\n\n    .dataframe thead th {\n        text-align: right;\n    }\n</style>\n<table border=\"1\" class=\"dataframe\">\n  <thead>\n    <tr style=\"text-align: right;\">\n      <th></th>\n      <th>review_id</th>\n      <th>cuisine_av_hist</th>\n      <th>cuisine_av_hist_bin</th>\n      <th>cuisine_av_hist_real</th>\n    </tr>\n  </thead>\n  <tbody>\n    <tr>\n      <th>0</th>\n      <td>---j05qHS2X7FkXjjMKKtA</td>\n      <td>4.000000</td>\n      <td>4.285714</td>\n      <td>3.969038</td>\n    </tr>\n    <tr>\n      <th>1</th>\n      <td>--4GjusuUCMh24c_oh_cEg</td>\n      <td>3.604167</td>\n      <td>3.607143</td>\n      <td>3.610109</td>\n    </tr>\n    <tr>\n      <th>2</th>\n      <td>--4RpVT5wHJ9AfnZkIC3tw</td>\n      <td>5.000000</td>\n      <td>NaN</td>\n      <td>5.000000</td>\n    </tr>\n    <tr>\n      <th>3</th>\n      <td>--4vJzoC0m5h-yodXv-qCw</td>\n      <td>NaN</td>\n      <td>NaN</td>\n      <td>NaN</td>\n    </tr>\n    <tr>\n      <th>4</th>\n      <td>--B9JxEb5gY5gAgD2BRhDQ</td>\n      <td>NaN</td>\n      <td>NaN</td>\n      <td>NaN</td>\n    </tr>\n  </tbody>\n</table>\n</div>"
     },
     "metadata": {},
     "output_type": "execute_result",
     "execution_count": 79
    }
   ],
   "source": [
    "applied_test = applied_test.sort_values(by=['review_id'])\n",
    "applied_test = applied_test.reset_index(drop = True)\n",
    "applied_test.head()"
   ],
   "metadata": {
    "collapsed": false,
    "pycharm": {
     "name": "#%%\n",
     "is_executing": false
    }
   }
  },
  {
   "cell_type": "code",
   "execution_count": 80,
   "metadata": {
    "pycharm": {
     "is_executing": false,
     "name": "#%%\n"
    }
   },
   "outputs": [],
   "source": [
    "applied_test.to_pickle('../dataset/m2_n9/applied_test_users_review.pickle')"
   ]
  },
  {
   "cell_type": "code",
   "execution_count": 81,
   "outputs": [
    {
     "data": {
      "text/plain": "(91434, 10)"
     },
     "metadata": {},
     "output_type": "execute_result",
     "execution_count": 81
    }
   ],
   "source": [
    "review_test.shape"
   ],
   "metadata": {
    "collapsed": false,
    "pycharm": {
     "name": "#%%\n",
     "is_executing": false
    }
   }
  },
  {
   "cell_type": "code",
   "execution_count": 82,
   "outputs": [
    {
     "data": {
      "text/plain": "                review_id                 user_id             business_id  \\\n0  ---j05qHS2X7FkXjjMKKtA  E6Aoz-3s4avfweIjziHjbA  cTbFJzHQzFSX-z3JF4abKQ   \n1  --4GjusuUCMh24c_oh_cEg  YOOsYiXGEtGFX_wSeZNcww  JytR7WvKyytDQNwOHUzSEg   \n2  --4RpVT5wHJ9AfnZkIC3tw  Bdw4E8jFVd6-CbhrNAJ_EA  -CfFjcCcGGDM9MVH_d42RQ   \n3  --4vJzoC0m5h-yodXv-qCw  jm4a1GghQ4zLCN3lQGMQUQ  XMPBg6r_LqZhy9Cf-4ZJrA   \n4  --B9JxEb5gY5gAgD2BRhDQ  x_6VdQU3CIdakwHod-dNzA  Fn_IxcCtZl1EoS81sq_s9w   \n\n   stars  useful  funny  cool                date  bin_truth_score  \\\n0      5       1      0     1 2018-11-02 15:01:11               -1   \n1      4       1      0     0 2018-10-13 00:07:17                1   \n2      5       0      0     0 2018-10-14 04:41:42               -1   \n3      2       0      0     0 2018-11-01 19:11:50                1   \n4      3       1      0     0 2018-10-31 02:01:04                1   \n\n   real_truth_score  \n0          0.229833  \n1          0.987487  \n2          0.524751  \n3          0.979875  \n4          0.662471  ",
      "text/html": "<div>\n<style scoped>\n    .dataframe tbody tr th:only-of-type {\n        vertical-align: middle;\n    }\n\n    .dataframe tbody tr th {\n        vertical-align: top;\n    }\n\n    .dataframe thead th {\n        text-align: right;\n    }\n</style>\n<table border=\"1\" class=\"dataframe\">\n  <thead>\n    <tr style=\"text-align: right;\">\n      <th></th>\n      <th>review_id</th>\n      <th>user_id</th>\n      <th>business_id</th>\n      <th>stars</th>\n      <th>useful</th>\n      <th>funny</th>\n      <th>cool</th>\n      <th>date</th>\n      <th>bin_truth_score</th>\n      <th>real_truth_score</th>\n    </tr>\n  </thead>\n  <tbody>\n    <tr>\n      <th>0</th>\n      <td>---j05qHS2X7FkXjjMKKtA</td>\n      <td>E6Aoz-3s4avfweIjziHjbA</td>\n      <td>cTbFJzHQzFSX-z3JF4abKQ</td>\n      <td>5</td>\n      <td>1</td>\n      <td>0</td>\n      <td>1</td>\n      <td>2018-11-02 15:01:11</td>\n      <td>-1</td>\n      <td>0.229833</td>\n    </tr>\n    <tr>\n      <th>1</th>\n      <td>--4GjusuUCMh24c_oh_cEg</td>\n      <td>YOOsYiXGEtGFX_wSeZNcww</td>\n      <td>JytR7WvKyytDQNwOHUzSEg</td>\n      <td>4</td>\n      <td>1</td>\n      <td>0</td>\n      <td>0</td>\n      <td>2018-10-13 00:07:17</td>\n      <td>1</td>\n      <td>0.987487</td>\n    </tr>\n    <tr>\n      <th>2</th>\n      <td>--4RpVT5wHJ9AfnZkIC3tw</td>\n      <td>Bdw4E8jFVd6-CbhrNAJ_EA</td>\n      <td>-CfFjcCcGGDM9MVH_d42RQ</td>\n      <td>5</td>\n      <td>0</td>\n      <td>0</td>\n      <td>0</td>\n      <td>2018-10-14 04:41:42</td>\n      <td>-1</td>\n      <td>0.524751</td>\n    </tr>\n    <tr>\n      <th>3</th>\n      <td>--4vJzoC0m5h-yodXv-qCw</td>\n      <td>jm4a1GghQ4zLCN3lQGMQUQ</td>\n      <td>XMPBg6r_LqZhy9Cf-4ZJrA</td>\n      <td>2</td>\n      <td>0</td>\n      <td>0</td>\n      <td>0</td>\n      <td>2018-11-01 19:11:50</td>\n      <td>1</td>\n      <td>0.979875</td>\n    </tr>\n    <tr>\n      <th>4</th>\n      <td>--B9JxEb5gY5gAgD2BRhDQ</td>\n      <td>x_6VdQU3CIdakwHod-dNzA</td>\n      <td>Fn_IxcCtZl1EoS81sq_s9w</td>\n      <td>3</td>\n      <td>1</td>\n      <td>0</td>\n      <td>0</td>\n      <td>2018-10-31 02:01:04</td>\n      <td>1</td>\n      <td>0.662471</td>\n    </tr>\n  </tbody>\n</table>\n</div>"
     },
     "metadata": {},
     "output_type": "execute_result",
     "execution_count": 82
    }
   ],
   "source": [
    "review_test.head()"
   ],
   "metadata": {
    "collapsed": false,
    "pycharm": {
     "name": "#%%\n",
     "is_executing": false
    }
   }
  },
  {
   "cell_type": "code",
   "execution_count": 83,
   "metadata": {
    "pycharm": {
     "is_executing": false
    }
   },
   "outputs": [
    {
     "data": {
      "text/plain": "(91434, 13)"
     },
     "metadata": {},
     "output_type": "execute_result",
     "execution_count": 83
    }
   ],
   "source": [
    "review_test = review_test.assign(cuisine_av_hist = applied_test['cuisine_av_hist'],\n",
    "                                 cuisine_av_hist_bin = applied_test['cuisine_av_hist_bin'],\n",
    "                                 cuisine_av_hist_real = applied_test['cuisine_av_hist_real'])\n",
    "review_test.shape"
   ]
  },
  {
   "cell_type": "code",
   "execution_count": 84,
   "outputs": [
    {
     "data": {
      "text/plain": "                review_id                 user_id             business_id  \\\n0  ---j05qHS2X7FkXjjMKKtA  E6Aoz-3s4avfweIjziHjbA  cTbFJzHQzFSX-z3JF4abKQ   \n1  --4GjusuUCMh24c_oh_cEg  YOOsYiXGEtGFX_wSeZNcww  JytR7WvKyytDQNwOHUzSEg   \n2  --4RpVT5wHJ9AfnZkIC3tw  Bdw4E8jFVd6-CbhrNAJ_EA  -CfFjcCcGGDM9MVH_d42RQ   \n3  --4vJzoC0m5h-yodXv-qCw  jm4a1GghQ4zLCN3lQGMQUQ  XMPBg6r_LqZhy9Cf-4ZJrA   \n4  --B9JxEb5gY5gAgD2BRhDQ  x_6VdQU3CIdakwHod-dNzA  Fn_IxcCtZl1EoS81sq_s9w   \n\n   stars  useful  funny  cool                date  bin_truth_score  \\\n0      5       1      0     1 2018-11-02 15:01:11               -1   \n1      4       1      0     0 2018-10-13 00:07:17                1   \n2      5       0      0     0 2018-10-14 04:41:42               -1   \n3      2       0      0     0 2018-11-01 19:11:50                1   \n4      3       1      0     0 2018-10-31 02:01:04                1   \n\n   real_truth_score  cuisine_av_hist  cuisine_av_hist_bin  \\\n0          0.229833         4.000000             4.285714   \n1          0.987487         3.604167             3.607143   \n2          0.524751         5.000000                  NaN   \n3          0.979875              NaN                  NaN   \n4          0.662471              NaN                  NaN   \n\n   cuisine_av_hist_real  \n0              3.969038  \n1              3.610109  \n2              5.000000  \n3                   NaN  \n4                   NaN  ",
      "text/html": "<div>\n<style scoped>\n    .dataframe tbody tr th:only-of-type {\n        vertical-align: middle;\n    }\n\n    .dataframe tbody tr th {\n        vertical-align: top;\n    }\n\n    .dataframe thead th {\n        text-align: right;\n    }\n</style>\n<table border=\"1\" class=\"dataframe\">\n  <thead>\n    <tr style=\"text-align: right;\">\n      <th></th>\n      <th>review_id</th>\n      <th>user_id</th>\n      <th>business_id</th>\n      <th>stars</th>\n      <th>useful</th>\n      <th>funny</th>\n      <th>cool</th>\n      <th>date</th>\n      <th>bin_truth_score</th>\n      <th>real_truth_score</th>\n      <th>cuisine_av_hist</th>\n      <th>cuisine_av_hist_bin</th>\n      <th>cuisine_av_hist_real</th>\n    </tr>\n  </thead>\n  <tbody>\n    <tr>\n      <th>0</th>\n      <td>---j05qHS2X7FkXjjMKKtA</td>\n      <td>E6Aoz-3s4avfweIjziHjbA</td>\n      <td>cTbFJzHQzFSX-z3JF4abKQ</td>\n      <td>5</td>\n      <td>1</td>\n      <td>0</td>\n      <td>1</td>\n      <td>2018-11-02 15:01:11</td>\n      <td>-1</td>\n      <td>0.229833</td>\n      <td>4.000000</td>\n      <td>4.285714</td>\n      <td>3.969038</td>\n    </tr>\n    <tr>\n      <th>1</th>\n      <td>--4GjusuUCMh24c_oh_cEg</td>\n      <td>YOOsYiXGEtGFX_wSeZNcww</td>\n      <td>JytR7WvKyytDQNwOHUzSEg</td>\n      <td>4</td>\n      <td>1</td>\n      <td>0</td>\n      <td>0</td>\n      <td>2018-10-13 00:07:17</td>\n      <td>1</td>\n      <td>0.987487</td>\n      <td>3.604167</td>\n      <td>3.607143</td>\n      <td>3.610109</td>\n    </tr>\n    <tr>\n      <th>2</th>\n      <td>--4RpVT5wHJ9AfnZkIC3tw</td>\n      <td>Bdw4E8jFVd6-CbhrNAJ_EA</td>\n      <td>-CfFjcCcGGDM9MVH_d42RQ</td>\n      <td>5</td>\n      <td>0</td>\n      <td>0</td>\n      <td>0</td>\n      <td>2018-10-14 04:41:42</td>\n      <td>-1</td>\n      <td>0.524751</td>\n      <td>5.000000</td>\n      <td>NaN</td>\n      <td>5.000000</td>\n    </tr>\n    <tr>\n      <th>3</th>\n      <td>--4vJzoC0m5h-yodXv-qCw</td>\n      <td>jm4a1GghQ4zLCN3lQGMQUQ</td>\n      <td>XMPBg6r_LqZhy9Cf-4ZJrA</td>\n      <td>2</td>\n      <td>0</td>\n      <td>0</td>\n      <td>0</td>\n      <td>2018-11-01 19:11:50</td>\n      <td>1</td>\n      <td>0.979875</td>\n      <td>NaN</td>\n      <td>NaN</td>\n      <td>NaN</td>\n    </tr>\n    <tr>\n      <th>4</th>\n      <td>--B9JxEb5gY5gAgD2BRhDQ</td>\n      <td>x_6VdQU3CIdakwHod-dNzA</td>\n      <td>Fn_IxcCtZl1EoS81sq_s9w</td>\n      <td>3</td>\n      <td>1</td>\n      <td>0</td>\n      <td>0</td>\n      <td>2018-10-31 02:01:04</td>\n      <td>1</td>\n      <td>0.662471</td>\n      <td>NaN</td>\n      <td>NaN</td>\n      <td>NaN</td>\n    </tr>\n  </tbody>\n</table>\n</div>"
     },
     "metadata": {},
     "output_type": "execute_result",
     "execution_count": 84
    }
   ],
   "source": [
    "review_test.head()"
   ],
   "metadata": {
    "collapsed": false,
    "pycharm": {
     "name": "#%%\n",
     "is_executing": false
    }
   }
  },
  {
   "cell_type": "code",
   "execution_count": 85,
   "metadata": {
    "pycharm": {
     "is_executing": false
    }
   },
   "outputs": [],
   "source": [
    "test_set = review_test.reset_index()\n",
    "test_set.to_pickle('../dataset/m2_n9/review_test_cuisine_final.pickle')\n",
    "_del_all()"
   ]
  },
  {
   "cell_type": "markdown",
   "metadata": {},
   "source": [
    "##### 3.2.2 Training set"
   ]
  },
  {
   "cell_type": "code",
   "execution_count": 86,
   "metadata": {
    "pycharm": {
     "is_executing": false
    }
   },
   "outputs": [
    {
     "data": {
      "text/plain": "(620945, 10)"
     },
     "metadata": {},
     "output_type": "execute_result",
     "execution_count": 86
    }
   ],
   "source": [
    "review_train = _pd.read_pickle('../dataset/m2_n9/review_train.pickle')\n",
    "review_train = review_train.sort_values(by=['review_id'])\n",
    "review_train = review_train.reset_index(drop = True)\n",
    "review_train.shape"
   ]
  },
  {
   "cell_type": "code",
   "execution_count": 87,
   "outputs": [
    {
     "data": {
      "text/plain": "                review_id                 user_id             business_id  \\\n0  ---HLAnHbuLi7vd5TL6uYg  zyp8SaRnZ94sWZpLrifS1Q  l6xZVTEtdZAvNpL1JhYGuw   \n1  ---L4b6VR6HoB-q7cfMWIA  697iJkhX1mkVF9RNhn114Q  XiXu6WHbDoopKpeg7DfKdQ   \n2  ---sPYSgArT4Sd5v1nDVMQ  iVSuN8PrtKVtLzhNiu23uA  OumGHdbdp7WgyYMhcAdjhw   \n3  --0SzSMXVUoAXfackNoB4g  v9P7J6hWWtIblnylQ5UBfA  iCQpiavjjPzJ5_3gPD5Ebg   \n4  --1JMhPk6K9fZo4FOp_yMw  2xZ1mHP14as5RJ1KOrVU4A  QJatAcxYgK1Zp9BRZMAx7g   \n\n   stars  useful  funny  cool                date  bin_truth_score  \\\n0      4       0      0     0 2018-05-26 13:49:33               -1   \n1      5       3      1     2 2018-04-15 18:54:27                1   \n2      1       0      0     0 2018-07-07 15:16:09                1   \n3      5       0      0     0 2018-05-09 13:59:37                1   \n4      2       0      0     0 2018-06-16 17:00:42                1   \n\n   real_truth_score  \n0          0.595406  \n1          0.993384  \n2          0.519254  \n3          0.983368  \n4          0.866956  ",
      "text/html": "<div>\n<style scoped>\n    .dataframe tbody tr th:only-of-type {\n        vertical-align: middle;\n    }\n\n    .dataframe tbody tr th {\n        vertical-align: top;\n    }\n\n    .dataframe thead th {\n        text-align: right;\n    }\n</style>\n<table border=\"1\" class=\"dataframe\">\n  <thead>\n    <tr style=\"text-align: right;\">\n      <th></th>\n      <th>review_id</th>\n      <th>user_id</th>\n      <th>business_id</th>\n      <th>stars</th>\n      <th>useful</th>\n      <th>funny</th>\n      <th>cool</th>\n      <th>date</th>\n      <th>bin_truth_score</th>\n      <th>real_truth_score</th>\n    </tr>\n  </thead>\n  <tbody>\n    <tr>\n      <th>0</th>\n      <td>---HLAnHbuLi7vd5TL6uYg</td>\n      <td>zyp8SaRnZ94sWZpLrifS1Q</td>\n      <td>l6xZVTEtdZAvNpL1JhYGuw</td>\n      <td>4</td>\n      <td>0</td>\n      <td>0</td>\n      <td>0</td>\n      <td>2018-05-26 13:49:33</td>\n      <td>-1</td>\n      <td>0.595406</td>\n    </tr>\n    <tr>\n      <th>1</th>\n      <td>---L4b6VR6HoB-q7cfMWIA</td>\n      <td>697iJkhX1mkVF9RNhn114Q</td>\n      <td>XiXu6WHbDoopKpeg7DfKdQ</td>\n      <td>5</td>\n      <td>3</td>\n      <td>1</td>\n      <td>2</td>\n      <td>2018-04-15 18:54:27</td>\n      <td>1</td>\n      <td>0.993384</td>\n    </tr>\n    <tr>\n      <th>2</th>\n      <td>---sPYSgArT4Sd5v1nDVMQ</td>\n      <td>iVSuN8PrtKVtLzhNiu23uA</td>\n      <td>OumGHdbdp7WgyYMhcAdjhw</td>\n      <td>1</td>\n      <td>0</td>\n      <td>0</td>\n      <td>0</td>\n      <td>2018-07-07 15:16:09</td>\n      <td>1</td>\n      <td>0.519254</td>\n    </tr>\n    <tr>\n      <th>3</th>\n      <td>--0SzSMXVUoAXfackNoB4g</td>\n      <td>v9P7J6hWWtIblnylQ5UBfA</td>\n      <td>iCQpiavjjPzJ5_3gPD5Ebg</td>\n      <td>5</td>\n      <td>0</td>\n      <td>0</td>\n      <td>0</td>\n      <td>2018-05-09 13:59:37</td>\n      <td>1</td>\n      <td>0.983368</td>\n    </tr>\n    <tr>\n      <th>4</th>\n      <td>--1JMhPk6K9fZo4FOp_yMw</td>\n      <td>2xZ1mHP14as5RJ1KOrVU4A</td>\n      <td>QJatAcxYgK1Zp9BRZMAx7g</td>\n      <td>2</td>\n      <td>0</td>\n      <td>0</td>\n      <td>0</td>\n      <td>2018-06-16 17:00:42</td>\n      <td>1</td>\n      <td>0.866956</td>\n    </tr>\n  </tbody>\n</table>\n</div>"
     },
     "metadata": {},
     "output_type": "execute_result",
     "execution_count": 87
    }
   ],
   "source": [
    "review_train.head()"
   ],
   "metadata": {
    "collapsed": false,
    "pycharm": {
     "name": "#%%\n",
     "is_executing": false
    }
   }
  },
  {
   "cell_type": "code",
   "execution_count": 88,
   "metadata": {
    "pycharm": {
     "is_executing": false
    }
   },
   "outputs": [
    {
     "data": {
      "text/plain": "    cuisine             business_id\n0   Chinese  QXAEGFB4oINsVuTFxEYKFQ\n1  Japanese  gnKjwL_1w79qoiV3IC_xQQ\n2   Mexican  1Dfx3zM-rW4n-31KeC8sJg\n3   Italian  fweCYi8FmbJXHCqLnwuk8w\n4   Italian  PZ-LZzSlhSe9utkQYU8pFg",
      "text/html": "<div>\n<style scoped>\n    .dataframe tbody tr th:only-of-type {\n        vertical-align: middle;\n    }\n\n    .dataframe tbody tr th {\n        vertical-align: top;\n    }\n\n    .dataframe thead th {\n        text-align: right;\n    }\n</style>\n<table border=\"1\" class=\"dataframe\">\n  <thead>\n    <tr style=\"text-align: right;\">\n      <th></th>\n      <th>cuisine</th>\n      <th>business_id</th>\n    </tr>\n  </thead>\n  <tbody>\n    <tr>\n      <th>0</th>\n      <td>Chinese</td>\n      <td>QXAEGFB4oINsVuTFxEYKFQ</td>\n    </tr>\n    <tr>\n      <th>1</th>\n      <td>Japanese</td>\n      <td>gnKjwL_1w79qoiV3IC_xQQ</td>\n    </tr>\n    <tr>\n      <th>2</th>\n      <td>Mexican</td>\n      <td>1Dfx3zM-rW4n-31KeC8sJg</td>\n    </tr>\n    <tr>\n      <th>3</th>\n      <td>Italian</td>\n      <td>fweCYi8FmbJXHCqLnwuk8w</td>\n    </tr>\n    <tr>\n      <th>4</th>\n      <td>Italian</td>\n      <td>PZ-LZzSlhSe9utkQYU8pFg</td>\n    </tr>\n  </tbody>\n</table>\n</div>"
     },
     "metadata": {},
     "output_type": "execute_result",
     "execution_count": 88
    }
   ],
   "source": [
    "restaurants = _pd.read_pickle('../dataset/m2_n9/restaurants.pickle')\n",
    "restaurants = restaurants.reset_index(drop = True)\n",
    "restaurants = restaurants[['cuisine', 'business_id']]\n",
    "restaurants.head()"
   ]
  },
  {
   "cell_type": "code",
   "execution_count": 89,
   "metadata": {
    "pycharm": {
     "is_executing": false
    }
   },
   "outputs": [
    {
     "data": {
      "text/plain": "(620945, 11)"
     },
     "metadata": {},
     "output_type": "execute_result",
     "execution_count": 89
    }
   ],
   "source": [
    "review_train_rest = review_train.join(restaurants.set_index('business_id'), on = 'business_id')\n",
    "review_train_rest.to_pickle('../dataset/m2_n9/review_train_cuisine.pickle')\n",
    "review_train_rest.shape"
   ]
  },
  {
   "cell_type": "code",
   "execution_count": 90,
   "outputs": [
    {
     "data": {
      "text/plain": "                review_id                 user_id             business_id  \\\n0  ---HLAnHbuLi7vd5TL6uYg  zyp8SaRnZ94sWZpLrifS1Q  l6xZVTEtdZAvNpL1JhYGuw   \n1  ---L4b6VR6HoB-q7cfMWIA  697iJkhX1mkVF9RNhn114Q  XiXu6WHbDoopKpeg7DfKdQ   \n2  ---sPYSgArT4Sd5v1nDVMQ  iVSuN8PrtKVtLzhNiu23uA  OumGHdbdp7WgyYMhcAdjhw   \n3  --0SzSMXVUoAXfackNoB4g  v9P7J6hWWtIblnylQ5UBfA  iCQpiavjjPzJ5_3gPD5Ebg   \n4  --1JMhPk6K9fZo4FOp_yMw  2xZ1mHP14as5RJ1KOrVU4A  QJatAcxYgK1Zp9BRZMAx7g   \n\n   stars  useful  funny  cool                date  bin_truth_score  \\\n0      4       0      0     0 2018-05-26 13:49:33               -1   \n1      5       3      1     2 2018-04-15 18:54:27                1   \n2      1       0      0     0 2018-07-07 15:16:09                1   \n3      5       0      0     0 2018-05-09 13:59:37                1   \n4      2       0      0     0 2018-06-16 17:00:42                1   \n\n   real_truth_score                 cuisine  \n0          0.595406  Italian, Mediterranean  \n1          0.993384                  Others  \n2          0.519254                American  \n3          0.983368                  Others  \n4          0.866956                American  ",
      "text/html": "<div>\n<style scoped>\n    .dataframe tbody tr th:only-of-type {\n        vertical-align: middle;\n    }\n\n    .dataframe tbody tr th {\n        vertical-align: top;\n    }\n\n    .dataframe thead th {\n        text-align: right;\n    }\n</style>\n<table border=\"1\" class=\"dataframe\">\n  <thead>\n    <tr style=\"text-align: right;\">\n      <th></th>\n      <th>review_id</th>\n      <th>user_id</th>\n      <th>business_id</th>\n      <th>stars</th>\n      <th>useful</th>\n      <th>funny</th>\n      <th>cool</th>\n      <th>date</th>\n      <th>bin_truth_score</th>\n      <th>real_truth_score</th>\n      <th>cuisine</th>\n    </tr>\n  </thead>\n  <tbody>\n    <tr>\n      <th>0</th>\n      <td>---HLAnHbuLi7vd5TL6uYg</td>\n      <td>zyp8SaRnZ94sWZpLrifS1Q</td>\n      <td>l6xZVTEtdZAvNpL1JhYGuw</td>\n      <td>4</td>\n      <td>0</td>\n      <td>0</td>\n      <td>0</td>\n      <td>2018-05-26 13:49:33</td>\n      <td>-1</td>\n      <td>0.595406</td>\n      <td>Italian, Mediterranean</td>\n    </tr>\n    <tr>\n      <th>1</th>\n      <td>---L4b6VR6HoB-q7cfMWIA</td>\n      <td>697iJkhX1mkVF9RNhn114Q</td>\n      <td>XiXu6WHbDoopKpeg7DfKdQ</td>\n      <td>5</td>\n      <td>3</td>\n      <td>1</td>\n      <td>2</td>\n      <td>2018-04-15 18:54:27</td>\n      <td>1</td>\n      <td>0.993384</td>\n      <td>Others</td>\n    </tr>\n    <tr>\n      <th>2</th>\n      <td>---sPYSgArT4Sd5v1nDVMQ</td>\n      <td>iVSuN8PrtKVtLzhNiu23uA</td>\n      <td>OumGHdbdp7WgyYMhcAdjhw</td>\n      <td>1</td>\n      <td>0</td>\n      <td>0</td>\n      <td>0</td>\n      <td>2018-07-07 15:16:09</td>\n      <td>1</td>\n      <td>0.519254</td>\n      <td>American</td>\n    </tr>\n    <tr>\n      <th>3</th>\n      <td>--0SzSMXVUoAXfackNoB4g</td>\n      <td>v9P7J6hWWtIblnylQ5UBfA</td>\n      <td>iCQpiavjjPzJ5_3gPD5Ebg</td>\n      <td>5</td>\n      <td>0</td>\n      <td>0</td>\n      <td>0</td>\n      <td>2018-05-09 13:59:37</td>\n      <td>1</td>\n      <td>0.983368</td>\n      <td>Others</td>\n    </tr>\n    <tr>\n      <th>4</th>\n      <td>--1JMhPk6K9fZo4FOp_yMw</td>\n      <td>2xZ1mHP14as5RJ1KOrVU4A</td>\n      <td>QJatAcxYgK1Zp9BRZMAx7g</td>\n      <td>2</td>\n      <td>0</td>\n      <td>0</td>\n      <td>0</td>\n      <td>2018-06-16 17:00:42</td>\n      <td>1</td>\n      <td>0.866956</td>\n      <td>American</td>\n    </tr>\n  </tbody>\n</table>\n</div>"
     },
     "metadata": {},
     "output_type": "execute_result",
     "execution_count": 90
    }
   ],
   "source": [
    "review_train_rest.head()"
   ],
   "metadata": {
    "collapsed": false,
    "pycharm": {
     "name": "#%%\n",
     "is_executing": false
    }
   }
  },
  {
   "cell_type": "code",
   "execution_count": 91,
   "metadata": {
    "pycharm": {
     "is_executing": false
    },
    "scrolled": true
   },
   "outputs": [
    {
     "data": {
      "text/plain": "                  user_id user_name  average_stars yelping_since  review  \\\n0  l6BmjZMeQD3rDxWUbiAiow    Rashmi       3.000000    2013-10-08      95   \n1  4XChL029mKr5hydo79Ljxg     Jenna       3.500000    2013-02-21      33   \n2  bc8C_eETBWL0olvFSJJd0w     David       3.384615    2013-10-04      16   \n3  dD0gZpBctWGdWo9WlGuhlA    Angela       5.000000    2014-05-22      17   \n4  MM4RJAeH6yuaN8oZDSt0RA     Nancy       4.400000    2013-10-23     361   \n\n   years_of_elite  fans  useful  cool  funny  ...  \\\n0               3     5      84    25     17  ...   \n1               0     4      48    16     22  ...   \n2               0     0      28    10      8  ...   \n3               0     5      30    14      4  ...   \n4               4    39    1114   665    279  ...   \n\n   av_rat_chinese_cuisine_real  av_rat_japanese_cuisine_real  \\\n0                          NaN                           NaN   \n1                          NaN                           NaN   \n2                     3.399765                           NaN   \n3                          NaN                           NaN   \n4                          NaN                           NaN   \n\n   av_rat_mexican_cuisine_real  av_rat_italian_cuisine_real  \\\n0                          NaN                          4.0   \n1                          NaN                          NaN   \n2                          2.0                          NaN   \n3                          NaN                          NaN   \n4                          NaN                          NaN   \n\n   av_rat_others_cuisine_real  av_rat_american_cuisine_real  \\\n0                         2.0                      4.000000   \n1                         4.0                      3.501823   \n2                         5.0                      3.123598   \n3                         NaN                           NaN   \n4                         NaN                      4.450279   \n\n   av_rat_korean_cuisine_real  av_rat_mediterranean_cuisine_real  \\\n0                         NaN                                NaN   \n1                         NaN                                4.0   \n2                         NaN                                3.0   \n3                         NaN                                NaN   \n4                         NaN                                5.0   \n\n   av_rat_thai_cuisine_real  av_rat_asianfusion_cuisine_real  \n0                       NaN                              NaN  \n1                       NaN                              NaN  \n2                  3.632007                         1.997225  \n3                       NaN                         5.000000  \n4                  3.000000                         5.000000  \n\n[5 rows x 46 columns]",
      "text/html": "<div>\n<style scoped>\n    .dataframe tbody tr th:only-of-type {\n        vertical-align: middle;\n    }\n\n    .dataframe tbody tr th {\n        vertical-align: top;\n    }\n\n    .dataframe thead th {\n        text-align: right;\n    }\n</style>\n<table border=\"1\" class=\"dataframe\">\n  <thead>\n    <tr style=\"text-align: right;\">\n      <th></th>\n      <th>user_id</th>\n      <th>user_name</th>\n      <th>average_stars</th>\n      <th>yelping_since</th>\n      <th>review</th>\n      <th>years_of_elite</th>\n      <th>fans</th>\n      <th>useful</th>\n      <th>cool</th>\n      <th>funny</th>\n      <th>...</th>\n      <th>av_rat_chinese_cuisine_real</th>\n      <th>av_rat_japanese_cuisine_real</th>\n      <th>av_rat_mexican_cuisine_real</th>\n      <th>av_rat_italian_cuisine_real</th>\n      <th>av_rat_others_cuisine_real</th>\n      <th>av_rat_american_cuisine_real</th>\n      <th>av_rat_korean_cuisine_real</th>\n      <th>av_rat_mediterranean_cuisine_real</th>\n      <th>av_rat_thai_cuisine_real</th>\n      <th>av_rat_asianfusion_cuisine_real</th>\n    </tr>\n  </thead>\n  <tbody>\n    <tr>\n      <th>0</th>\n      <td>l6BmjZMeQD3rDxWUbiAiow</td>\n      <td>Rashmi</td>\n      <td>3.000000</td>\n      <td>2013-10-08</td>\n      <td>95</td>\n      <td>3</td>\n      <td>5</td>\n      <td>84</td>\n      <td>25</td>\n      <td>17</td>\n      <td>...</td>\n      <td>NaN</td>\n      <td>NaN</td>\n      <td>NaN</td>\n      <td>4.0</td>\n      <td>2.0</td>\n      <td>4.000000</td>\n      <td>NaN</td>\n      <td>NaN</td>\n      <td>NaN</td>\n      <td>NaN</td>\n    </tr>\n    <tr>\n      <th>1</th>\n      <td>4XChL029mKr5hydo79Ljxg</td>\n      <td>Jenna</td>\n      <td>3.500000</td>\n      <td>2013-02-21</td>\n      <td>33</td>\n      <td>0</td>\n      <td>4</td>\n      <td>48</td>\n      <td>16</td>\n      <td>22</td>\n      <td>...</td>\n      <td>NaN</td>\n      <td>NaN</td>\n      <td>NaN</td>\n      <td>NaN</td>\n      <td>4.0</td>\n      <td>3.501823</td>\n      <td>NaN</td>\n      <td>4.0</td>\n      <td>NaN</td>\n      <td>NaN</td>\n    </tr>\n    <tr>\n      <th>2</th>\n      <td>bc8C_eETBWL0olvFSJJd0w</td>\n      <td>David</td>\n      <td>3.384615</td>\n      <td>2013-10-04</td>\n      <td>16</td>\n      <td>0</td>\n      <td>0</td>\n      <td>28</td>\n      <td>10</td>\n      <td>8</td>\n      <td>...</td>\n      <td>3.399765</td>\n      <td>NaN</td>\n      <td>2.0</td>\n      <td>NaN</td>\n      <td>5.0</td>\n      <td>3.123598</td>\n      <td>NaN</td>\n      <td>3.0</td>\n      <td>3.632007</td>\n      <td>1.997225</td>\n    </tr>\n    <tr>\n      <th>3</th>\n      <td>dD0gZpBctWGdWo9WlGuhlA</td>\n      <td>Angela</td>\n      <td>5.000000</td>\n      <td>2014-05-22</td>\n      <td>17</td>\n      <td>0</td>\n      <td>5</td>\n      <td>30</td>\n      <td>14</td>\n      <td>4</td>\n      <td>...</td>\n      <td>NaN</td>\n      <td>NaN</td>\n      <td>NaN</td>\n      <td>NaN</td>\n      <td>NaN</td>\n      <td>NaN</td>\n      <td>NaN</td>\n      <td>NaN</td>\n      <td>NaN</td>\n      <td>5.000000</td>\n    </tr>\n    <tr>\n      <th>4</th>\n      <td>MM4RJAeH6yuaN8oZDSt0RA</td>\n      <td>Nancy</td>\n      <td>4.400000</td>\n      <td>2013-10-23</td>\n      <td>361</td>\n      <td>4</td>\n      <td>39</td>\n      <td>1114</td>\n      <td>665</td>\n      <td>279</td>\n      <td>...</td>\n      <td>NaN</td>\n      <td>NaN</td>\n      <td>NaN</td>\n      <td>NaN</td>\n      <td>NaN</td>\n      <td>4.450279</td>\n      <td>NaN</td>\n      <td>5.0</td>\n      <td>3.000000</td>\n      <td>5.000000</td>\n    </tr>\n  </tbody>\n</table>\n<p>5 rows × 46 columns</p>\n</div>"
     },
     "metadata": {},
     "output_type": "execute_result",
     "execution_count": 91
    }
   ],
   "source": [
    "del restaurants\n",
    "\n",
    "users = _pd.read_pickle('../dataset/m2_n9/users_2.pickle')\n",
    "users.head()"
   ]
  },
  {
   "cell_type": "code",
   "execution_count": 92,
   "metadata": {
    "pycharm": {
     "is_executing": false
    }
   },
   "outputs": [
    {
     "data": {
      "text/plain": "                  user_id  av_rat_chinese_cuisine  av_rat_japanese_cuisine  \\\n0  l6BmjZMeQD3rDxWUbiAiow                     NaN                      NaN   \n1  4XChL029mKr5hydo79Ljxg                     NaN                      NaN   \n2  bc8C_eETBWL0olvFSJJd0w                     3.5                      NaN   \n3  dD0gZpBctWGdWo9WlGuhlA                     NaN                      NaN   \n4  MM4RJAeH6yuaN8oZDSt0RA                     NaN                      NaN   \n\n   av_rat_mexican_cuisine  av_rat_italian_cuisine  av_rat_others_cuisine  \\\n0                     NaN                     4.0                    2.0   \n1                     NaN                     NaN                    4.0   \n2                     2.0                     NaN                    5.0   \n3                     NaN                     NaN                    NaN   \n4                     NaN                     NaN                    NaN   \n\n   av_rat_american_cuisine  av_rat_korean_cuisine  \\\n0                 4.000000                    NaN   \n1                 3.333333                    NaN   \n2                 3.000000                    NaN   \n3                      NaN                    NaN   \n4                 4.500000                    NaN   \n\n   av_rat_mediterranean_cuisine  av_rat_thai_cuisine  ...  \\\n0                           NaN                  NaN  ...   \n1                           4.0                  NaN  ...   \n2                           3.0             3.666667  ...   \n3                           NaN                  NaN  ...   \n4                           5.0             3.000000  ...   \n\n   av_rat_chinese_cuisine_real  av_rat_japanese_cuisine_real  \\\n0                          NaN                           NaN   \n1                          NaN                           NaN   \n2                     3.399765                           NaN   \n3                          NaN                           NaN   \n4                          NaN                           NaN   \n\n   av_rat_mexican_cuisine_real  av_rat_italian_cuisine_real  \\\n0                          NaN                          4.0   \n1                          NaN                          NaN   \n2                          2.0                          NaN   \n3                          NaN                          NaN   \n4                          NaN                          NaN   \n\n   av_rat_others_cuisine_real  av_rat_american_cuisine_real  \\\n0                         2.0                      4.000000   \n1                         4.0                      3.501823   \n2                         5.0                      3.123598   \n3                         NaN                           NaN   \n4                         NaN                      4.450279   \n\n   av_rat_korean_cuisine_real  av_rat_mediterranean_cuisine_real  \\\n0                         NaN                                NaN   \n1                         NaN                                4.0   \n2                         NaN                                3.0   \n3                         NaN                                NaN   \n4                         NaN                                5.0   \n\n   av_rat_thai_cuisine_real  av_rat_asianfusion_cuisine_real  \n0                       NaN                              NaN  \n1                       NaN                              NaN  \n2                  3.632007                         1.997225  \n3                       NaN                         5.000000  \n4                  3.000000                         5.000000  \n\n[5 rows x 31 columns]",
      "text/html": "<div>\n<style scoped>\n    .dataframe tbody tr th:only-of-type {\n        vertical-align: middle;\n    }\n\n    .dataframe tbody tr th {\n        vertical-align: top;\n    }\n\n    .dataframe thead th {\n        text-align: right;\n    }\n</style>\n<table border=\"1\" class=\"dataframe\">\n  <thead>\n    <tr style=\"text-align: right;\">\n      <th></th>\n      <th>user_id</th>\n      <th>av_rat_chinese_cuisine</th>\n      <th>av_rat_japanese_cuisine</th>\n      <th>av_rat_mexican_cuisine</th>\n      <th>av_rat_italian_cuisine</th>\n      <th>av_rat_others_cuisine</th>\n      <th>av_rat_american_cuisine</th>\n      <th>av_rat_korean_cuisine</th>\n      <th>av_rat_mediterranean_cuisine</th>\n      <th>av_rat_thai_cuisine</th>\n      <th>...</th>\n      <th>av_rat_chinese_cuisine_real</th>\n      <th>av_rat_japanese_cuisine_real</th>\n      <th>av_rat_mexican_cuisine_real</th>\n      <th>av_rat_italian_cuisine_real</th>\n      <th>av_rat_others_cuisine_real</th>\n      <th>av_rat_american_cuisine_real</th>\n      <th>av_rat_korean_cuisine_real</th>\n      <th>av_rat_mediterranean_cuisine_real</th>\n      <th>av_rat_thai_cuisine_real</th>\n      <th>av_rat_asianfusion_cuisine_real</th>\n    </tr>\n  </thead>\n  <tbody>\n    <tr>\n      <th>0</th>\n      <td>l6BmjZMeQD3rDxWUbiAiow</td>\n      <td>NaN</td>\n      <td>NaN</td>\n      <td>NaN</td>\n      <td>4.0</td>\n      <td>2.0</td>\n      <td>4.000000</td>\n      <td>NaN</td>\n      <td>NaN</td>\n      <td>NaN</td>\n      <td>...</td>\n      <td>NaN</td>\n      <td>NaN</td>\n      <td>NaN</td>\n      <td>4.0</td>\n      <td>2.0</td>\n      <td>4.000000</td>\n      <td>NaN</td>\n      <td>NaN</td>\n      <td>NaN</td>\n      <td>NaN</td>\n    </tr>\n    <tr>\n      <th>1</th>\n      <td>4XChL029mKr5hydo79Ljxg</td>\n      <td>NaN</td>\n      <td>NaN</td>\n      <td>NaN</td>\n      <td>NaN</td>\n      <td>4.0</td>\n      <td>3.333333</td>\n      <td>NaN</td>\n      <td>4.0</td>\n      <td>NaN</td>\n      <td>...</td>\n      <td>NaN</td>\n      <td>NaN</td>\n      <td>NaN</td>\n      <td>NaN</td>\n      <td>4.0</td>\n      <td>3.501823</td>\n      <td>NaN</td>\n      <td>4.0</td>\n      <td>NaN</td>\n      <td>NaN</td>\n    </tr>\n    <tr>\n      <th>2</th>\n      <td>bc8C_eETBWL0olvFSJJd0w</td>\n      <td>3.5</td>\n      <td>NaN</td>\n      <td>2.0</td>\n      <td>NaN</td>\n      <td>5.0</td>\n      <td>3.000000</td>\n      <td>NaN</td>\n      <td>3.0</td>\n      <td>3.666667</td>\n      <td>...</td>\n      <td>3.399765</td>\n      <td>NaN</td>\n      <td>2.0</td>\n      <td>NaN</td>\n      <td>5.0</td>\n      <td>3.123598</td>\n      <td>NaN</td>\n      <td>3.0</td>\n      <td>3.632007</td>\n      <td>1.997225</td>\n    </tr>\n    <tr>\n      <th>3</th>\n      <td>dD0gZpBctWGdWo9WlGuhlA</td>\n      <td>NaN</td>\n      <td>NaN</td>\n      <td>NaN</td>\n      <td>NaN</td>\n      <td>NaN</td>\n      <td>NaN</td>\n      <td>NaN</td>\n      <td>NaN</td>\n      <td>NaN</td>\n      <td>...</td>\n      <td>NaN</td>\n      <td>NaN</td>\n      <td>NaN</td>\n      <td>NaN</td>\n      <td>NaN</td>\n      <td>NaN</td>\n      <td>NaN</td>\n      <td>NaN</td>\n      <td>NaN</td>\n      <td>5.000000</td>\n    </tr>\n    <tr>\n      <th>4</th>\n      <td>MM4RJAeH6yuaN8oZDSt0RA</td>\n      <td>NaN</td>\n      <td>NaN</td>\n      <td>NaN</td>\n      <td>NaN</td>\n      <td>NaN</td>\n      <td>4.500000</td>\n      <td>NaN</td>\n      <td>5.0</td>\n      <td>3.000000</td>\n      <td>...</td>\n      <td>NaN</td>\n      <td>NaN</td>\n      <td>NaN</td>\n      <td>NaN</td>\n      <td>NaN</td>\n      <td>4.450279</td>\n      <td>NaN</td>\n      <td>5.0</td>\n      <td>3.000000</td>\n      <td>5.000000</td>\n    </tr>\n  </tbody>\n</table>\n<p>5 rows × 31 columns</p>\n</div>"
     },
     "metadata": {},
     "output_type": "execute_result",
     "execution_count": 92
    }
   ],
   "source": [
    "users = users[['user_id', 'av_rat_chinese_cuisine', 'av_rat_japanese_cuisine', 'av_rat_mexican_cuisine', 'av_rat_italian_cuisine', \n",
    "            'av_rat_others_cuisine', 'av_rat_american_cuisine', 'av_rat_korean_cuisine', 'av_rat_mediterranean_cuisine',\n",
    "            'av_rat_thai_cuisine', 'av_rat_asianfusion_cuisine',\n",
    "           \n",
    "           'av_rat_chinese_cuisine_bin', 'av_rat_japanese_cuisine_bin', 'av_rat_mexican_cuisine_bin', \n",
    "           'av_rat_italian_cuisine_bin', 'av_rat_others_cuisine_bin', 'av_rat_american_cuisine_bin', \n",
    "           'av_rat_korean_cuisine_bin', 'av_rat_mediterranean_cuisine_bin', 'av_rat_thai_cuisine_bin', \n",
    "           'av_rat_asianfusion_cuisine_bin',\n",
    "           \n",
    "           'av_rat_chinese_cuisine_real', 'av_rat_japanese_cuisine_real', 'av_rat_mexican_cuisine_real', \n",
    "           'av_rat_italian_cuisine_real', 'av_rat_others_cuisine_real', 'av_rat_american_cuisine_real', \n",
    "           'av_rat_korean_cuisine_real', 'av_rat_mediterranean_cuisine_real', 'av_rat_thai_cuisine_real', \n",
    "           'av_rat_asianfusion_cuisine_real']]\n",
    "\n",
    "users.head()"
   ]
  },
  {
   "cell_type": "code",
   "execution_count": 93,
   "metadata": {
    "pycharm": {
     "is_executing": false
    }
   },
   "outputs": [
    {
     "data": {
      "text/plain": "(620945, 41)"
     },
     "metadata": {},
     "output_type": "execute_result",
     "execution_count": 93
    }
   ],
   "source": [
    "train_join = review_train_rest.join(users.set_index('user_id'), on = 'user_id', lsuffix = '_train_revirew', rsuffix = '_users')\n",
    "train_join.shape"
   ]
  },
  {
   "cell_type": "code",
   "execution_count": 94,
   "outputs": [
    {
     "data": {
      "text/plain": "                review_id                 user_id             business_id  \\\n0  ---HLAnHbuLi7vd5TL6uYg  zyp8SaRnZ94sWZpLrifS1Q  l6xZVTEtdZAvNpL1JhYGuw   \n1  ---L4b6VR6HoB-q7cfMWIA  697iJkhX1mkVF9RNhn114Q  XiXu6WHbDoopKpeg7DfKdQ   \n2  ---sPYSgArT4Sd5v1nDVMQ  iVSuN8PrtKVtLzhNiu23uA  OumGHdbdp7WgyYMhcAdjhw   \n3  --0SzSMXVUoAXfackNoB4g  v9P7J6hWWtIblnylQ5UBfA  iCQpiavjjPzJ5_3gPD5Ebg   \n4  --1JMhPk6K9fZo4FOp_yMw  2xZ1mHP14as5RJ1KOrVU4A  QJatAcxYgK1Zp9BRZMAx7g   \n\n   stars  useful  funny  cool                date  bin_truth_score  \\\n0      4       0      0     0 2018-05-26 13:49:33               -1   \n1      5       3      1     2 2018-04-15 18:54:27                1   \n2      1       0      0     0 2018-07-07 15:16:09                1   \n3      5       0      0     0 2018-05-09 13:59:37                1   \n4      2       0      0     0 2018-06-16 17:00:42                1   \n\n   real_truth_score  ... av_rat_chinese_cuisine_real  \\\n0          0.595406  ...                         NaN   \n1          0.993384  ...                    3.821347   \n2          0.519254  ...                         NaN   \n3          0.983368  ...                         NaN   \n4          0.866956  ...                         NaN   \n\n   av_rat_japanese_cuisine_real  av_rat_mexican_cuisine_real  \\\n0                           NaN                          NaN   \n1                      2.726907                          4.0   \n2                           NaN                          NaN   \n3                           NaN                          NaN   \n4                           NaN                          4.0   \n\n   av_rat_italian_cuisine_real  av_rat_others_cuisine_real  \\\n0                          NaN                    3.022921   \n1                     3.303025                    3.039444   \n2                          NaN                         NaN   \n3                     1.000000                    1.000000   \n4                     4.507847                    5.000000   \n\n   av_rat_american_cuisine_real  av_rat_korean_cuisine_real  \\\n0                           NaN                         NaN   \n1                      3.145065                    2.847918   \n2                           NaN                         NaN   \n3                           NaN                         NaN   \n4                      2.748879                         NaN   \n\n   av_rat_mediterranean_cuisine_real  av_rat_thai_cuisine_real  \\\n0                                NaN                       NaN   \n1                           3.387395                  2.572254   \n2                                NaN                       NaN   \n3                                NaN                       NaN   \n4                                NaN                       NaN   \n\n   av_rat_asianfusion_cuisine_real  \n0                              NaN  \n1                         2.752899  \n2                              NaN  \n3                              NaN  \n4                              NaN  \n\n[5 rows x 41 columns]",
      "text/html": "<div>\n<style scoped>\n    .dataframe tbody tr th:only-of-type {\n        vertical-align: middle;\n    }\n\n    .dataframe tbody tr th {\n        vertical-align: top;\n    }\n\n    .dataframe thead th {\n        text-align: right;\n    }\n</style>\n<table border=\"1\" class=\"dataframe\">\n  <thead>\n    <tr style=\"text-align: right;\">\n      <th></th>\n      <th>review_id</th>\n      <th>user_id</th>\n      <th>business_id</th>\n      <th>stars</th>\n      <th>useful</th>\n      <th>funny</th>\n      <th>cool</th>\n      <th>date</th>\n      <th>bin_truth_score</th>\n      <th>real_truth_score</th>\n      <th>...</th>\n      <th>av_rat_chinese_cuisine_real</th>\n      <th>av_rat_japanese_cuisine_real</th>\n      <th>av_rat_mexican_cuisine_real</th>\n      <th>av_rat_italian_cuisine_real</th>\n      <th>av_rat_others_cuisine_real</th>\n      <th>av_rat_american_cuisine_real</th>\n      <th>av_rat_korean_cuisine_real</th>\n      <th>av_rat_mediterranean_cuisine_real</th>\n      <th>av_rat_thai_cuisine_real</th>\n      <th>av_rat_asianfusion_cuisine_real</th>\n    </tr>\n  </thead>\n  <tbody>\n    <tr>\n      <th>0</th>\n      <td>---HLAnHbuLi7vd5TL6uYg</td>\n      <td>zyp8SaRnZ94sWZpLrifS1Q</td>\n      <td>l6xZVTEtdZAvNpL1JhYGuw</td>\n      <td>4</td>\n      <td>0</td>\n      <td>0</td>\n      <td>0</td>\n      <td>2018-05-26 13:49:33</td>\n      <td>-1</td>\n      <td>0.595406</td>\n      <td>...</td>\n      <td>NaN</td>\n      <td>NaN</td>\n      <td>NaN</td>\n      <td>NaN</td>\n      <td>3.022921</td>\n      <td>NaN</td>\n      <td>NaN</td>\n      <td>NaN</td>\n      <td>NaN</td>\n      <td>NaN</td>\n    </tr>\n    <tr>\n      <th>1</th>\n      <td>---L4b6VR6HoB-q7cfMWIA</td>\n      <td>697iJkhX1mkVF9RNhn114Q</td>\n      <td>XiXu6WHbDoopKpeg7DfKdQ</td>\n      <td>5</td>\n      <td>3</td>\n      <td>1</td>\n      <td>2</td>\n      <td>2018-04-15 18:54:27</td>\n      <td>1</td>\n      <td>0.993384</td>\n      <td>...</td>\n      <td>3.821347</td>\n      <td>2.726907</td>\n      <td>4.0</td>\n      <td>3.303025</td>\n      <td>3.039444</td>\n      <td>3.145065</td>\n      <td>2.847918</td>\n      <td>3.387395</td>\n      <td>2.572254</td>\n      <td>2.752899</td>\n    </tr>\n    <tr>\n      <th>2</th>\n      <td>---sPYSgArT4Sd5v1nDVMQ</td>\n      <td>iVSuN8PrtKVtLzhNiu23uA</td>\n      <td>OumGHdbdp7WgyYMhcAdjhw</td>\n      <td>1</td>\n      <td>0</td>\n      <td>0</td>\n      <td>0</td>\n      <td>2018-07-07 15:16:09</td>\n      <td>1</td>\n      <td>0.519254</td>\n      <td>...</td>\n      <td>NaN</td>\n      <td>NaN</td>\n      <td>NaN</td>\n      <td>NaN</td>\n      <td>NaN</td>\n      <td>NaN</td>\n      <td>NaN</td>\n      <td>NaN</td>\n      <td>NaN</td>\n      <td>NaN</td>\n    </tr>\n    <tr>\n      <th>3</th>\n      <td>--0SzSMXVUoAXfackNoB4g</td>\n      <td>v9P7J6hWWtIblnylQ5UBfA</td>\n      <td>iCQpiavjjPzJ5_3gPD5Ebg</td>\n      <td>5</td>\n      <td>0</td>\n      <td>0</td>\n      <td>0</td>\n      <td>2018-05-09 13:59:37</td>\n      <td>1</td>\n      <td>0.983368</td>\n      <td>...</td>\n      <td>NaN</td>\n      <td>NaN</td>\n      <td>NaN</td>\n      <td>1.000000</td>\n      <td>1.000000</td>\n      <td>NaN</td>\n      <td>NaN</td>\n      <td>NaN</td>\n      <td>NaN</td>\n      <td>NaN</td>\n    </tr>\n    <tr>\n      <th>4</th>\n      <td>--1JMhPk6K9fZo4FOp_yMw</td>\n      <td>2xZ1mHP14as5RJ1KOrVU4A</td>\n      <td>QJatAcxYgK1Zp9BRZMAx7g</td>\n      <td>2</td>\n      <td>0</td>\n      <td>0</td>\n      <td>0</td>\n      <td>2018-06-16 17:00:42</td>\n      <td>1</td>\n      <td>0.866956</td>\n      <td>...</td>\n      <td>NaN</td>\n      <td>NaN</td>\n      <td>4.0</td>\n      <td>4.507847</td>\n      <td>5.000000</td>\n      <td>2.748879</td>\n      <td>NaN</td>\n      <td>NaN</td>\n      <td>NaN</td>\n      <td>NaN</td>\n    </tr>\n  </tbody>\n</table>\n<p>5 rows × 41 columns</p>\n</div>"
     },
     "metadata": {},
     "output_type": "execute_result",
     "execution_count": 94
    }
   ],
   "source": [
    "train_join.head()"
   ],
   "metadata": {
    "collapsed": false,
    "pycharm": {
     "name": "#%%\n",
     "is_executing": false
    }
   }
  },
  {
   "cell_type": "code",
   "execution_count": 95,
   "metadata": {
    "pycharm": {
     "is_executing": false
    }
   },
   "outputs": [],
   "source": [
    "train_join.to_pickle('../dataset/m2_n9/join_train_users_review.pickle')\n",
    "del users, review_train_rest"
   ]
  },
  {
   "cell_type": "code",
   "execution_count": 98,
   "metadata": {
    "pycharm": {
     "is_executing": false
    }
   },
   "outputs": [
    {
     "data": {
      "text/plain": "(620945, 4)"
     },
     "metadata": {},
     "output_type": "execute_result",
     "execution_count": 98
    }
   ],
   "source": [
    "applied_train = train_join.apply(_restaturants_users_cuisine_ratings, axis = 1)\n",
    "applied_train.shape"
   ]
  },
  {
   "cell_type": "code",
   "execution_count": 99,
   "outputs": [
    {
     "data": {
      "text/plain": "                review_id  cuisine_av_hist  cuisine_av_hist_bin  \\\n0  ---HLAnHbuLi7vd5TL6uYg              NaN                  NaN   \n1  ---L4b6VR6HoB-q7cfMWIA         3.013889             3.014925   \n2  ---sPYSgArT4Sd5v1nDVMQ              NaN                  NaN   \n3  --0SzSMXVUoAXfackNoB4g         1.000000             1.000000   \n4  --1JMhPk6K9fZo4FOp_yMw         2.750000             2.666667   \n\n   cuisine_av_hist_real  \n0                   NaN  \n1              3.039444  \n2                   NaN  \n3              1.000000  \n4              2.748879  ",
      "text/html": "<div>\n<style scoped>\n    .dataframe tbody tr th:only-of-type {\n        vertical-align: middle;\n    }\n\n    .dataframe tbody tr th {\n        vertical-align: top;\n    }\n\n    .dataframe thead th {\n        text-align: right;\n    }\n</style>\n<table border=\"1\" class=\"dataframe\">\n  <thead>\n    <tr style=\"text-align: right;\">\n      <th></th>\n      <th>review_id</th>\n      <th>cuisine_av_hist</th>\n      <th>cuisine_av_hist_bin</th>\n      <th>cuisine_av_hist_real</th>\n    </tr>\n  </thead>\n  <tbody>\n    <tr>\n      <th>0</th>\n      <td>---HLAnHbuLi7vd5TL6uYg</td>\n      <td>NaN</td>\n      <td>NaN</td>\n      <td>NaN</td>\n    </tr>\n    <tr>\n      <th>1</th>\n      <td>---L4b6VR6HoB-q7cfMWIA</td>\n      <td>3.013889</td>\n      <td>3.014925</td>\n      <td>3.039444</td>\n    </tr>\n    <tr>\n      <th>2</th>\n      <td>---sPYSgArT4Sd5v1nDVMQ</td>\n      <td>NaN</td>\n      <td>NaN</td>\n      <td>NaN</td>\n    </tr>\n    <tr>\n      <th>3</th>\n      <td>--0SzSMXVUoAXfackNoB4g</td>\n      <td>1.000000</td>\n      <td>1.000000</td>\n      <td>1.000000</td>\n    </tr>\n    <tr>\n      <th>4</th>\n      <td>--1JMhPk6K9fZo4FOp_yMw</td>\n      <td>2.750000</td>\n      <td>2.666667</td>\n      <td>2.748879</td>\n    </tr>\n  </tbody>\n</table>\n</div>"
     },
     "metadata": {},
     "output_type": "execute_result",
     "execution_count": 99
    }
   ],
   "source": [
    "applied_train = applied_train.sort_values(by=['review_id'])\n",
    "applied_train = applied_train.reset_index(drop = True)\n",
    "applied_train.head()"
   ],
   "metadata": {
    "collapsed": false,
    "pycharm": {
     "name": "#%%\n",
     "is_executing": false
    }
   }
  },
  {
   "cell_type": "code",
   "execution_count": 100,
   "metadata": {
    "pycharm": {
     "is_executing": false
    }
   },
   "outputs": [],
   "source": [
    "applied_train.to_pickle('../dataset/m2_n9/applied_train_users_review.pickle')"
   ]
  },
  {
   "cell_type": "code",
   "execution_count": 101,
   "outputs": [
    {
     "data": {
      "text/plain": "(620945, 10)"
     },
     "metadata": {},
     "output_type": "execute_result",
     "execution_count": 101
    }
   ],
   "source": [
    "review_train.shape"
   ],
   "metadata": {
    "collapsed": false,
    "pycharm": {
     "name": "#%%\n",
     "is_executing": false
    }
   }
  },
  {
   "cell_type": "code",
   "execution_count": 102,
   "outputs": [
    {
     "data": {
      "text/plain": "                review_id                 user_id             business_id  \\\n0  ---HLAnHbuLi7vd5TL6uYg  zyp8SaRnZ94sWZpLrifS1Q  l6xZVTEtdZAvNpL1JhYGuw   \n1  ---L4b6VR6HoB-q7cfMWIA  697iJkhX1mkVF9RNhn114Q  XiXu6WHbDoopKpeg7DfKdQ   \n2  ---sPYSgArT4Sd5v1nDVMQ  iVSuN8PrtKVtLzhNiu23uA  OumGHdbdp7WgyYMhcAdjhw   \n3  --0SzSMXVUoAXfackNoB4g  v9P7J6hWWtIblnylQ5UBfA  iCQpiavjjPzJ5_3gPD5Ebg   \n4  --1JMhPk6K9fZo4FOp_yMw  2xZ1mHP14as5RJ1KOrVU4A  QJatAcxYgK1Zp9BRZMAx7g   \n\n   stars  useful  funny  cool                date  bin_truth_score  \\\n0      4       0      0     0 2018-05-26 13:49:33               -1   \n1      5       3      1     2 2018-04-15 18:54:27                1   \n2      1       0      0     0 2018-07-07 15:16:09                1   \n3      5       0      0     0 2018-05-09 13:59:37                1   \n4      2       0      0     0 2018-06-16 17:00:42                1   \n\n   real_truth_score  \n0          0.595406  \n1          0.993384  \n2          0.519254  \n3          0.983368  \n4          0.866956  ",
      "text/html": "<div>\n<style scoped>\n    .dataframe tbody tr th:only-of-type {\n        vertical-align: middle;\n    }\n\n    .dataframe tbody tr th {\n        vertical-align: top;\n    }\n\n    .dataframe thead th {\n        text-align: right;\n    }\n</style>\n<table border=\"1\" class=\"dataframe\">\n  <thead>\n    <tr style=\"text-align: right;\">\n      <th></th>\n      <th>review_id</th>\n      <th>user_id</th>\n      <th>business_id</th>\n      <th>stars</th>\n      <th>useful</th>\n      <th>funny</th>\n      <th>cool</th>\n      <th>date</th>\n      <th>bin_truth_score</th>\n      <th>real_truth_score</th>\n    </tr>\n  </thead>\n  <tbody>\n    <tr>\n      <th>0</th>\n      <td>---HLAnHbuLi7vd5TL6uYg</td>\n      <td>zyp8SaRnZ94sWZpLrifS1Q</td>\n      <td>l6xZVTEtdZAvNpL1JhYGuw</td>\n      <td>4</td>\n      <td>0</td>\n      <td>0</td>\n      <td>0</td>\n      <td>2018-05-26 13:49:33</td>\n      <td>-1</td>\n      <td>0.595406</td>\n    </tr>\n    <tr>\n      <th>1</th>\n      <td>---L4b6VR6HoB-q7cfMWIA</td>\n      <td>697iJkhX1mkVF9RNhn114Q</td>\n      <td>XiXu6WHbDoopKpeg7DfKdQ</td>\n      <td>5</td>\n      <td>3</td>\n      <td>1</td>\n      <td>2</td>\n      <td>2018-04-15 18:54:27</td>\n      <td>1</td>\n      <td>0.993384</td>\n    </tr>\n    <tr>\n      <th>2</th>\n      <td>---sPYSgArT4Sd5v1nDVMQ</td>\n      <td>iVSuN8PrtKVtLzhNiu23uA</td>\n      <td>OumGHdbdp7WgyYMhcAdjhw</td>\n      <td>1</td>\n      <td>0</td>\n      <td>0</td>\n      <td>0</td>\n      <td>2018-07-07 15:16:09</td>\n      <td>1</td>\n      <td>0.519254</td>\n    </tr>\n    <tr>\n      <th>3</th>\n      <td>--0SzSMXVUoAXfackNoB4g</td>\n      <td>v9P7J6hWWtIblnylQ5UBfA</td>\n      <td>iCQpiavjjPzJ5_3gPD5Ebg</td>\n      <td>5</td>\n      <td>0</td>\n      <td>0</td>\n      <td>0</td>\n      <td>2018-05-09 13:59:37</td>\n      <td>1</td>\n      <td>0.983368</td>\n    </tr>\n    <tr>\n      <th>4</th>\n      <td>--1JMhPk6K9fZo4FOp_yMw</td>\n      <td>2xZ1mHP14as5RJ1KOrVU4A</td>\n      <td>QJatAcxYgK1Zp9BRZMAx7g</td>\n      <td>2</td>\n      <td>0</td>\n      <td>0</td>\n      <td>0</td>\n      <td>2018-06-16 17:00:42</td>\n      <td>1</td>\n      <td>0.866956</td>\n    </tr>\n  </tbody>\n</table>\n</div>"
     },
     "metadata": {},
     "output_type": "execute_result",
     "execution_count": 102
    }
   ],
   "source": [
    "review_train.head()"
   ],
   "metadata": {
    "collapsed": false,
    "pycharm": {
     "name": "#%%\n",
     "is_executing": false
    }
   }
  },
  {
   "cell_type": "code",
   "execution_count": 103,
   "metadata": {
    "pycharm": {
     "is_executing": false
    }
   },
   "outputs": [
    {
     "data": {
      "text/plain": "(620945, 12)"
     },
     "metadata": {},
     "output_type": "execute_result",
     "execution_count": 103
    }
   ],
   "source": [
    "review_train = review_train.assign(cuisine_av_hist = applied_train['cuisine_av_hist'],\n",
    "                                   cuisine_av_hist_bin = applied_train['cuisine_av_hist_bin'],\n",
    "                                   cuisine_av_hist_real = applied_train['cuisine_av_hist_real'])\n",
    "review_train = review_train.set_index('review_id')\n",
    "review_train.shape"
   ]
  },
  {
   "cell_type": "code",
   "execution_count": 104,
   "outputs": [
    {
     "data": {
      "text/plain": "                                       user_id             business_id  stars  \\\nreview_id                                                                       \n---HLAnHbuLi7vd5TL6uYg  zyp8SaRnZ94sWZpLrifS1Q  l6xZVTEtdZAvNpL1JhYGuw      4   \n---L4b6VR6HoB-q7cfMWIA  697iJkhX1mkVF9RNhn114Q  XiXu6WHbDoopKpeg7DfKdQ      5   \n---sPYSgArT4Sd5v1nDVMQ  iVSuN8PrtKVtLzhNiu23uA  OumGHdbdp7WgyYMhcAdjhw      1   \n--0SzSMXVUoAXfackNoB4g  v9P7J6hWWtIblnylQ5UBfA  iCQpiavjjPzJ5_3gPD5Ebg      5   \n--1JMhPk6K9fZo4FOp_yMw  2xZ1mHP14as5RJ1KOrVU4A  QJatAcxYgK1Zp9BRZMAx7g      2   \n\n                        useful  funny  cool                date  \\\nreview_id                                                         \n---HLAnHbuLi7vd5TL6uYg       0      0     0 2018-05-26 13:49:33   \n---L4b6VR6HoB-q7cfMWIA       3      1     2 2018-04-15 18:54:27   \n---sPYSgArT4Sd5v1nDVMQ       0      0     0 2018-07-07 15:16:09   \n--0SzSMXVUoAXfackNoB4g       0      0     0 2018-05-09 13:59:37   \n--1JMhPk6K9fZo4FOp_yMw       0      0     0 2018-06-16 17:00:42   \n\n                        bin_truth_score  real_truth_score  cuisine_av_hist  \\\nreview_id                                                                    \n---HLAnHbuLi7vd5TL6uYg               -1          0.595406              NaN   \n---L4b6VR6HoB-q7cfMWIA                1          0.993384         3.013889   \n---sPYSgArT4Sd5v1nDVMQ                1          0.519254              NaN   \n--0SzSMXVUoAXfackNoB4g                1          0.983368         1.000000   \n--1JMhPk6K9fZo4FOp_yMw                1          0.866956         2.750000   \n\n                        cuisine_av_hist_bin  cuisine_av_hist_real  \nreview_id                                                          \n---HLAnHbuLi7vd5TL6uYg                  NaN                   NaN  \n---L4b6VR6HoB-q7cfMWIA             3.014925              3.039444  \n---sPYSgArT4Sd5v1nDVMQ                  NaN                   NaN  \n--0SzSMXVUoAXfackNoB4g             1.000000              1.000000  \n--1JMhPk6K9fZo4FOp_yMw             2.666667              2.748879  ",
      "text/html": "<div>\n<style scoped>\n    .dataframe tbody tr th:only-of-type {\n        vertical-align: middle;\n    }\n\n    .dataframe tbody tr th {\n        vertical-align: top;\n    }\n\n    .dataframe thead th {\n        text-align: right;\n    }\n</style>\n<table border=\"1\" class=\"dataframe\">\n  <thead>\n    <tr style=\"text-align: right;\">\n      <th></th>\n      <th>user_id</th>\n      <th>business_id</th>\n      <th>stars</th>\n      <th>useful</th>\n      <th>funny</th>\n      <th>cool</th>\n      <th>date</th>\n      <th>bin_truth_score</th>\n      <th>real_truth_score</th>\n      <th>cuisine_av_hist</th>\n      <th>cuisine_av_hist_bin</th>\n      <th>cuisine_av_hist_real</th>\n    </tr>\n    <tr>\n      <th>review_id</th>\n      <th></th>\n      <th></th>\n      <th></th>\n      <th></th>\n      <th></th>\n      <th></th>\n      <th></th>\n      <th></th>\n      <th></th>\n      <th></th>\n      <th></th>\n      <th></th>\n    </tr>\n  </thead>\n  <tbody>\n    <tr>\n      <th>---HLAnHbuLi7vd5TL6uYg</th>\n      <td>zyp8SaRnZ94sWZpLrifS1Q</td>\n      <td>l6xZVTEtdZAvNpL1JhYGuw</td>\n      <td>4</td>\n      <td>0</td>\n      <td>0</td>\n      <td>0</td>\n      <td>2018-05-26 13:49:33</td>\n      <td>-1</td>\n      <td>0.595406</td>\n      <td>NaN</td>\n      <td>NaN</td>\n      <td>NaN</td>\n    </tr>\n    <tr>\n      <th>---L4b6VR6HoB-q7cfMWIA</th>\n      <td>697iJkhX1mkVF9RNhn114Q</td>\n      <td>XiXu6WHbDoopKpeg7DfKdQ</td>\n      <td>5</td>\n      <td>3</td>\n      <td>1</td>\n      <td>2</td>\n      <td>2018-04-15 18:54:27</td>\n      <td>1</td>\n      <td>0.993384</td>\n      <td>3.013889</td>\n      <td>3.014925</td>\n      <td>3.039444</td>\n    </tr>\n    <tr>\n      <th>---sPYSgArT4Sd5v1nDVMQ</th>\n      <td>iVSuN8PrtKVtLzhNiu23uA</td>\n      <td>OumGHdbdp7WgyYMhcAdjhw</td>\n      <td>1</td>\n      <td>0</td>\n      <td>0</td>\n      <td>0</td>\n      <td>2018-07-07 15:16:09</td>\n      <td>1</td>\n      <td>0.519254</td>\n      <td>NaN</td>\n      <td>NaN</td>\n      <td>NaN</td>\n    </tr>\n    <tr>\n      <th>--0SzSMXVUoAXfackNoB4g</th>\n      <td>v9P7J6hWWtIblnylQ5UBfA</td>\n      <td>iCQpiavjjPzJ5_3gPD5Ebg</td>\n      <td>5</td>\n      <td>0</td>\n      <td>0</td>\n      <td>0</td>\n      <td>2018-05-09 13:59:37</td>\n      <td>1</td>\n      <td>0.983368</td>\n      <td>1.000000</td>\n      <td>1.000000</td>\n      <td>1.000000</td>\n    </tr>\n    <tr>\n      <th>--1JMhPk6K9fZo4FOp_yMw</th>\n      <td>2xZ1mHP14as5RJ1KOrVU4A</td>\n      <td>QJatAcxYgK1Zp9BRZMAx7g</td>\n      <td>2</td>\n      <td>0</td>\n      <td>0</td>\n      <td>0</td>\n      <td>2018-06-16 17:00:42</td>\n      <td>1</td>\n      <td>0.866956</td>\n      <td>2.750000</td>\n      <td>2.666667</td>\n      <td>2.748879</td>\n    </tr>\n  </tbody>\n</table>\n</div>"
     },
     "metadata": {},
     "output_type": "execute_result",
     "execution_count": 104
    }
   ],
   "source": [
    "review_train.head()"
   ],
   "metadata": {
    "collapsed": false,
    "pycharm": {
     "name": "#%%\n",
     "is_executing": false
    }
   }
  },
  {
   "cell_type": "code",
   "execution_count": 105,
   "metadata": {
    "pycharm": {
     "is_executing": false
    }
   },
   "outputs": [],
   "source": [
    "train_set = review_train.reset_index()\n",
    "train_set.to_pickle('../dataset/m2_n9/review_train_cuisine_final.pickle')\n",
    "_del_all()"
   ]
  },
  {
   "cell_type": "code",
   "execution_count": null,
   "metadata": {},
   "outputs": [],
   "source": []
  }
 ],
 "metadata": {
  "kernelspec": {
   "display_name": "Python 3",
   "language": "python",
   "name": "python3"
  },
  "language_info": {
   "codemirror_mode": {
    "name": "ipython",
    "version": 3
   },
   "file_extension": ".py",
   "mimetype": "text/x-python",
   "name": "python",
   "nbconvert_exporter": "python",
   "pygments_lexer": "ipython3",
   "version": "3.7.3"
  },
  "pycharm": {
   "stem_cell": {
    "cell_type": "raw",
    "source": [],
    "metadata": {
     "collapsed": false
    }
   }
  }
 },
 "nbformat": 4,
 "nbformat_minor": 1
}