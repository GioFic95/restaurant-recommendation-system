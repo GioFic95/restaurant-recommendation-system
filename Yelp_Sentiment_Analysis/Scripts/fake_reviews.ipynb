{
 "cells": [
  {
   "cell_type": "code",
   "execution_count": 40,
   "metadata": {},
   "outputs": [],
   "source": [
    "from datetime import datetime\n",
    " \n",
    "from keras.layers import Embedding, LSTM, Dense, Conv1D, MaxPooling1D, Dropout, Activation\n",
    "from keras.models import Sequential\n",
    "from keras.preprocessing.text import Tokenizer\n",
    "from keras.preprocessing.sequence import pad_sequences\n",
    "\n",
    "from sklearn.svm import LinearSVC\n",
    "from sklearn.feature_extraction.text import TfidfVectorizer\n",
    "from sklearn.model_selection import cross_val_score\n",
    "from sklearn.model_selection import train_test_split\n",
    "from sklearn.metrics import roc_curve, auc, accuracy_score, confusion_matrix, classification_report\n",
    "\n",
    "import numpy as np\n",
    "import pandas as pd\n",
    "import matplotlib.pyplot as plt \n",
    "import joblib as jl"
   ]
  },
  {
   "cell_type": "code",
   "execution_count": 4,
   "metadata": {},
   "outputs": [
    {
     "data": {
      "text/html": [
       "<div>\n",
       "<style scoped>\n",
       "    .dataframe tbody tr th:only-of-type {\n",
       "        vertical-align: middle;\n",
       "    }\n",
       "\n",
       "    .dataframe tbody tr th {\n",
       "        vertical-align: top;\n",
       "    }\n",
       "\n",
       "    .dataframe thead th {\n",
       "        text-align: right;\n",
       "    }\n",
       "</style>\n",
       "<table border=\"1\" class=\"dataframe\">\n",
       "  <thead>\n",
       "    <tr style=\"text-align: right;\">\n",
       "      <th></th>\n",
       "      <th>label</th>\n",
       "      <th>review</th>\n",
       "    </tr>\n",
       "  </thead>\n",
       "  <tbody>\n",
       "    <tr>\n",
       "      <th>0</th>\n",
       "      <td>-1</td>\n",
       "      <td>Drinks were bad, the hot chocolate was watered...</td>\n",
       "    </tr>\n",
       "    <tr>\n",
       "      <th>1</th>\n",
       "      <td>-1</td>\n",
       "      <td>This was the worst experience I've ever had a ...</td>\n",
       "    </tr>\n",
       "    <tr>\n",
       "      <th>2</th>\n",
       "      <td>-1</td>\n",
       "      <td>This is located on the site of the old Spruce ...</td>\n",
       "    </tr>\n",
       "    <tr>\n",
       "      <th>3</th>\n",
       "      <td>-1</td>\n",
       "      <td>I enjoyed coffee and breakfast twice at Toast ...</td>\n",
       "    </tr>\n",
       "    <tr>\n",
       "      <th>4</th>\n",
       "      <td>-1</td>\n",
       "      <td>I love Toast! The food choices are fantastic -...</td>\n",
       "    </tr>\n",
       "  </tbody>\n",
       "</table>\n",
       "</div>"
      ],
      "text/plain": [
       "   label                                             review\n",
       "0     -1  Drinks were bad, the hot chocolate was watered...\n",
       "1     -1  This was the worst experience I've ever had a ...\n",
       "2     -1  This is located on the site of the old Spruce ...\n",
       "3     -1  I enjoyed coffee and breakfast twice at Toast ...\n",
       "4     -1  I love Toast! The food choices are fantastic -..."
      ]
     },
     "execution_count": 4,
     "metadata": {},
     "output_type": "execute_result"
    }
   ],
   "source": [
    "reviewContent = pd.read_table(\"../data/YelpZip/reviewContent\",names=[\"user_id\",\"name\",\"date\",\"review\"])\n",
    "df_review = pd.DataFrame(reviewContent)\n",
    "\n",
    "metadata = pd.read_table(\"../data/YelpZip/metadata\",names=[\"user_id\", \"prod_id\", \"rating\", \"label\", \"date\"])\n",
    "df_metadata = pd.DataFrame(metadata)\n",
    "\n",
    "combine = pd.concat([df_review,df_metadata],axis=1,join=\"inner\")#, join_axes=[df_reviewGraph.user_id])\n",
    "combine = combine.dropna()\n",
    "\n",
    "train = combine[[\"label\",\"review\"]] # add date later\n",
    "train.head()"
   ]
  },
  {
   "cell_type": "code",
   "execution_count": 5,
   "metadata": {},
   "outputs": [],
   "source": [
    "# Make duplicates of negative samples to balance the data set\n",
    "train1 = pd.concat([train[train[\"label\"]==-1],train],axis=0)\n",
    "train2 = pd.concat([train[train[\"label\"]==-1],train1],axis=0)\n",
    "train3 = pd.concat([train[train[\"label\"]==-1],train2],axis=0)\n",
    "balanced_train = pd.concat([train[train[\"label\"]==-1],train3],axis=0)"
   ]
  },
  {
   "cell_type": "markdown",
   "metadata": {},
   "source": [
    "# Convulotional Neural Networks"
   ]
  },
  {
   "cell_type": "code",
   "execution_count": 6,
   "metadata": {},
   "outputs": [],
   "source": [
    "# a list contains each review as a list \n",
    "balanced_texts = []\n",
    "balanced_labels = []\n",
    "\n",
    "for i in range(len(train)):\n",
    "    balanced_texts.append(train.iloc[i,1])\n",
    "    balanced_labels.append(train.iloc[i,0])"
   ]
  },
  {
   "cell_type": "code",
   "execution_count": 7,
   "metadata": {},
   "outputs": [],
   "source": [
    "# choose the first 20000 common words and set vector size as 500\n",
    "tokenizer = Tokenizer(num_words=20000)#20000\n",
    "tokenizer.fit_on_texts(balanced_texts)\n",
    "sequences = tokenizer.texts_to_sequences(balanced_texts)\n",
    "data = pad_sequences(sequences, maxlen=500)#300"
   ]
  },
  {
   "cell_type": "code",
   "execution_count": 8,
   "metadata": {},
   "outputs": [],
   "source": [
    "# build model and add layers\n",
    "model = Sequential()\n",
    "model.add(Embedding(20000, 128, input_length=500))#20000 300\n",
    "model.add(Dropout(0.2))\n",
    "model.add(Conv1D(64, 5, activation='relu'))\n",
    "model.add(MaxPooling1D(pool_size=4))\n",
    "model.add(LSTM(128))\n",
    "model.add(Dense(1, activation='sigmoid'))\n",
    "model.compile(loss='binary_crossentropy', optimizer='adam', metrics=['accuracy'])"
   ]
  },
  {
   "cell_type": "code",
   "execution_count": 9,
   "metadata": {},
   "outputs": [],
   "source": [
    "# split data into training and testing sets\n",
    "X_train, X_test, y_train, y_test = train_test_split(data, np.array(balanced_labels), test_size=0.3)"
   ]
  },
  {
   "cell_type": "code",
   "execution_count": 21,
   "metadata": {},
   "outputs": [
    {
     "name": "stdout",
     "output_type": "stream",
     "text": [
      "Epoch 1/1\n",
      "425920/425920 [==============================] - 541s 1ms/step - loss: 0.4875 - acc: 0.8102\n"
     ]
    },
    {
     "data": {
      "text/plain": [
       "<keras.callbacks.History at 0x246ce55bd68>"
      ]
     },
     "execution_count": 21,
     "metadata": {},
     "output_type": "execute_result"
    }
   ],
   "source": [
    "# fit model\n",
    "#model.fit(data, np.array(balanced_labels), validation_split=0.4, batch_size=200, epochs=3)\n",
    "model.fit(X_train, y_train, batch_size=200, batch_size=200, epochs=3)"
   ]
  },
  {
   "cell_type": "code",
   "execution_count": 22,
   "metadata": {},
   "outputs": [],
   "source": [
    "from sklearn.preprocessing import binarize\n",
    "\n",
    "model_pred = model.predict(X_test)"
   ]
  },
  {
   "cell_type": "code",
   "execution_count": 23,
   "metadata": {},
   "outputs": [],
   "source": [
    "class_pred = binarize(model_pred, threshold=0.5)"
   ]
  },
  {
   "cell_type": "code",
   "execution_count": 28,
   "metadata": {},
   "outputs": [],
   "source": [
    "model.save(\"../../models/fake_review_tf_model.h5\")"
   ]
  },
  {
   "cell_type": "code",
   "execution_count": 25,
   "metadata": {},
   "outputs": [],
   "source": [
    "for i in range(len(class_pred)):\n",
    "    if class_pred[i] == 0:\n",
    "        class_pred[i] = -1"
   ]
  },
  {
   "cell_type": "code",
   "execution_count": 32,
   "metadata": {},
   "outputs": [
    {
     "name": "stdout",
     "output_type": "stream",
     "text": [
      "Report for CNN models:\n",
      "              precision    recall  f1-score   support\n",
      "\n",
      "          -1       0.32      0.27      0.30     24227\n",
      "           1       0.89      0.91      0.90    158311\n",
      "\n",
      "   micro avg       0.83      0.83      0.83    182538\n",
      "   macro avg       0.61      0.59      0.60    182538\n",
      "weighted avg       0.82      0.83      0.82    182538\n",
      "\n",
      "Accuracy for lr % : 82.82494603863306\n"
     ]
    }
   ],
   "source": [
    "print(\"Report for CNN models:\")\n",
    "print(classification_report(y_test, class_pred))\n",
    "\n",
    "print(\"Accuracy for lr % :\", accuracy_score(y_test, class_pred)*100)\n"
   ]
  },
  {
   "cell_type": "code",
   "execution_count": 33,
   "metadata": {},
   "outputs": [
    {
     "data": {
      "image/png": "[encoded data removed]",
      "text/plain": [
       "<Figure size 432x288 with 1 Axes>"
      ]
     },
     "metadata": {
      "needs_background": "light"
     },
     "output_type": "display_data"
    }
   ],
   "source": [
    "plt.hist(model_pred)\n",
    "plt.show()"
   ]
  },
  {
   "cell_type": "code",
   "execution_count": 34,
   "metadata": {},
   "outputs": [
    {
     "name": "stdout",
     "output_type": "stream",
     "text": [
      "Confusion Matrix for CNN: \n"
     ]
    },
    {
     "data": {
      "text/plain": [
       "array([[  6561,  17666],\n",
       "       [ 13685, 144626]], dtype=int64)"
      ]
     },
     "execution_count": 34,
     "metadata": {},
     "output_type": "execute_result"
    }
   ],
   "source": [
    "# Confusion matrix for CNN\n",
    "print(\"Confusion Matrix for CNN: \")\n",
    "confusion_matrix(y_test,class_pred)"
   ]
  },
  {
   "cell_type": "markdown",
   "metadata": {},
   "source": [
    "# Support Vector Machine"
   ]
  },
  {
   "cell_type": "code",
   "execution_count": 35,
   "metadata": {},
   "outputs": [],
   "source": [
    "# a list contains each review as a list \n",
    "svc_texts = []\n",
    "svc_labels = []\n",
    "\n",
    "for i in range(len(balanced_train)):\n",
    "    svc_texts.append(balanced_train.iloc[i,1])\n",
    "    svc_labels.append(balanced_train.iloc[i,0])"
   ]
  },
  {
   "cell_type": "code",
   "execution_count": 36,
   "metadata": {},
   "outputs": [
    {
     "name": "stdout",
     "output_type": "stream",
     "text": [
      "0:03:51.287015\n",
      "(930302, 1832756)\n",
      "0:09:45.887177\n",
      "[0.81257094 0.80957756]\n",
      "0.8110742500893378\n"
     ]
    }
   ],
   "source": [
    "# data preproccsing and fit Support Vector Machine\n",
    "t1 = datetime.now()\n",
    "vectorizer = TfidfVectorizer(ngram_range=(1,2), min_df=3)\n",
    "svc_classifier = LinearSVC()\n",
    "Xs = vectorizer.fit_transform(svc_texts)\n",
    " \n",
    "print(datetime.now() - t1)\n",
    "print(Xs.shape)\n",
    " \n",
    "score = cross_val_score(svc_classifier, Xs,svc_labels, cv=2, n_jobs=-1)\n",
    "\n",
    "print(datetime.now() - t1)\n",
    "print(score)\n",
    "print(sum(score) / len(score))"
   ]
  },
  {
   "cell_type": "code",
   "execution_count": 37,
   "metadata": {},
   "outputs": [],
   "source": [
    "# split data into training and testing sets\n",
    "Xs_train, Xs_test, ys_train, ys_test = train_test_split(Xs, np.array(svc_labels), test_size=0.4)"
   ]
  },
  {
   "cell_type": "code",
   "execution_count": 41,
   "metadata": {},
   "outputs": [],
   "source": [
    "svc_classifier.fit(Xs_train, ys_train)\n",
    "\n",
    "svc_pred = svc_classifier.predict(Xs_test)"
   ]
  },
  {
   "cell_type": "code",
   "execution_count": 42,
   "metadata": {},
   "outputs": [
    {
     "data": {
      "text/plain": [
       "['tfidf_vectorizer.pickle']"
      ]
     },
     "execution_count": 42,
     "metadata": {},
     "output_type": "execute_result"
    }
   ],
   "source": [
    "jl.dump(svc_classifier, '../../models/fake_review_svc_model.joblib')   # svc = load('fake_review_svc_model.joblib')\n",
    "jl.dump(vectorizer, \"../../models/tfidf_vectorizer.joblib\")"
   ]
  },
  {
   "cell_type": "code",
   "execution_count": 44,
   "metadata": {},
   "outputs": [
    {
     "name": "stdout",
     "output_type": "stream",
     "text": [
      "Report for Support Vector Machine:\n",
      "              precision    recall  f1-score   support\n",
      "\n",
      "          -1       0.84      0.95      0.89    161016\n",
      "           1       0.96      0.86      0.91    211105\n",
      "\n",
      "   micro avg       0.90      0.90      0.90    372121\n",
      "   macro avg       0.90      0.91      0.90    372121\n",
      "weighted avg       0.91      0.90      0.90    372121\n",
      "\n",
      "Accuracy for lr % : 89.99142751954338\n"
     ]
    }
   ],
   "source": [
    "print(\"Report for Support Vector Machine:\")\n",
    "print(classification_report(ys_test, svc_pred))\n",
    "\n",
    "print(\"Accuracy for lr % :\", accuracy_score(ys_test, svc_pred)*100)"
   ]
  },
  {
   "cell_type": "code",
   "execution_count": 45,
   "metadata": {},
   "outputs": [
    {
     "data": {
      "image/png": "[encoded data removed]",
      "text/plain": [
       "<Figure size 432x288 with 1 Axes>"
      ]
     },
     "metadata": {
      "needs_background": "light"
     },
     "output_type": "display_data"
    }
   ],
   "source": [
    "#draw ROC curve\n",
    "fpr, tpr, thresholds = roc_curve(ys_test,svc_pred)\n",
    "\n",
    "plt.plot(fpr,tpr)\n",
    "plt.xlim([0.0,1.0])\n",
    "plt.ylim([0.0,1.0])\n",
    "\n",
    "plt.title(\"Deceptive Review Dection SVM\")\n",
    "plt.xlabel(\"False Positive\")\n",
    "plt.ylabel(\"True Positive\")\n",
    "\n",
    "plt.grid(True)\n",
    "plt.show()"
   ]
  },
  {
   "cell_type": "code",
   "execution_count": 46,
   "metadata": {},
   "outputs": [
    {
     "name": "stderr",
     "output_type": "stream",
     "text": [
      "C:\\Users\\super\\Anaconda3\\envs\\tf-gpu\\lib\\site-packages\\sklearn\\model_selection\\_split.py:2053: FutureWarning: You should specify a value for 'cv' instead of relying on the default value. The default value will change from 3 to 5 in version 0.22.\n",
      "  warnings.warn(CV_WARNING, FutureWarning)\n"
     ]
    },
    {
     "data": {
      "image/png": "[encoded data removed]",
      "text/plain": [
       "<Figure size 432x288 with 1 Axes>"
      ]
     },
     "metadata": {
      "needs_background": "light"
     },
     "output_type": "display_data"
    }
   ],
   "source": [
    "from sklearn.calibration import CalibratedClassifierCV\n",
    "\n",
    "svc_to_proba = CalibratedClassifierCV(svc_classifier, cv=10)\n",
    "\n",
    "svc_to_proba.fit(Xs_train, ys_train)\n",
    "\n",
    "svc_proba = svc_to_proba.predict_proba(Xs_test)\n",
    "\n",
    "#probability distribution of support vector machine prediction\n",
    "\n",
    "plt.hist(svc_proba)\n",
    "\n",
    "plt.show()"
   ]
  },
  {
   "cell_type": "code",
   "execution_count": 78,
   "metadata": {},
   "outputs": [
    {
     "name": "stdout",
     "output_type": "stream",
     "text": [
      "Report for Calibrated Support Vector Machine:\n",
      "              precision    recall  f1-score   support\n",
      "\n",
      "          -1       0.85      0.89      0.87    161016\n",
      "           1       0.91      0.88      0.90    211105\n",
      "\n",
      "   micro avg       0.89      0.89      0.89    372121\n",
      "   macro avg       0.88      0.89      0.88    372121\n",
      "weighted avg       0.89      0.89      0.89    372121\n",
      "\n",
      "Accuracy for lr % : 88.62090556566278\n"
     ]
    }
   ],
   "source": [
    "cal_svc_pred = binarize(np.array(svc_proba), threshold=0.5)\n",
    "cal_svc_pred = np.array([1 if (x == [0, 1]).all() else -1 for x in cal_svc_pred])\n",
    "\n",
    "print(\"Report for Calibrated Support Vector Machine:\")\n",
    "print(classification_report(ys_test, cal_svc_pred))\n",
    "\n",
    "print(\"Accuracy for lr % :\", accuracy_score(ys_test, cal_svc_pred)*100)"
   ]
  },
  {
   "cell_type": "code",
   "execution_count": 47,
   "metadata": {},
   "outputs": [
    {
     "name": "stdout",
     "output_type": "stream",
     "text": [
      "Confusion Matric for SVC before balance the data: \n"
     ]
    },
    {
     "data": {
      "text/plain": [
       "array([[152427,   8589],\n",
       "       [ 28655, 182450]], dtype=int64)"
      ]
     },
     "execution_count": 47,
     "metadata": {},
     "output_type": "execute_result"
    }
   ],
   "source": [
    "#Confusion matrix for SVC before balance the data\n",
    "print(\"Confusion Matric for SVC before balance the data: \")\n",
    "confusion_matrix(ys_test, svc_pred)"
   ]
  },
  {
   "cell_type": "code",
   "execution_count": 80,
   "metadata": {},
   "outputs": [
    {
     "name": "stdout",
     "output_type": "stream",
     "text": [
      "Confusion Matric for SVC after balance the data: \n"
     ]
    },
    {
     "data": {
      "text/plain": [
       "array([[143163,  17853],\n",
       "       [ 24491, 186614]], dtype=int64)"
      ]
     },
     "execution_count": 80,
     "metadata": {},
     "output_type": "execute_result"
    }
   ],
   "source": [
    "#Confusion matrix for SVC after balance the data\n",
    "print(\"Confusion Matric for SVC after balance the data: \")\n",
    "confusion_matrix(ys_test, cal_svc_pred)"
   ]
  },
  {
   "cell_type": "markdown",
   "metadata": {},
   "source": [
    "# Predictions On New Data"
   ]
  },
  {
   "cell_type": "code",
   "execution_count": 25,
   "metadata": {
    "collapsed": true
   },
   "outputs": [],
   "source": [
    "review = pd.read_csv(\"review_subset.csv\")"
   ]
  },
  {
   "cell_type": "code",
   "execution_count": 7,
   "metadata": {},
   "outputs": [
    {
     "data": {
      "text/html": [
       "<div>\n",
       "<table border=\"1\" class=\"dataframe\">\n",
       "  <thead>\n",
       "    <tr style=\"text-align: right;\">\n",
       "      <th></th>\n",
       "      <th>business_id</th>\n",
       "      <th>date</th>\n",
       "      <th>review_id</th>\n",
       "      <th>stars</th>\n",
       "      <th>text</th>\n",
       "      <th>user_id</th>\n",
       "    </tr>\n",
       "  </thead>\n",
       "  <tbody>\n",
       "    <tr>\n",
       "      <th>0</th>\n",
       "      <td>jQsNFOzDpxPmOurSWCg1vQ</td>\n",
       "      <td>2017-06-03</td>\n",
       "      <td>ByRzJ8rF2KJWLr-cUNU6EA</td>\n",
       "      <td>1.0</td>\n",
       "      <td>This place is horrible, we were so excited to ...</td>\n",
       "      <td>kzyLOqiJvyw_FWFTw2rjiQ</td>\n",
       "    </tr>\n",
       "    <tr>\n",
       "      <th>1</th>\n",
       "      <td>jQsNFOzDpxPmOurSWCg1vQ</td>\n",
       "      <td>2015-03-26</td>\n",
       "      <td>i5UwUPlQFPLcE8p2gPFwBw</td>\n",
       "      <td>4.0</td>\n",
       "      <td>For being fairly \"fast\" food.. Pei Wei (pronou...</td>\n",
       "      <td>WZXp9-V2dqRRJqhGgRqueA</td>\n",
       "    </tr>\n",
       "    <tr>\n",
       "      <th>2</th>\n",
       "      <td>jQsNFOzDpxPmOurSWCg1vQ</td>\n",
       "      <td>2012-12-30</td>\n",
       "      <td>EyQyvTTg2jX4or9bB8PC9g</td>\n",
       "      <td>5.0</td>\n",
       "      <td>I decided to try it out, I'm celiac and theref...</td>\n",
       "      <td>XylT12exfdLiI_3uDLVIpw</td>\n",
       "    </tr>\n",
       "    <tr>\n",
       "      <th>3</th>\n",
       "      <td>jQsNFOzDpxPmOurSWCg1vQ</td>\n",
       "      <td>2009-01-12</td>\n",
       "      <td>G-EFA005besj5uHsH0sQFA</td>\n",
       "      <td>3.0</td>\n",
       "      <td>I'm not saying Pei Wei is the best asian food ...</td>\n",
       "      <td>Ji9PeffxjwqPLO7pEfSpKQ</td>\n",
       "    </tr>\n",
       "    <tr>\n",
       "      <th>4</th>\n",
       "      <td>jQsNFOzDpxPmOurSWCg1vQ</td>\n",
       "      <td>2015-07-11</td>\n",
       "      <td>6PcJSGUBSLjt4VLXos5C4A</td>\n",
       "      <td>3.0</td>\n",
       "      <td>Sometimes the food is spot on and delicious an...</td>\n",
       "      <td>TLIWzAJPrET0zX4_vgvLhg</td>\n",
       "    </tr>\n",
       "  </tbody>\n",
       "</table>\n",
       "</div>"
      ],
      "text/plain": [
       "              business_id        date               review_id  stars  \\\n",
       "0  jQsNFOzDpxPmOurSWCg1vQ  2017-06-03  ByRzJ8rF2KJWLr-cUNU6EA    1.0   \n",
       "1  jQsNFOzDpxPmOurSWCg1vQ  2015-03-26  i5UwUPlQFPLcE8p2gPFwBw    4.0   \n",
       "2  jQsNFOzDpxPmOurSWCg1vQ  2012-12-30  EyQyvTTg2jX4or9bB8PC9g    5.0   \n",
       "3  jQsNFOzDpxPmOurSWCg1vQ  2009-01-12  G-EFA005besj5uHsH0sQFA    3.0   \n",
       "4  jQsNFOzDpxPmOurSWCg1vQ  2015-07-11  6PcJSGUBSLjt4VLXos5C4A    3.0   \n",
       "\n",
       "                                                text                 user_id  \n",
       "0  This place is horrible, we were so excited to ...  kzyLOqiJvyw_FWFTw2rjiQ  \n",
       "1  For being fairly \"fast\" food.. Pei Wei (pronou...  WZXp9-V2dqRRJqhGgRqueA  \n",
       "2  I decided to try it out, I'm celiac and theref...  XylT12exfdLiI_3uDLVIpw  \n",
       "3  I'm not saying Pei Wei is the best asian food ...  Ji9PeffxjwqPLO7pEfSpKQ  \n",
       "4  Sometimes the food is spot on and delicious an...  TLIWzAJPrET0zX4_vgvLhg  "
      ]
     },
     "execution_count": 7,
     "metadata": {},
     "output_type": "execute_result"
    }
   ],
   "source": [
    "review.head()"
   ]
  },
  {
   "cell_type": "code",
   "execution_count": 7,
   "metadata": {
    "collapsed": true
   },
   "outputs": [],
   "source": [
    "text = review[\"text\"]"
   ]
  },
  {
   "cell_type": "code",
   "execution_count": 19,
   "metadata": {},
   "outputs": [],
   "source": [
    "def store_lst(text):\n",
    "    text = text\n",
    "    new_texts = []\n",
    "    for i in range(len(text)):\n",
    "        new_texts.append(text[i])\n",
    "    return new_texts\n",
    "\n",
    "new_texts = store_lst(text)"
   ]
  },
  {
   "cell_type": "code",
   "execution_count": 9,
   "metadata": {},
   "outputs": [],
   "source": [
    "X = vectorizer.transform(new_texts)"
   ]
  },
  {
   "cell_type": "code",
   "execution_count": 12,
   "metadata": {},
   "outputs": [],
   "source": [
    "svc_classifier.fit(Xs, svc_labels)\n",
    "\n",
    "svc_predictions = svc_classifier.predict(X)"
   ]
  },
  {
   "cell_type": "code",
   "execution_count": 13,
   "metadata": {},
   "outputs": [
    {
     "data": {
      "text/html": [
       "<div>\n",
       "<table border=\"1\" class=\"dataframe\">\n",
       "  <thead>\n",
       "    <tr style=\"text-align: right;\">\n",
       "      <th></th>\n",
       "      <th>Review</th>\n",
       "      <th>Stars</th>\n",
       "      <th>True(1)/Deceptive(0)</th>\n",
       "      <th>business_id</th>\n",
       "      <th>user_id</th>\n",
       "    </tr>\n",
       "  </thead>\n",
       "  <tbody>\n",
       "    <tr>\n",
       "      <th>11</th>\n",
       "      <td>I love this place i'd recommend it to anyone !...</td>\n",
       "      <td>5.0</td>\n",
       "      <td>Deceptive</td>\n",
       "      <td>jQsNFOzDpxPmOurSWCg1vQ</td>\n",
       "      <td>O7G_c6wFXSygr82qs0GAcA</td>\n",
       "    </tr>\n",
       "    <tr>\n",
       "      <th>20</th>\n",
       "      <td>I love Pei Wei since it's just a bit more affo...</td>\n",
       "      <td>4.0</td>\n",
       "      <td>Deceptive</td>\n",
       "      <td>jQsNFOzDpxPmOurSWCg1vQ</td>\n",
       "      <td>PKZLwAGgBtQCjJtGhyPETA</td>\n",
       "    </tr>\n",
       "    <tr>\n",
       "      <th>29</th>\n",
       "      <td>Everything was good except Thai chicken wraps....</td>\n",
       "      <td>3.0</td>\n",
       "      <td>Deceptive</td>\n",
       "      <td>jQsNFOzDpxPmOurSWCg1vQ</td>\n",
       "      <td>alTlRb9qMBX11pARX05Big</td>\n",
       "    </tr>\n",
       "    <tr>\n",
       "      <th>45</th>\n",
       "      <td>I love their food. I have gone there multiple ...</td>\n",
       "      <td>5.0</td>\n",
       "      <td>Deceptive</td>\n",
       "      <td>jQsNFOzDpxPmOurSWCg1vQ</td>\n",
       "      <td>gRhtEXoxVpaccgvr3OkC0A</td>\n",
       "    </tr>\n",
       "    <tr>\n",
       "      <th>47</th>\n",
       "      <td>Very tasty Chinese food!  The prices are reaso...</td>\n",
       "      <td>3.0</td>\n",
       "      <td>Deceptive</td>\n",
       "      <td>jQsNFOzDpxPmOurSWCg1vQ</td>\n",
       "      <td>faaOI6hU64h6SSaF0f11eg</td>\n",
       "    </tr>\n",
       "    <tr>\n",
       "      <th>52</th>\n",
       "      <td>Took the family there last week.  Ordered frie...</td>\n",
       "      <td>2.0</td>\n",
       "      <td>Deceptive</td>\n",
       "      <td>jQsNFOzDpxPmOurSWCg1vQ</td>\n",
       "      <td>QZmG0pJlPQUq0PudwDKI5g</td>\n",
       "    </tr>\n",
       "    <tr>\n",
       "      <th>68</th>\n",
       "      <td>Absolutely wonderful. This place is clean, the...</td>\n",
       "      <td>5.0</td>\n",
       "      <td>Deceptive</td>\n",
       "      <td>jQsNFOzDpxPmOurSWCg1vQ</td>\n",
       "      <td>IFBx9nPxyomWzj_2prR6bg</td>\n",
       "    </tr>\n",
       "    <tr>\n",
       "      <th>89</th>\n",
       "      <td>We've eaten here 2-3 times a month for the las...</td>\n",
       "      <td>5.0</td>\n",
       "      <td>Deceptive</td>\n",
       "      <td>dwQEZBFen2GdihLLfWeexA</td>\n",
       "      <td>8e2Khf95bZgBlkeMqh59fA</td>\n",
       "    </tr>\n",
       "    <tr>\n",
       "      <th>101</th>\n",
       "      <td>Good food, great prices, large portions, fast,...</td>\n",
       "      <td>5.0</td>\n",
       "      <td>Deceptive</td>\n",
       "      <td>dwQEZBFen2GdihLLfWeexA</td>\n",
       "      <td>is6jBVBI3fbjFOCD9cJwvA</td>\n",
       "    </tr>\n",
       "    <tr>\n",
       "      <th>108</th>\n",
       "      <td>This is our go to Mexican restaurant. The staf...</td>\n",
       "      <td>5.0</td>\n",
       "      <td>Deceptive</td>\n",
       "      <td>dwQEZBFen2GdihLLfWeexA</td>\n",
       "      <td>ludX46lEfeQ8TuHsK0D9zw</td>\n",
       "    </tr>\n",
       "    <tr>\n",
       "      <th>109</th>\n",
       "      <td>Food was AWESOME. The normal tacos are ... wel...</td>\n",
       "      <td>4.0</td>\n",
       "      <td>Deceptive</td>\n",
       "      <td>dwQEZBFen2GdihLLfWeexA</td>\n",
       "      <td>rK2aGPWEU7UVwz_fqKE8mA</td>\n",
       "    </tr>\n",
       "    <tr>\n",
       "      <th>146</th>\n",
       "      <td>I'm a graduate student here in Pittsburgh, and...</td>\n",
       "      <td>5.0</td>\n",
       "      <td>Deceptive</td>\n",
       "      <td>MKd_EUD0PG__cOfIbeqYAg</td>\n",
       "      <td>Z3ACEiYK1hY-YXpPQ3s10A</td>\n",
       "    </tr>\n",
       "    <tr>\n",
       "      <th>192</th>\n",
       "      <td>I absolutely love this place! In fact, probabl...</td>\n",
       "      <td>5.0</td>\n",
       "      <td>Deceptive</td>\n",
       "      <td>_mqUzNXs_sJ1EJYgYZYszg</td>\n",
       "      <td>P7Bwn2qljq8qqKoZEXbsGQ</td>\n",
       "    </tr>\n",
       "    <tr>\n",
       "      <th>195</th>\n",
       "      <td>i am not a fan of turkey so when i asked the s...</td>\n",
       "      <td>5.0</td>\n",
       "      <td>Deceptive</td>\n",
       "      <td>_mqUzNXs_sJ1EJYgYZYszg</td>\n",
       "      <td>mtg2AObS7ZxtjJ47WSsfig</td>\n",
       "    </tr>\n",
       "    <tr>\n",
       "      <th>216</th>\n",
       "      <td>First time for breakfast. Waiting for someone ...</td>\n",
       "      <td>5.0</td>\n",
       "      <td>Deceptive</td>\n",
       "      <td>_mqUzNXs_sJ1EJYgYZYszg</td>\n",
       "      <td>tkpIV6DjjNKsbmSB2OkP_Q</td>\n",
       "    </tr>\n",
       "    <tr>\n",
       "      <th>217</th>\n",
       "      <td>Great little local place with tasty food.  Be ...</td>\n",
       "      <td>5.0</td>\n",
       "      <td>Deceptive</td>\n",
       "      <td>_mqUzNXs_sJ1EJYgYZYszg</td>\n",
       "      <td>xodu7YZipff5EW5QbpT0aQ</td>\n",
       "    </tr>\n",
       "    <tr>\n",
       "      <th>220</th>\n",
       "      <td>Awesome find! Stopped in for breakfast on the ...</td>\n",
       "      <td>5.0</td>\n",
       "      <td>Deceptive</td>\n",
       "      <td>_mqUzNXs_sJ1EJYgYZYszg</td>\n",
       "      <td>QZ0vkltdo_JYmh65SoFqiA</td>\n",
       "    </tr>\n",
       "    <tr>\n",
       "      <th>228</th>\n",
       "      <td>Tucked away in a very boring looking business ...</td>\n",
       "      <td>3.0</td>\n",
       "      <td>Deceptive</td>\n",
       "      <td>_mqUzNXs_sJ1EJYgYZYszg</td>\n",
       "      <td>vUUWdvgtD0EPqDOzTv6iag</td>\n",
       "    </tr>\n",
       "    <tr>\n",
       "      <th>230</th>\n",
       "      <td>I stopped in last Friday morning and thoroughl...</td>\n",
       "      <td>5.0</td>\n",
       "      <td>Deceptive</td>\n",
       "      <td>_mqUzNXs_sJ1EJYgYZYszg</td>\n",
       "      <td>_k3o_AKj-S9JD0q6AhSXdw</td>\n",
       "    </tr>\n",
       "    <tr>\n",
       "      <th>232</th>\n",
       "      <td>Awesome meal.  Very willing to make adjustment...</td>\n",
       "      <td>5.0</td>\n",
       "      <td>Deceptive</td>\n",
       "      <td>_mqUzNXs_sJ1EJYgYZYszg</td>\n",
       "      <td>0rFoL4NHtwN4qVNK8HhXWA</td>\n",
       "    </tr>\n",
       "    <tr>\n",
       "      <th>238</th>\n",
       "      <td>Hidden cafe with outside seating.  \\n\\nDon't l...</td>\n",
       "      <td>5.0</td>\n",
       "      <td>Deceptive</td>\n",
       "      <td>_mqUzNXs_sJ1EJYgYZYszg</td>\n",
       "      <td>_JpgkISb5Bd2MyiN614QJw</td>\n",
       "    </tr>\n",
       "    <tr>\n",
       "      <th>260</th>\n",
       "      <td>The food here is really good, if you are in th...</td>\n",
       "      <td>4.0</td>\n",
       "      <td>Deceptive</td>\n",
       "      <td>wtazPNyIbsRMHmrpEYbqZA</td>\n",
       "      <td>bm2tUuhog7tMu7EqfN7BNw</td>\n",
       "    </tr>\n",
       "    <tr>\n",
       "      <th>294</th>\n",
       "      <td>Great place if you want some traditional fresh...</td>\n",
       "      <td>5.0</td>\n",
       "      <td>Deceptive</td>\n",
       "      <td>OQcvO5P3gH0cuJ-bPXwfQQ</td>\n",
       "      <td>vb9UuBS_qwUR-EGsJKlSFw</td>\n",
       "    </tr>\n",
       "    <tr>\n",
       "      <th>306</th>\n",
       "      <td>Once again. The good was hot and fresh tasty, ...</td>\n",
       "      <td>4.0</td>\n",
       "      <td>Deceptive</td>\n",
       "      <td>OQcvO5P3gH0cuJ-bPXwfQQ</td>\n",
       "      <td>zc6cucEAy6Qxkxr9ZUkqbw</td>\n",
       "    </tr>\n",
       "    <tr>\n",
       "      <th>308</th>\n",
       "      <td>Best fish tacos! I also like the Carne Asada f...</td>\n",
       "      <td>5.0</td>\n",
       "      <td>Deceptive</td>\n",
       "      <td>OQcvO5P3gH0cuJ-bPXwfQQ</td>\n",
       "      <td>TqoqUHUCiMVG4_PEZK4qkQ</td>\n",
       "    </tr>\n",
       "    <tr>\n",
       "      <th>316</th>\n",
       "      <td>Amazing, fresh and inexpensive! First time her...</td>\n",
       "      <td>5.0</td>\n",
       "      <td>Deceptive</td>\n",
       "      <td>OQcvO5P3gH0cuJ-bPXwfQQ</td>\n",
       "      <td>yvWZJA-h-UEC_Xf51eE0OQ</td>\n",
       "    </tr>\n",
       "    <tr>\n",
       "      <th>324</th>\n",
       "      <td>Small mom and pop joint. Food is really good h...</td>\n",
       "      <td>5.0</td>\n",
       "      <td>Deceptive</td>\n",
       "      <td>OQcvO5P3gH0cuJ-bPXwfQQ</td>\n",
       "      <td>ynaNvoqkUEm0Uoh06EltZQ</td>\n",
       "    </tr>\n",
       "    <tr>\n",
       "      <th>326</th>\n",
       "      <td>Dipped cone all the way! This location is tric...</td>\n",
       "      <td>3.0</td>\n",
       "      <td>Deceptive</td>\n",
       "      <td>Jdqg97lLo_qJlCqU9RjIEA</td>\n",
       "      <td>j5yfS1QjGwNLQ0h4_wDyxg</td>\n",
       "    </tr>\n",
       "    <tr>\n",
       "      <th>347</th>\n",
       "      <td>I can't remember the last time I ate here beca...</td>\n",
       "      <td>1.0</td>\n",
       "      <td>Deceptive</td>\n",
       "      <td>tulUhFYMvBkYHsjmn30A9w</td>\n",
       "      <td>gSwBZSw7lem2IEB8jId4Gw</td>\n",
       "    </tr>\n",
       "    <tr>\n",
       "      <th>376</th>\n",
       "      <td>I went here on my lunch break and I waited for...</td>\n",
       "      <td>2.0</td>\n",
       "      <td>Deceptive</td>\n",
       "      <td>tulUhFYMvBkYHsjmn30A9w</td>\n",
       "      <td>G5reVMkdwUc-souSaLdm_Q</td>\n",
       "    </tr>\n",
       "    <tr>\n",
       "      <th>...</th>\n",
       "      <td>...</td>\n",
       "      <td>...</td>\n",
       "      <td>...</td>\n",
       "      <td>...</td>\n",
       "      <td>...</td>\n",
       "    </tr>\n",
       "    <tr>\n",
       "      <th>1978129</th>\n",
       "      <td>The cook time was quick, the pizza was delicio...</td>\n",
       "      <td>4.0</td>\n",
       "      <td>Deceptive</td>\n",
       "      <td>oH6QAuoTLFaX97oqqpLTMg</td>\n",
       "      <td>xcdT5GxG7oGEWEBH4uM-Cw</td>\n",
       "    </tr>\n",
       "    <tr>\n",
       "      <th>1978134</th>\n",
       "      <td>LOVE this place ! I've been living on the sout...</td>\n",
       "      <td>5.0</td>\n",
       "      <td>Deceptive</td>\n",
       "      <td>oH6QAuoTLFaX97oqqpLTMg</td>\n",
       "      <td>SlOGoN84Ls-PUTCxMwPH3g</td>\n",
       "    </tr>\n",
       "    <tr>\n",
       "      <th>1978161</th>\n",
       "      <td>Good lunch specials - reasonable prices, inclu...</td>\n",
       "      <td>4.0</td>\n",
       "      <td>Deceptive</td>\n",
       "      <td>QYIhMNwxXejDoCr-F1BxDg</td>\n",
       "      <td>Sd4yxiQEKrUwOkLV9dEyKQ</td>\n",
       "    </tr>\n",
       "    <tr>\n",
       "      <th>1978164</th>\n",
       "      <td>I've been here on a few occasions and have nev...</td>\n",
       "      <td>5.0</td>\n",
       "      <td>Deceptive</td>\n",
       "      <td>QYIhMNwxXejDoCr-F1BxDg</td>\n",
       "      <td>50nUyQZM-pFW2TdvtbnMrA</td>\n",
       "    </tr>\n",
       "    <tr>\n",
       "      <th>1978176</th>\n",
       "      <td>Excellent food and service!   Best we have fou...</td>\n",
       "      <td>5.0</td>\n",
       "      <td>Deceptive</td>\n",
       "      <td>QYIhMNwxXejDoCr-F1BxDg</td>\n",
       "      <td>S6C35AoT3fUdJWHnzpMS9g</td>\n",
       "    </tr>\n",
       "    <tr>\n",
       "      <th>1978230</th>\n",
       "      <td>One of my favorite thai restaurants! Great foo...</td>\n",
       "      <td>4.0</td>\n",
       "      <td>Deceptive</td>\n",
       "      <td>QYIhMNwxXejDoCr-F1BxDg</td>\n",
       "      <td>3ZldLONVFtszI66MAqHsQQ</td>\n",
       "    </tr>\n",
       "    <tr>\n",
       "      <th>1978235</th>\n",
       "      <td>Best asian restaurant I have been to in Tempe....</td>\n",
       "      <td>5.0</td>\n",
       "      <td>Deceptive</td>\n",
       "      <td>QYIhMNwxXejDoCr-F1BxDg</td>\n",
       "      <td>VrodsrqmErv6OA0dbHYfLA</td>\n",
       "    </tr>\n",
       "    <tr>\n",
       "      <th>1978246</th>\n",
       "      <td>The BEST Thai iced tea in the Valley bar none ...</td>\n",
       "      <td>5.0</td>\n",
       "      <td>Deceptive</td>\n",
       "      <td>QYIhMNwxXejDoCr-F1BxDg</td>\n",
       "      <td>NP4zQI9Bh6NWee5pSPVaIw</td>\n",
       "    </tr>\n",
       "    <tr>\n",
       "      <th>1978263</th>\n",
       "      <td>Well made and delicious Thai food here.  Porti...</td>\n",
       "      <td>4.0</td>\n",
       "      <td>Deceptive</td>\n",
       "      <td>QYIhMNwxXejDoCr-F1BxDg</td>\n",
       "      <td>TqEOK7uxaXj7SbJZKEktxw</td>\n",
       "    </tr>\n",
       "    <tr>\n",
       "      <th>1978271</th>\n",
       "      <td>I eat here all the time! The Pad Thai is amazi...</td>\n",
       "      <td>5.0</td>\n",
       "      <td>Deceptive</td>\n",
       "      <td>QYIhMNwxXejDoCr-F1BxDg</td>\n",
       "      <td>ST3BwIZIwfta8-NnoL-vfg</td>\n",
       "    </tr>\n",
       "    <tr>\n",
       "      <th>1978284</th>\n",
       "      <td>The food is awesome!  Everything is perfectly ...</td>\n",
       "      <td>5.0</td>\n",
       "      <td>Deceptive</td>\n",
       "      <td>QYIhMNwxXejDoCr-F1BxDg</td>\n",
       "      <td>niKu4se6xtf-ctlm0udr1w</td>\n",
       "    </tr>\n",
       "    <tr>\n",
       "      <th>1978297</th>\n",
       "      <td>Great food and friendly service no matter how ...</td>\n",
       "      <td>5.0</td>\n",
       "      <td>Deceptive</td>\n",
       "      <td>QYIhMNwxXejDoCr-F1BxDg</td>\n",
       "      <td>jCMBEV88pEHwoKANl9dMyg</td>\n",
       "    </tr>\n",
       "    <tr>\n",
       "      <th>1978315</th>\n",
       "      <td>Wonderful cozy atmosphere and quick service. T...</td>\n",
       "      <td>4.0</td>\n",
       "      <td>Deceptive</td>\n",
       "      <td>QYIhMNwxXejDoCr-F1BxDg</td>\n",
       "      <td>s0qvDz20JFyZTprPQzQ6JQ</td>\n",
       "    </tr>\n",
       "    <tr>\n",
       "      <th>1978316</th>\n",
       "      <td>If you can, go over to Rural and eat at the ot...</td>\n",
       "      <td>2.0</td>\n",
       "      <td>Deceptive</td>\n",
       "      <td>QYIhMNwxXejDoCr-F1BxDg</td>\n",
       "      <td>n6V0J2jv7iJiBoy3efgWaQ</td>\n",
       "    </tr>\n",
       "    <tr>\n",
       "      <th>1978341</th>\n",
       "      <td>The Pad Thai had WAAAYYYY too much peanut flav...</td>\n",
       "      <td>3.0</td>\n",
       "      <td>Deceptive</td>\n",
       "      <td>QYIhMNwxXejDoCr-F1BxDg</td>\n",
       "      <td>Fn34H2dtSiaHcq5kJUgqbw</td>\n",
       "    </tr>\n",
       "    <tr>\n",
       "      <th>1978361</th>\n",
       "      <td>Two visits in one week (last week)! Big servin...</td>\n",
       "      <td>4.0</td>\n",
       "      <td>Deceptive</td>\n",
       "      <td>QYIhMNwxXejDoCr-F1BxDg</td>\n",
       "      <td>9W9pg5ITjeRmgb8AIJRnMA</td>\n",
       "    </tr>\n",
       "    <tr>\n",
       "      <th>1978370</th>\n",
       "      <td>I found this gem thanks to Yelp (of course).  ...</td>\n",
       "      <td>4.0</td>\n",
       "      <td>Deceptive</td>\n",
       "      <td>QYIhMNwxXejDoCr-F1BxDg</td>\n",
       "      <td>kGGapvfP1SZH2ZOikdSpNA</td>\n",
       "    </tr>\n",
       "    <tr>\n",
       "      <th>1978375</th>\n",
       "      <td>I have been here several times and have always...</td>\n",
       "      <td>4.0</td>\n",
       "      <td>Deceptive</td>\n",
       "      <td>QYIhMNwxXejDoCr-F1BxDg</td>\n",
       "      <td>p2dzxHlmiMvoOHrXJLzgog</td>\n",
       "    </tr>\n",
       "    <tr>\n",
       "      <th>1978377</th>\n",
       "      <td>This is one of those Thai places that I really...</td>\n",
       "      <td>5.0</td>\n",
       "      <td>Deceptive</td>\n",
       "      <td>QYIhMNwxXejDoCr-F1BxDg</td>\n",
       "      <td>e0PZMZTm0-_lOEoUwPOQzQ</td>\n",
       "    </tr>\n",
       "    <tr>\n",
       "      <th>1978391</th>\n",
       "      <td>I LOVE Thai food.  I have eaten in some great ...</td>\n",
       "      <td>5.0</td>\n",
       "      <td>Deceptive</td>\n",
       "      <td>QYIhMNwxXejDoCr-F1BxDg</td>\n",
       "      <td>hGYnfdqqgynbb6_3sVuakg</td>\n",
       "    </tr>\n",
       "    <tr>\n",
       "      <th>1978395</th>\n",
       "      <td>This location kicks the other ones ass! There ...</td>\n",
       "      <td>5.0</td>\n",
       "      <td>Deceptive</td>\n",
       "      <td>QYIhMNwxXejDoCr-F1BxDg</td>\n",
       "      <td>Mv2qM96jDdKXJNDvzANU-g</td>\n",
       "    </tr>\n",
       "    <tr>\n",
       "      <th>1978399</th>\n",
       "      <td>Holy mackeral.  They yellow curry is DELICIOUS...</td>\n",
       "      <td>5.0</td>\n",
       "      <td>Deceptive</td>\n",
       "      <td>QYIhMNwxXejDoCr-F1BxDg</td>\n",
       "      <td>WeiQI7KQAs6ITT-UDREsFw</td>\n",
       "    </tr>\n",
       "    <tr>\n",
       "      <th>1978404</th>\n",
       "      <td>Been here a couple of times. Their green curry...</td>\n",
       "      <td>4.0</td>\n",
       "      <td>Deceptive</td>\n",
       "      <td>QYIhMNwxXejDoCr-F1BxDg</td>\n",
       "      <td>PfpRvMAESbC2bC8FUIMdNg</td>\n",
       "    </tr>\n",
       "    <tr>\n",
       "      <th>1978422</th>\n",
       "      <td>Great Thai! Last visit I ordered the green cur...</td>\n",
       "      <td>4.0</td>\n",
       "      <td>Deceptive</td>\n",
       "      <td>QYIhMNwxXejDoCr-F1BxDg</td>\n",
       "      <td>Tj5p1TSEtoms8Qr5Yof3CA</td>\n",
       "    </tr>\n",
       "    <tr>\n",
       "      <th>1978425</th>\n",
       "      <td>Food is cheap and flavorful. I'm a huge fan of...</td>\n",
       "      <td>4.0</td>\n",
       "      <td>Deceptive</td>\n",
       "      <td>QYIhMNwxXejDoCr-F1BxDg</td>\n",
       "      <td>X754C7UkbPik6ppvYaIitA</td>\n",
       "    </tr>\n",
       "    <tr>\n",
       "      <th>1978457</th>\n",
       "      <td>I LOVE Thai Basil!!!! Staff is very friendly w...</td>\n",
       "      <td>4.0</td>\n",
       "      <td>Deceptive</td>\n",
       "      <td>QYIhMNwxXejDoCr-F1BxDg</td>\n",
       "      <td>mdVHZbSl97wUUoE6hdxeLg</td>\n",
       "    </tr>\n",
       "    <tr>\n",
       "      <th>1978473</th>\n",
       "      <td>I enjoyed their tum yum soup. Their pad sew wa...</td>\n",
       "      <td>4.0</td>\n",
       "      <td>Deceptive</td>\n",
       "      <td>QYIhMNwxXejDoCr-F1BxDg</td>\n",
       "      <td>n8sxD3ybFwCHhOo9P3bVhw</td>\n",
       "    </tr>\n",
       "    <tr>\n",
       "      <th>1978479</th>\n",
       "      <td>My favorite Thai place. Fair prices, massive s...</td>\n",
       "      <td>5.0</td>\n",
       "      <td>Deceptive</td>\n",
       "      <td>QYIhMNwxXejDoCr-F1BxDg</td>\n",
       "      <td>rdGDYouBQsn2WKVub4TedA</td>\n",
       "    </tr>\n",
       "    <tr>\n",
       "      <th>1978488</th>\n",
       "      <td>Like other reviewers, I get carry-out from her...</td>\n",
       "      <td>4.0</td>\n",
       "      <td>Deceptive</td>\n",
       "      <td>QYIhMNwxXejDoCr-F1BxDg</td>\n",
       "      <td>dG26G-NM15zU_mdUkgLsJA</td>\n",
       "    </tr>\n",
       "    <tr>\n",
       "      <th>1978493</th>\n",
       "      <td>One of the best Thai places near ASU, great se...</td>\n",
       "      <td>5.0</td>\n",
       "      <td>Deceptive</td>\n",
       "      <td>QYIhMNwxXejDoCr-F1BxDg</td>\n",
       "      <td>PPx-yFvwBvDgOjBg1c7Jgg</td>\n",
       "    </tr>\n",
       "  </tbody>\n",
       "</table>\n",
       "<p>164760 rows × 5 columns</p>\n",
       "</div>"
      ],
      "text/plain": [
       "                                                    Review  Stars  \\\n",
       "11       I love this place i'd recommend it to anyone !...    5.0   \n",
       "20       I love Pei Wei since it's just a bit more affo...    4.0   \n",
       "29       Everything was good except Thai chicken wraps....    3.0   \n",
       "45       I love their food. I have gone there multiple ...    5.0   \n",
       "47       Very tasty Chinese food!  The prices are reaso...    3.0   \n",
       "52       Took the family there last week.  Ordered frie...    2.0   \n",
       "68       Absolutely wonderful. This place is clean, the...    5.0   \n",
       "89       We've eaten here 2-3 times a month for the las...    5.0   \n",
       "101      Good food, great prices, large portions, fast,...    5.0   \n",
       "108      This is our go to Mexican restaurant. The staf...    5.0   \n",
       "109      Food was AWESOME. The normal tacos are ... wel...    4.0   \n",
       "146      I'm a graduate student here in Pittsburgh, and...    5.0   \n",
       "192      I absolutely love this place! In fact, probabl...    5.0   \n",
       "195      i am not a fan of turkey so when i asked the s...    5.0   \n",
       "216      First time for breakfast. Waiting for someone ...    5.0   \n",
       "217      Great little local place with tasty food.  Be ...    5.0   \n",
       "220      Awesome find! Stopped in for breakfast on the ...    5.0   \n",
       "228      Tucked away in a very boring looking business ...    3.0   \n",
       "230      I stopped in last Friday morning and thoroughl...    5.0   \n",
       "232      Awesome meal.  Very willing to make adjustment...    5.0   \n",
       "238      Hidden cafe with outside seating.  \\n\\nDon't l...    5.0   \n",
       "260      The food here is really good, if you are in th...    4.0   \n",
       "294      Great place if you want some traditional fresh...    5.0   \n",
       "306      Once again. The good was hot and fresh tasty, ...    4.0   \n",
       "308      Best fish tacos! I also like the Carne Asada f...    5.0   \n",
       "316      Amazing, fresh and inexpensive! First time her...    5.0   \n",
       "324      Small mom and pop joint. Food is really good h...    5.0   \n",
       "326      Dipped cone all the way! This location is tric...    3.0   \n",
       "347      I can't remember the last time I ate here beca...    1.0   \n",
       "376      I went here on my lunch break and I waited for...    2.0   \n",
       "...                                                    ...    ...   \n",
       "1978129  The cook time was quick, the pizza was delicio...    4.0   \n",
       "1978134  LOVE this place ! I've been living on the sout...    5.0   \n",
       "1978161  Good lunch specials - reasonable prices, inclu...    4.0   \n",
       "1978164  I've been here on a few occasions and have nev...    5.0   \n",
       "1978176  Excellent food and service!   Best we have fou...    5.0   \n",
       "1978230  One of my favorite thai restaurants! Great foo...    4.0   \n",
       "1978235  Best asian restaurant I have been to in Tempe....    5.0   \n",
       "1978246  The BEST Thai iced tea in the Valley bar none ...    5.0   \n",
       "1978263  Well made and delicious Thai food here.  Porti...    4.0   \n",
       "1978271  I eat here all the time! The Pad Thai is amazi...    5.0   \n",
       "1978284  The food is awesome!  Everything is perfectly ...    5.0   \n",
       "1978297  Great food and friendly service no matter how ...    5.0   \n",
       "1978315  Wonderful cozy atmosphere and quick service. T...    4.0   \n",
       "1978316  If you can, go over to Rural and eat at the ot...    2.0   \n",
       "1978341  The Pad Thai had WAAAYYYY too much peanut flav...    3.0   \n",
       "1978361  Two visits in one week (last week)! Big servin...    4.0   \n",
       "1978370  I found this gem thanks to Yelp (of course).  ...    4.0   \n",
       "1978375  I have been here several times and have always...    4.0   \n",
       "1978377  This is one of those Thai places that I really...    5.0   \n",
       "1978391  I LOVE Thai food.  I have eaten in some great ...    5.0   \n",
       "1978395  This location kicks the other ones ass! There ...    5.0   \n",
       "1978399  Holy mackeral.  They yellow curry is DELICIOUS...    5.0   \n",
       "1978404  Been here a couple of times. Their green curry...    4.0   \n",
       "1978422  Great Thai! Last visit I ordered the green cur...    4.0   \n",
       "1978425  Food is cheap and flavorful. I'm a huge fan of...    4.0   \n",
       "1978457  I LOVE Thai Basil!!!! Staff is very friendly w...    4.0   \n",
       "1978473  I enjoyed their tum yum soup. Their pad sew wa...    4.0   \n",
       "1978479  My favorite Thai place. Fair prices, massive s...    5.0   \n",
       "1978488  Like other reviewers, I get carry-out from her...    4.0   \n",
       "1978493  One of the best Thai places near ASU, great se...    5.0   \n",
       "\n",
       "        True(1)/Deceptive(0)             business_id                 user_id  \n",
       "11                 Deceptive  jQsNFOzDpxPmOurSWCg1vQ  O7G_c6wFXSygr82qs0GAcA  \n",
       "20                 Deceptive  jQsNFOzDpxPmOurSWCg1vQ  PKZLwAGgBtQCjJtGhyPETA  \n",
       "29                 Deceptive  jQsNFOzDpxPmOurSWCg1vQ  alTlRb9qMBX11pARX05Big  \n",
       "45                 Deceptive  jQsNFOzDpxPmOurSWCg1vQ  gRhtEXoxVpaccgvr3OkC0A  \n",
       "47                 Deceptive  jQsNFOzDpxPmOurSWCg1vQ  faaOI6hU64h6SSaF0f11eg  \n",
       "52                 Deceptive  jQsNFOzDpxPmOurSWCg1vQ  QZmG0pJlPQUq0PudwDKI5g  \n",
       "68                 Deceptive  jQsNFOzDpxPmOurSWCg1vQ  IFBx9nPxyomWzj_2prR6bg  \n",
       "89                 Deceptive  dwQEZBFen2GdihLLfWeexA  8e2Khf95bZgBlkeMqh59fA  \n",
       "101                Deceptive  dwQEZBFen2GdihLLfWeexA  is6jBVBI3fbjFOCD9cJwvA  \n",
       "108                Deceptive  dwQEZBFen2GdihLLfWeexA  ludX46lEfeQ8TuHsK0D9zw  \n",
       "109                Deceptive  dwQEZBFen2GdihLLfWeexA  rK2aGPWEU7UVwz_fqKE8mA  \n",
       "146                Deceptive  MKd_EUD0PG__cOfIbeqYAg  Z3ACEiYK1hY-YXpPQ3s10A  \n",
       "192                Deceptive  _mqUzNXs_sJ1EJYgYZYszg  P7Bwn2qljq8qqKoZEXbsGQ  \n",
       "195                Deceptive  _mqUzNXs_sJ1EJYgYZYszg  mtg2AObS7ZxtjJ47WSsfig  \n",
       "216                Deceptive  _mqUzNXs_sJ1EJYgYZYszg  tkpIV6DjjNKsbmSB2OkP_Q  \n",
       "217                Deceptive  _mqUzNXs_sJ1EJYgYZYszg  xodu7YZipff5EW5QbpT0aQ  \n",
       "220                Deceptive  _mqUzNXs_sJ1EJYgYZYszg  QZ0vkltdo_JYmh65SoFqiA  \n",
       "228                Deceptive  _mqUzNXs_sJ1EJYgYZYszg  vUUWdvgtD0EPqDOzTv6iag  \n",
       "230                Deceptive  _mqUzNXs_sJ1EJYgYZYszg  _k3o_AKj-S9JD0q6AhSXdw  \n",
       "232                Deceptive  _mqUzNXs_sJ1EJYgYZYszg  0rFoL4NHtwN4qVNK8HhXWA  \n",
       "238                Deceptive  _mqUzNXs_sJ1EJYgYZYszg  _JpgkISb5Bd2MyiN614QJw  \n",
       "260                Deceptive  wtazPNyIbsRMHmrpEYbqZA  bm2tUuhog7tMu7EqfN7BNw  \n",
       "294                Deceptive  OQcvO5P3gH0cuJ-bPXwfQQ  vb9UuBS_qwUR-EGsJKlSFw  \n",
       "306                Deceptive  OQcvO5P3gH0cuJ-bPXwfQQ  zc6cucEAy6Qxkxr9ZUkqbw  \n",
       "308                Deceptive  OQcvO5P3gH0cuJ-bPXwfQQ  TqoqUHUCiMVG4_PEZK4qkQ  \n",
       "316                Deceptive  OQcvO5P3gH0cuJ-bPXwfQQ  yvWZJA-h-UEC_Xf51eE0OQ  \n",
       "324                Deceptive  OQcvO5P3gH0cuJ-bPXwfQQ  ynaNvoqkUEm0Uoh06EltZQ  \n",
       "326                Deceptive  Jdqg97lLo_qJlCqU9RjIEA  j5yfS1QjGwNLQ0h4_wDyxg  \n",
       "347                Deceptive  tulUhFYMvBkYHsjmn30A9w  gSwBZSw7lem2IEB8jId4Gw  \n",
       "376                Deceptive  tulUhFYMvBkYHsjmn30A9w  G5reVMkdwUc-souSaLdm_Q  \n",
       "...                      ...                     ...                     ...  \n",
       "1978129            Deceptive  oH6QAuoTLFaX97oqqpLTMg  xcdT5GxG7oGEWEBH4uM-Cw  \n",
       "1978134            Deceptive  oH6QAuoTLFaX97oqqpLTMg  SlOGoN84Ls-PUTCxMwPH3g  \n",
       "1978161            Deceptive  QYIhMNwxXejDoCr-F1BxDg  Sd4yxiQEKrUwOkLV9dEyKQ  \n",
       "1978164            Deceptive  QYIhMNwxXejDoCr-F1BxDg  50nUyQZM-pFW2TdvtbnMrA  \n",
       "1978176            Deceptive  QYIhMNwxXejDoCr-F1BxDg  S6C35AoT3fUdJWHnzpMS9g  \n",
       "1978230            Deceptive  QYIhMNwxXejDoCr-F1BxDg  3ZldLONVFtszI66MAqHsQQ  \n",
       "1978235            Deceptive  QYIhMNwxXejDoCr-F1BxDg  VrodsrqmErv6OA0dbHYfLA  \n",
       "1978246            Deceptive  QYIhMNwxXejDoCr-F1BxDg  NP4zQI9Bh6NWee5pSPVaIw  \n",
       "1978263            Deceptive  QYIhMNwxXejDoCr-F1BxDg  TqEOK7uxaXj7SbJZKEktxw  \n",
       "1978271            Deceptive  QYIhMNwxXejDoCr-F1BxDg  ST3BwIZIwfta8-NnoL-vfg  \n",
       "1978284            Deceptive  QYIhMNwxXejDoCr-F1BxDg  niKu4se6xtf-ctlm0udr1w  \n",
       "1978297            Deceptive  QYIhMNwxXejDoCr-F1BxDg  jCMBEV88pEHwoKANl9dMyg  \n",
       "1978315            Deceptive  QYIhMNwxXejDoCr-F1BxDg  s0qvDz20JFyZTprPQzQ6JQ  \n",
       "1978316            Deceptive  QYIhMNwxXejDoCr-F1BxDg  n6V0J2jv7iJiBoy3efgWaQ  \n",
       "1978341            Deceptive  QYIhMNwxXejDoCr-F1BxDg  Fn34H2dtSiaHcq5kJUgqbw  \n",
       "1978361            Deceptive  QYIhMNwxXejDoCr-F1BxDg  9W9pg5ITjeRmgb8AIJRnMA  \n",
       "1978370            Deceptive  QYIhMNwxXejDoCr-F1BxDg  kGGapvfP1SZH2ZOikdSpNA  \n",
       "1978375            Deceptive  QYIhMNwxXejDoCr-F1BxDg  p2dzxHlmiMvoOHrXJLzgog  \n",
       "1978377            Deceptive  QYIhMNwxXejDoCr-F1BxDg  e0PZMZTm0-_lOEoUwPOQzQ  \n",
       "1978391            Deceptive  QYIhMNwxXejDoCr-F1BxDg  hGYnfdqqgynbb6_3sVuakg  \n",
       "1978395            Deceptive  QYIhMNwxXejDoCr-F1BxDg  Mv2qM96jDdKXJNDvzANU-g  \n",
       "1978399            Deceptive  QYIhMNwxXejDoCr-F1BxDg  WeiQI7KQAs6ITT-UDREsFw  \n",
       "1978404            Deceptive  QYIhMNwxXejDoCr-F1BxDg  PfpRvMAESbC2bC8FUIMdNg  \n",
       "1978422            Deceptive  QYIhMNwxXejDoCr-F1BxDg  Tj5p1TSEtoms8Qr5Yof3CA  \n",
       "1978425            Deceptive  QYIhMNwxXejDoCr-F1BxDg  X754C7UkbPik6ppvYaIitA  \n",
       "1978457            Deceptive  QYIhMNwxXejDoCr-F1BxDg  mdVHZbSl97wUUoE6hdxeLg  \n",
       "1978473            Deceptive  QYIhMNwxXejDoCr-F1BxDg  n8sxD3ybFwCHhOo9P3bVhw  \n",
       "1978479            Deceptive  QYIhMNwxXejDoCr-F1BxDg  rdGDYouBQsn2WKVub4TedA  \n",
       "1978488            Deceptive  QYIhMNwxXejDoCr-F1BxDg  dG26G-NM15zU_mdUkgLsJA  \n",
       "1978493            Deceptive  QYIhMNwxXejDoCr-F1BxDg  PPx-yFvwBvDgOjBg1c7Jgg  \n",
       "\n",
       "[164760 rows x 5 columns]"
      ]
     },
     "execution_count": 13,
     "metadata": {},
     "output_type": "execute_result"
    }
   ],
   "source": [
    "y_output = list(svc_predictions)\n",
    "yp=[\"True\" if a==1 else \"Deceptive\" for a in y_output]\n",
    "X_outputlist = list(review[\"text\"])\n",
    "star = list(review[\"stars\"])\n",
    "user_id = list(review[\"user_id\"])\n",
    "business_id = list(review[\"business_id\"])\n",
    "final_output_fm = pd.DataFrame({\"user_id\":user_id, \"business_id\":business_id,\"Stars\":star,'Review':X_outputlist ,'True(1)/Deceptive(0)':yp})\n",
    "final_output_fm[final_output_fm[\"True(1)/Deceptive(0)\"]==\"Deceptive\"]"
   ]
  },
  {
   "cell_type": "code",
   "execution_count": 14,
   "metadata": {
    "collapsed": true
   },
   "outputs": [],
   "source": [
    "final_output_fm.to_csv('svc_predictions.csv',index=False,encoding= 'utf-8')"
   ]
  },
  {
   "cell_type": "code",
   "execution_count": null,
   "metadata": {
    "collapsed": true
   },
   "outputs": [],
   "source": []
  }
 ],
 "metadata": {
  "kernelspec": {
   "display_name": "TensorFlow-GPU",
   "language": "python",
   "name": "tf-gpu"
  },
  "language_info": {
   "codemirror_mode": {
    "name": "ipython",
    "version": 3
   },
   "file_extension": ".py",
   "mimetype": "text/x-python",
   "name": "python",
   "nbconvert_exporter": "python",
   "pygments_lexer": "ipython3",
   "version": "3.6.8"
  }
 },
 "nbformat": 4,
 "nbformat_minor": 2
}
